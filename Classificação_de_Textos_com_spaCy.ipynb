{
  "nbformat": 4,
  "nbformat_minor": 0,
  "metadata": {
    "colab": {
      "provenance": [],
      "authorship_tag": "ABX9TyOrUq58E8eucOz7flpjvJMo",
      "include_colab_link": true
    },
    "kernelspec": {
      "name": "python3",
      "display_name": "Python 3"
    },
    "language_info": {
      "name": "python"
    }
  },
  "cells": [
    {
      "cell_type": "markdown",
      "metadata": {
        "id": "view-in-github",
        "colab_type": "text"
      },
      "source": [
        "<a href=\"https://colab.research.google.com/github/WallaceSantana79/CursoMachineLearning/blob/main/Classifica%C3%A7%C3%A3o_de_Textos_com_spaCy.ipynb\" target=\"_parent\"><img src=\"https://colab.research.google.com/assets/colab-badge.svg\" alt=\"Open In Colab\"/></a>"
      ]
    },
    {
      "cell_type": "markdown",
      "source": [
        "# Classificação de textos com spaCy"
      ],
      "metadata": {
        "id": "nj_6uk9f07Nv"
      }
    },
    {
      "cell_type": "markdown",
      "source": [
        "## Etapa 1: Importação e instalação das bibliotecas"
      ],
      "metadata": {
        "id": "kd84_Xj91APH"
      }
    },
    {
      "cell_type": "code",
      "execution_count": 1,
      "metadata": {
        "colab": {
          "base_uri": "https://localhost:8080/"
        },
        "id": "J9OFBrbV0gtG",
        "outputId": "9042f93a-4284-4150-a569-36ae051577e2"
      },
      "outputs": [
        {
          "output_type": "stream",
          "name": "stdout",
          "text": [
            "Collecting seaborn==0.10.0\n",
            "  Downloading seaborn-0.10.0-py3-none-any.whl (215 kB)\n",
            "\u001b[2K     \u001b[90m━━━━━━━━━━━━━━━━━━━━━━━━━━━━━━━━━━━━━━━━\u001b[0m \u001b[32m215.9/215.9 kB\u001b[0m \u001b[31m2.7 MB/s\u001b[0m eta \u001b[36m0:00:00\u001b[0m\n",
            "\u001b[?25hRequirement already satisfied: numpy>=1.13.3 in /usr/local/lib/python3.10/dist-packages (from seaborn==0.10.0) (1.23.5)\n",
            "Requirement already satisfied: scipy>=1.0.1 in /usr/local/lib/python3.10/dist-packages (from seaborn==0.10.0) (1.11.4)\n",
            "Requirement already satisfied: pandas>=0.22.0 in /usr/local/lib/python3.10/dist-packages (from seaborn==0.10.0) (1.5.3)\n",
            "Requirement already satisfied: matplotlib>=2.1.2 in /usr/local/lib/python3.10/dist-packages (from seaborn==0.10.0) (3.7.1)\n",
            "Requirement already satisfied: contourpy>=1.0.1 in /usr/local/lib/python3.10/dist-packages (from matplotlib>=2.1.2->seaborn==0.10.0) (1.2.0)\n",
            "Requirement already satisfied: cycler>=0.10 in /usr/local/lib/python3.10/dist-packages (from matplotlib>=2.1.2->seaborn==0.10.0) (0.12.1)\n",
            "Requirement already satisfied: fonttools>=4.22.0 in /usr/local/lib/python3.10/dist-packages (from matplotlib>=2.1.2->seaborn==0.10.0) (4.47.0)\n",
            "Requirement already satisfied: kiwisolver>=1.0.1 in /usr/local/lib/python3.10/dist-packages (from matplotlib>=2.1.2->seaborn==0.10.0) (1.4.5)\n",
            "Requirement already satisfied: packaging>=20.0 in /usr/local/lib/python3.10/dist-packages (from matplotlib>=2.1.2->seaborn==0.10.0) (23.2)\n",
            "Requirement already satisfied: pillow>=6.2.0 in /usr/local/lib/python3.10/dist-packages (from matplotlib>=2.1.2->seaborn==0.10.0) (9.4.0)\n",
            "Requirement already satisfied: pyparsing>=2.3.1 in /usr/local/lib/python3.10/dist-packages (from matplotlib>=2.1.2->seaborn==0.10.0) (3.1.1)\n",
            "Requirement already satisfied: python-dateutil>=2.7 in /usr/local/lib/python3.10/dist-packages (from matplotlib>=2.1.2->seaborn==0.10.0) (2.8.2)\n",
            "Requirement already satisfied: pytz>=2020.1 in /usr/local/lib/python3.10/dist-packages (from pandas>=0.22.0->seaborn==0.10.0) (2023.3.post1)\n",
            "Requirement already satisfied: six>=1.5 in /usr/local/lib/python3.10/dist-packages (from python-dateutil>=2.7->matplotlib>=2.1.2->seaborn==0.10.0) (1.16.0)\n",
            "Installing collected packages: seaborn\n",
            "  Attempting uninstall: seaborn\n",
            "    Found existing installation: seaborn 0.12.2\n",
            "    Uninstalling seaborn-0.12.2:\n",
            "      Successfully uninstalled seaborn-0.12.2\n",
            "\u001b[31mERROR: pip's dependency resolver does not currently take into account all the packages that are installed. This behaviour is the source of the following dependency conflicts.\n",
            "lida 0.0.10 requires fastapi, which is not installed.\n",
            "lida 0.0.10 requires kaleido, which is not installed.\n",
            "lida 0.0.10 requires python-multipart, which is not installed.\n",
            "lida 0.0.10 requires uvicorn, which is not installed.\u001b[0m\u001b[31m\n",
            "\u001b[0mSuccessfully installed seaborn-0.10.0\n"
          ]
        }
      ],
      "source": [
        "!pip install seaborn==0.10.0"
      ]
    },
    {
      "cell_type": "code",
      "source": [
        "import spacy\n",
        "spacy.__version__"
      ],
      "metadata": {
        "id": "k8scjfN00jUS"
      },
      "execution_count": null,
      "outputs": []
    },
    {
      "cell_type": "code",
      "source": [
        "!python -m spacy download pt"
      ],
      "metadata": {
        "colab": {
          "base_uri": "https://localhost:8080/"
        },
        "id": "lJi5-B_s0lkQ",
        "outputId": "777a4d59-9fb6-4cbc-f1de-a0a6d73dcc6b"
      },
      "execution_count": 2,
      "outputs": [
        {
          "output_type": "stream",
          "name": "stdout",
          "text": [
            "2024-01-08 11:26:18.551680: E external/local_xla/xla/stream_executor/cuda/cuda_dnn.cc:9261] Unable to register cuDNN factory: Attempting to register factory for plugin cuDNN when one has already been registered\n",
            "2024-01-08 11:26:18.551772: E external/local_xla/xla/stream_executor/cuda/cuda_fft.cc:607] Unable to register cuFFT factory: Attempting to register factory for plugin cuFFT when one has already been registered\n",
            "2024-01-08 11:26:18.554607: E external/local_xla/xla/stream_executor/cuda/cuda_blas.cc:1515] Unable to register cuBLAS factory: Attempting to register factory for plugin cuBLAS when one has already been registered\n",
            "2024-01-08 11:26:18.570030: I tensorflow/core/platform/cpu_feature_guard.cc:182] This TensorFlow binary is optimized to use available CPU instructions in performance-critical operations.\n",
            "To enable the following instructions: AVX2 FMA, in other operations, rebuild TensorFlow with the appropriate compiler flags.\n",
            "2024-01-08 11:26:20.323667: W tensorflow/compiler/tf2tensorrt/utils/py_utils.cc:38] TF-TRT Warning: Could not find TensorRT\n",
            "\u001b[38;5;3m⚠ As of spaCy v3.0, shortcuts like 'pt' are deprecated. Please use the\n",
            "full pipeline package name 'pt_core_news_sm' instead.\u001b[0m\n",
            "Collecting pt-core-news-sm==3.6.0\n",
            "  Downloading https://github.com/explosion/spacy-models/releases/download/pt_core_news_sm-3.6.0/pt_core_news_sm-3.6.0-py3-none-any.whl (13.0 MB)\n",
            "\u001b[2K     \u001b[90m━━━━━━━━━━━━━━━━━━━━━━━━━━━━━━━━━━━━━━━━\u001b[0m \u001b[32m13.0/13.0 MB\u001b[0m \u001b[31m45.7 MB/s\u001b[0m eta \u001b[36m0:00:00\u001b[0m\n",
            "\u001b[?25hRequirement already satisfied: spacy<3.7.0,>=3.6.0 in /usr/local/lib/python3.10/dist-packages (from pt-core-news-sm==3.6.0) (3.6.1)\n",
            "Requirement already satisfied: spacy-legacy<3.1.0,>=3.0.11 in /usr/local/lib/python3.10/dist-packages (from spacy<3.7.0,>=3.6.0->pt-core-news-sm==3.6.0) (3.0.12)\n",
            "Requirement already satisfied: spacy-loggers<2.0.0,>=1.0.0 in /usr/local/lib/python3.10/dist-packages (from spacy<3.7.0,>=3.6.0->pt-core-news-sm==3.6.0) (1.0.5)\n",
            "Requirement already satisfied: murmurhash<1.1.0,>=0.28.0 in /usr/local/lib/python3.10/dist-packages (from spacy<3.7.0,>=3.6.0->pt-core-news-sm==3.6.0) (1.0.10)\n",
            "Requirement already satisfied: cymem<2.1.0,>=2.0.2 in /usr/local/lib/python3.10/dist-packages (from spacy<3.7.0,>=3.6.0->pt-core-news-sm==3.6.0) (2.0.8)\n",
            "Requirement already satisfied: preshed<3.1.0,>=3.0.2 in /usr/local/lib/python3.10/dist-packages (from spacy<3.7.0,>=3.6.0->pt-core-news-sm==3.6.0) (3.0.9)\n",
            "Requirement already satisfied: thinc<8.2.0,>=8.1.8 in /usr/local/lib/python3.10/dist-packages (from spacy<3.7.0,>=3.6.0->pt-core-news-sm==3.6.0) (8.1.12)\n",
            "Requirement already satisfied: wasabi<1.2.0,>=0.9.1 in /usr/local/lib/python3.10/dist-packages (from spacy<3.7.0,>=3.6.0->pt-core-news-sm==3.6.0) (1.1.2)\n",
            "Requirement already satisfied: srsly<3.0.0,>=2.4.3 in /usr/local/lib/python3.10/dist-packages (from spacy<3.7.0,>=3.6.0->pt-core-news-sm==3.6.0) (2.4.8)\n",
            "Requirement already satisfied: catalogue<2.1.0,>=2.0.6 in /usr/local/lib/python3.10/dist-packages (from spacy<3.7.0,>=3.6.0->pt-core-news-sm==3.6.0) (2.0.10)\n",
            "Requirement already satisfied: typer<0.10.0,>=0.3.0 in /usr/local/lib/python3.10/dist-packages (from spacy<3.7.0,>=3.6.0->pt-core-news-sm==3.6.0) (0.9.0)\n",
            "Requirement already satisfied: pathy>=0.10.0 in /usr/local/lib/python3.10/dist-packages (from spacy<3.7.0,>=3.6.0->pt-core-news-sm==3.6.0) (0.10.3)\n",
            "Requirement already satisfied: smart-open<7.0.0,>=5.2.1 in /usr/local/lib/python3.10/dist-packages (from spacy<3.7.0,>=3.6.0->pt-core-news-sm==3.6.0) (6.4.0)\n",
            "Requirement already satisfied: tqdm<5.0.0,>=4.38.0 in /usr/local/lib/python3.10/dist-packages (from spacy<3.7.0,>=3.6.0->pt-core-news-sm==3.6.0) (4.66.1)\n",
            "Requirement already satisfied: numpy>=1.15.0 in /usr/local/lib/python3.10/dist-packages (from spacy<3.7.0,>=3.6.0->pt-core-news-sm==3.6.0) (1.23.5)\n",
            "Requirement already satisfied: requests<3.0.0,>=2.13.0 in /usr/local/lib/python3.10/dist-packages (from spacy<3.7.0,>=3.6.0->pt-core-news-sm==3.6.0) (2.31.0)\n",
            "Requirement already satisfied: pydantic!=1.8,!=1.8.1,<3.0.0,>=1.7.4 in /usr/local/lib/python3.10/dist-packages (from spacy<3.7.0,>=3.6.0->pt-core-news-sm==3.6.0) (1.10.13)\n",
            "Requirement already satisfied: jinja2 in /usr/local/lib/python3.10/dist-packages (from spacy<3.7.0,>=3.6.0->pt-core-news-sm==3.6.0) (3.1.2)\n",
            "Requirement already satisfied: setuptools in /usr/local/lib/python3.10/dist-packages (from spacy<3.7.0,>=3.6.0->pt-core-news-sm==3.6.0) (67.7.2)\n",
            "Requirement already satisfied: packaging>=20.0 in /usr/local/lib/python3.10/dist-packages (from spacy<3.7.0,>=3.6.0->pt-core-news-sm==3.6.0) (23.2)\n",
            "Requirement already satisfied: langcodes<4.0.0,>=3.2.0 in /usr/local/lib/python3.10/dist-packages (from spacy<3.7.0,>=3.6.0->pt-core-news-sm==3.6.0) (3.3.0)\n",
            "Requirement already satisfied: typing-extensions>=4.2.0 in /usr/local/lib/python3.10/dist-packages (from pydantic!=1.8,!=1.8.1,<3.0.0,>=1.7.4->spacy<3.7.0,>=3.6.0->pt-core-news-sm==3.6.0) (4.5.0)\n",
            "Requirement already satisfied: charset-normalizer<4,>=2 in /usr/local/lib/python3.10/dist-packages (from requests<3.0.0,>=2.13.0->spacy<3.7.0,>=3.6.0->pt-core-news-sm==3.6.0) (3.3.2)\n",
            "Requirement already satisfied: idna<4,>=2.5 in /usr/local/lib/python3.10/dist-packages (from requests<3.0.0,>=2.13.0->spacy<3.7.0,>=3.6.0->pt-core-news-sm==3.6.0) (3.6)\n",
            "Requirement already satisfied: urllib3<3,>=1.21.1 in /usr/local/lib/python3.10/dist-packages (from requests<3.0.0,>=2.13.0->spacy<3.7.0,>=3.6.0->pt-core-news-sm==3.6.0) (2.0.7)\n",
            "Requirement already satisfied: certifi>=2017.4.17 in /usr/local/lib/python3.10/dist-packages (from requests<3.0.0,>=2.13.0->spacy<3.7.0,>=3.6.0->pt-core-news-sm==3.6.0) (2023.11.17)\n",
            "Requirement already satisfied: blis<0.8.0,>=0.7.8 in /usr/local/lib/python3.10/dist-packages (from thinc<8.2.0,>=8.1.8->spacy<3.7.0,>=3.6.0->pt-core-news-sm==3.6.0) (0.7.11)\n",
            "Requirement already satisfied: confection<1.0.0,>=0.0.1 in /usr/local/lib/python3.10/dist-packages (from thinc<8.2.0,>=8.1.8->spacy<3.7.0,>=3.6.0->pt-core-news-sm==3.6.0) (0.1.4)\n",
            "Requirement already satisfied: click<9.0.0,>=7.1.1 in /usr/local/lib/python3.10/dist-packages (from typer<0.10.0,>=0.3.0->spacy<3.7.0,>=3.6.0->pt-core-news-sm==3.6.0) (8.1.7)\n",
            "Requirement already satisfied: MarkupSafe>=2.0 in /usr/local/lib/python3.10/dist-packages (from jinja2->spacy<3.7.0,>=3.6.0->pt-core-news-sm==3.6.0) (2.1.3)\n",
            "Installing collected packages: pt-core-news-sm\n",
            "Successfully installed pt-core-news-sm-3.6.0\n",
            "\u001b[38;5;2m✔ Download and installation successful\u001b[0m\n",
            "You can now load the package via spacy.load('pt_core_news_sm')\n"
          ]
        }
      ]
    },
    {
      "cell_type": "code",
      "source": [
        "import pandas as pd\n",
        "import string\n",
        "import spacy\n",
        "import random\n",
        "import seaborn as sns\n",
        "import numpy as np"
      ],
      "metadata": {
        "id": "MENLmMRS0vjX"
      },
      "execution_count": 3,
      "outputs": []
    },
    {
      "cell_type": "code",
      "source": [
        "from google.colab import drive\n",
        "drive.mount('/content/drive')"
      ],
      "metadata": {
        "colab": {
          "base_uri": "https://localhost:8080/"
        },
        "id": "vKscINvd0zTO",
        "outputId": "9100069d-de25-4dc3-b3cb-20c3829e3ae8"
      },
      "execution_count": 4,
      "outputs": [
        {
          "output_type": "stream",
          "name": "stdout",
          "text": [
            "Mounted at /content/drive\n"
          ]
        }
      ]
    },
    {
      "cell_type": "markdown",
      "source": [
        "## Etapa 2: Carregamento da base de dados"
      ],
      "metadata": {
        "id": "0GnbBrh81C1v"
      }
    },
    {
      "cell_type": "code",
      "source": [
        "base_dados = pd.read_csv('/content/base_treinamento.txt', encoding = 'utf-8')"
      ],
      "metadata": {
        "id": "2I2J87uN1Ez3"
      },
      "execution_count": 6,
      "outputs": []
    },
    {
      "cell_type": "code",
      "source": [
        "base_dados.shape"
      ],
      "metadata": {
        "colab": {
          "base_uri": "https://localhost:8080/"
        },
        "id": "JFyq2DGy1G2O",
        "outputId": "c095717e-c234-4617-9650-a1082fe7d241"
      },
      "execution_count": 7,
      "outputs": [
        {
          "output_type": "execute_result",
          "data": {
            "text/plain": [
              "(196, 2)"
            ]
          },
          "metadata": {},
          "execution_count": 7
        }
      ]
    },
    {
      "cell_type": "code",
      "source": [
        "base_dados.head()"
      ],
      "metadata": {
        "colab": {
          "base_uri": "https://localhost:8080/",
          "height": 206
        },
        "id": "RsSnX4TR1Mvp",
        "outputId": "691de081-94bc-4b74-8e31-90e7dc45f0dc"
      },
      "execution_count": 8,
      "outputs": [
        {
          "output_type": "execute_result",
          "data": {
            "text/plain": [
              "                             texto   emocao\n",
              "0        este trabalho é agradável  alegria\n",
              "1  gosto de ficar no seu aconchego  alegria\n",
              "2       fiz a adesão ao curso hoje  alegria\n",
              "3       eu sou admirada por muitos  alegria\n",
              "4                  adoro como você  alegria"
            ],
            "text/html": [
              "\n",
              "  <div id=\"df-534e717d-a641-48ed-8008-9eac0ea70656\" class=\"colab-df-container\">\n",
              "    <div>\n",
              "<style scoped>\n",
              "    .dataframe tbody tr th:only-of-type {\n",
              "        vertical-align: middle;\n",
              "    }\n",
              "\n",
              "    .dataframe tbody tr th {\n",
              "        vertical-align: top;\n",
              "    }\n",
              "\n",
              "    .dataframe thead th {\n",
              "        text-align: right;\n",
              "    }\n",
              "</style>\n",
              "<table border=\"1\" class=\"dataframe\">\n",
              "  <thead>\n",
              "    <tr style=\"text-align: right;\">\n",
              "      <th></th>\n",
              "      <th>texto</th>\n",
              "      <th>emocao</th>\n",
              "    </tr>\n",
              "  </thead>\n",
              "  <tbody>\n",
              "    <tr>\n",
              "      <th>0</th>\n",
              "      <td>este trabalho é agradável</td>\n",
              "      <td>alegria</td>\n",
              "    </tr>\n",
              "    <tr>\n",
              "      <th>1</th>\n",
              "      <td>gosto de ficar no seu aconchego</td>\n",
              "      <td>alegria</td>\n",
              "    </tr>\n",
              "    <tr>\n",
              "      <th>2</th>\n",
              "      <td>fiz a adesão ao curso hoje</td>\n",
              "      <td>alegria</td>\n",
              "    </tr>\n",
              "    <tr>\n",
              "      <th>3</th>\n",
              "      <td>eu sou admirada por muitos</td>\n",
              "      <td>alegria</td>\n",
              "    </tr>\n",
              "    <tr>\n",
              "      <th>4</th>\n",
              "      <td>adoro como você</td>\n",
              "      <td>alegria</td>\n",
              "    </tr>\n",
              "  </tbody>\n",
              "</table>\n",
              "</div>\n",
              "    <div class=\"colab-df-buttons\">\n",
              "\n",
              "  <div class=\"colab-df-container\">\n",
              "    <button class=\"colab-df-convert\" onclick=\"convertToInteractive('df-534e717d-a641-48ed-8008-9eac0ea70656')\"\n",
              "            title=\"Convert this dataframe to an interactive table.\"\n",
              "            style=\"display:none;\">\n",
              "\n",
              "  <svg xmlns=\"http://www.w3.org/2000/svg\" height=\"24px\" viewBox=\"0 -960 960 960\">\n",
              "    <path d=\"M120-120v-720h720v720H120Zm60-500h600v-160H180v160Zm220 220h160v-160H400v160Zm0 220h160v-160H400v160ZM180-400h160v-160H180v160Zm440 0h160v-160H620v160ZM180-180h160v-160H180v160Zm440 0h160v-160H620v160Z\"/>\n",
              "  </svg>\n",
              "    </button>\n",
              "\n",
              "  <style>\n",
              "    .colab-df-container {\n",
              "      display:flex;\n",
              "      gap: 12px;\n",
              "    }\n",
              "\n",
              "    .colab-df-convert {\n",
              "      background-color: #E8F0FE;\n",
              "      border: none;\n",
              "      border-radius: 50%;\n",
              "      cursor: pointer;\n",
              "      display: none;\n",
              "      fill: #1967D2;\n",
              "      height: 32px;\n",
              "      padding: 0 0 0 0;\n",
              "      width: 32px;\n",
              "    }\n",
              "\n",
              "    .colab-df-convert:hover {\n",
              "      background-color: #E2EBFA;\n",
              "      box-shadow: 0px 1px 2px rgba(60, 64, 67, 0.3), 0px 1px 3px 1px rgba(60, 64, 67, 0.15);\n",
              "      fill: #174EA6;\n",
              "    }\n",
              "\n",
              "    .colab-df-buttons div {\n",
              "      margin-bottom: 4px;\n",
              "    }\n",
              "\n",
              "    [theme=dark] .colab-df-convert {\n",
              "      background-color: #3B4455;\n",
              "      fill: #D2E3FC;\n",
              "    }\n",
              "\n",
              "    [theme=dark] .colab-df-convert:hover {\n",
              "      background-color: #434B5C;\n",
              "      box-shadow: 0px 1px 3px 1px rgba(0, 0, 0, 0.15);\n",
              "      filter: drop-shadow(0px 1px 2px rgba(0, 0, 0, 0.3));\n",
              "      fill: #FFFFFF;\n",
              "    }\n",
              "  </style>\n",
              "\n",
              "    <script>\n",
              "      const buttonEl =\n",
              "        document.querySelector('#df-534e717d-a641-48ed-8008-9eac0ea70656 button.colab-df-convert');\n",
              "      buttonEl.style.display =\n",
              "        google.colab.kernel.accessAllowed ? 'block' : 'none';\n",
              "\n",
              "      async function convertToInteractive(key) {\n",
              "        const element = document.querySelector('#df-534e717d-a641-48ed-8008-9eac0ea70656');\n",
              "        const dataTable =\n",
              "          await google.colab.kernel.invokeFunction('convertToInteractive',\n",
              "                                                    [key], {});\n",
              "        if (!dataTable) return;\n",
              "\n",
              "        const docLinkHtml = 'Like what you see? Visit the ' +\n",
              "          '<a target=\"_blank\" href=https://colab.research.google.com/notebooks/data_table.ipynb>data table notebook</a>'\n",
              "          + ' to learn more about interactive tables.';\n",
              "        element.innerHTML = '';\n",
              "        dataTable['output_type'] = 'display_data';\n",
              "        await google.colab.output.renderOutput(dataTable, element);\n",
              "        const docLink = document.createElement('div');\n",
              "        docLink.innerHTML = docLinkHtml;\n",
              "        element.appendChild(docLink);\n",
              "      }\n",
              "    </script>\n",
              "  </div>\n",
              "\n",
              "\n",
              "<div id=\"df-ec6d4fb2-c39b-4b47-acc9-e3861cec550b\">\n",
              "  <button class=\"colab-df-quickchart\" onclick=\"quickchart('df-ec6d4fb2-c39b-4b47-acc9-e3861cec550b')\"\n",
              "            title=\"Suggest charts\"\n",
              "            style=\"display:none;\">\n",
              "\n",
              "<svg xmlns=\"http://www.w3.org/2000/svg\" height=\"24px\"viewBox=\"0 0 24 24\"\n",
              "     width=\"24px\">\n",
              "    <g>\n",
              "        <path d=\"M19 3H5c-1.1 0-2 .9-2 2v14c0 1.1.9 2 2 2h14c1.1 0 2-.9 2-2V5c0-1.1-.9-2-2-2zM9 17H7v-7h2v7zm4 0h-2V7h2v10zm4 0h-2v-4h2v4z\"/>\n",
              "    </g>\n",
              "</svg>\n",
              "  </button>\n",
              "\n",
              "<style>\n",
              "  .colab-df-quickchart {\n",
              "      --bg-color: #E8F0FE;\n",
              "      --fill-color: #1967D2;\n",
              "      --hover-bg-color: #E2EBFA;\n",
              "      --hover-fill-color: #174EA6;\n",
              "      --disabled-fill-color: #AAA;\n",
              "      --disabled-bg-color: #DDD;\n",
              "  }\n",
              "\n",
              "  [theme=dark] .colab-df-quickchart {\n",
              "      --bg-color: #3B4455;\n",
              "      --fill-color: #D2E3FC;\n",
              "      --hover-bg-color: #434B5C;\n",
              "      --hover-fill-color: #FFFFFF;\n",
              "      --disabled-bg-color: #3B4455;\n",
              "      --disabled-fill-color: #666;\n",
              "  }\n",
              "\n",
              "  .colab-df-quickchart {\n",
              "    background-color: var(--bg-color);\n",
              "    border: none;\n",
              "    border-radius: 50%;\n",
              "    cursor: pointer;\n",
              "    display: none;\n",
              "    fill: var(--fill-color);\n",
              "    height: 32px;\n",
              "    padding: 0;\n",
              "    width: 32px;\n",
              "  }\n",
              "\n",
              "  .colab-df-quickchart:hover {\n",
              "    background-color: var(--hover-bg-color);\n",
              "    box-shadow: 0 1px 2px rgba(60, 64, 67, 0.3), 0 1px 3px 1px rgba(60, 64, 67, 0.15);\n",
              "    fill: var(--button-hover-fill-color);\n",
              "  }\n",
              "\n",
              "  .colab-df-quickchart-complete:disabled,\n",
              "  .colab-df-quickchart-complete:disabled:hover {\n",
              "    background-color: var(--disabled-bg-color);\n",
              "    fill: var(--disabled-fill-color);\n",
              "    box-shadow: none;\n",
              "  }\n",
              "\n",
              "  .colab-df-spinner {\n",
              "    border: 2px solid var(--fill-color);\n",
              "    border-color: transparent;\n",
              "    border-bottom-color: var(--fill-color);\n",
              "    animation:\n",
              "      spin 1s steps(1) infinite;\n",
              "  }\n",
              "\n",
              "  @keyframes spin {\n",
              "    0% {\n",
              "      border-color: transparent;\n",
              "      border-bottom-color: var(--fill-color);\n",
              "      border-left-color: var(--fill-color);\n",
              "    }\n",
              "    20% {\n",
              "      border-color: transparent;\n",
              "      border-left-color: var(--fill-color);\n",
              "      border-top-color: var(--fill-color);\n",
              "    }\n",
              "    30% {\n",
              "      border-color: transparent;\n",
              "      border-left-color: var(--fill-color);\n",
              "      border-top-color: var(--fill-color);\n",
              "      border-right-color: var(--fill-color);\n",
              "    }\n",
              "    40% {\n",
              "      border-color: transparent;\n",
              "      border-right-color: var(--fill-color);\n",
              "      border-top-color: var(--fill-color);\n",
              "    }\n",
              "    60% {\n",
              "      border-color: transparent;\n",
              "      border-right-color: var(--fill-color);\n",
              "    }\n",
              "    80% {\n",
              "      border-color: transparent;\n",
              "      border-right-color: var(--fill-color);\n",
              "      border-bottom-color: var(--fill-color);\n",
              "    }\n",
              "    90% {\n",
              "      border-color: transparent;\n",
              "      border-bottom-color: var(--fill-color);\n",
              "    }\n",
              "  }\n",
              "</style>\n",
              "\n",
              "  <script>\n",
              "    async function quickchart(key) {\n",
              "      const quickchartButtonEl =\n",
              "        document.querySelector('#' + key + ' button');\n",
              "      quickchartButtonEl.disabled = true;  // To prevent multiple clicks.\n",
              "      quickchartButtonEl.classList.add('colab-df-spinner');\n",
              "      try {\n",
              "        const charts = await google.colab.kernel.invokeFunction(\n",
              "            'suggestCharts', [key], {});\n",
              "      } catch (error) {\n",
              "        console.error('Error during call to suggestCharts:', error);\n",
              "      }\n",
              "      quickchartButtonEl.classList.remove('colab-df-spinner');\n",
              "      quickchartButtonEl.classList.add('colab-df-quickchart-complete');\n",
              "    }\n",
              "    (() => {\n",
              "      let quickchartButtonEl =\n",
              "        document.querySelector('#df-ec6d4fb2-c39b-4b47-acc9-e3861cec550b button');\n",
              "      quickchartButtonEl.style.display =\n",
              "        google.colab.kernel.accessAllowed ? 'block' : 'none';\n",
              "    })();\n",
              "  </script>\n",
              "</div>\n",
              "    </div>\n",
              "  </div>\n"
            ]
          },
          "metadata": {},
          "execution_count": 8
        }
      ]
    },
    {
      "cell_type": "code",
      "source": [
        "base_dados.tail()"
      ],
      "metadata": {
        "colab": {
          "base_uri": "https://localhost:8080/",
          "height": 206
        },
        "id": "eMB7qRWR1ODo",
        "outputId": "5520cb2a-bce7-4c73-9535-955363b67d25"
      },
      "execution_count": 9,
      "outputs": [
        {
          "output_type": "execute_result",
          "data": {
            "text/plain": [
              "                                                 texto emocao\n",
              "191  estou chocado e amedrontado com este assassina...   medo\n",
              "192  é preciso afugenta com ímpeto este medo do inf...   medo\n",
              "193  políticos usam suas forças para afugentar e am...   medo\n",
              "194       o objetivo disso e apenas me amedrontar mais   medo\n",
              "195                                    isso me apavora   medo"
            ],
            "text/html": [
              "\n",
              "  <div id=\"df-7c41a1b4-896a-4b62-99a1-9ab57ad37dd0\" class=\"colab-df-container\">\n",
              "    <div>\n",
              "<style scoped>\n",
              "    .dataframe tbody tr th:only-of-type {\n",
              "        vertical-align: middle;\n",
              "    }\n",
              "\n",
              "    .dataframe tbody tr th {\n",
              "        vertical-align: top;\n",
              "    }\n",
              "\n",
              "    .dataframe thead th {\n",
              "        text-align: right;\n",
              "    }\n",
              "</style>\n",
              "<table border=\"1\" class=\"dataframe\">\n",
              "  <thead>\n",
              "    <tr style=\"text-align: right;\">\n",
              "      <th></th>\n",
              "      <th>texto</th>\n",
              "      <th>emocao</th>\n",
              "    </tr>\n",
              "  </thead>\n",
              "  <tbody>\n",
              "    <tr>\n",
              "      <th>191</th>\n",
              "      <td>estou chocado e amedrontado com este assassina...</td>\n",
              "      <td>medo</td>\n",
              "    </tr>\n",
              "    <tr>\n",
              "      <th>192</th>\n",
              "      <td>é preciso afugenta com ímpeto este medo do inf...</td>\n",
              "      <td>medo</td>\n",
              "    </tr>\n",
              "    <tr>\n",
              "      <th>193</th>\n",
              "      <td>políticos usam suas forças para afugentar e am...</td>\n",
              "      <td>medo</td>\n",
              "    </tr>\n",
              "    <tr>\n",
              "      <th>194</th>\n",
              "      <td>o objetivo disso e apenas me amedrontar mais</td>\n",
              "      <td>medo</td>\n",
              "    </tr>\n",
              "    <tr>\n",
              "      <th>195</th>\n",
              "      <td>isso me apavora</td>\n",
              "      <td>medo</td>\n",
              "    </tr>\n",
              "  </tbody>\n",
              "</table>\n",
              "</div>\n",
              "    <div class=\"colab-df-buttons\">\n",
              "\n",
              "  <div class=\"colab-df-container\">\n",
              "    <button class=\"colab-df-convert\" onclick=\"convertToInteractive('df-7c41a1b4-896a-4b62-99a1-9ab57ad37dd0')\"\n",
              "            title=\"Convert this dataframe to an interactive table.\"\n",
              "            style=\"display:none;\">\n",
              "\n",
              "  <svg xmlns=\"http://www.w3.org/2000/svg\" height=\"24px\" viewBox=\"0 -960 960 960\">\n",
              "    <path d=\"M120-120v-720h720v720H120Zm60-500h600v-160H180v160Zm220 220h160v-160H400v160Zm0 220h160v-160H400v160ZM180-400h160v-160H180v160Zm440 0h160v-160H620v160ZM180-180h160v-160H180v160Zm440 0h160v-160H620v160Z\"/>\n",
              "  </svg>\n",
              "    </button>\n",
              "\n",
              "  <style>\n",
              "    .colab-df-container {\n",
              "      display:flex;\n",
              "      gap: 12px;\n",
              "    }\n",
              "\n",
              "    .colab-df-convert {\n",
              "      background-color: #E8F0FE;\n",
              "      border: none;\n",
              "      border-radius: 50%;\n",
              "      cursor: pointer;\n",
              "      display: none;\n",
              "      fill: #1967D2;\n",
              "      height: 32px;\n",
              "      padding: 0 0 0 0;\n",
              "      width: 32px;\n",
              "    }\n",
              "\n",
              "    .colab-df-convert:hover {\n",
              "      background-color: #E2EBFA;\n",
              "      box-shadow: 0px 1px 2px rgba(60, 64, 67, 0.3), 0px 1px 3px 1px rgba(60, 64, 67, 0.15);\n",
              "      fill: #174EA6;\n",
              "    }\n",
              "\n",
              "    .colab-df-buttons div {\n",
              "      margin-bottom: 4px;\n",
              "    }\n",
              "\n",
              "    [theme=dark] .colab-df-convert {\n",
              "      background-color: #3B4455;\n",
              "      fill: #D2E3FC;\n",
              "    }\n",
              "\n",
              "    [theme=dark] .colab-df-convert:hover {\n",
              "      background-color: #434B5C;\n",
              "      box-shadow: 0px 1px 3px 1px rgba(0, 0, 0, 0.15);\n",
              "      filter: drop-shadow(0px 1px 2px rgba(0, 0, 0, 0.3));\n",
              "      fill: #FFFFFF;\n",
              "    }\n",
              "  </style>\n",
              "\n",
              "    <script>\n",
              "      const buttonEl =\n",
              "        document.querySelector('#df-7c41a1b4-896a-4b62-99a1-9ab57ad37dd0 button.colab-df-convert');\n",
              "      buttonEl.style.display =\n",
              "        google.colab.kernel.accessAllowed ? 'block' : 'none';\n",
              "\n",
              "      async function convertToInteractive(key) {\n",
              "        const element = document.querySelector('#df-7c41a1b4-896a-4b62-99a1-9ab57ad37dd0');\n",
              "        const dataTable =\n",
              "          await google.colab.kernel.invokeFunction('convertToInteractive',\n",
              "                                                    [key], {});\n",
              "        if (!dataTable) return;\n",
              "\n",
              "        const docLinkHtml = 'Like what you see? Visit the ' +\n",
              "          '<a target=\"_blank\" href=https://colab.research.google.com/notebooks/data_table.ipynb>data table notebook</a>'\n",
              "          + ' to learn more about interactive tables.';\n",
              "        element.innerHTML = '';\n",
              "        dataTable['output_type'] = 'display_data';\n",
              "        await google.colab.output.renderOutput(dataTable, element);\n",
              "        const docLink = document.createElement('div');\n",
              "        docLink.innerHTML = docLinkHtml;\n",
              "        element.appendChild(docLink);\n",
              "      }\n",
              "    </script>\n",
              "  </div>\n",
              "\n",
              "\n",
              "<div id=\"df-e763378d-8786-46a9-9fda-41c36331740d\">\n",
              "  <button class=\"colab-df-quickchart\" onclick=\"quickchart('df-e763378d-8786-46a9-9fda-41c36331740d')\"\n",
              "            title=\"Suggest charts\"\n",
              "            style=\"display:none;\">\n",
              "\n",
              "<svg xmlns=\"http://www.w3.org/2000/svg\" height=\"24px\"viewBox=\"0 0 24 24\"\n",
              "     width=\"24px\">\n",
              "    <g>\n",
              "        <path d=\"M19 3H5c-1.1 0-2 .9-2 2v14c0 1.1.9 2 2 2h14c1.1 0 2-.9 2-2V5c0-1.1-.9-2-2-2zM9 17H7v-7h2v7zm4 0h-2V7h2v10zm4 0h-2v-4h2v4z\"/>\n",
              "    </g>\n",
              "</svg>\n",
              "  </button>\n",
              "\n",
              "<style>\n",
              "  .colab-df-quickchart {\n",
              "      --bg-color: #E8F0FE;\n",
              "      --fill-color: #1967D2;\n",
              "      --hover-bg-color: #E2EBFA;\n",
              "      --hover-fill-color: #174EA6;\n",
              "      --disabled-fill-color: #AAA;\n",
              "      --disabled-bg-color: #DDD;\n",
              "  }\n",
              "\n",
              "  [theme=dark] .colab-df-quickchart {\n",
              "      --bg-color: #3B4455;\n",
              "      --fill-color: #D2E3FC;\n",
              "      --hover-bg-color: #434B5C;\n",
              "      --hover-fill-color: #FFFFFF;\n",
              "      --disabled-bg-color: #3B4455;\n",
              "      --disabled-fill-color: #666;\n",
              "  }\n",
              "\n",
              "  .colab-df-quickchart {\n",
              "    background-color: var(--bg-color);\n",
              "    border: none;\n",
              "    border-radius: 50%;\n",
              "    cursor: pointer;\n",
              "    display: none;\n",
              "    fill: var(--fill-color);\n",
              "    height: 32px;\n",
              "    padding: 0;\n",
              "    width: 32px;\n",
              "  }\n",
              "\n",
              "  .colab-df-quickchart:hover {\n",
              "    background-color: var(--hover-bg-color);\n",
              "    box-shadow: 0 1px 2px rgba(60, 64, 67, 0.3), 0 1px 3px 1px rgba(60, 64, 67, 0.15);\n",
              "    fill: var(--button-hover-fill-color);\n",
              "  }\n",
              "\n",
              "  .colab-df-quickchart-complete:disabled,\n",
              "  .colab-df-quickchart-complete:disabled:hover {\n",
              "    background-color: var(--disabled-bg-color);\n",
              "    fill: var(--disabled-fill-color);\n",
              "    box-shadow: none;\n",
              "  }\n",
              "\n",
              "  .colab-df-spinner {\n",
              "    border: 2px solid var(--fill-color);\n",
              "    border-color: transparent;\n",
              "    border-bottom-color: var(--fill-color);\n",
              "    animation:\n",
              "      spin 1s steps(1) infinite;\n",
              "  }\n",
              "\n",
              "  @keyframes spin {\n",
              "    0% {\n",
              "      border-color: transparent;\n",
              "      border-bottom-color: var(--fill-color);\n",
              "      border-left-color: var(--fill-color);\n",
              "    }\n",
              "    20% {\n",
              "      border-color: transparent;\n",
              "      border-left-color: var(--fill-color);\n",
              "      border-top-color: var(--fill-color);\n",
              "    }\n",
              "    30% {\n",
              "      border-color: transparent;\n",
              "      border-left-color: var(--fill-color);\n",
              "      border-top-color: var(--fill-color);\n",
              "      border-right-color: var(--fill-color);\n",
              "    }\n",
              "    40% {\n",
              "      border-color: transparent;\n",
              "      border-right-color: var(--fill-color);\n",
              "      border-top-color: var(--fill-color);\n",
              "    }\n",
              "    60% {\n",
              "      border-color: transparent;\n",
              "      border-right-color: var(--fill-color);\n",
              "    }\n",
              "    80% {\n",
              "      border-color: transparent;\n",
              "      border-right-color: var(--fill-color);\n",
              "      border-bottom-color: var(--fill-color);\n",
              "    }\n",
              "    90% {\n",
              "      border-color: transparent;\n",
              "      border-bottom-color: var(--fill-color);\n",
              "    }\n",
              "  }\n",
              "</style>\n",
              "\n",
              "  <script>\n",
              "    async function quickchart(key) {\n",
              "      const quickchartButtonEl =\n",
              "        document.querySelector('#' + key + ' button');\n",
              "      quickchartButtonEl.disabled = true;  // To prevent multiple clicks.\n",
              "      quickchartButtonEl.classList.add('colab-df-spinner');\n",
              "      try {\n",
              "        const charts = await google.colab.kernel.invokeFunction(\n",
              "            'suggestCharts', [key], {});\n",
              "      } catch (error) {\n",
              "        console.error('Error during call to suggestCharts:', error);\n",
              "      }\n",
              "      quickchartButtonEl.classList.remove('colab-df-spinner');\n",
              "      quickchartButtonEl.classList.add('colab-df-quickchart-complete');\n",
              "    }\n",
              "    (() => {\n",
              "      let quickchartButtonEl =\n",
              "        document.querySelector('#df-e763378d-8786-46a9-9fda-41c36331740d button');\n",
              "      quickchartButtonEl.style.display =\n",
              "        google.colab.kernel.accessAllowed ? 'block' : 'none';\n",
              "    })();\n",
              "  </script>\n",
              "</div>\n",
              "    </div>\n",
              "  </div>\n"
            ]
          },
          "metadata": {},
          "execution_count": 9
        }
      ]
    },
    {
      "cell_type": "code",
      "source": [
        "sns.countplot(base_dados['emocao'], label = 'Contagem');"
      ],
      "metadata": {
        "colab": {
          "base_uri": "https://localhost:8080/",
          "height": 449
        },
        "id": "D2CAsxzm1PLQ",
        "outputId": "31ea10e2-2580-44cc-b611-0ce09bb8583b"
      },
      "execution_count": 10,
      "outputs": [
        {
          "output_type": "display_data",
          "data": {
            "text/plain": [
              "<Figure size 640x480 with 1 Axes>"
            ],
            "image/png": "[encoded data removed]"
          },
          "metadata": {}
        }
      ]
    },
    {
      "cell_type": "markdown",
      "source": [
        "##Etapa 3: Função para pré-processamento dos textos"
      ],
      "metadata": {
        "id": "my-Tsy7y1afE"
      }
    },
    {
      "cell_type": "code",
      "source": [
        "pontuacoes = string.punctuation\n",
        "pontuacoes"
      ],
      "metadata": {
        "colab": {
          "base_uri": "https://localhost:8080/",
          "height": 35
        },
        "id": "MBn6_DDb1g5o",
        "outputId": "c5892fa3-6563-4f9e-eed9-0883a41dedc0"
      },
      "execution_count": 11,
      "outputs": [
        {
          "output_type": "execute_result",
          "data": {
            "text/plain": [
              "'!\"#$%&\\'()*+,-./:;<=>?@[\\\\]^_`{|}~'"
            ],
            "application/vnd.google.colaboratory.intrinsic+json": {
              "type": "string"
            }
          },
          "metadata": {},
          "execution_count": 11
        }
      ]
    },
    {
      "cell_type": "code",
      "source": [
        "from spacy.lang.pt.stop_words import STOP_WORDS\n",
        "stop_words = STOP_WORDS\n"
      ],
      "metadata": {
        "id": "vn_msqQE1tI5"
      },
      "execution_count": 12,
      "outputs": []
    },
    {
      "cell_type": "code",
      "source": [
        "print(stop_words)"
      ],
      "metadata": {
        "colab": {
          "base_uri": "https://localhost:8080/"
        },
        "id": "YZ0p5bF31zyI",
        "outputId": "90808fce-5a7e-445e-ada8-db147fdda95e"
      },
      "execution_count": 13,
      "outputs": [
        {
          "output_type": "stream",
          "name": "stdout",
          "text": [
            "{'põe', 'faço', 'vários', 'dezoito', 'deste', 'novas', 'mal', 'lá', 'tendes', 'dentro', 'usar', 'lhe', 'tipo', 'nada', 'quieto', 'segunda', 'pois', 'sexta', 'sou', 'segundo', 'teve', 'cima', 'os', 'num', 'fazia', 'cinco', 'tanto', 'sabe', 'números', 'debaixo', 'aqueles', 'dezasseis', 'valor', 'novos', 'quatro', 'ademais', 'vossas', 'diante', 'quinta', 'certeza', 'poderá', 'mil', 'tal', 'embora', 'vos', 'estas', 'oitavo', 'vezes', 'tente', 'têm', 'obrigada', 'zero', 'vens', 'fazem', 'à', 'tempo', 'sexto', 'fazeis', 'parte', 'devem', 'doze', 'também', 'ele', 'sistema', 'posso', 'quer', 'às', 'bom', 'seu', 'querem', 'terceiro', 'está', 'quarta', 'des', 'quinze', 'comprido', 'cedo', 'na', 'aquelas', 'és', 'dessa', 'ela', 'por', 'nesta', 'quem', 'as', 'vossa', 'tarde', 'tentei', 'número', 'novo', 'cuja', 'vosso', 'sobre', 'esse', 'maiorias', 'fomos', 'estes', 'fazes', 'numa', 'quarto', 'mês', 'povo', 'tive', 'suas', 'fim', 'talvez', 'fui', 'dezassete', 'nosso', 'estar', 'porquanto', 'cada', 'vem', 'cento', 'vocês', 'falta', 'pegar', 'coisa', 'foi', 'contudo', 'pelos', 'usa', 'desta', 'baixo', 'longe', 'mas', 'logo', 'fazemos', 'outra', 'só', 'tem', 'ambos', 'eu', 'a', 'lado', 'parece', 'partir', 'nossos', 'se', 'uma', 'do', 'outros', 'vez', 'atrás', 'diz', 'quieta', 'temos', 'ainda', 'conhecida', 'qual', 'sétimo', 'veja', 'minha', 'puderam', 'direita', 'vêm', 'além', 'vossos', 'ontem', 'ponto', 'dez', 'ter', 'fez', 'cujo', 'menor', 'área', 'aí', 'nova', 'pouca', 'final', 'máximo', 'fará', 'entre', 'breve', 'da', 'pontos', 'e', 'sois', 'comprida', 'porquê', 'primeiro', 'nossa', 'daquele', 'podem', 'treze', 'pode', 'último', 'minhas', 'estou', 'estão', 'foram', 'dá', 'possivelmente', 'vinda', 'vinte', 'perto', 'toda', 'dos', 'tentar', 'geral', 'muitos', 'somente', 'for', 'de', 'adeus', 'dizem', 'contra', 'tivestes', 'próximo', 'somos', 'fostes', 'nem', 'com', 'você', 'grande', 'nenhuma', 'mais', 'aquilo', 'ora', 'estiveste', 'fora', 'conhecido', 'dão', 'já', 'cá', 'quanto', 'como', 'disso', 'te', 'desde', 'tanta', 'dezanove', 'estivemos', 'algumas', 'ligado', 'naquele', 'nível', 'custa', 'sim', 'faz', 'saber', 'era', 'então', 'portanto', 'sua', 'sétima', 'ir', 'porém', 'me', 'essa', 'corrente', 'quê', 'das', 'nesse', 'deverá', 'uns', 'põem', 'fazer', 'teus', 'pela', 'inicio', 'neste', 'poder', 'ambas', 'nós', 'algo', 'dois', 'esses', 'menos', 'um', 'meio', 'todo', 'sete', 'tiveste', 'eles', 'alguns', 'que', 'tuas', 'nos', 'sei', 'seria', 'irá', 'isso', 'favor', 'próprio', 'grupo', 'questão', 'assim', 'ser', 'dizer', 'oitava', 'lugar', 'estava', 'terceira', 'esta', 'ali', 'vindo', 'aquele', 'meu', 'bastante', 'local', 'daquela', 'conselho', 'nuns', 'qualquer', 'exemplo', 'possível', 'apenas', 'tenho', 'relação', 'tua', 'todas', 'quinto', 'primeira', 'maioria', 'é', 'apoia', 'aquela', 'não', 'foste', 'em', 'tais', 'aqui', 'estado', 'aos', 'porque', 'nas', 'enquanto', 'seis', 'acerca', 'iniciar', 'agora', 'estás', 'tiveram', 'desse', 'obrigado', 'no', 'ver', 'elas', 'boa', 'sempre', 'apoio', 'muito', 'inclusive', 'momento', 'demais', 'mesmo', 'nossas', 'são', 'oito', 'deve', 'meus', 'vai', 'pôde', 'todos', 'quando', 'bem', 'dar', 'pouco', 'estiveram', 'após', 'quais', 'ao', 'meses', 'caminho', 'nove', 'próxima', 'grandes', 'nunca', 'sem', 'posição', 'para', 'podia', 'depois', 'tivemos', 'tão', 'vós', 'vão', 'estive', 'tentaram', 'apontar', 'tens', 'sob', 'outras', 'certamente', 'maior', 'pelas', 'isto', 'essas', 'tu', 'antes', 'catorze', 'duas', 'ou', 'pelo', 'onze', 'três', 'teu', 'eventual', 'esteve', 'este', 'o', 'até', 'naquela', 'umas', 'estivestes', 'nessa', 'quero', 'onde', 'estará', 'através', 'vais', 'seus', 'forma', 'tudo'}\n"
          ]
        }
      ]
    },
    {
      "cell_type": "code",
      "source": [
        "len(stop_words)"
      ],
      "metadata": {
        "colab": {
          "base_uri": "https://localhost:8080/"
        },
        "id": "t9ipHOhF12iw",
        "outputId": "01cda26d-85f6-44a3-d143-88c597d1d987"
      },
      "execution_count": 14,
      "outputs": [
        {
          "output_type": "execute_result",
          "data": {
            "text/plain": [
              "416"
            ]
          },
          "metadata": {},
          "execution_count": 14
        }
      ]
    },
    {
      "cell_type": "code",
      "source": [
        "pln = spacy.load('pt_core_news_sm')"
      ],
      "metadata": {
        "id": "8HzhpHvX14uZ"
      },
      "execution_count": 16,
      "outputs": []
    },
    {
      "cell_type": "code",
      "source": [
        "pln"
      ],
      "metadata": {
        "colab": {
          "base_uri": "https://localhost:8080/"
        },
        "id": "gKrrXE7b2CPw",
        "outputId": "ae8000c9-f6e6-42b9-f5ad-aba5f9b284de"
      },
      "execution_count": 17,
      "outputs": [
        {
          "output_type": "execute_result",
          "data": {
            "text/plain": [
              "<spacy.lang.pt.Portuguese at 0x7f67c9009990>"
            ]
          },
          "metadata": {},
          "execution_count": 17
        }
      ]
    },
    {
      "cell_type": "code",
      "source": [
        "def preprocessamento(texto):\n",
        "  texto = texto.lower()\n",
        "  documento = pln(texto)\n",
        "\n",
        "  lista = []\n",
        "  for token in documento:\n",
        "    #lista.append(token.text)\n",
        "    lista.append(token.lemma_)\n",
        "\n",
        "  lista = [palavra for palavra in lista if palavra not in stop_words and palavra not in pontuacoes]\n",
        "  lista = ' '.join([str(elemento) for elemento in lista if not elemento.isdigit()])\n",
        "\n",
        "  return lista"
      ],
      "metadata": {
        "id": "osuC7dx62ELw"
      },
      "execution_count": 61,
      "outputs": []
    },
    {
      "cell_type": "code",
      "source": [
        "teste = preprocessamento('Estou aprendendo processamento de linguagem natural, curso em Curitiba')\n",
        "teste"
      ],
      "metadata": {
        "colab": {
          "base_uri": "https://localhost:8080/",
          "height": 35
        },
        "id": "Z7HQhVdm2JC4",
        "outputId": "8a5c71b4-d1ef-4f02-89ca-dfef24c4db5d"
      },
      "execution_count": 62,
      "outputs": [
        {
          "output_type": "execute_result",
          "data": {
            "text/plain": [
              "'aprender processamento linguagem natural curso curitiba'"
            ],
            "application/vnd.google.colaboratory.intrinsic+json": {
              "type": "string"
            }
          },
          "metadata": {},
          "execution_count": 62
        }
      ]
    },
    {
      "cell_type": "markdown",
      "source": [
        "## Etapa4: Pré-processamento da base de dados"
      ],
      "metadata": {
        "id": "BHcLYe8i9Pfn"
      }
    },
    {
      "cell_type": "markdown",
      "source": [
        "###Limpeza dos textos"
      ],
      "metadata": {
        "id": "3wyoXhBW9T2x"
      }
    },
    {
      "cell_type": "code",
      "source": [
        "base_dados.head(10)"
      ],
      "metadata": {
        "colab": {
          "base_uri": "https://localhost:8080/",
          "height": 363
        },
        "id": "j5yh5qM19PCP",
        "outputId": "590c694b-a6fd-4f45-a15c-ae8f351f181b"
      },
      "execution_count": 63,
      "outputs": [
        {
          "output_type": "execute_result",
          "data": {
            "text/plain": [
              "                              texto   emocao\n",
              "0         este trabalho é agradável  alegria\n",
              "1   gosto de ficar no seu aconchego  alegria\n",
              "2        fiz a adesão ao curso hoje  alegria\n",
              "3        eu sou admirada por muitos  alegria\n",
              "4                   adoro como você  alegria\n",
              "5            adoro seu cabelo macio  alegria\n",
              "6        adoro a cor dos seus olhos  alegria\n",
              "7   somo tão amáveis um com o outro  alegria\n",
              "8  sinto uma grande afeição por ele  alegria\n",
              "9         quero agradar meus filhos  alegria"
            ],
            "text/html": [
              "\n",
              "  <div id=\"df-b581a7ae-046a-4a36-a876-165e5cb689c7\" class=\"colab-df-container\">\n",
              "    <div>\n",
              "<style scoped>\n",
              "    .dataframe tbody tr th:only-of-type {\n",
              "        vertical-align: middle;\n",
              "    }\n",
              "\n",
              "    .dataframe tbody tr th {\n",
              "        vertical-align: top;\n",
              "    }\n",
              "\n",
              "    .dataframe thead th {\n",
              "        text-align: right;\n",
              "    }\n",
              "</style>\n",
              "<table border=\"1\" class=\"dataframe\">\n",
              "  <thead>\n",
              "    <tr style=\"text-align: right;\">\n",
              "      <th></th>\n",
              "      <th>texto</th>\n",
              "      <th>emocao</th>\n",
              "    </tr>\n",
              "  </thead>\n",
              "  <tbody>\n",
              "    <tr>\n",
              "      <th>0</th>\n",
              "      <td>este trabalho é agradável</td>\n",
              "      <td>alegria</td>\n",
              "    </tr>\n",
              "    <tr>\n",
              "      <th>1</th>\n",
              "      <td>gosto de ficar no seu aconchego</td>\n",
              "      <td>alegria</td>\n",
              "    </tr>\n",
              "    <tr>\n",
              "      <th>2</th>\n",
              "      <td>fiz a adesão ao curso hoje</td>\n",
              "      <td>alegria</td>\n",
              "    </tr>\n",
              "    <tr>\n",
              "      <th>3</th>\n",
              "      <td>eu sou admirada por muitos</td>\n",
              "      <td>alegria</td>\n",
              "    </tr>\n",
              "    <tr>\n",
              "      <th>4</th>\n",
              "      <td>adoro como você</td>\n",
              "      <td>alegria</td>\n",
              "    </tr>\n",
              "    <tr>\n",
              "      <th>5</th>\n",
              "      <td>adoro seu cabelo macio</td>\n",
              "      <td>alegria</td>\n",
              "    </tr>\n",
              "    <tr>\n",
              "      <th>6</th>\n",
              "      <td>adoro a cor dos seus olhos</td>\n",
              "      <td>alegria</td>\n",
              "    </tr>\n",
              "    <tr>\n",
              "      <th>7</th>\n",
              "      <td>somo tão amáveis um com o outro</td>\n",
              "      <td>alegria</td>\n",
              "    </tr>\n",
              "    <tr>\n",
              "      <th>8</th>\n",
              "      <td>sinto uma grande afeição por ele</td>\n",
              "      <td>alegria</td>\n",
              "    </tr>\n",
              "    <tr>\n",
              "      <th>9</th>\n",
              "      <td>quero agradar meus filhos</td>\n",
              "      <td>alegria</td>\n",
              "    </tr>\n",
              "  </tbody>\n",
              "</table>\n",
              "</div>\n",
              "    <div class=\"colab-df-buttons\">\n",
              "\n",
              "  <div class=\"colab-df-container\">\n",
              "    <button class=\"colab-df-convert\" onclick=\"convertToInteractive('df-b581a7ae-046a-4a36-a876-165e5cb689c7')\"\n",
              "            title=\"Convert this dataframe to an interactive table.\"\n",
              "            style=\"display:none;\">\n",
              "\n",
              "  <svg xmlns=\"http://www.w3.org/2000/svg\" height=\"24px\" viewBox=\"0 -960 960 960\">\n",
              "    <path d=\"M120-120v-720h720v720H120Zm60-500h600v-160H180v160Zm220 220h160v-160H400v160Zm0 220h160v-160H400v160ZM180-400h160v-160H180v160Zm440 0h160v-160H620v160ZM180-180h160v-160H180v160Zm440 0h160v-160H620v160Z\"/>\n",
              "  </svg>\n",
              "    </button>\n",
              "\n",
              "  <style>\n",
              "    .colab-df-container {\n",
              "      display:flex;\n",
              "      gap: 12px;\n",
              "    }\n",
              "\n",
              "    .colab-df-convert {\n",
              "      background-color: #E8F0FE;\n",
              "      border: none;\n",
              "      border-radius: 50%;\n",
              "      cursor: pointer;\n",
              "      display: none;\n",
              "      fill: #1967D2;\n",
              "      height: 32px;\n",
              "      padding: 0 0 0 0;\n",
              "      width: 32px;\n",
              "    }\n",
              "\n",
              "    .colab-df-convert:hover {\n",
              "      background-color: #E2EBFA;\n",
              "      box-shadow: 0px 1px 2px rgba(60, 64, 67, 0.3), 0px 1px 3px 1px rgba(60, 64, 67, 0.15);\n",
              "      fill: #174EA6;\n",
              "    }\n",
              "\n",
              "    .colab-df-buttons div {\n",
              "      margin-bottom: 4px;\n",
              "    }\n",
              "\n",
              "    [theme=dark] .colab-df-convert {\n",
              "      background-color: #3B4455;\n",
              "      fill: #D2E3FC;\n",
              "    }\n",
              "\n",
              "    [theme=dark] .colab-df-convert:hover {\n",
              "      background-color: #434B5C;\n",
              "      box-shadow: 0px 1px 3px 1px rgba(0, 0, 0, 0.15);\n",
              "      filter: drop-shadow(0px 1px 2px rgba(0, 0, 0, 0.3));\n",
              "      fill: #FFFFFF;\n",
              "    }\n",
              "  </style>\n",
              "\n",
              "    <script>\n",
              "      const buttonEl =\n",
              "        document.querySelector('#df-b581a7ae-046a-4a36-a876-165e5cb689c7 button.colab-df-convert');\n",
              "      buttonEl.style.display =\n",
              "        google.colab.kernel.accessAllowed ? 'block' : 'none';\n",
              "\n",
              "      async function convertToInteractive(key) {\n",
              "        const element = document.querySelector('#df-b581a7ae-046a-4a36-a876-165e5cb689c7');\n",
              "        const dataTable =\n",
              "          await google.colab.kernel.invokeFunction('convertToInteractive',\n",
              "                                                    [key], {});\n",
              "        if (!dataTable) return;\n",
              "\n",
              "        const docLinkHtml = 'Like what you see? Visit the ' +\n",
              "          '<a target=\"_blank\" href=https://colab.research.google.com/notebooks/data_table.ipynb>data table notebook</a>'\n",
              "          + ' to learn more about interactive tables.';\n",
              "        element.innerHTML = '';\n",
              "        dataTable['output_type'] = 'display_data';\n",
              "        await google.colab.output.renderOutput(dataTable, element);\n",
              "        const docLink = document.createElement('div');\n",
              "        docLink.innerHTML = docLinkHtml;\n",
              "        element.appendChild(docLink);\n",
              "      }\n",
              "    </script>\n",
              "  </div>\n",
              "\n",
              "\n",
              "<div id=\"df-e7eab85a-f9fc-407c-ab79-1b7e42ca2c92\">\n",
              "  <button class=\"colab-df-quickchart\" onclick=\"quickchart('df-e7eab85a-f9fc-407c-ab79-1b7e42ca2c92')\"\n",
              "            title=\"Suggest charts\"\n",
              "            style=\"display:none;\">\n",
              "\n",
              "<svg xmlns=\"http://www.w3.org/2000/svg\" height=\"24px\"viewBox=\"0 0 24 24\"\n",
              "     width=\"24px\">\n",
              "    <g>\n",
              "        <path d=\"M19 3H5c-1.1 0-2 .9-2 2v14c0 1.1.9 2 2 2h14c1.1 0 2-.9 2-2V5c0-1.1-.9-2-2-2zM9 17H7v-7h2v7zm4 0h-2V7h2v10zm4 0h-2v-4h2v4z\"/>\n",
              "    </g>\n",
              "</svg>\n",
              "  </button>\n",
              "\n",
              "<style>\n",
              "  .colab-df-quickchart {\n",
              "      --bg-color: #E8F0FE;\n",
              "      --fill-color: #1967D2;\n",
              "      --hover-bg-color: #E2EBFA;\n",
              "      --hover-fill-color: #174EA6;\n",
              "      --disabled-fill-color: #AAA;\n",
              "      --disabled-bg-color: #DDD;\n",
              "  }\n",
              "\n",
              "  [theme=dark] .colab-df-quickchart {\n",
              "      --bg-color: #3B4455;\n",
              "      --fill-color: #D2E3FC;\n",
              "      --hover-bg-color: #434B5C;\n",
              "      --hover-fill-color: #FFFFFF;\n",
              "      --disabled-bg-color: #3B4455;\n",
              "      --disabled-fill-color: #666;\n",
              "  }\n",
              "\n",
              "  .colab-df-quickchart {\n",
              "    background-color: var(--bg-color);\n",
              "    border: none;\n",
              "    border-radius: 50%;\n",
              "    cursor: pointer;\n",
              "    display: none;\n",
              "    fill: var(--fill-color);\n",
              "    height: 32px;\n",
              "    padding: 0;\n",
              "    width: 32px;\n",
              "  }\n",
              "\n",
              "  .colab-df-quickchart:hover {\n",
              "    background-color: var(--hover-bg-color);\n",
              "    box-shadow: 0 1px 2px rgba(60, 64, 67, 0.3), 0 1px 3px 1px rgba(60, 64, 67, 0.15);\n",
              "    fill: var(--button-hover-fill-color);\n",
              "  }\n",
              "\n",
              "  .colab-df-quickchart-complete:disabled,\n",
              "  .colab-df-quickchart-complete:disabled:hover {\n",
              "    background-color: var(--disabled-bg-color);\n",
              "    fill: var(--disabled-fill-color);\n",
              "    box-shadow: none;\n",
              "  }\n",
              "\n",
              "  .colab-df-spinner {\n",
              "    border: 2px solid var(--fill-color);\n",
              "    border-color: transparent;\n",
              "    border-bottom-color: var(--fill-color);\n",
              "    animation:\n",
              "      spin 1s steps(1) infinite;\n",
              "  }\n",
              "\n",
              "  @keyframes spin {\n",
              "    0% {\n",
              "      border-color: transparent;\n",
              "      border-bottom-color: var(--fill-color);\n",
              "      border-left-color: var(--fill-color);\n",
              "    }\n",
              "    20% {\n",
              "      border-color: transparent;\n",
              "      border-left-color: var(--fill-color);\n",
              "      border-top-color: var(--fill-color);\n",
              "    }\n",
              "    30% {\n",
              "      border-color: transparent;\n",
              "      border-left-color: var(--fill-color);\n",
              "      border-top-color: var(--fill-color);\n",
              "      border-right-color: var(--fill-color);\n",
              "    }\n",
              "    40% {\n",
              "      border-color: transparent;\n",
              "      border-right-color: var(--fill-color);\n",
              "      border-top-color: var(--fill-color);\n",
              "    }\n",
              "    60% {\n",
              "      border-color: transparent;\n",
              "      border-right-color: var(--fill-color);\n",
              "    }\n",
              "    80% {\n",
              "      border-color: transparent;\n",
              "      border-right-color: var(--fill-color);\n",
              "      border-bottom-color: var(--fill-color);\n",
              "    }\n",
              "    90% {\n",
              "      border-color: transparent;\n",
              "      border-bottom-color: var(--fill-color);\n",
              "    }\n",
              "  }\n",
              "</style>\n",
              "\n",
              "  <script>\n",
              "    async function quickchart(key) {\n",
              "      const quickchartButtonEl =\n",
              "        document.querySelector('#' + key + ' button');\n",
              "      quickchartButtonEl.disabled = true;  // To prevent multiple clicks.\n",
              "      quickchartButtonEl.classList.add('colab-df-spinner');\n",
              "      try {\n",
              "        const charts = await google.colab.kernel.invokeFunction(\n",
              "            'suggestCharts', [key], {});\n",
              "      } catch (error) {\n",
              "        console.error('Error during call to suggestCharts:', error);\n",
              "      }\n",
              "      quickchartButtonEl.classList.remove('colab-df-spinner');\n",
              "      quickchartButtonEl.classList.add('colab-df-quickchart-complete');\n",
              "    }\n",
              "    (() => {\n",
              "      let quickchartButtonEl =\n",
              "        document.querySelector('#df-e7eab85a-f9fc-407c-ab79-1b7e42ca2c92 button');\n",
              "      quickchartButtonEl.style.display =\n",
              "        google.colab.kernel.accessAllowed ? 'block' : 'none';\n",
              "    })();\n",
              "  </script>\n",
              "</div>\n",
              "    </div>\n",
              "  </div>\n"
            ]
          },
          "metadata": {},
          "execution_count": 63
        }
      ]
    },
    {
      "cell_type": "code",
      "source": [
        "base_dados['texto'] = base_dados['texto'].apply(preprocessamento)"
      ],
      "metadata": {
        "id": "iQOmXXgl9g0w"
      },
      "execution_count": 64,
      "outputs": []
    },
    {
      "cell_type": "code",
      "source": [
        "base_dados.head(10)"
      ],
      "metadata": {
        "colab": {
          "base_uri": "https://localhost:8080/",
          "height": 363
        },
        "id": "b41exaNK91k_",
        "outputId": "38def640-873b-4273-c5c8-7f2d5e57efbb"
      },
      "execution_count": 65,
      "outputs": [
        {
          "output_type": "execute_result",
          "data": {
            "text/plain": [
              "                        texto   emocao\n",
              "0          trabalho agradável  alegria\n",
              "1  gosto ficar em o aconchego  alegria\n",
              "2   fiz adesão a o curso hoje  alegria\n",
              "3                     admirar  alegria\n",
              "4                      adorar  alegria\n",
              "5         adorar cabelo macio  alegria\n",
              "6        adorar cor de o olho  alegria\n",
              "7           somo amável outro  alegria\n",
              "8               sinto afeição  alegria\n",
              "9        querer agradar filho  alegria"
            ],
            "text/html": [
              "\n",
              "  <div id=\"df-4afee3fd-4e26-4e8d-8841-5e8fe6a3f18a\" class=\"colab-df-container\">\n",
              "    <div>\n",
              "<style scoped>\n",
              "    .dataframe tbody tr th:only-of-type {\n",
              "        vertical-align: middle;\n",
              "    }\n",
              "\n",
              "    .dataframe tbody tr th {\n",
              "        vertical-align: top;\n",
              "    }\n",
              "\n",
              "    .dataframe thead th {\n",
              "        text-align: right;\n",
              "    }\n",
              "</style>\n",
              "<table border=\"1\" class=\"dataframe\">\n",
              "  <thead>\n",
              "    <tr style=\"text-align: right;\">\n",
              "      <th></th>\n",
              "      <th>texto</th>\n",
              "      <th>emocao</th>\n",
              "    </tr>\n",
              "  </thead>\n",
              "  <tbody>\n",
              "    <tr>\n",
              "      <th>0</th>\n",
              "      <td>trabalho agradável</td>\n",
              "      <td>alegria</td>\n",
              "    </tr>\n",
              "    <tr>\n",
              "      <th>1</th>\n",
              "      <td>gosto ficar em o aconchego</td>\n",
              "      <td>alegria</td>\n",
              "    </tr>\n",
              "    <tr>\n",
              "      <th>2</th>\n",
              "      <td>fiz adesão a o curso hoje</td>\n",
              "      <td>alegria</td>\n",
              "    </tr>\n",
              "    <tr>\n",
              "      <th>3</th>\n",
              "      <td>admirar</td>\n",
              "      <td>alegria</td>\n",
              "    </tr>\n",
              "    <tr>\n",
              "      <th>4</th>\n",
              "      <td>adorar</td>\n",
              "      <td>alegria</td>\n",
              "    </tr>\n",
              "    <tr>\n",
              "      <th>5</th>\n",
              "      <td>adorar cabelo macio</td>\n",
              "      <td>alegria</td>\n",
              "    </tr>\n",
              "    <tr>\n",
              "      <th>6</th>\n",
              "      <td>adorar cor de o olho</td>\n",
              "      <td>alegria</td>\n",
              "    </tr>\n",
              "    <tr>\n",
              "      <th>7</th>\n",
              "      <td>somo amável outro</td>\n",
              "      <td>alegria</td>\n",
              "    </tr>\n",
              "    <tr>\n",
              "      <th>8</th>\n",
              "      <td>sinto afeição</td>\n",
              "      <td>alegria</td>\n",
              "    </tr>\n",
              "    <tr>\n",
              "      <th>9</th>\n",
              "      <td>querer agradar filho</td>\n",
              "      <td>alegria</td>\n",
              "    </tr>\n",
              "  </tbody>\n",
              "</table>\n",
              "</div>\n",
              "    <div class=\"colab-df-buttons\">\n",
              "\n",
              "  <div class=\"colab-df-container\">\n",
              "    <button class=\"colab-df-convert\" onclick=\"convertToInteractive('df-4afee3fd-4e26-4e8d-8841-5e8fe6a3f18a')\"\n",
              "            title=\"Convert this dataframe to an interactive table.\"\n",
              "            style=\"display:none;\">\n",
              "\n",
              "  <svg xmlns=\"http://www.w3.org/2000/svg\" height=\"24px\" viewBox=\"0 -960 960 960\">\n",
              "    <path d=\"M120-120v-720h720v720H120Zm60-500h600v-160H180v160Zm220 220h160v-160H400v160Zm0 220h160v-160H400v160ZM180-400h160v-160H180v160Zm440 0h160v-160H620v160ZM180-180h160v-160H180v160Zm440 0h160v-160H620v160Z\"/>\n",
              "  </svg>\n",
              "    </button>\n",
              "\n",
              "  <style>\n",
              "    .colab-df-container {\n",
              "      display:flex;\n",
              "      gap: 12px;\n",
              "    }\n",
              "\n",
              "    .colab-df-convert {\n",
              "      background-color: #E8F0FE;\n",
              "      border: none;\n",
              "      border-radius: 50%;\n",
              "      cursor: pointer;\n",
              "      display: none;\n",
              "      fill: #1967D2;\n",
              "      height: 32px;\n",
              "      padding: 0 0 0 0;\n",
              "      width: 32px;\n",
              "    }\n",
              "\n",
              "    .colab-df-convert:hover {\n",
              "      background-color: #E2EBFA;\n",
              "      box-shadow: 0px 1px 2px rgba(60, 64, 67, 0.3), 0px 1px 3px 1px rgba(60, 64, 67, 0.15);\n",
              "      fill: #174EA6;\n",
              "    }\n",
              "\n",
              "    .colab-df-buttons div {\n",
              "      margin-bottom: 4px;\n",
              "    }\n",
              "\n",
              "    [theme=dark] .colab-df-convert {\n",
              "      background-color: #3B4455;\n",
              "      fill: #D2E3FC;\n",
              "    }\n",
              "\n",
              "    [theme=dark] .colab-df-convert:hover {\n",
              "      background-color: #434B5C;\n",
              "      box-shadow: 0px 1px 3px 1px rgba(0, 0, 0, 0.15);\n",
              "      filter: drop-shadow(0px 1px 2px rgba(0, 0, 0, 0.3));\n",
              "      fill: #FFFFFF;\n",
              "    }\n",
              "  </style>\n",
              "\n",
              "    <script>\n",
              "      const buttonEl =\n",
              "        document.querySelector('#df-4afee3fd-4e26-4e8d-8841-5e8fe6a3f18a button.colab-df-convert');\n",
              "      buttonEl.style.display =\n",
              "        google.colab.kernel.accessAllowed ? 'block' : 'none';\n",
              "\n",
              "      async function convertToInteractive(key) {\n",
              "        const element = document.querySelector('#df-4afee3fd-4e26-4e8d-8841-5e8fe6a3f18a');\n",
              "        const dataTable =\n",
              "          await google.colab.kernel.invokeFunction('convertToInteractive',\n",
              "                                                    [key], {});\n",
              "        if (!dataTable) return;\n",
              "\n",
              "        const docLinkHtml = 'Like what you see? Visit the ' +\n",
              "          '<a target=\"_blank\" href=https://colab.research.google.com/notebooks/data_table.ipynb>data table notebook</a>'\n",
              "          + ' to learn more about interactive tables.';\n",
              "        element.innerHTML = '';\n",
              "        dataTable['output_type'] = 'display_data';\n",
              "        await google.colab.output.renderOutput(dataTable, element);\n",
              "        const docLink = document.createElement('div');\n",
              "        docLink.innerHTML = docLinkHtml;\n",
              "        element.appendChild(docLink);\n",
              "      }\n",
              "    </script>\n",
              "  </div>\n",
              "\n",
              "\n",
              "<div id=\"df-ab4ec4d2-a6d6-4939-bb6e-400c1424db51\">\n",
              "  <button class=\"colab-df-quickchart\" onclick=\"quickchart('df-ab4ec4d2-a6d6-4939-bb6e-400c1424db51')\"\n",
              "            title=\"Suggest charts\"\n",
              "            style=\"display:none;\">\n",
              "\n",
              "<svg xmlns=\"http://www.w3.org/2000/svg\" height=\"24px\"viewBox=\"0 0 24 24\"\n",
              "     width=\"24px\">\n",
              "    <g>\n",
              "        <path d=\"M19 3H5c-1.1 0-2 .9-2 2v14c0 1.1.9 2 2 2h14c1.1 0 2-.9 2-2V5c0-1.1-.9-2-2-2zM9 17H7v-7h2v7zm4 0h-2V7h2v10zm4 0h-2v-4h2v4z\"/>\n",
              "    </g>\n",
              "</svg>\n",
              "  </button>\n",
              "\n",
              "<style>\n",
              "  .colab-df-quickchart {\n",
              "      --bg-color: #E8F0FE;\n",
              "      --fill-color: #1967D2;\n",
              "      --hover-bg-color: #E2EBFA;\n",
              "      --hover-fill-color: #174EA6;\n",
              "      --disabled-fill-color: #AAA;\n",
              "      --disabled-bg-color: #DDD;\n",
              "  }\n",
              "\n",
              "  [theme=dark] .colab-df-quickchart {\n",
              "      --bg-color: #3B4455;\n",
              "      --fill-color: #D2E3FC;\n",
              "      --hover-bg-color: #434B5C;\n",
              "      --hover-fill-color: #FFFFFF;\n",
              "      --disabled-bg-color: #3B4455;\n",
              "      --disabled-fill-color: #666;\n",
              "  }\n",
              "\n",
              "  .colab-df-quickchart {\n",
              "    background-color: var(--bg-color);\n",
              "    border: none;\n",
              "    border-radius: 50%;\n",
              "    cursor: pointer;\n",
              "    display: none;\n",
              "    fill: var(--fill-color);\n",
              "    height: 32px;\n",
              "    padding: 0;\n",
              "    width: 32px;\n",
              "  }\n",
              "\n",
              "  .colab-df-quickchart:hover {\n",
              "    background-color: var(--hover-bg-color);\n",
              "    box-shadow: 0 1px 2px rgba(60, 64, 67, 0.3), 0 1px 3px 1px rgba(60, 64, 67, 0.15);\n",
              "    fill: var(--button-hover-fill-color);\n",
              "  }\n",
              "\n",
              "  .colab-df-quickchart-complete:disabled,\n",
              "  .colab-df-quickchart-complete:disabled:hover {\n",
              "    background-color: var(--disabled-bg-color);\n",
              "    fill: var(--disabled-fill-color);\n",
              "    box-shadow: none;\n",
              "  }\n",
              "\n",
              "  .colab-df-spinner {\n",
              "    border: 2px solid var(--fill-color);\n",
              "    border-color: transparent;\n",
              "    border-bottom-color: var(--fill-color);\n",
              "    animation:\n",
              "      spin 1s steps(1) infinite;\n",
              "  }\n",
              "\n",
              "  @keyframes spin {\n",
              "    0% {\n",
              "      border-color: transparent;\n",
              "      border-bottom-color: var(--fill-color);\n",
              "      border-left-color: var(--fill-color);\n",
              "    }\n",
              "    20% {\n",
              "      border-color: transparent;\n",
              "      border-left-color: var(--fill-color);\n",
              "      border-top-color: var(--fill-color);\n",
              "    }\n",
              "    30% {\n",
              "      border-color: transparent;\n",
              "      border-left-color: var(--fill-color);\n",
              "      border-top-color: var(--fill-color);\n",
              "      border-right-color: var(--fill-color);\n",
              "    }\n",
              "    40% {\n",
              "      border-color: transparent;\n",
              "      border-right-color: var(--fill-color);\n",
              "      border-top-color: var(--fill-color);\n",
              "    }\n",
              "    60% {\n",
              "      border-color: transparent;\n",
              "      border-right-color: var(--fill-color);\n",
              "    }\n",
              "    80% {\n",
              "      border-color: transparent;\n",
              "      border-right-color: var(--fill-color);\n",
              "      border-bottom-color: var(--fill-color);\n",
              "    }\n",
              "    90% {\n",
              "      border-color: transparent;\n",
              "      border-bottom-color: var(--fill-color);\n",
              "    }\n",
              "  }\n",
              "</style>\n",
              "\n",
              "  <script>\n",
              "    async function quickchart(key) {\n",
              "      const quickchartButtonEl =\n",
              "        document.querySelector('#' + key + ' button');\n",
              "      quickchartButtonEl.disabled = true;  // To prevent multiple clicks.\n",
              "      quickchartButtonEl.classList.add('colab-df-spinner');\n",
              "      try {\n",
              "        const charts = await google.colab.kernel.invokeFunction(\n",
              "            'suggestCharts', [key], {});\n",
              "      } catch (error) {\n",
              "        console.error('Error during call to suggestCharts:', error);\n",
              "      }\n",
              "      quickchartButtonEl.classList.remove('colab-df-spinner');\n",
              "      quickchartButtonEl.classList.add('colab-df-quickchart-complete');\n",
              "    }\n",
              "    (() => {\n",
              "      let quickchartButtonEl =\n",
              "        document.querySelector('#df-ab4ec4d2-a6d6-4939-bb6e-400c1424db51 button');\n",
              "      quickchartButtonEl.style.display =\n",
              "        google.colab.kernel.accessAllowed ? 'block' : 'none';\n",
              "    })();\n",
              "  </script>\n",
              "</div>\n",
              "    </div>\n",
              "  </div>\n"
            ]
          },
          "metadata": {},
          "execution_count": 65
        }
      ]
    },
    {
      "cell_type": "code",
      "source": [
        "base_dados.tail(10)"
      ],
      "metadata": {
        "colab": {
          "base_uri": "https://localhost:8080/",
          "height": 363
        },
        "id": "1aXdlWmG-vL2",
        "outputId": "61cfb513-c43b-499d-f2a2-774725bca494"
      },
      "execution_count": 66,
      "outputs": [
        {
          "output_type": "execute_result",
          "data": {
            "text/plain": [
              "                                          texto emocao\n",
              "186                              noite perigoso   medo\n",
              "187                             estremecer casa   medo\n",
              "188        olhar criatura mover monstruosamente   medo\n",
              "189                           aguentar suspense   medo\n",
              "190                                afugente cão   medo\n",
              "191       chocado amedrontar assassinato brutal   medo\n",
              "192  preciso afugentar ímpeto medo de o inferno   medo\n",
              "193         político força afugentar amedrontar   medo\n",
              "194                 objetivo de isso amedrontar   medo\n",
              "195                                    apavorar   medo"
            ],
            "text/html": [
              "\n",
              "  <div id=\"df-55df0d21-f102-4ffb-918c-6f4f6be64c51\" class=\"colab-df-container\">\n",
              "    <div>\n",
              "<style scoped>\n",
              "    .dataframe tbody tr th:only-of-type {\n",
              "        vertical-align: middle;\n",
              "    }\n",
              "\n",
              "    .dataframe tbody tr th {\n",
              "        vertical-align: top;\n",
              "    }\n",
              "\n",
              "    .dataframe thead th {\n",
              "        text-align: right;\n",
              "    }\n",
              "</style>\n",
              "<table border=\"1\" class=\"dataframe\">\n",
              "  <thead>\n",
              "    <tr style=\"text-align: right;\">\n",
              "      <th></th>\n",
              "      <th>texto</th>\n",
              "      <th>emocao</th>\n",
              "    </tr>\n",
              "  </thead>\n",
              "  <tbody>\n",
              "    <tr>\n",
              "      <th>186</th>\n",
              "      <td>noite perigoso</td>\n",
              "      <td>medo</td>\n",
              "    </tr>\n",
              "    <tr>\n",
              "      <th>187</th>\n",
              "      <td>estremecer casa</td>\n",
              "      <td>medo</td>\n",
              "    </tr>\n",
              "    <tr>\n",
              "      <th>188</th>\n",
              "      <td>olhar criatura mover monstruosamente</td>\n",
              "      <td>medo</td>\n",
              "    </tr>\n",
              "    <tr>\n",
              "      <th>189</th>\n",
              "      <td>aguentar suspense</td>\n",
              "      <td>medo</td>\n",
              "    </tr>\n",
              "    <tr>\n",
              "      <th>190</th>\n",
              "      <td>afugente cão</td>\n",
              "      <td>medo</td>\n",
              "    </tr>\n",
              "    <tr>\n",
              "      <th>191</th>\n",
              "      <td>chocado amedrontar assassinato brutal</td>\n",
              "      <td>medo</td>\n",
              "    </tr>\n",
              "    <tr>\n",
              "      <th>192</th>\n",
              "      <td>preciso afugentar ímpeto medo de o inferno</td>\n",
              "      <td>medo</td>\n",
              "    </tr>\n",
              "    <tr>\n",
              "      <th>193</th>\n",
              "      <td>político força afugentar amedrontar</td>\n",
              "      <td>medo</td>\n",
              "    </tr>\n",
              "    <tr>\n",
              "      <th>194</th>\n",
              "      <td>objetivo de isso amedrontar</td>\n",
              "      <td>medo</td>\n",
              "    </tr>\n",
              "    <tr>\n",
              "      <th>195</th>\n",
              "      <td>apavorar</td>\n",
              "      <td>medo</td>\n",
              "    </tr>\n",
              "  </tbody>\n",
              "</table>\n",
              "</div>\n",
              "    <div class=\"colab-df-buttons\">\n",
              "\n",
              "  <div class=\"colab-df-container\">\n",
              "    <button class=\"colab-df-convert\" onclick=\"convertToInteractive('df-55df0d21-f102-4ffb-918c-6f4f6be64c51')\"\n",
              "            title=\"Convert this dataframe to an interactive table.\"\n",
              "            style=\"display:none;\">\n",
              "\n",
              "  <svg xmlns=\"http://www.w3.org/2000/svg\" height=\"24px\" viewBox=\"0 -960 960 960\">\n",
              "    <path d=\"M120-120v-720h720v720H120Zm60-500h600v-160H180v160Zm220 220h160v-160H400v160Zm0 220h160v-160H400v160ZM180-400h160v-160H180v160Zm440 0h160v-160H620v160ZM180-180h160v-160H180v160Zm440 0h160v-160H620v160Z\"/>\n",
              "  </svg>\n",
              "    </button>\n",
              "\n",
              "  <style>\n",
              "    .colab-df-container {\n",
              "      display:flex;\n",
              "      gap: 12px;\n",
              "    }\n",
              "\n",
              "    .colab-df-convert {\n",
              "      background-color: #E8F0FE;\n",
              "      border: none;\n",
              "      border-radius: 50%;\n",
              "      cursor: pointer;\n",
              "      display: none;\n",
              "      fill: #1967D2;\n",
              "      height: 32px;\n",
              "      padding: 0 0 0 0;\n",
              "      width: 32px;\n",
              "    }\n",
              "\n",
              "    .colab-df-convert:hover {\n",
              "      background-color: #E2EBFA;\n",
              "      box-shadow: 0px 1px 2px rgba(60, 64, 67, 0.3), 0px 1px 3px 1px rgba(60, 64, 67, 0.15);\n",
              "      fill: #174EA6;\n",
              "    }\n",
              "\n",
              "    .colab-df-buttons div {\n",
              "      margin-bottom: 4px;\n",
              "    }\n",
              "\n",
              "    [theme=dark] .colab-df-convert {\n",
              "      background-color: #3B4455;\n",
              "      fill: #D2E3FC;\n",
              "    }\n",
              "\n",
              "    [theme=dark] .colab-df-convert:hover {\n",
              "      background-color: #434B5C;\n",
              "      box-shadow: 0px 1px 3px 1px rgba(0, 0, 0, 0.15);\n",
              "      filter: drop-shadow(0px 1px 2px rgba(0, 0, 0, 0.3));\n",
              "      fill: #FFFFFF;\n",
              "    }\n",
              "  </style>\n",
              "\n",
              "    <script>\n",
              "      const buttonEl =\n",
              "        document.querySelector('#df-55df0d21-f102-4ffb-918c-6f4f6be64c51 button.colab-df-convert');\n",
              "      buttonEl.style.display =\n",
              "        google.colab.kernel.accessAllowed ? 'block' : 'none';\n",
              "\n",
              "      async function convertToInteractive(key) {\n",
              "        const element = document.querySelector('#df-55df0d21-f102-4ffb-918c-6f4f6be64c51');\n",
              "        const dataTable =\n",
              "          await google.colab.kernel.invokeFunction('convertToInteractive',\n",
              "                                                    [key], {});\n",
              "        if (!dataTable) return;\n",
              "\n",
              "        const docLinkHtml = 'Like what you see? Visit the ' +\n",
              "          '<a target=\"_blank\" href=https://colab.research.google.com/notebooks/data_table.ipynb>data table notebook</a>'\n",
              "          + ' to learn more about interactive tables.';\n",
              "        element.innerHTML = '';\n",
              "        dataTable['output_type'] = 'display_data';\n",
              "        await google.colab.output.renderOutput(dataTable, element);\n",
              "        const docLink = document.createElement('div');\n",
              "        docLink.innerHTML = docLinkHtml;\n",
              "        element.appendChild(docLink);\n",
              "      }\n",
              "    </script>\n",
              "  </div>\n",
              "\n",
              "\n",
              "<div id=\"df-7807babf-8065-477a-94d7-7f0bc9499368\">\n",
              "  <button class=\"colab-df-quickchart\" onclick=\"quickchart('df-7807babf-8065-477a-94d7-7f0bc9499368')\"\n",
              "            title=\"Suggest charts\"\n",
              "            style=\"display:none;\">\n",
              "\n",
              "<svg xmlns=\"http://www.w3.org/2000/svg\" height=\"24px\"viewBox=\"0 0 24 24\"\n",
              "     width=\"24px\">\n",
              "    <g>\n",
              "        <path d=\"M19 3H5c-1.1 0-2 .9-2 2v14c0 1.1.9 2 2 2h14c1.1 0 2-.9 2-2V5c0-1.1-.9-2-2-2zM9 17H7v-7h2v7zm4 0h-2V7h2v10zm4 0h-2v-4h2v4z\"/>\n",
              "    </g>\n",
              "</svg>\n",
              "  </button>\n",
              "\n",
              "<style>\n",
              "  .colab-df-quickchart {\n",
              "      --bg-color: #E8F0FE;\n",
              "      --fill-color: #1967D2;\n",
              "      --hover-bg-color: #E2EBFA;\n",
              "      --hover-fill-color: #174EA6;\n",
              "      --disabled-fill-color: #AAA;\n",
              "      --disabled-bg-color: #DDD;\n",
              "  }\n",
              "\n",
              "  [theme=dark] .colab-df-quickchart {\n",
              "      --bg-color: #3B4455;\n",
              "      --fill-color: #D2E3FC;\n",
              "      --hover-bg-color: #434B5C;\n",
              "      --hover-fill-color: #FFFFFF;\n",
              "      --disabled-bg-color: #3B4455;\n",
              "      --disabled-fill-color: #666;\n",
              "  }\n",
              "\n",
              "  .colab-df-quickchart {\n",
              "    background-color: var(--bg-color);\n",
              "    border: none;\n",
              "    border-radius: 50%;\n",
              "    cursor: pointer;\n",
              "    display: none;\n",
              "    fill: var(--fill-color);\n",
              "    height: 32px;\n",
              "    padding: 0;\n",
              "    width: 32px;\n",
              "  }\n",
              "\n",
              "  .colab-df-quickchart:hover {\n",
              "    background-color: var(--hover-bg-color);\n",
              "    box-shadow: 0 1px 2px rgba(60, 64, 67, 0.3), 0 1px 3px 1px rgba(60, 64, 67, 0.15);\n",
              "    fill: var(--button-hover-fill-color);\n",
              "  }\n",
              "\n",
              "  .colab-df-quickchart-complete:disabled,\n",
              "  .colab-df-quickchart-complete:disabled:hover {\n",
              "    background-color: var(--disabled-bg-color);\n",
              "    fill: var(--disabled-fill-color);\n",
              "    box-shadow: none;\n",
              "  }\n",
              "\n",
              "  .colab-df-spinner {\n",
              "    border: 2px solid var(--fill-color);\n",
              "    border-color: transparent;\n",
              "    border-bottom-color: var(--fill-color);\n",
              "    animation:\n",
              "      spin 1s steps(1) infinite;\n",
              "  }\n",
              "\n",
              "  @keyframes spin {\n",
              "    0% {\n",
              "      border-color: transparent;\n",
              "      border-bottom-color: var(--fill-color);\n",
              "      border-left-color: var(--fill-color);\n",
              "    }\n",
              "    20% {\n",
              "      border-color: transparent;\n",
              "      border-left-color: var(--fill-color);\n",
              "      border-top-color: var(--fill-color);\n",
              "    }\n",
              "    30% {\n",
              "      border-color: transparent;\n",
              "      border-left-color: var(--fill-color);\n",
              "      border-top-color: var(--fill-color);\n",
              "      border-right-color: var(--fill-color);\n",
              "    }\n",
              "    40% {\n",
              "      border-color: transparent;\n",
              "      border-right-color: var(--fill-color);\n",
              "      border-top-color: var(--fill-color);\n",
              "    }\n",
              "    60% {\n",
              "      border-color: transparent;\n",
              "      border-right-color: var(--fill-color);\n",
              "    }\n",
              "    80% {\n",
              "      border-color: transparent;\n",
              "      border-right-color: var(--fill-color);\n",
              "      border-bottom-color: var(--fill-color);\n",
              "    }\n",
              "    90% {\n",
              "      border-color: transparent;\n",
              "      border-bottom-color: var(--fill-color);\n",
              "    }\n",
              "  }\n",
              "</style>\n",
              "\n",
              "  <script>\n",
              "    async function quickchart(key) {\n",
              "      const quickchartButtonEl =\n",
              "        document.querySelector('#' + key + ' button');\n",
              "      quickchartButtonEl.disabled = true;  // To prevent multiple clicks.\n",
              "      quickchartButtonEl.classList.add('colab-df-spinner');\n",
              "      try {\n",
              "        const charts = await google.colab.kernel.invokeFunction(\n",
              "            'suggestCharts', [key], {});\n",
              "      } catch (error) {\n",
              "        console.error('Error during call to suggestCharts:', error);\n",
              "      }\n",
              "      quickchartButtonEl.classList.remove('colab-df-spinner');\n",
              "      quickchartButtonEl.classList.add('colab-df-quickchart-complete');\n",
              "    }\n",
              "    (() => {\n",
              "      let quickchartButtonEl =\n",
              "        document.querySelector('#df-7807babf-8065-477a-94d7-7f0bc9499368 button');\n",
              "      quickchartButtonEl.style.display =\n",
              "        google.colab.kernel.accessAllowed ? 'block' : 'none';\n",
              "    })();\n",
              "  </script>\n",
              "</div>\n",
              "    </div>\n",
              "  </div>\n"
            ]
          },
          "metadata": {},
          "execution_count": 66
        }
      ]
    },
    {
      "cell_type": "markdown",
      "source": [
        "###Tratamento da classe"
      ],
      "metadata": {
        "id": "zZK5uW-E9-Hv"
      }
    },
    {
      "cell_type": "code",
      "source": [
        "exemplo_base_dados = [['este trabalho é agradável',{'ALEGRIA':True,'MEDO':False}],\n",
        "                      ['este lugar continua assustador',{'ALEGRIA':False, 'MEDO':True}]]"
      ],
      "metadata": {
        "id": "S5vMpHTH-ALv"
      },
      "execution_count": 67,
      "outputs": []
    },
    {
      "cell_type": "code",
      "source": [
        "type(exemplo_base_dados)"
      ],
      "metadata": {
        "colab": {
          "base_uri": "https://localhost:8080/"
        },
        "id": "gtDt-U54-20X",
        "outputId": "a4f0e1e6-c22e-4c48-e825-8c5dbd3e4e2e"
      },
      "execution_count": 68,
      "outputs": [
        {
          "output_type": "execute_result",
          "data": {
            "text/plain": [
              "list"
            ]
          },
          "metadata": {},
          "execution_count": 68
        }
      ]
    },
    {
      "cell_type": "code",
      "source": [
        "exemplo_base_dados[0]"
      ],
      "metadata": {
        "colab": {
          "base_uri": "https://localhost:8080/"
        },
        "id": "WqkrCEDw-7IG",
        "outputId": "9ff0bdf3-4608-40d8-84d1-1b9ef022a128"
      },
      "execution_count": 69,
      "outputs": [
        {
          "output_type": "execute_result",
          "data": {
            "text/plain": [
              "['este trabalho é agradável', {'ALEGRIA': True, 'MEDO': False}]"
            ]
          },
          "metadata": {},
          "execution_count": 69
        }
      ]
    },
    {
      "cell_type": "code",
      "source": [
        "exemplo_base_dados[0][0]"
      ],
      "metadata": {
        "colab": {
          "base_uri": "https://localhost:8080/",
          "height": 35
        },
        "id": "aXr6dtph_AlW",
        "outputId": "7da402d2-a8de-446f-d67d-68133f5a146a"
      },
      "execution_count": 70,
      "outputs": [
        {
          "output_type": "execute_result",
          "data": {
            "text/plain": [
              "'este trabalho é agradável'"
            ],
            "application/vnd.google.colaboratory.intrinsic+json": {
              "type": "string"
            }
          },
          "metadata": {},
          "execution_count": 70
        }
      ]
    },
    {
      "cell_type": "code",
      "source": [
        "exemplo_base_dados[0][1]"
      ],
      "metadata": {
        "colab": {
          "base_uri": "https://localhost:8080/"
        },
        "id": "5eI2x6uu_DnO",
        "outputId": "8d650193-3afe-411d-d0f8-e2c46e8054b9"
      },
      "execution_count": 71,
      "outputs": [
        {
          "output_type": "execute_result",
          "data": {
            "text/plain": [
              "{'ALEGRIA': True, 'MEDO': False}"
            ]
          },
          "metadata": {},
          "execution_count": 71
        }
      ]
    },
    {
      "cell_type": "code",
      "source": [
        "type(exemplo_base_dados[0][1])"
      ],
      "metadata": {
        "colab": {
          "base_uri": "https://localhost:8080/"
        },
        "id": "NN38_8Aw_HBt",
        "outputId": "7d8b1d99-f4b0-41bc-f05d-734f0caf1321"
      },
      "execution_count": 73,
      "outputs": [
        {
          "output_type": "execute_result",
          "data": {
            "text/plain": [
              "dict"
            ]
          },
          "metadata": {},
          "execution_count": 73
        }
      ]
    },
    {
      "cell_type": "code",
      "source": [
        "base_dados_final = []\n",
        "for texto, emocao in zip(base_dados['texto'], base_dados['emocao']):\n",
        "  if emocao == 'alegria':\n",
        "    dic = ({'ALEGRIA': True, 'MEDO':False})\n",
        "  elif emocao == 'medo':\n",
        "    dic = ({'ALEGRIA': False, 'MEDO':True})\n",
        "\n",
        "  base_dados_final.append([texto,dic.copy()])"
      ],
      "metadata": {
        "id": "lzO5DdzF_M0-"
      },
      "execution_count": 75,
      "outputs": []
    },
    {
      "cell_type": "code",
      "source": [
        "len(base_dados_final)"
      ],
      "metadata": {
        "colab": {
          "base_uri": "https://localhost:8080/"
        },
        "id": "lX7-499W_8W7",
        "outputId": "90ff8a2c-c692-48c3-e9cb-425aa7fde8fe"
      },
      "execution_count": 76,
      "outputs": [
        {
          "output_type": "execute_result",
          "data": {
            "text/plain": [
              "196"
            ]
          },
          "metadata": {},
          "execution_count": 76
        }
      ]
    },
    {
      "cell_type": "code",
      "source": [
        "base_dados_final[0]"
      ],
      "metadata": {
        "colab": {
          "base_uri": "https://localhost:8080/"
        },
        "id": "drzKXeuM__UN",
        "outputId": "cb91280f-262e-49ee-d96a-f72c949568c0"
      },
      "execution_count": 77,
      "outputs": [
        {
          "output_type": "execute_result",
          "data": {
            "text/plain": [
              "['trabalho agradável', {'ALEGRIA': True, 'MEDO': False}]"
            ]
          },
          "metadata": {},
          "execution_count": 77
        }
      ]
    },
    {
      "cell_type": "code",
      "source": [
        "base_dados_final[0][0]"
      ],
      "metadata": {
        "colab": {
          "base_uri": "https://localhost:8080/",
          "height": 35
        },
        "id": "aVDUgLSHAEhW",
        "outputId": "fa518fc3-a2b7-4ce1-d930-9584067867f7"
      },
      "execution_count": 78,
      "outputs": [
        {
          "output_type": "execute_result",
          "data": {
            "text/plain": [
              "'trabalho agradável'"
            ],
            "application/vnd.google.colaboratory.intrinsic+json": {
              "type": "string"
            }
          },
          "metadata": {},
          "execution_count": 78
        }
      ]
    },
    {
      "cell_type": "code",
      "source": [
        "base_dados_final[0][1]"
      ],
      "metadata": {
        "colab": {
          "base_uri": "https://localhost:8080/"
        },
        "id": "q03a-QndAIOc",
        "outputId": "aef0d0de-b5f2-485d-a7a9-df38e876db30"
      },
      "execution_count": 79,
      "outputs": [
        {
          "output_type": "execute_result",
          "data": {
            "text/plain": [
              "{'ALEGRIA': True, 'MEDO': False}"
            ]
          },
          "metadata": {},
          "execution_count": 79
        }
      ]
    },
    {
      "cell_type": "code",
      "source": [
        "type(base_dados_final[0][1])"
      ],
      "metadata": {
        "colab": {
          "base_uri": "https://localhost:8080/"
        },
        "id": "kUM_HvLGAK5c",
        "outputId": "2c3217f3-59e8-4783-ef9b-ea4bb3b2c7d7"
      },
      "execution_count": 80,
      "outputs": [
        {
          "output_type": "execute_result",
          "data": {
            "text/plain": [
              "dict"
            ]
          },
          "metadata": {},
          "execution_count": 80
        }
      ]
    },
    {
      "cell_type": "code",
      "source": [
        "base_dados_final"
      ],
      "metadata": {
        "colab": {
          "base_uri": "https://localhost:8080/"
        },
        "id": "CBLhBVU8AQlu",
        "outputId": "65abea44-6636-4cf2-f220-83ef671a2b87"
      },
      "execution_count": 81,
      "outputs": [
        {
          "output_type": "execute_result",
          "data": {
            "text/plain": [
              "[['trabalho agradável', {'ALEGRIA': True, 'MEDO': False}],\n",
              " ['gosto ficar em o aconchego', {'ALEGRIA': True, 'MEDO': False}],\n",
              " ['fiz adesão a o curso hoje', {'ALEGRIA': True, 'MEDO': False}],\n",
              " ['admirar', {'ALEGRIA': True, 'MEDO': False}],\n",
              " ['adorar', {'ALEGRIA': True, 'MEDO': False}],\n",
              " ['adorar cabelo macio', {'ALEGRIA': True, 'MEDO': False}],\n",
              " ['adorar cor de o olho', {'ALEGRIA': True, 'MEDO': False}],\n",
              " ['somo amável outro', {'ALEGRIA': True, 'MEDO': False}],\n",
              " ['sinto afeição', {'ALEGRIA': True, 'MEDO': False}],\n",
              " ['querer agradar filho', {'ALEGRIA': True, 'MEDO': False}],\n",
              " ['sinto completamente amar', {'ALEGRIA': True, 'MEDO': False}],\n",
              " ['amo', {'ALEGRIA': True, 'MEDO': False}],\n",
              " ['alívio', {'ALEGRIA': True, 'MEDO': False}],\n",
              " ['dor amenizar finalmente', {'ALEGRIA': True, 'MEDO': False}],\n",
              " ['achar apaixoneir', {'ALEGRIA': True, 'MEDO': False}],\n",
              " ['amar maravilhoso', {'ALEGRIA': True, 'MEDO': False}],\n",
              " ['sentir animar', {'ALEGRIA': True, 'MEDO': False}],\n",
              " ['sintar hoje', {'ALEGRIA': True, 'MEDO': False}],\n",
              " ['luar belo', {'ALEGRIA': True, 'MEDO': False}],\n",
              " ['dia bonito', {'ALEGRIA': True, 'MEDO': False}],\n",
              " ['afortunar', {'ALEGRIA': True, 'MEDO': False}],\n",
              " ['maravilha de o mundo', {'ALEGRIA': True, 'MEDO': False}],\n",
              " ['recebir carinho hoje de o colega', {'ALEGRIA': True, 'MEDO': False}],\n",
              " ['sentir reconfortar hoje', {'ALEGRIA': True, 'MEDO': False}],\n",
              " ['amigo', {'ALEGRIA': True, 'MEDO': False}],\n",
              " ['contente resultado de o teste', {'ALEGRIA': True, 'MEDO': False}],\n",
              " ['pintura brilhante', {'ALEGRIA': True, 'MEDO': False}],\n",
              " ['água abundância', {'ALEGRIA': True, 'MEDO': False}],\n",
              " ['roupa delicado', {'ALEGRIA': True, 'MEDO': False}],\n",
              " ['comediante', {'ALEGRIA': True, 'MEDO': False}],\n",
              " ['bondade vir', {'ALEGRIA': True, 'MEDO': False}],\n",
              " ['amor lir', {'ALEGRIA': True, 'MEDO': False}],\n",
              " ['amizade durar', {'ALEGRIA': True, 'MEDO': False}],\n",
              " ['eufórico notícia', {'ALEGRIA': True, 'MEDO': False}],\n",
              " ['realmente fiel', {'ALEGRIA': True, 'MEDO': False}],\n",
              " ['festa comemorar aniversário', {'ALEGRIA': True, 'MEDO': False}],\n",
              " ['graças deus enxerguei certo', {'ALEGRIA': True, 'MEDO': False}],\n",
              " ['escolha', {'ALEGRIA': True, 'MEDO': False}],\n",
              " ['incrível belo', {'ALEGRIA': True, 'MEDO': False}],\n",
              " ['engraçado explicar', {'ALEGRIA': True, 'MEDO': False}],\n",
              " ['emocionante em este', {'ALEGRIA': True, 'MEDO': False}],\n",
              " ['cativar por o olhar', {'ALEGRIA': True, 'MEDO': False}],\n",
              " ['loucamente apaixonar', {'ALEGRIA': True, 'MEDO': False}],\n",
              " ['dúvida', {'ALEGRIA': True, 'MEDO': False}],\n",
              " ['rodear por o abraço', {'ALEGRIA': True, 'MEDO': False}],\n",
              " ['vejo estrela por o', {'ALEGRIA': True, 'MEDO': False}],\n",
              " ['sintar sol', {'ALEGRIA': True, 'MEDO': False}],\n",
              " ['sorrir orelha orelha', {'ALEGRIA': True, 'MEDO': False}],\n",
              " ['valer pena', {'ALEGRIA': True, 'MEDO': False}],\n",
              " ['finalmente colocar amor', {'ALEGRIA': True, 'MEDO': False}],\n",
              " ['dançar noite adentro', {'ALEGRIA': True, 'MEDO': False}],\n",
              " ['amor brilhante', {'ALEGRIA': True, 'MEDO': False}],\n",
              " ['toquei coração durante', {'ALEGRIA': True, 'MEDO': False}],\n",
              " ['amiga companheiro', {'ALEGRIA': True, 'MEDO': False}],\n",
              " ['trazer volta vida', {'ALEGRIA': True, 'MEDO': False}],\n",
              " ['sonho doce', {'ALEGRIA': True, 'MEDO': False}],\n",
              " ['adorar doce fruta', {'ALEGRIA': True, 'MEDO': False}],\n",
              " ['suco favorito', {'ALEGRIA': True, 'MEDO': False}],\n",
              " ['agradecido por o ajuda', {'ALEGRIA': True, 'MEDO': False}],\n",
              " ['enorme prazer equipe', {'ALEGRIA': True, 'MEDO': False}],\n",
              " ['trabalhar equipe', {'ALEGRIA': True, 'MEDO': False}],\n",
              " ['sinto flutuar em o ar', {'ALEGRIA': True, 'MEDO': False}],\n",
              " ['brisa agradável hoje', {'ALEGRIA': True, 'MEDO': False}],\n",
              " ['compatível', {'ALEGRIA': True, 'MEDO': False}],\n",
              " ['compatível outro', {'ALEGRIA': True, 'MEDO': False}],\n",
              " ['órgão compatível paciente', {'ALEGRIA': True, 'MEDO': False}],\n",
              " ['contente aceitar em o faculdade', {'ALEGRIA': True, 'MEDO': False}],\n",
              " ['aprovar em o exame', {'ALEGRIA': True, 'MEDO': False}],\n",
              " ['beneficiar por o empresa', {'ALEGRIA': True, 'MEDO': False}],\n",
              " ['cativante', {'ALEGRIA': True, 'MEDO': False}],\n",
              " ['contente', {'ALEGRIA': True, 'MEDO': False}],\n",
              " ['confortável', {'ALEGRIA': True, 'MEDO': False}],\n",
              " ['quente em este frio', {'ALEGRIA': True, 'MEDO': False}],\n",
              " ['elogio', {'ALEGRIA': True, 'MEDO': False}],\n",
              " ['chamar comemorar', {'ALEGRIA': True, 'MEDO': False}],\n",
              " ['desejável presença apresentação', {'ALEGRIA': True, 'MEDO': False}],\n",
              " ['gratar', {'ALEGRIA': True, 'MEDO': False}],\n",
              " ['dedico em aquilo', {'ALEGRIA': True, 'MEDO': False}],\n",
              " ['completamente apaixonar', {'ALEGRIA': True, 'MEDO': False}],\n",
              " ['agitar noite', {'ALEGRIA': True, 'MEDO': False}],\n",
              " ['significar', {'ALEGRIA': True, 'MEDO': False}],\n",
              " ['agir preconceito julgamento', {'ALEGRIA': True, 'MEDO': False}],\n",
              " ['finalmente completar coleção maravilhoso',\n",
              "  {'ALEGRIA': True, 'MEDO': False}],\n",
              " ['rainha', {'ALEGRIA': True, 'MEDO': False}],\n",
              " ['satisfatoriamente anunciar vencedor de o jogo',\n",
              "  {'ALEGRIA': True, 'MEDO': False}],\n",
              " ['atrair facilmente', {'ALEGRIA': True, 'MEDO': False}],\n",
              " ['rapaz extremamente atraente', {'ALEGRIA': True, 'MEDO': False}],\n",
              " ['sinto-me viver', {'ALEGRIA': True, 'MEDO': False}],\n",
              " ['sinto-me paz', {'ALEGRIA': True, 'MEDO': False}],\n",
              " ['lucro', {'ALEGRIA': True, 'MEDO': False}],\n",
              " ['ordem', {'ALEGRIA': True, 'MEDO': False}],\n",
              " ['arrumar emprego junto', {'ALEGRIA': True, 'MEDO': False}],\n",
              " ['arrumação terminada alívio', {'ALEGRIA': True, 'MEDO': False}],\n",
              " ['câncer benigno', {'ALEGRIA': True, 'MEDO': False}],\n",
              " ['amor abundante', {'ALEGRIA': True, 'MEDO': False}],\n",
              " ['caridoso natal', {'ALEGRIA': True, 'MEDO': False}],\n",
              " ['charme atrair', {'ALEGRIA': True, 'MEDO': False}],\n",
              " ['charmoso querer', {'ALEGRIA': True, 'MEDO': False}],\n",
              " ['querida por o amigo', {'ALEGRIA': True, 'MEDO': False}],\n",
              " ['cuidadoso sentimento', {'ALEGRIA': True, 'MEDO': False}],\n",
              " ['comovido tamanho caridade', {'ALEGRIA': True, 'MEDO': False}],\n",
              " ['chá quente reconfortante', {'ALEGRIA': True, 'MEDO': False}],\n",
              " ['alegr', {'ALEGRIA': True, 'MEDO': False}],\n",
              " ['aplaudir vencedor', {'ALEGRIA': True, 'MEDO': False}],\n",
              " ['palma aniversariante', {'ALEGRIA': True, 'MEDO': False}],\n",
              " ['desejo', {'ALEGRIA': True, 'MEDO': False}],\n",
              " ['hora apreciar vinho', {'ALEGRIA': True, 'MEDO': False}],\n",
              " ['apreciar presença escola', {'ALEGRIA': True, 'MEDO': False}],\n",
              " ['anseio trabalho', {'ALEGRIA': True, 'MEDO': False}],\n",
              " ['maravilhoso jogo amistoso', {'ALEGRIA': True, 'MEDO': False}],\n",
              " ['menimo apaziguar', {'ALEGRIA': True, 'MEDO': False}],\n",
              " ['concretizar finalmente sonho', {'ALEGRIA': True, 'MEDO': False}],\n",
              " ['imploror matem', {'ALEGRIA': False, 'MEDO': True}],\n",
              " ['perigoso', {'ALEGRIA': False, 'MEDO': True}],\n",
              " ['seguro', {'ALEGRIA': False, 'MEDO': True}],\n",
              " ['correr pra', {'ALEGRIA': False, 'MEDO': True}],\n",
              " ['socorro querer roubar doce', {'ALEGRIA': False, 'MEDO': True}],\n",
              " ['cara perseguir', {'ALEGRIA': False, 'MEDO': True}],\n",
              " ['entro perigoso', {'ALEGRIA': False, 'MEDO': True}],\n",
              " ['continuar assustador', {'ALEGRIA': False, 'MEDO': True}],\n",
              " ['em o selva animal perigoso', {'ALEGRIA': False, 'MEDO': True}],\n",
              " ['avancer cautela', {'ALEGRIA': False, 'MEDO': True}],\n",
              " ['silencioso cuidado', {'ALEGRIA': False, 'MEDO': True}],\n",
              " ['deixe-me viver', {'ALEGRIA': False, 'MEDO': True}],\n",
              " ['ficar mesada tirar nota', {'ALEGRIA': False, 'MEDO': True}],\n",
              " ['parecer olho em o vigiar', {'ALEGRIA': False, 'MEDO': True}],\n",
              " ['temo sentença de o juiz negativo', {'ALEGRIA': False, 'MEDO': True}],\n",
              " ['missão arriscar', {'ALEGRIA': False, 'MEDO': True}],\n",
              " ['salvem se puder', {'ALEGRIA': False, 'MEDO': True}],\n",
              " ['plano descobrir', {'ALEGRIA': False, 'MEDO': True}],\n",
              " ['culpa juro', {'ALEGRIA': False, 'MEDO': True}],\n",
              " ['tomar cuidado lobisomem', {'ALEGRIA': False, 'MEDO': True}],\n",
              " ['achar descobrir verdade', {'ALEGRIA': False, 'MEDO': True}],\n",
              " ['Deus desaparecer', {'ALEGRIA': False, 'MEDO': True}],\n",
              " ['tomaro vejam de aqui', {'ALEGRIA': False, 'MEDO': True}],\n",
              " ['manter segredo descobrir estaremo ferrado',\n",
              "  {'ALEGRIA': False, 'MEDO': True}],\n",
              " ['soltar inocente', {'ALEGRIA': False, 'MEDO': True}],\n",
              " ['ouvir passo', {'ALEGRIA': False, 'MEDO': True}],\n",
              " ['pedir socorro', {'ALEGRIA': False, 'MEDO': True}],\n",
              " ['cuidado curva em o estrada', {'ALEGRIA': False, 'MEDO': True}],\n",
              " ['parecer perigoso', {'ALEGRIA': False, 'MEDO': True}],\n",
              " ['tremer medo', {'ALEGRIA': False, 'MEDO': True}],\n",
              " ['socorro cair', {'ALEGRIA': False, 'MEDO': True}],\n",
              " ['floresta negro perigoso', {'ALEGRIA': False, 'MEDO': True}],\n",
              " ['ouço passo em o direção', {'ALEGRIA': False, 'MEDO': True}],\n",
              " ['achar arriscado', {'ALEGRIA': False, 'MEDO': True}],\n",
              " ['voltar perigoso', {'ALEGRIA': False, 'MEDO': True}],\n",
              " ['fuja acabaremo morto', {'ALEGRIA': False, 'MEDO': True}],\n",
              " ['receiar livrar de este situação', {'ALEGRIA': False, 'MEDO': True}],\n",
              " ['socorro armado', {'ALEGRIA': False, 'MEDO': True}],\n",
              " ['ei cuidado bater em o poste', {'ALEGRIA': False, 'MEDO': True}],\n",
              " ['socorro afundar', {'ALEGRIA': False, 'MEDO': True}],\n",
              " ['sério cuidado arma', {'ALEGRIA': False, 'MEDO': True}],\n",
              " ['tubarão atacar', {'ALEGRIA': False, 'MEDO': True}],\n",
              " ['sinto arrepio fico sozinho em o escuro', {'ALEGRIA': False, 'MEDO': True}],\n",
              " ['calmo dinheiro', {'ALEGRIA': False, 'MEDO': True}],\n",
              " ['achar enganar', {'ALEGRIA': False, 'MEDO': True}],\n",
              " ['ligeiro fugir depressa', {'ALEGRIA': False, 'MEDO': True}],\n",
              " ['crocodilo selvagem vir', {'ALEGRIA': False, 'MEDO': True}],\n",
              " ['ficarmos achar', {'ALEGRIA': False, 'MEDO': True}],\n",
              " ['fuja tigre parecer faminto', {'ALEGRIA': False, 'MEDO': True}],\n",
              " ['saída preciso milagre', {'ALEGRIA': False, 'MEDO': True}],\n",
              " ['tirar socorro', {'ALEGRIA': False, 'MEDO': True}],\n",
              " ['nadar afogar', {'ALEGRIA': False, 'MEDO': True}],\n",
              " ['certezar seguro', {'ALEGRIA': False, 'MEDO': True}],\n",
              " ['apanhar pai boletim', {'ALEGRIA': False, 'MEDO': True}],\n",
              " ['consigo sair de aqui', {'ALEGRIA': False, 'MEDO': True}],\n",
              " ['sair assaltar', {'ALEGRIA': False, 'MEDO': True}],\n",
              " ['deixar', {'ALEGRIA': False, 'MEDO': True}],\n",
              " ['esperar largar sozinho', {'ALEGRIA': False, 'MEDO': True}],\n",
              " ['temo por o segurança', {'ALEGRIA': False, 'MEDO': True}],\n",
              " ['entregar dinheiro mate', {'ALEGRIA': False, 'MEDO': True}],\n",
              " ['levar dinheiro', {'ALEGRIA': False, 'MEDO': True}],\n",
              " ['dirijar rápido', {'ALEGRIA': False, 'MEDO': True}],\n",
              " ['descobrir prender', {'ALEGRIA': False, 'MEDO': True}],\n",
              " ['esperar façam nenhum', {'ALEGRIA': False, 'MEDO': True}],\n",
              " ['afogar ajudar sair de o água', {'ALEGRIA': False, 'MEDO': True}],\n",
              " ['estarer salvo', {'ALEGRIA': False, 'MEDO': True}],\n",
              " ['querer pensar em o acontecer', {'ALEGRIA': False, 'MEDO': True}],\n",
              " ['em esse cidade desgraça de o outro', {'ALEGRIA': False, 'MEDO': True}],\n",
              " ['alguém ligar assustado', {'ALEGRIA': False, 'MEDO': True}],\n",
              " ['remediar matar', {'ALEGRIA': False, 'MEDO': True}],\n",
              " ['confior em ele cautela', {'ALEGRIA': False, 'MEDO': True}],\n",
              " ['cautela', {'ALEGRIA': False, 'MEDO': True}],\n",
              " ['descobrir Deus', {'ALEGRIA': False, 'MEDO': True}],\n",
              " ['receiar', {'ALEGRIA': False, 'MEDO': True}],\n",
              " ['noite perigoso', {'ALEGRIA': False, 'MEDO': True}],\n",
              " ['estremecer casa', {'ALEGRIA': False, 'MEDO': True}],\n",
              " ['olhar criatura mover monstruosamente', {'ALEGRIA': False, 'MEDO': True}],\n",
              " ['aguentar suspense', {'ALEGRIA': False, 'MEDO': True}],\n",
              " ['afugente cão', {'ALEGRIA': False, 'MEDO': True}],\n",
              " ['chocado amedrontar assassinato brutal', {'ALEGRIA': False, 'MEDO': True}],\n",
              " ['preciso afugentar ímpeto medo de o inferno',\n",
              "  {'ALEGRIA': False, 'MEDO': True}],\n",
              " ['político força afugentar amedrontar', {'ALEGRIA': False, 'MEDO': True}],\n",
              " ['objetivo de isso amedrontar', {'ALEGRIA': False, 'MEDO': True}],\n",
              " ['apavorar', {'ALEGRIA': False, 'MEDO': True}]]"
            ]
          },
          "metadata": {},
          "execution_count": 81
        }
      ]
    }
  ]
}