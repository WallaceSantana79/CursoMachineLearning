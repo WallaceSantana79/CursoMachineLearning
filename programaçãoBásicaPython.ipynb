{
  "nbformat": 4,
  "nbformat_minor": 0,
  "metadata": {
    "colab": {
      "provenance": [],
      "collapsed_sections": [
        "S3dirrxxlnc9",
        "I2XIftwN2GOi"
      ],
      "authorship_tag": "ABX9TyNAP8Ar2YPjFRjhMy7xg5gv",
      "include_colab_link": true
    },
    "kernelspec": {
      "name": "python3",
      "display_name": "Python 3"
    },
    "language_info": {
      "name": "python"
    }
  },
  "cells": [
    {
      "cell_type": "markdown",
      "metadata": {
        "id": "view-in-github",
        "colab_type": "text"
      },
      "source": [
        "<a href=\"https://colab.research.google.com/github/WallaceSantana79/CursoMachineLearning/blob/main/programa%C3%A7%C3%A3oB%C3%A1sicaPython.ipynb\" target=\"_parent\"><img src=\"https://colab.research.google.com/assets/colab-badge.svg\" alt=\"Open In Colab\"/></a>"
      ]
    },
    {
      "cell_type": "markdown",
      "source": [
        "#Manipulação de variáveis e constantes"
      ],
      "metadata": {
        "id": "S3dirrxxlnc9"
      }
    },
    {
      "cell_type": "markdown",
      "source": [
        "##Variáveis inteiras"
      ],
      "metadata": {
        "id": "YUg79mh-mZ2u"
      }
    },
    {
      "cell_type": "code",
      "execution_count": 1,
      "metadata": {
        "id": "KCUScBf0lgRx"
      },
      "outputs": [],
      "source": [
        "número = -3\n",
        "numero_jogos = 14\n",
        "numero_convidados = 15"
      ]
    },
    {
      "cell_type": "code",
      "source": [
        "número, numero_jogos, numero_convidados"
      ],
      "metadata": {
        "colab": {
          "base_uri": "https://localhost:8080/"
        },
        "id": "45jaOWA4mjN3",
        "outputId": "c7cbfdb4-ffde-4def-c345-7e6e6d7160e0"
      },
      "execution_count": 2,
      "outputs": [
        {
          "output_type": "execute_result",
          "data": {
            "text/plain": [
              "(-3, 14, 15)"
            ]
          },
          "metadata": {},
          "execution_count": 2
        }
      ]
    },
    {
      "cell_type": "code",
      "source": [
        "print(\"Seu número é:\",número,\"\\nSeu número de jogos é:\", numero_jogos,\"\\nSeu número de convidados é:\", numero_convidados)"
      ],
      "metadata": {
        "colab": {
          "base_uri": "https://localhost:8080/"
        },
        "id": "k4oTV0yimo3X",
        "outputId": "abae56e4-bb41-4ba9-9232-6798d273e774"
      },
      "execution_count": 8,
      "outputs": [
        {
          "output_type": "stream",
          "name": "stdout",
          "text": [
            "Seu número é: -3 \n",
            "Seu número de jogos é: 14 \n",
            "Seu número de convidados é: 15\n"
          ]
        }
      ]
    },
    {
      "cell_type": "markdown",
      "source": [
        "##Variáveis float (ponto flutuante)"
      ],
      "metadata": {
        "id": "QLNBDEg-nMNY"
      }
    },
    {
      "cell_type": "code",
      "source": [
        "pi = 3.14\n",
        "numero_euler = 2.71\n",
        "escala_terremoto = -4.55"
      ],
      "metadata": {
        "id": "hx1vAOKKnPjI"
      },
      "execution_count": 9,
      "outputs": []
    },
    {
      "cell_type": "code",
      "source": [
        "pi, numero_euler, escala_terremoto"
      ],
      "metadata": {
        "colab": {
          "base_uri": "https://localhost:8080/"
        },
        "id": "aAfX31StnVfA",
        "outputId": "88801237-0b2c-477f-f325-20ecad8063a3"
      },
      "execution_count": 10,
      "outputs": [
        {
          "output_type": "execute_result",
          "data": {
            "text/plain": [
              "(3.14, 2.71, -4.55)"
            ]
          },
          "metadata": {},
          "execution_count": 10
        }
      ]
    },
    {
      "cell_type": "code",
      "source": [
        "print(\" ____________________________\")\n",
        "print(\"|  ________________________  |\")\n",
        "print(\"| |                        | |\")\n",
        "print(\"| |                        | |\")\n",
        "print(\"| |                        | |\")\n",
        "print(\"| | Número de pi:\",pi,\"    | |\")\n",
        "print(\"| | Número de euler:\",numero_euler,\" | |\")\n",
        "print(\"| |                        | |\")\n",
        "print(\"| |                        | |\")\n",
        "print(\"| |________________________dc|\")\n",
        "print(\"|____________________________|\")"
      ],
      "metadata": {
        "colab": {
          "base_uri": "https://localhost:8080/"
        },
        "id": "a8ktbfzLnYuo",
        "outputId": "8a4b8465-7cf1-412d-8ce6-0b3b54a57efa"
      },
      "execution_count": 50,
      "outputs": [
        {
          "output_type": "stream",
          "name": "stdout",
          "text": [
            " ____________________________\n",
            "|  ________________________  |\n",
            "| |                        | |\n",
            "| |                        | |\n",
            "| |                        | |\n",
            "| | Número de pi: 3.14     | |\n",
            "| | Número de euler: 2.71  | |\n",
            "| |                        | |\n",
            "| |                        | |\n",
            "| |________________________dc|\n",
            "|____________________________|\n"
          ]
        }
      ]
    },
    {
      "cell_type": "code",
      "source": [
        "print(\"  ________________________________\")\n",
        "print(\" /  \\                             \\.\")\n",
        "print(\"|    |                            |.\")\n",
        "print(\"\\_   |                            |.\")\n",
        "print(\"     |                            |.\")\n",
        "print(\"     |                            |.\")\n",
        "print(\"     |                            |.\")\n",
        "print(\"     |                            |.\")\n",
        "print(\"     |                            |.\")\n",
        "print(\"     |                            |.\")\n",
        "print(\"     |                            |.\")\n",
        "print(\"     |                            |.\")\n",
        "print(\"     |                            |.\")\n",
        "print(\"     |                            |.\")\n",
        "print(\"     |   _________________________|___\")\n",
        "print(\"     |  /                            /.\")\n",
        "print(\"     \\_/dc__________________________/.\")\n"
      ],
      "metadata": {
        "colab": {
          "base_uri": "https://localhost:8080/"
        },
        "id": "b4xHv5NHrFHJ",
        "outputId": "d5e16d5c-c74f-4843-d672-f8d705f74bfd"
      },
      "execution_count": 67,
      "outputs": [
        {
          "output_type": "stream",
          "name": "stdout",
          "text": [
            "  ________________________________\n",
            " /  \\                             \\.\n",
            "|    |                            |.\n",
            "\\_   |                            |.\n",
            "     |                            |.\n",
            "     |                            |.\n",
            "     |                            |.\n",
            "     |                            |.\n",
            "     |                            |.\n",
            "     |                            |.\n",
            "     |                            |.\n",
            "     |                            |.\n",
            "     |                            |.\n",
            "     |                            |.\n",
            "     |   _________________________|___\n",
            "     |  /                            /.\n",
            "     \\_/dc__________________________/.\n"
          ]
        }
      ]
    },
    {
      "cell_type": "markdown",
      "source": [
        "##Strings e chars"
      ],
      "metadata": {
        "id": "TOovvIXJsuqF"
      }
    },
    {
      "cell_type": "code",
      "source": [
        "letra = 'a'\n",
        "palavra1 = 'linguagem de programação'\n",
        "palavra2 = 'Python'"
      ],
      "metadata": {
        "id": "oEWJe0_dswqt"
      },
      "execution_count": 71,
      "outputs": []
    },
    {
      "cell_type": "code",
      "source": [
        "print(letra, palavra1)"
      ],
      "metadata": {
        "colab": {
          "base_uri": "https://localhost:8080/"
        },
        "id": "d1hrlvSAs3dt",
        "outputId": "62455c6b-d25a-499b-9669-0236cb7d324d"
      },
      "execution_count": 72,
      "outputs": [
        {
          "output_type": "stream",
          "name": "stdout",
          "text": [
            "a linguagem de programação\n"
          ]
        }
      ]
    },
    {
      "cell_type": "code",
      "source": [
        "print('Estou aprendendo uma', palavra1)"
      ],
      "metadata": {
        "colab": {
          "base_uri": "https://localhost:8080/"
        },
        "id": "szBogTKEs-DV",
        "outputId": "1fd70b74-e51a-4adf-f8b7-d4abe4e2f4b0"
      },
      "execution_count": 73,
      "outputs": [
        {
          "output_type": "stream",
          "name": "stdout",
          "text": [
            "Estou aprendendo uma linguagem de programação\n"
          ]
        }
      ]
    },
    {
      "cell_type": "code",
      "source": [
        "print('Esta', palavra1, 'se chama', palavra2)"
      ],
      "metadata": {
        "colab": {
          "base_uri": "https://localhost:8080/"
        },
        "id": "UL2wucLztDI9",
        "outputId": "3c3a04cc-7912-4092-ec1a-32ea525a4705"
      },
      "execution_count": 76,
      "outputs": [
        {
          "output_type": "stream",
          "name": "stdout",
          "text": [
            "Esta linguagem de programação se chama Python\n"
          ]
        }
      ]
    },
    {
      "cell_type": "code",
      "source": [
        "idade = int(input('Digite sua idade: '))\n",
        "print('Sua idade é ', idade)"
      ],
      "metadata": {
        "colab": {
          "base_uri": "https://localhost:8080/"
        },
        "id": "jn80r4vFtPYd",
        "outputId": "8fd6aea7-4209-40e7-82a1-96642d3d6dd0"
      },
      "execution_count": 86,
      "outputs": [
        {
          "output_type": "stream",
          "name": "stdout",
          "text": [
            "Digite sua idade: 21\n",
            "Sua idade é  21\n"
          ]
        }
      ]
    },
    {
      "cell_type": "code",
      "source": [
        "idade"
      ],
      "metadata": {
        "colab": {
          "base_uri": "https://localhost:8080/",
          "height": 35
        },
        "id": "SnI8zdcRut57",
        "outputId": "a0e12cd9-d7a7-4a57-b10b-0811e20db79d"
      },
      "execution_count": 85,
      "outputs": [
        {
          "output_type": "execute_result",
          "data": {
            "text/plain": [
              "'21'"
            ],
            "application/vnd.google.colaboratory.intrinsic+json": {
              "type": "string"
            }
          },
          "metadata": {},
          "execution_count": 85
        }
      ]
    },
    {
      "cell_type": "code",
      "source": [
        "ph = float(input(\"Qual o pH do solo durante a última medição?\"))\n",
        "print('O pH medido foi:', ph)"
      ],
      "metadata": {
        "colab": {
          "base_uri": "https://localhost:8080/"
        },
        "id": "-7Hc6nSVuKBY",
        "outputId": "905621ee-7893-41dd-a660-cb795959786d"
      },
      "execution_count": 87,
      "outputs": [
        {
          "output_type": "stream",
          "name": "stdout",
          "text": [
            "Qual o pH do solo durante a última medição?6.5\n",
            "O pH medido foi: 6.5\n"
          ]
        }
      ]
    },
    {
      "cell_type": "code",
      "source": [
        "nome = str(input('Qual o seu nome? '))\n",
        "print(\"Seu nome é\", nome)"
      ],
      "metadata": {
        "colab": {
          "base_uri": "https://localhost:8080/"
        },
        "id": "Uetua_PWuauS",
        "outputId": "6d2a3b66-f886-4a48-ddd1-a2f1532277ec"
      },
      "execution_count": 83,
      "outputs": [
        {
          "output_type": "stream",
          "name": "stdout",
          "text": [
            "Qual o seu nome? Ronaldinho\n",
            "Seu nome é Ronaldinho\n"
          ]
        }
      ]
    },
    {
      "cell_type": "markdown",
      "source": [
        "#Manipulação de strings"
      ],
      "metadata": {
        "id": "I2XIftwN2GOi"
      }
    },
    {
      "cell_type": "code",
      "source": [
        "a = 'casaco'\n",
        "print(a)"
      ],
      "metadata": {
        "colab": {
          "base_uri": "https://localhost:8080/"
        },
        "id": "zgntHFNn2MuM",
        "outputId": "697081ed-29c2-4551-bcca-9376c9d84c9b"
      },
      "execution_count": 88,
      "outputs": [
        {
          "output_type": "stream",
          "name": "stdout",
          "text": [
            "casaco\n"
          ]
        }
      ]
    },
    {
      "cell_type": "code",
      "source": [
        "maiuscula = a.upper()\n",
        "maiuscula"
      ],
      "metadata": {
        "colab": {
          "base_uri": "https://localhost:8080/",
          "height": 35
        },
        "id": "L75653BE2UtD",
        "outputId": "0ceb33b9-2b8f-4d53-c887-8247d76a4e98"
      },
      "execution_count": 91,
      "outputs": [
        {
          "output_type": "execute_result",
          "data": {
            "text/plain": [
              "'CASACO'"
            ],
            "application/vnd.google.colaboratory.intrinsic+json": {
              "type": "string"
            }
          },
          "metadata": {},
          "execution_count": 91
        }
      ]
    },
    {
      "cell_type": "code",
      "source": [
        "minuscula = a.lower()\n",
        "minuscula"
      ],
      "metadata": {
        "colab": {
          "base_uri": "https://localhost:8080/",
          "height": 35
        },
        "id": "xLjo3EOH2b4R",
        "outputId": "dfbc5827-0469-49f2-b09d-06371cf4e6f5"
      },
      "execution_count": 92,
      "outputs": [
        {
          "output_type": "execute_result",
          "data": {
            "text/plain": [
              "'casaco'"
            ],
            "application/vnd.google.colaboratory.intrinsic+json": {
              "type": "string"
            }
          },
          "metadata": {},
          "execution_count": 92
        }
      ]
    },
    {
      "cell_type": "code",
      "source": [
        "capital = a.capitalize()\n",
        "print(capital)"
      ],
      "metadata": {
        "colab": {
          "base_uri": "https://localhost:8080/"
        },
        "id": "j1lLaAG02hJp",
        "outputId": "07fc3393-e152-4c7b-da4f-dbc892296148"
      },
      "execution_count": 95,
      "outputs": [
        {
          "output_type": "stream",
          "name": "stdout",
          "text": [
            "Casaco\n"
          ]
        }
      ]
    },
    {
      "cell_type": "code",
      "source": [
        "indice_palavra = a[2:4]\n",
        "print(indice_palavra)"
      ],
      "metadata": {
        "colab": {
          "base_uri": "https://localhost:8080/"
        },
        "id": "T3KqkaV7241J",
        "outputId": "bf78cae6-bd6d-4b11-e062-a51eed92277d"
      },
      "execution_count": 97,
      "outputs": [
        {
          "output_type": "stream",
          "name": "stdout",
          "text": [
            "sa\n"
          ]
        }
      ]
    },
    {
      "cell_type": "code",
      "source": [
        "indice_palavra = a[3:]\n",
        "print(indice_palavra)"
      ],
      "metadata": {
        "colab": {
          "base_uri": "https://localhost:8080/"
        },
        "id": "QSOD_jKz3Gnq",
        "outputId": "4d392d42-3788-42a0-bc78-bb1c0c5e5c0e"
      },
      "execution_count": 99,
      "outputs": [
        {
          "output_type": "stream",
          "name": "stdout",
          "text": [
            "aco\n"
          ]
        }
      ]
    },
    {
      "cell_type": "code",
      "source": [
        "b = a.replace('aco', 'inha')\n",
        "print(a)\n",
        "print(b)"
      ],
      "metadata": {
        "colab": {
          "base_uri": "https://localhost:8080/"
        },
        "id": "rI0YB25E3U9a",
        "outputId": "9903d8a3-ba02-4063-9ca8-56772eaa85f7"
      },
      "execution_count": 100,
      "outputs": [
        {
          "output_type": "stream",
          "name": "stdout",
          "text": [
            "casaco\n",
            "casinha\n"
          ]
        }
      ]
    },
    {
      "cell_type": "code",
      "source": [
        "c = a.replace('o', 'a')\n",
        "print(c)"
      ],
      "metadata": {
        "colab": {
          "base_uri": "https://localhost:8080/"
        },
        "id": "hOvs3XuD3eI6",
        "outputId": "ebf837b7-a762-4c66-cb24-e90de56203f1"
      },
      "execution_count": 101,
      "outputs": [
        {
          "output_type": "stream",
          "name": "stdout",
          "text": [
            "casaca\n"
          ]
        }
      ]
    },
    {
      "cell_type": "code",
      "source": [
        "c.find('s')"
      ],
      "metadata": {
        "colab": {
          "base_uri": "https://localhost:8080/"
        },
        "id": "0ktwIL1I3jtb",
        "outputId": "bb9e05c5-b51d-4e1b-a190-9e4056f445df"
      },
      "execution_count": 102,
      "outputs": [
        {
          "output_type": "execute_result",
          "data": {
            "text/plain": [
              "2"
            ]
          },
          "metadata": {},
          "execution_count": 102
        }
      ]
    },
    {
      "cell_type": "code",
      "source": [
        "c.find('b')"
      ],
      "metadata": {
        "colab": {
          "base_uri": "https://localhost:8080/"
        },
        "id": "deagNiVB3qZr",
        "outputId": "7a8b0edf-9f97-4467-e42e-9679c4ad1e80"
      },
      "execution_count": 103,
      "outputs": [
        {
          "output_type": "execute_result",
          "data": {
            "text/plain": [
              "-1"
            ]
          },
          "metadata": {},
          "execution_count": 103
        }
      ]
    },
    {
      "cell_type": "code",
      "source": [
        "e = ' casaco  '\n",
        "print(len(e))"
      ],
      "metadata": {
        "colab": {
          "base_uri": "https://localhost:8080/"
        },
        "id": "OCrjRoYI30Jy",
        "outputId": "6bc42e80-7e3a-4a5c-816d-a9839f4cb609"
      },
      "execution_count": 104,
      "outputs": [
        {
          "output_type": "stream",
          "name": "stdout",
          "text": [
            "9\n"
          ]
        }
      ]
    },
    {
      "cell_type": "code",
      "source": [
        "f = e.strip()\n",
        "print(f, len(f))"
      ],
      "metadata": {
        "colab": {
          "base_uri": "https://localhost:8080/"
        },
        "id": "2ebpuk8r37h0",
        "outputId": "c44f9322-22e4-42cb-8f7e-f0201e7e8b71"
      },
      "execution_count": 106,
      "outputs": [
        {
          "output_type": "stream",
          "name": "stdout",
          "text": [
            "casaco 6\n"
          ]
        }
      ]
    },
    {
      "cell_type": "code",
      "source": [
        "n1 = 14\n",
        "n2 = 16"
      ],
      "metadata": {
        "id": "6a-v23vc4AIG"
      },
      "execution_count": 107,
      "outputs": []
    },
    {
      "cell_type": "code",
      "source": [
        "print(f'Dividindo {n1} por {n2} o resultado é {n1/n2}')"
      ],
      "metadata": {
        "colab": {
          "base_uri": "https://localhost:8080/"
        },
        "id": "QAYLMU6y4IPH",
        "outputId": "7bf7307e-f17b-42e7-be13-1b2cab7e12e7"
      },
      "execution_count": 108,
      "outputs": [
        {
          "output_type": "stream",
          "name": "stdout",
          "text": [
            "Dividindo 14 por 16 o resultado é 0.875\n"
          ]
        }
      ]
    },
    {
      "cell_type": "markdown",
      "source": [
        "#Operações matemáticas"
      ],
      "metadata": {
        "id": "WwXVmJcp4fvI"
      }
    },
    {
      "cell_type": "code",
      "source": [
        "a = int(input('Qual o primeiro número? '))\n",
        "b = int(input('Qual o segundo número? '))\n",
        "print(a,b)"
      ],
      "metadata": {
        "colab": {
          "base_uri": "https://localhost:8080/"
        },
        "id": "B-DY1HAf4uUN",
        "outputId": "2fd2c2bf-855a-4242-a284-edf0aee3fc6a"
      },
      "execution_count": 123,
      "outputs": [
        {
          "output_type": "stream",
          "name": "stdout",
          "text": [
            "Qual o primeiro número? 3\n",
            "Qual o segundo número? 2\n",
            "3 2\n"
          ]
        }
      ]
    },
    {
      "cell_type": "code",
      "source": [
        "import math"
      ],
      "metadata": {
        "id": "FfEOPpvI6dyy"
      },
      "execution_count": 125,
      "outputs": []
    },
    {
      "cell_type": "code",
      "source": [
        "print('A soma é:', a + b)\n",
        "print('A subtração é:', a - b)\n",
        "print('A divisão é:', a / b)\n",
        "print('A multiplicação é:', a * b)\n",
        "print('O resto da divisão é:', a % b)\n",
        "print(f'{a} elevado a {b} é:', a**b)\n",
        "print(f'A raiz quadrada de {a} é:',math.sqrt(a),f'\\nA raiz quadrada de {b} é:',math.sqrt(b),\n",
        "      f'\\nA raiz quadrada da soma de {a} + {b} é:',math.sqrt(a+b))"
      ],
      "metadata": {
        "colab": {
          "base_uri": "https://localhost:8080/"
        },
        "id": "z483WP-3411Y",
        "outputId": "cf3a9bd8-d921-4fa6-f1d3-c155b1a8cf4e"
      },
      "execution_count": 130,
      "outputs": [
        {
          "output_type": "stream",
          "name": "stdout",
          "text": [
            "A soma é: 5\n",
            "A subtração é: 1\n",
            "A divisão é: 1.5\n",
            "A multiplicação é: 6\n",
            "O resto da divisão é: 1\n",
            "3 elevado a 2 é: 9\n",
            "A raiz quadrada de 3 é: 1.7320508075688772 \n",
            "A raiz quadrada de 2 é: 1.4142135623730951 \n",
            "A raiz quadrada da soma de 3 + 2 é: 2.23606797749979\n"
          ]
        }
      ]
    },
    {
      "cell_type": "markdown",
      "source": [
        "##Arredondamento"
      ],
      "metadata": {
        "id": "l1d9D5Xh4kwH"
      }
    },
    {
      "cell_type": "code",
      "source": [
        "casos_doenca = 134\n",
        "numero_habitantes = 34432\n",
        "casos_por_habitante = casos_doenca / numero_habitantes\n",
        "print(casos_por_habitante)"
      ],
      "metadata": {
        "colab": {
          "base_uri": "https://localhost:8080/"
        },
        "id": "lkeQRN3U7zFw",
        "outputId": "dea5c3bc-3a40-44be-b6b8-e5dad9732a30"
      },
      "execution_count": 131,
      "outputs": [
        {
          "output_type": "stream",
          "name": "stdout",
          "text": [
            "0.003891728624535316\n"
          ]
        }
      ]
    },
    {
      "cell_type": "code",
      "source": [
        "round(casos_por_habitante,6)"
      ],
      "metadata": {
        "colab": {
          "base_uri": "https://localhost:8080/"
        },
        "id": "jY1s4UJb77ao",
        "outputId": "3f2a0e7d-0003-47c1-b345-a44600a27bfd"
      },
      "execution_count": 134,
      "outputs": [
        {
          "output_type": "execute_result",
          "data": {
            "text/plain": [
              "0.003892"
            ]
          },
          "metadata": {},
          "execution_count": 134
        }
      ]
    },
    {
      "cell_type": "code",
      "source": [
        "print('O número de casos por habitante é de:',round(casos_por_habitante,4))"
      ],
      "metadata": {
        "colab": {
          "base_uri": "https://localhost:8080/"
        },
        "id": "PSAn5g4f8Ckf",
        "outputId": "862beb56-2f2d-4af6-e58e-491e78f2add3"
      },
      "execution_count": 136,
      "outputs": [
        {
          "output_type": "stream",
          "name": "stdout",
          "text": [
            "O número de casos por habitante é de: 0.0039\n"
          ]
        }
      ]
    }
  ]
}