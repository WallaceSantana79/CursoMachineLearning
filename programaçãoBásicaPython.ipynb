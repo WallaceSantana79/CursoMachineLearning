{
  "nbformat": 4,
  "nbformat_minor": 0,
  "metadata": {
    "colab": {
      "provenance": [],
      "authorship_tag": "ABX9TyNhhZT5yI8obysEbpaACjDY",
      "include_colab_link": true
    },
    "kernelspec": {
      "name": "python3",
      "display_name": "Python 3"
    },
    "language_info": {
      "name": "python"
    }
  },
  "cells": [
    {
      "cell_type": "markdown",
      "metadata": {
        "id": "view-in-github",
        "colab_type": "text"
      },
      "source": [
        "<a href=\"https://colab.research.google.com/github/WallaceSantana79/CursoMachineLearning/blob/main/programa%C3%A7%C3%A3oB%C3%A1sicaPython.ipynb\" target=\"_parent\"><img src=\"https://colab.research.google.com/assets/colab-badge.svg\" alt=\"Open In Colab\"/></a>"
      ]
    },
    {
      "cell_type": "markdown",
      "source": [
        "#Manipulação de variáveis e constantes"
      ],
      "metadata": {
        "id": "S3dirrxxlnc9"
      }
    },
    {
      "cell_type": "markdown",
      "source": [
        "##Variáveis inteiras"
      ],
      "metadata": {
        "id": "YUg79mh-mZ2u"
      }
    },
    {
      "cell_type": "code",
      "execution_count": 1,
      "metadata": {
        "id": "KCUScBf0lgRx"
      },
      "outputs": [],
      "source": [
        "número = -3\n",
        "numero_jogos = 14\n",
        "numero_convidados = 15"
      ]
    },
    {
      "cell_type": "code",
      "source": [
        "número, numero_jogos, numero_convidados"
      ],
      "metadata": {
        "colab": {
          "base_uri": "https://localhost:8080/"
        },
        "id": "45jaOWA4mjN3",
        "outputId": "c7cbfdb4-ffde-4def-c345-7e6e6d7160e0"
      },
      "execution_count": 2,
      "outputs": [
        {
          "output_type": "execute_result",
          "data": {
            "text/plain": [
              "(-3, 14, 15)"
            ]
          },
          "metadata": {},
          "execution_count": 2
        }
      ]
    },
    {
      "cell_type": "code",
      "source": [
        "print(\"Seu número é:\",número,\"\\nSeu número de jogos é:\", numero_jogos,\"\\nSeu número de convidados é:\", numero_convidados)"
      ],
      "metadata": {
        "colab": {
          "base_uri": "https://localhost:8080/"
        },
        "id": "k4oTV0yimo3X",
        "outputId": "abae56e4-bb41-4ba9-9232-6798d273e774"
      },
      "execution_count": 8,
      "outputs": [
        {
          "output_type": "stream",
          "name": "stdout",
          "text": [
            "Seu número é: -3 \n",
            "Seu número de jogos é: 14 \n",
            "Seu número de convidados é: 15\n"
          ]
        }
      ]
    },
    {
      "cell_type": "markdown",
      "source": [
        "##Variáveis float (ponto flutuante)"
      ],
      "metadata": {
        "id": "QLNBDEg-nMNY"
      }
    },
    {
      "cell_type": "code",
      "source": [
        "pi = 3.14\n",
        "numero_euler = 2.71\n",
        "escala_terremoto = -4.55"
      ],
      "metadata": {
        "id": "hx1vAOKKnPjI"
      },
      "execution_count": 9,
      "outputs": []
    },
    {
      "cell_type": "code",
      "source": [
        "pi, numero_euler, escala_terremoto"
      ],
      "metadata": {
        "colab": {
          "base_uri": "https://localhost:8080/"
        },
        "id": "aAfX31StnVfA",
        "outputId": "88801237-0b2c-477f-f325-20ecad8063a3"
      },
      "execution_count": 10,
      "outputs": [
        {
          "output_type": "execute_result",
          "data": {
            "text/plain": [
              "(3.14, 2.71, -4.55)"
            ]
          },
          "metadata": {},
          "execution_count": 10
        }
      ]
    },
    {
      "cell_type": "code",
      "source": [
        "print(\" ____________________________\")\n",
        "print(\"|  ________________________  |\")\n",
        "print(\"| |                        | |\")\n",
        "print(\"| |                        | |\")\n",
        "print(\"| |                        | |\")\n",
        "print(\"| | Número de pi:\",pi,\"    | |\")\n",
        "print(\"| | Número de euler:\",numero_euler,\" | |\")\n",
        "print(\"| |                        | |\")\n",
        "print(\"| |                        | |\")\n",
        "print(\"| |________________________dc|\")\n",
        "print(\"|____________________________|\")"
      ],
      "metadata": {
        "colab": {
          "base_uri": "https://localhost:8080/"
        },
        "id": "a8ktbfzLnYuo",
        "outputId": "8a4b8465-7cf1-412d-8ce6-0b3b54a57efa"
      },
      "execution_count": 50,
      "outputs": [
        {
          "output_type": "stream",
          "name": "stdout",
          "text": [
            " ____________________________\n",
            "|  ________________________  |\n",
            "| |                        | |\n",
            "| |                        | |\n",
            "| |                        | |\n",
            "| | Número de pi: 3.14     | |\n",
            "| | Número de euler: 2.71  | |\n",
            "| |                        | |\n",
            "| |                        | |\n",
            "| |________________________dc|\n",
            "|____________________________|\n"
          ]
        }
      ]
    },
    {
      "cell_type": "code",
      "source": [
        "print(\"  ________________________________\")\n",
        "print(\" /  \\                             \\.\")\n",
        "print(\"|    |                            |.\")\n",
        "print(\"\\_   |                            |.\")\n",
        "print(\"     |                            |.\")\n",
        "print(\"     |                            |.\")\n",
        "print(\"     |                            |.\")\n",
        "print(\"     |                            |.\")\n",
        "print(\"     |                            |.\")\n",
        "print(\"     |                            |.\")\n",
        "print(\"     |                            |.\")\n",
        "print(\"     |                            |.\")\n",
        "print(\"     |                            |.\")\n",
        "print(\"     |                            |.\")\n",
        "print(\"     |   _________________________|___\")\n",
        "print(\"     |  /                            /.\")\n",
        "print(\"     \\_/dc__________________________/.\")\n"
      ],
      "metadata": {
        "colab": {
          "base_uri": "https://localhost:8080/"
        },
        "id": "b4xHv5NHrFHJ",
        "outputId": "d5e16d5c-c74f-4843-d672-f8d705f74bfd"
      },
      "execution_count": 67,
      "outputs": [
        {
          "output_type": "stream",
          "name": "stdout",
          "text": [
            "  ________________________________\n",
            " /  \\                             \\.\n",
            "|    |                            |.\n",
            "\\_   |                            |.\n",
            "     |                            |.\n",
            "     |                            |.\n",
            "     |                            |.\n",
            "     |                            |.\n",
            "     |                            |.\n",
            "     |                            |.\n",
            "     |                            |.\n",
            "     |                            |.\n",
            "     |                            |.\n",
            "     |                            |.\n",
            "     |   _________________________|___\n",
            "     |  /                            /.\n",
            "     \\_/dc__________________________/.\n"
          ]
        }
      ]
    },
    {
      "cell_type": "markdown",
      "source": [
        "##Strings e chars"
      ],
      "metadata": {
        "id": "TOovvIXJsuqF"
      }
    },
    {
      "cell_type": "code",
      "source": [
        "letra = 'a'\n",
        "palavra1 = 'linguagem de programação'\n",
        "palavra2 = 'Python'"
      ],
      "metadata": {
        "id": "oEWJe0_dswqt"
      },
      "execution_count": 71,
      "outputs": []
    },
    {
      "cell_type": "code",
      "source": [
        "print(letra, palavra1)"
      ],
      "metadata": {
        "colab": {
          "base_uri": "https://localhost:8080/"
        },
        "id": "d1hrlvSAs3dt",
        "outputId": "62455c6b-d25a-499b-9669-0236cb7d324d"
      },
      "execution_count": 72,
      "outputs": [
        {
          "output_type": "stream",
          "name": "stdout",
          "text": [
            "a linguagem de programação\n"
          ]
        }
      ]
    },
    {
      "cell_type": "code",
      "source": [
        "print('Estou aprendendo uma', palavra1)"
      ],
      "metadata": {
        "colab": {
          "base_uri": "https://localhost:8080/"
        },
        "id": "szBogTKEs-DV",
        "outputId": "1fd70b74-e51a-4adf-f8b7-d4abe4e2f4b0"
      },
      "execution_count": 73,
      "outputs": [
        {
          "output_type": "stream",
          "name": "stdout",
          "text": [
            "Estou aprendendo uma linguagem de programação\n"
          ]
        }
      ]
    },
    {
      "cell_type": "code",
      "source": [
        "print('Esta', palavra1, 'se chama', palavra2)"
      ],
      "metadata": {
        "colab": {
          "base_uri": "https://localhost:8080/"
        },
        "id": "UL2wucLztDI9",
        "outputId": "3c3a04cc-7912-4092-ec1a-32ea525a4705"
      },
      "execution_count": 76,
      "outputs": [
        {
          "output_type": "stream",
          "name": "stdout",
          "text": [
            "Esta linguagem de programação se chama Python\n"
          ]
        }
      ]
    },
    {
      "cell_type": "code",
      "source": [
        "idade = int(input('Digite sua idade: '))\n",
        "print('Sua idade é ', idade)"
      ],
      "metadata": {
        "colab": {
          "base_uri": "https://localhost:8080/"
        },
        "id": "jn80r4vFtPYd",
        "outputId": "8fd6aea7-4209-40e7-82a1-96642d3d6dd0"
      },
      "execution_count": 86,
      "outputs": [
        {
          "output_type": "stream",
          "name": "stdout",
          "text": [
            "Digite sua idade: 21\n",
            "Sua idade é  21\n"
          ]
        }
      ]
    },
    {
      "cell_type": "code",
      "source": [
        "idade"
      ],
      "metadata": {
        "colab": {
          "base_uri": "https://localhost:8080/",
          "height": 35
        },
        "id": "SnI8zdcRut57",
        "outputId": "a0e12cd9-d7a7-4a57-b10b-0811e20db79d"
      },
      "execution_count": 85,
      "outputs": [
        {
          "output_type": "execute_result",
          "data": {
            "text/plain": [
              "'21'"
            ],
            "application/vnd.google.colaboratory.intrinsic+json": {
              "type": "string"
            }
          },
          "metadata": {},
          "execution_count": 85
        }
      ]
    },
    {
      "cell_type": "code",
      "source": [
        "ph = float(input(\"Qual o pH do solo durante a última medição?\"))\n",
        "print('O pH medido foi:', ph)"
      ],
      "metadata": {
        "colab": {
          "base_uri": "https://localhost:8080/"
        },
        "id": "-7Hc6nSVuKBY",
        "outputId": "905621ee-7893-41dd-a660-cb795959786d"
      },
      "execution_count": 87,
      "outputs": [
        {
          "output_type": "stream",
          "name": "stdout",
          "text": [
            "Qual o pH do solo durante a última medição?6.5\n",
            "O pH medido foi: 6.5\n"
          ]
        }
      ]
    },
    {
      "cell_type": "code",
      "source": [
        "nome = str(input('Qual o seu nome? '))\n",
        "print(\"Seu nome é\", nome)"
      ],
      "metadata": {
        "colab": {
          "base_uri": "https://localhost:8080/"
        },
        "id": "Uetua_PWuauS",
        "outputId": "6d2a3b66-f886-4a48-ddd1-a2f1532277ec"
      },
      "execution_count": 83,
      "outputs": [
        {
          "output_type": "stream",
          "name": "stdout",
          "text": [
            "Qual o seu nome? Ronaldinho\n",
            "Seu nome é Ronaldinho\n"
          ]
        }
      ]
    }
  ]
}