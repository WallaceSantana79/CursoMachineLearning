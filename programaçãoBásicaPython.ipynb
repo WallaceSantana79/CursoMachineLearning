{
  "nbformat": 4,
  "nbformat_minor": 0,
  "metadata": {
    "colab": {
      "provenance": [],
      "collapsed_sections": [
        "S3dirrxxlnc9",
        "I2XIftwN2GOi",
        "WwXVmJcp4fvI",
        "l1d9D5Xh4kwH",
        "eNNdXVhU8T-7",
        "yCk1C_LTCme0",
        "URoEUmIcEj2Z",
        "12dF1O3gyL5l",
        "7TnGCpgP9kUF",
        "F2M9iN0m_4oR",
        "8mFE9M2gB-GT",
        "9vEgrqQULWrM",
        "iZ0BF9ZiLXr0",
        "9WzevbG1LYac",
        "MacYC9ifLZlM",
        "6OZhzhmtQvax",
        "lxsEsmxrWrDu"
      ],
      "authorship_tag": "ABX9TyOWLBSPAj8a3g8aCmTS0fep",
      "include_colab_link": true
    },
    "kernelspec": {
      "name": "python3",
      "display_name": "Python 3"
    },
    "language_info": {
      "name": "python"
    }
  },
  "cells": [
    {
      "cell_type": "markdown",
      "metadata": {
        "id": "view-in-github",
        "colab_type": "text"
      },
      "source": [
        "<a href=\"https://colab.research.google.com/github/WallaceSantana79/CursoMachineLearning/blob/main/programa%C3%A7%C3%A3oB%C3%A1sicaPython.ipynb\" target=\"_parent\"><img src=\"https://colab.research.google.com/assets/colab-badge.svg\" alt=\"Open In Colab\"/></a>"
      ]
    },
    {
      "cell_type": "markdown",
      "source": [
        "#Manipulação de variáveis e constantes"
      ],
      "metadata": {
        "id": "S3dirrxxlnc9"
      }
    },
    {
      "cell_type": "markdown",
      "source": [
        "##Variáveis inteiras"
      ],
      "metadata": {
        "id": "YUg79mh-mZ2u"
      }
    },
    {
      "cell_type": "code",
      "execution_count": null,
      "metadata": {
        "id": "KCUScBf0lgRx"
      },
      "outputs": [],
      "source": [
        "número = -3\n",
        "numero_jogos = 14\n",
        "numero_convidados = 15"
      ]
    },
    {
      "cell_type": "code",
      "source": [
        "número, numero_jogos, numero_convidados"
      ],
      "metadata": {
        "colab": {
          "base_uri": "https://localhost:8080/"
        },
        "id": "45jaOWA4mjN3",
        "outputId": "c7cbfdb4-ffde-4def-c345-7e6e6d7160e0"
      },
      "execution_count": null,
      "outputs": [
        {
          "output_type": "execute_result",
          "data": {
            "text/plain": [
              "(-3, 14, 15)"
            ]
          },
          "metadata": {},
          "execution_count": 2
        }
      ]
    },
    {
      "cell_type": "code",
      "source": [
        "print(\"Seu número é:\",número,\"\\nSeu número de jogos é:\", numero_jogos,\"\\nSeu número de convidados é:\", numero_convidados)"
      ],
      "metadata": {
        "colab": {
          "base_uri": "https://localhost:8080/"
        },
        "id": "k4oTV0yimo3X",
        "outputId": "abae56e4-bb41-4ba9-9232-6798d273e774"
      },
      "execution_count": null,
      "outputs": [
        {
          "output_type": "stream",
          "name": "stdout",
          "text": [
            "Seu número é: -3 \n",
            "Seu número de jogos é: 14 \n",
            "Seu número de convidados é: 15\n"
          ]
        }
      ]
    },
    {
      "cell_type": "markdown",
      "source": [
        "##Variáveis float (ponto flutuante)"
      ],
      "metadata": {
        "id": "QLNBDEg-nMNY"
      }
    },
    {
      "cell_type": "code",
      "source": [
        "pi = 3.14\n",
        "numero_euler = 2.71\n",
        "escala_terremoto = -4.55"
      ],
      "metadata": {
        "id": "hx1vAOKKnPjI"
      },
      "execution_count": null,
      "outputs": []
    },
    {
      "cell_type": "code",
      "source": [
        "pi, numero_euler, escala_terremoto"
      ],
      "metadata": {
        "colab": {
          "base_uri": "https://localhost:8080/"
        },
        "id": "aAfX31StnVfA",
        "outputId": "88801237-0b2c-477f-f325-20ecad8063a3"
      },
      "execution_count": null,
      "outputs": [
        {
          "output_type": "execute_result",
          "data": {
            "text/plain": [
              "(3.14, 2.71, -4.55)"
            ]
          },
          "metadata": {},
          "execution_count": 10
        }
      ]
    },
    {
      "cell_type": "code",
      "source": [
        "print(\" ____________________________\")\n",
        "print(\"|  ________________________  |\")\n",
        "print(\"| |                        | |\")\n",
        "print(\"| |                        | |\")\n",
        "print(\"| |                        | |\")\n",
        "print(\"| | Número de pi:\",pi,\"    | |\")\n",
        "print(\"| | Número de euler:\",numero_euler,\" | |\")\n",
        "print(\"| |                        | |\")\n",
        "print(\"| |                        | |\")\n",
        "print(\"| |________________________dc|\")\n",
        "print(\"|____________________________|\")"
      ],
      "metadata": {
        "colab": {
          "base_uri": "https://localhost:8080/"
        },
        "id": "a8ktbfzLnYuo",
        "outputId": "8a4b8465-7cf1-412d-8ce6-0b3b54a57efa"
      },
      "execution_count": null,
      "outputs": [
        {
          "output_type": "stream",
          "name": "stdout",
          "text": [
            " ____________________________\n",
            "|  ________________________  |\n",
            "| |                        | |\n",
            "| |                        | |\n",
            "| |                        | |\n",
            "| | Número de pi: 3.14     | |\n",
            "| | Número de euler: 2.71  | |\n",
            "| |                        | |\n",
            "| |                        | |\n",
            "| |________________________dc|\n",
            "|____________________________|\n"
          ]
        }
      ]
    },
    {
      "cell_type": "code",
      "source": [
        "print(\"  ________________________________\")\n",
        "print(\" /  \\                             \\.\")\n",
        "print(\"|    |                            |.\")\n",
        "print(\"\\_   |                            |.\")\n",
        "print(\"     |                            |.\")\n",
        "print(\"     |                            |.\")\n",
        "print(\"     |                            |.\")\n",
        "print(\"     |                            |.\")\n",
        "print(\"     |                            |.\")\n",
        "print(\"     |                            |.\")\n",
        "print(\"     |                            |.\")\n",
        "print(\"     |                            |.\")\n",
        "print(\"     |                            |.\")\n",
        "print(\"     |                            |.\")\n",
        "print(\"     |   _________________________|___\")\n",
        "print(\"     |  /                            /.\")\n",
        "print(\"     \\_/dc__________________________/.\")\n"
      ],
      "metadata": {
        "colab": {
          "base_uri": "https://localhost:8080/"
        },
        "id": "b4xHv5NHrFHJ",
        "outputId": "d5e16d5c-c74f-4843-d672-f8d705f74bfd"
      },
      "execution_count": null,
      "outputs": [
        {
          "output_type": "stream",
          "name": "stdout",
          "text": [
            "  ________________________________\n",
            " /  \\                             \\.\n",
            "|    |                            |.\n",
            "\\_   |                            |.\n",
            "     |                            |.\n",
            "     |                            |.\n",
            "     |                            |.\n",
            "     |                            |.\n",
            "     |                            |.\n",
            "     |                            |.\n",
            "     |                            |.\n",
            "     |                            |.\n",
            "     |                            |.\n",
            "     |                            |.\n",
            "     |   _________________________|___\n",
            "     |  /                            /.\n",
            "     \\_/dc__________________________/.\n"
          ]
        }
      ]
    },
    {
      "cell_type": "markdown",
      "source": [
        "##Strings e chars"
      ],
      "metadata": {
        "id": "TOovvIXJsuqF"
      }
    },
    {
      "cell_type": "code",
      "source": [
        "letra = 'a'\n",
        "palavra1 = 'linguagem de programação'\n",
        "palavra2 = 'Python'"
      ],
      "metadata": {
        "id": "oEWJe0_dswqt"
      },
      "execution_count": null,
      "outputs": []
    },
    {
      "cell_type": "code",
      "source": [
        "print(letra, palavra1)"
      ],
      "metadata": {
        "colab": {
          "base_uri": "https://localhost:8080/"
        },
        "id": "d1hrlvSAs3dt",
        "outputId": "62455c6b-d25a-499b-9669-0236cb7d324d"
      },
      "execution_count": null,
      "outputs": [
        {
          "output_type": "stream",
          "name": "stdout",
          "text": [
            "a linguagem de programação\n"
          ]
        }
      ]
    },
    {
      "cell_type": "code",
      "source": [
        "print('Estou aprendendo uma', palavra1)"
      ],
      "metadata": {
        "colab": {
          "base_uri": "https://localhost:8080/"
        },
        "id": "szBogTKEs-DV",
        "outputId": "1fd70b74-e51a-4adf-f8b7-d4abe4e2f4b0"
      },
      "execution_count": null,
      "outputs": [
        {
          "output_type": "stream",
          "name": "stdout",
          "text": [
            "Estou aprendendo uma linguagem de programação\n"
          ]
        }
      ]
    },
    {
      "cell_type": "code",
      "source": [
        "print('Esta', palavra1, 'se chama', palavra2)"
      ],
      "metadata": {
        "colab": {
          "base_uri": "https://localhost:8080/"
        },
        "id": "UL2wucLztDI9",
        "outputId": "3c3a04cc-7912-4092-ec1a-32ea525a4705"
      },
      "execution_count": null,
      "outputs": [
        {
          "output_type": "stream",
          "name": "stdout",
          "text": [
            "Esta linguagem de programação se chama Python\n"
          ]
        }
      ]
    },
    {
      "cell_type": "code",
      "source": [
        "idade = int(input('Digite sua idade: '))\n",
        "print('Sua idade é ', idade)"
      ],
      "metadata": {
        "colab": {
          "base_uri": "https://localhost:8080/"
        },
        "id": "jn80r4vFtPYd",
        "outputId": "8fd6aea7-4209-40e7-82a1-96642d3d6dd0"
      },
      "execution_count": null,
      "outputs": [
        {
          "output_type": "stream",
          "name": "stdout",
          "text": [
            "Digite sua idade: 21\n",
            "Sua idade é  21\n"
          ]
        }
      ]
    },
    {
      "cell_type": "code",
      "source": [
        "idade"
      ],
      "metadata": {
        "colab": {
          "base_uri": "https://localhost:8080/",
          "height": 35
        },
        "id": "SnI8zdcRut57",
        "outputId": "a0e12cd9-d7a7-4a57-b10b-0811e20db79d"
      },
      "execution_count": null,
      "outputs": [
        {
          "output_type": "execute_result",
          "data": {
            "text/plain": [
              "'21'"
            ],
            "application/vnd.google.colaboratory.intrinsic+json": {
              "type": "string"
            }
          },
          "metadata": {},
          "execution_count": 85
        }
      ]
    },
    {
      "cell_type": "code",
      "source": [
        "ph = float(input(\"Qual o pH do solo durante a última medição?\"))\n",
        "print('O pH medido foi:', ph)"
      ],
      "metadata": {
        "colab": {
          "base_uri": "https://localhost:8080/"
        },
        "id": "-7Hc6nSVuKBY",
        "outputId": "905621ee-7893-41dd-a660-cb795959786d"
      },
      "execution_count": null,
      "outputs": [
        {
          "output_type": "stream",
          "name": "stdout",
          "text": [
            "Qual o pH do solo durante a última medição?6.5\n",
            "O pH medido foi: 6.5\n"
          ]
        }
      ]
    },
    {
      "cell_type": "code",
      "source": [
        "nome = str(input('Qual o seu nome? '))\n",
        "print(\"Seu nome é\", nome)"
      ],
      "metadata": {
        "colab": {
          "base_uri": "https://localhost:8080/"
        },
        "id": "Uetua_PWuauS",
        "outputId": "6d2a3b66-f886-4a48-ddd1-a2f1532277ec"
      },
      "execution_count": null,
      "outputs": [
        {
          "output_type": "stream",
          "name": "stdout",
          "text": [
            "Qual o seu nome? Ronaldinho\n",
            "Seu nome é Ronaldinho\n"
          ]
        }
      ]
    },
    {
      "cell_type": "markdown",
      "source": [
        "#Manipulação de strings"
      ],
      "metadata": {
        "id": "I2XIftwN2GOi"
      }
    },
    {
      "cell_type": "code",
      "source": [
        "a = 'casaco'\n",
        "print(a)"
      ],
      "metadata": {
        "colab": {
          "base_uri": "https://localhost:8080/"
        },
        "id": "zgntHFNn2MuM",
        "outputId": "697081ed-29c2-4551-bcca-9376c9d84c9b"
      },
      "execution_count": null,
      "outputs": [
        {
          "output_type": "stream",
          "name": "stdout",
          "text": [
            "casaco\n"
          ]
        }
      ]
    },
    {
      "cell_type": "code",
      "source": [
        "maiuscula = a.upper()\n",
        "maiuscula"
      ],
      "metadata": {
        "colab": {
          "base_uri": "https://localhost:8080/",
          "height": 35
        },
        "id": "L75653BE2UtD",
        "outputId": "0ceb33b9-2b8f-4d53-c887-8247d76a4e98"
      },
      "execution_count": null,
      "outputs": [
        {
          "output_type": "execute_result",
          "data": {
            "text/plain": [
              "'CASACO'"
            ],
            "application/vnd.google.colaboratory.intrinsic+json": {
              "type": "string"
            }
          },
          "metadata": {},
          "execution_count": 91
        }
      ]
    },
    {
      "cell_type": "code",
      "source": [
        "minuscula = a.lower()\n",
        "minuscula"
      ],
      "metadata": {
        "colab": {
          "base_uri": "https://localhost:8080/",
          "height": 35
        },
        "id": "xLjo3EOH2b4R",
        "outputId": "dfbc5827-0469-49f2-b09d-06371cf4e6f5"
      },
      "execution_count": null,
      "outputs": [
        {
          "output_type": "execute_result",
          "data": {
            "text/plain": [
              "'casaco'"
            ],
            "application/vnd.google.colaboratory.intrinsic+json": {
              "type": "string"
            }
          },
          "metadata": {},
          "execution_count": 92
        }
      ]
    },
    {
      "cell_type": "code",
      "source": [
        "capital = a.capitalize()\n",
        "print(capital)"
      ],
      "metadata": {
        "colab": {
          "base_uri": "https://localhost:8080/"
        },
        "id": "j1lLaAG02hJp",
        "outputId": "07fc3393-e152-4c7b-da4f-dbc892296148"
      },
      "execution_count": null,
      "outputs": [
        {
          "output_type": "stream",
          "name": "stdout",
          "text": [
            "Casaco\n"
          ]
        }
      ]
    },
    {
      "cell_type": "code",
      "source": [
        "indice_palavra = a[2:4]\n",
        "print(indice_palavra)"
      ],
      "metadata": {
        "colab": {
          "base_uri": "https://localhost:8080/"
        },
        "id": "T3KqkaV7241J",
        "outputId": "bf78cae6-bd6d-4b11-e062-a51eed92277d"
      },
      "execution_count": null,
      "outputs": [
        {
          "output_type": "stream",
          "name": "stdout",
          "text": [
            "sa\n"
          ]
        }
      ]
    },
    {
      "cell_type": "code",
      "source": [
        "indice_palavra = a[3:]\n",
        "print(indice_palavra)"
      ],
      "metadata": {
        "colab": {
          "base_uri": "https://localhost:8080/"
        },
        "id": "QSOD_jKz3Gnq",
        "outputId": "4d392d42-3788-42a0-bc78-bb1c0c5e5c0e"
      },
      "execution_count": null,
      "outputs": [
        {
          "output_type": "stream",
          "name": "stdout",
          "text": [
            "aco\n"
          ]
        }
      ]
    },
    {
      "cell_type": "code",
      "source": [
        "b = a.replace('aco', 'inha')\n",
        "print(a)\n",
        "print(b)"
      ],
      "metadata": {
        "colab": {
          "base_uri": "https://localhost:8080/"
        },
        "id": "rI0YB25E3U9a",
        "outputId": "9903d8a3-ba02-4063-9ca8-56772eaa85f7"
      },
      "execution_count": null,
      "outputs": [
        {
          "output_type": "stream",
          "name": "stdout",
          "text": [
            "casaco\n",
            "casinha\n"
          ]
        }
      ]
    },
    {
      "cell_type": "code",
      "source": [
        "c = a.replace('o', 'a')\n",
        "print(c)"
      ],
      "metadata": {
        "colab": {
          "base_uri": "https://localhost:8080/"
        },
        "id": "hOvs3XuD3eI6",
        "outputId": "ebf837b7-a762-4c66-cb24-e90de56203f1"
      },
      "execution_count": null,
      "outputs": [
        {
          "output_type": "stream",
          "name": "stdout",
          "text": [
            "casaca\n"
          ]
        }
      ]
    },
    {
      "cell_type": "code",
      "source": [
        "c.find('s')"
      ],
      "metadata": {
        "colab": {
          "base_uri": "https://localhost:8080/"
        },
        "id": "0ktwIL1I3jtb",
        "outputId": "bb9e05c5-b51d-4e1b-a190-9e4056f445df"
      },
      "execution_count": null,
      "outputs": [
        {
          "output_type": "execute_result",
          "data": {
            "text/plain": [
              "2"
            ]
          },
          "metadata": {},
          "execution_count": 102
        }
      ]
    },
    {
      "cell_type": "code",
      "source": [
        "c.find('b')"
      ],
      "metadata": {
        "colab": {
          "base_uri": "https://localhost:8080/"
        },
        "id": "deagNiVB3qZr",
        "outputId": "7a8b0edf-9f97-4467-e42e-9679c4ad1e80"
      },
      "execution_count": null,
      "outputs": [
        {
          "output_type": "execute_result",
          "data": {
            "text/plain": [
              "-1"
            ]
          },
          "metadata": {},
          "execution_count": 103
        }
      ]
    },
    {
      "cell_type": "code",
      "source": [
        "e = ' casaco  '\n",
        "print(len(e))"
      ],
      "metadata": {
        "colab": {
          "base_uri": "https://localhost:8080/"
        },
        "id": "OCrjRoYI30Jy",
        "outputId": "6bc42e80-7e3a-4a5c-816d-a9839f4cb609"
      },
      "execution_count": null,
      "outputs": [
        {
          "output_type": "stream",
          "name": "stdout",
          "text": [
            "9\n"
          ]
        }
      ]
    },
    {
      "cell_type": "code",
      "source": [
        "f = e.strip()\n",
        "print(f, len(f))"
      ],
      "metadata": {
        "colab": {
          "base_uri": "https://localhost:8080/"
        },
        "id": "2ebpuk8r37h0",
        "outputId": "c44f9322-22e4-42cb-8f7e-f0201e7e8b71"
      },
      "execution_count": null,
      "outputs": [
        {
          "output_type": "stream",
          "name": "stdout",
          "text": [
            "casaco 6\n"
          ]
        }
      ]
    },
    {
      "cell_type": "code",
      "source": [
        "n1 = 14\n",
        "n2 = 16"
      ],
      "metadata": {
        "id": "6a-v23vc4AIG"
      },
      "execution_count": null,
      "outputs": []
    },
    {
      "cell_type": "code",
      "source": [
        "print(f'Dividindo {n1} por {n2} o resultado é {n1/n2}')"
      ],
      "metadata": {
        "colab": {
          "base_uri": "https://localhost:8080/"
        },
        "id": "QAYLMU6y4IPH",
        "outputId": "7bf7307e-f17b-42e7-be13-1b2cab7e12e7"
      },
      "execution_count": null,
      "outputs": [
        {
          "output_type": "stream",
          "name": "stdout",
          "text": [
            "Dividindo 14 por 16 o resultado é 0.875\n"
          ]
        }
      ]
    },
    {
      "cell_type": "markdown",
      "source": [
        "#Operações matemáticas"
      ],
      "metadata": {
        "id": "WwXVmJcp4fvI"
      }
    },
    {
      "cell_type": "code",
      "source": [
        "a = int(input('Qual o primeiro número? '))\n",
        "b = int(input('Qual o segundo número? '))\n",
        "print(a,b)"
      ],
      "metadata": {
        "colab": {
          "base_uri": "https://localhost:8080/"
        },
        "id": "B-DY1HAf4uUN",
        "outputId": "2fd2c2bf-855a-4242-a284-edf0aee3fc6a"
      },
      "execution_count": null,
      "outputs": [
        {
          "output_type": "stream",
          "name": "stdout",
          "text": [
            "Qual o primeiro número? 3\n",
            "Qual o segundo número? 2\n",
            "3 2\n"
          ]
        }
      ]
    },
    {
      "cell_type": "code",
      "source": [
        "import math"
      ],
      "metadata": {
        "id": "FfEOPpvI6dyy"
      },
      "execution_count": null,
      "outputs": []
    },
    {
      "cell_type": "code",
      "source": [
        "print('A soma é:', a + b)\n",
        "print('A subtração é:', a - b)\n",
        "print('A divisão é:', a / b)\n",
        "print('A multiplicação é:', a * b)\n",
        "print('O resto da divisão é:', a % b)\n",
        "print(f'{a} elevado a {b} é:', a**b)\n",
        "print(f'A raiz quadrada de {a} é:',math.sqrt(a),f'\\nA raiz quadrada de {b} é:',math.sqrt(b),\n",
        "      f'\\nA raiz quadrada da soma de {a} + {b} é:',math.sqrt(a+b))"
      ],
      "metadata": {
        "colab": {
          "base_uri": "https://localhost:8080/"
        },
        "id": "z483WP-3411Y",
        "outputId": "cf3a9bd8-d921-4fa6-f1d3-c155b1a8cf4e"
      },
      "execution_count": null,
      "outputs": [
        {
          "output_type": "stream",
          "name": "stdout",
          "text": [
            "A soma é: 5\n",
            "A subtração é: 1\n",
            "A divisão é: 1.5\n",
            "A multiplicação é: 6\n",
            "O resto da divisão é: 1\n",
            "3 elevado a 2 é: 9\n",
            "A raiz quadrada de 3 é: 1.7320508075688772 \n",
            "A raiz quadrada de 2 é: 1.4142135623730951 \n",
            "A raiz quadrada da soma de 3 + 2 é: 2.23606797749979\n"
          ]
        }
      ]
    },
    {
      "cell_type": "markdown",
      "source": [
        "##Arredondamento"
      ],
      "metadata": {
        "id": "l1d9D5Xh4kwH"
      }
    },
    {
      "cell_type": "code",
      "source": [
        "casos_doenca = 134\n",
        "numero_habitantes = 34432\n",
        "casos_por_habitante = casos_doenca / numero_habitantes\n",
        "print(casos_por_habitante)"
      ],
      "metadata": {
        "colab": {
          "base_uri": "https://localhost:8080/"
        },
        "id": "lkeQRN3U7zFw",
        "outputId": "dea5c3bc-3a40-44be-b6b8-e5dad9732a30"
      },
      "execution_count": null,
      "outputs": [
        {
          "output_type": "stream",
          "name": "stdout",
          "text": [
            "0.003891728624535316\n"
          ]
        }
      ]
    },
    {
      "cell_type": "code",
      "source": [
        "round(casos_por_habitante,6)"
      ],
      "metadata": {
        "colab": {
          "base_uri": "https://localhost:8080/"
        },
        "id": "jY1s4UJb77ao",
        "outputId": "3f2a0e7d-0003-47c1-b345-a44600a27bfd"
      },
      "execution_count": null,
      "outputs": [
        {
          "output_type": "execute_result",
          "data": {
            "text/plain": [
              "0.003892"
            ]
          },
          "metadata": {},
          "execution_count": 134
        }
      ]
    },
    {
      "cell_type": "code",
      "source": [
        "print('O número de casos por habitante é de:',round(casos_por_habitante,4))"
      ],
      "metadata": {
        "colab": {
          "base_uri": "https://localhost:8080/"
        },
        "id": "PSAn5g4f8Ckf",
        "outputId": "862beb56-2f2d-4af6-e58e-491e78f2add3"
      },
      "execution_count": null,
      "outputs": [
        {
          "output_type": "stream",
          "name": "stdout",
          "text": [
            "O número de casos por habitante é de: 0.0039\n"
          ]
        }
      ]
    },
    {
      "cell_type": "markdown",
      "source": [
        "#Exercício"
      ],
      "metadata": {
        "id": "eNNdXVhU8T-7"
      }
    },
    {
      "cell_type": "markdown",
      "source": [
        "#####**Exercício 1: Ler dois números inteiros, executar e mostrar o resultado das seguintes operações: adição, subtração, multiplicação e divisão**"
      ],
      "metadata": {
        "id": "tNQ13n3A-QEa"
      }
    },
    {
      "cell_type": "code",
      "source": [
        "a = int(input('Qual o primeiro número? '))\n",
        "b = int(input('Qual o segundo número? '))\n",
        "print('A soma é:', a + b)\n",
        "print('A subtração é:', a - b)\n",
        "print('A divisão é:', a / b)\n",
        "print('A multiplicação é:', a * b)"
      ],
      "metadata": {
        "colab": {
          "base_uri": "https://localhost:8080/"
        },
        "id": "ndj-742E8VNg",
        "outputId": "2be45a0a-422a-49df-bb62-e8f695361533"
      },
      "execution_count": null,
      "outputs": [
        {
          "output_type": "stream",
          "name": "stdout",
          "text": [
            "Qual o primeiro número? 10\n",
            "Qual o segundo número? 5\n",
            "A soma é: 15\n",
            "A subtração é: 5\n",
            "A divisão é: 2.0\n",
            "A multiplicação é: 50\n"
          ]
        }
      ]
    },
    {
      "cell_type": "markdown",
      "source": [
        "#####**Exercício 2: Efetuar o cálculo da quantidade de litros de combustível gasto em uma viagem, utilizando um automóvel que faz 12 Km por litro. Para obter o cálculo, o usuário deve fornecer o tempo gasto na viagem e a velocidade média durante ela. Desta forma, será possível obter a distância percorrida com a fórmula DISTANCIA = TEMPO * VELOCIDADE. Tendo o valor da distância, basta calcular a quantidade de litros de combustível utilizada na viagem, com a fórmula: LITROS_USADOS = DISTANCIA / 12. O programa deve apresentar os valores da velocidade média, tempo gasto na viagem, a distância percorrida e a quantidade de litros utilizada na viagem**"
      ],
      "metadata": {
        "id": "vgVOr4Nz-TQq"
      }
    },
    {
      "cell_type": "code",
      "source": [
        "combustivel_automovel = 12\n",
        "tempo_gasto = int(input('Qual foi o tempo gasto durante a viagem? '))\n",
        "velocidade_media = int(input('Qual foi a velocidade media durante a viagem? '))\n",
        "distancia_percorrida = tempo_gasto * velocidade_media\n",
        "litros_usados = distancia_percorrida/12\n",
        "print(f'A distância percorrida foi de {distancia_percorrida}',f'\\nA quantidade de litros usados foi de {litros_usados}')"
      ],
      "metadata": {
        "colab": {
          "base_uri": "https://localhost:8080/"
        },
        "id": "qGV9FOto8em5",
        "outputId": "3d69d1d6-0600-4c03-ca6f-ef08401a906b"
      },
      "execution_count": null,
      "outputs": [
        {
          "output_type": "stream",
          "name": "stdout",
          "text": [
            "Qual foi o tempo gasto durante a viagem? 5\n",
            "Qual foi a velocidade media durante a viagem? 60\n",
            "A distância percorrida foi de 300 \n",
            "A quantidade de litros usados foi de 25.0\n"
          ]
        }
      ]
    },
    {
      "cell_type": "markdown",
      "source": [
        "#Operadores lógicos e relacionais"
      ],
      "metadata": {
        "id": "yCk1C_LTCme0"
      }
    },
    {
      "cell_type": "markdown",
      "source": [
        "##Operadores lógicos"
      ],
      "metadata": {
        "id": "HSg-QcuoCp0U"
      }
    },
    {
      "cell_type": "code",
      "source": [
        "a = True\n",
        "b = False"
      ],
      "metadata": {
        "id": "4byWH6jCCv5k"
      },
      "execution_count": null,
      "outputs": []
    },
    {
      "cell_type": "code",
      "source": [
        "print(a,b)"
      ],
      "metadata": {
        "colab": {
          "base_uri": "https://localhost:8080/"
        },
        "id": "L4eH8IMAC0AD",
        "outputId": "81d9e60e-c243-47ba-cd37-9c92aaefd2dd"
      },
      "execution_count": null,
      "outputs": [
        {
          "output_type": "stream",
          "name": "stdout",
          "text": [
            "True False\n"
          ]
        }
      ]
    },
    {
      "cell_type": "code",
      "source": [
        "a and b"
      ],
      "metadata": {
        "colab": {
          "base_uri": "https://localhost:8080/"
        },
        "id": "kJSzg33YC2Jk",
        "outputId": "ad43903f-089a-43f5-942a-b10b1d91b03a"
      },
      "execution_count": null,
      "outputs": [
        {
          "output_type": "execute_result",
          "data": {
            "text/plain": [
              "False"
            ]
          },
          "metadata": {},
          "execution_count": 143
        }
      ]
    },
    {
      "cell_type": "code",
      "source": [
        "a & b"
      ],
      "metadata": {
        "colab": {
          "base_uri": "https://localhost:8080/"
        },
        "id": "hsvK6NRuDD6b",
        "outputId": "636f95d2-eb1c-4559-f7d4-4075e265792a"
      },
      "execution_count": null,
      "outputs": [
        {
          "output_type": "execute_result",
          "data": {
            "text/plain": [
              "False"
            ]
          },
          "metadata": {},
          "execution_count": 145
        }
      ]
    },
    {
      "cell_type": "code",
      "source": [
        "c = a and b\n",
        "print(\"'A' e 'B' são iguais é\",c)"
      ],
      "metadata": {
        "colab": {
          "base_uri": "https://localhost:8080/"
        },
        "id": "nFZvbHOyDJGL",
        "outputId": "cc1f2136-cce6-4daa-ad81-aefd413fccad"
      },
      "execution_count": null,
      "outputs": [
        {
          "output_type": "stream",
          "name": "stdout",
          "text": [
            "'A' e 'B' são iguais é False\n"
          ]
        }
      ]
    },
    {
      "cell_type": "code",
      "source": [
        "a or b"
      ],
      "metadata": {
        "colab": {
          "base_uri": "https://localhost:8080/"
        },
        "id": "gefA5DGoDitE",
        "outputId": "1be4962b-f764-420c-c9ef-c809f5a4a213"
      },
      "execution_count": null,
      "outputs": [
        {
          "output_type": "execute_result",
          "data": {
            "text/plain": [
              "True"
            ]
          },
          "metadata": {},
          "execution_count": 147
        }
      ]
    },
    {
      "cell_type": "code",
      "source": [
        "a | b"
      ],
      "metadata": {
        "colab": {
          "base_uri": "https://localhost:8080/"
        },
        "id": "b1kd7n2rDnZ6",
        "outputId": "bf9d655d-3e9a-41ae-c157-5757a94766a9"
      },
      "execution_count": null,
      "outputs": [
        {
          "output_type": "execute_result",
          "data": {
            "text/plain": [
              "True"
            ]
          },
          "metadata": {},
          "execution_count": 149
        }
      ]
    },
    {
      "cell_type": "code",
      "source": [
        "d = a or b\n",
        "print(\"'A' e 'B' é igual a\",d)"
      ],
      "metadata": {
        "colab": {
          "base_uri": "https://localhost:8080/"
        },
        "id": "AH7hMx2yDs4h",
        "outputId": "1586b80c-97fa-4376-a8aa-d47746545ad9"
      },
      "execution_count": null,
      "outputs": [
        {
          "output_type": "stream",
          "name": "stdout",
          "text": [
            "'A' e 'B' é igual a True\n"
          ]
        }
      ]
    },
    {
      "cell_type": "code",
      "source": [
        "not a"
      ],
      "metadata": {
        "colab": {
          "base_uri": "https://localhost:8080/"
        },
        "id": "Wb3JKOyMD3-R",
        "outputId": "77ff229c-2a63-4e12-e0fc-acb5a6aac452"
      },
      "execution_count": null,
      "outputs": [
        {
          "output_type": "execute_result",
          "data": {
            "text/plain": [
              "False"
            ]
          },
          "metadata": {},
          "execution_count": 153
        }
      ]
    },
    {
      "cell_type": "code",
      "source": [
        "not b"
      ],
      "metadata": {
        "colab": {
          "base_uri": "https://localhost:8080/"
        },
        "id": "zkqPKuQ6D7DZ",
        "outputId": "60f61d8e-913f-479f-9e5a-d83ea0e6bce2"
      },
      "execution_count": null,
      "outputs": [
        {
          "output_type": "execute_result",
          "data": {
            "text/plain": [
              "True"
            ]
          },
          "metadata": {},
          "execution_count": 154
        }
      ]
    },
    {
      "cell_type": "markdown",
      "source": [
        "##Operadores relacionais"
      ],
      "metadata": {
        "id": "gOYWL1vzCtls"
      }
    },
    {
      "cell_type": "code",
      "source": [
        "5 > 3, 5 < 3"
      ],
      "metadata": {
        "colab": {
          "base_uri": "https://localhost:8080/"
        },
        "id": "-r2qT2ipD_qr",
        "outputId": "f1c4ea3e-de36-42ae-ccdc-e00ba09cb9e4"
      },
      "execution_count": null,
      "outputs": [
        {
          "output_type": "execute_result",
          "data": {
            "text/plain": [
              "(True, False)"
            ]
          },
          "metadata": {},
          "execution_count": 155
        }
      ]
    },
    {
      "cell_type": "code",
      "source": [
        "5 == 3, 5 == 5, 5 != 3"
      ],
      "metadata": {
        "colab": {
          "base_uri": "https://localhost:8080/"
        },
        "id": "iEqzos7wEQQi",
        "outputId": "e9f64f02-ac5e-4cc2-c073-4ce7b948b006"
      },
      "execution_count": null,
      "outputs": [
        {
          "output_type": "execute_result",
          "data": {
            "text/plain": [
              "(False, True, True)"
            ]
          },
          "metadata": {},
          "execution_count": 158
        }
      ]
    },
    {
      "cell_type": "markdown",
      "source": [
        "#Operador condicional"
      ],
      "metadata": {
        "id": "URoEUmIcEj2Z"
      }
    },
    {
      "cell_type": "code",
      "source": [
        "a = input('Digite o primeiro número: ')\n",
        "b = input('Digite o segundo número: ')"
      ],
      "metadata": {
        "colab": {
          "base_uri": "https://localhost:8080/"
        },
        "id": "GAY2SQp1E67B",
        "outputId": "22373456-e0e3-4bbf-eb7e-d8a385da0a06"
      },
      "execution_count": null,
      "outputs": [
        {
          "name": "stdout",
          "output_type": "stream",
          "text": [
            "Digite o primeiro número: 2\n",
            "Digite o segundo número: 3\n"
          ]
        }
      ]
    },
    {
      "cell_type": "code",
      "source": [
        "if a > b:\n",
        "  print(f\"{a} é maior que {b}\")\n",
        "elif a == b:\n",
        "  print(f\"Como água e h2o {a} é igual a {b}\")\n",
        "else:\n",
        "  print(f\"{b} é maior que {a}\")"
      ],
      "metadata": {
        "colab": {
          "base_uri": "https://localhost:8080/"
        },
        "id": "_IkIeEttEjDp",
        "outputId": "0e193f13-ced6-4a79-b91f-cf6e8ca132e6"
      },
      "execution_count": null,
      "outputs": [
        {
          "output_type": "stream",
          "name": "stdout",
          "text": [
            "3 é maior que 2\n"
          ]
        }
      ]
    },
    {
      "cell_type": "code",
      "source": [
        "x = 2\n",
        "y = 3\n",
        "if (x>1) and (y%2==0):\n",
        "  print('x é maior que 1 e y é par')\n",
        "else:\n",
        "  print('Uma ou nenhuma das condições foram satisfeitas')"
      ],
      "metadata": {
        "colab": {
          "base_uri": "https://localhost:8080/"
        },
        "id": "MhwmfYqgGPlE",
        "outputId": "7098c1ce-0e6b-4116-aa5a-010a44dbc895"
      },
      "execution_count": null,
      "outputs": [
        {
          "output_type": "stream",
          "name": "stdout",
          "text": [
            "Uma ou nenhuma das condições foram satisfeitas\n"
          ]
        }
      ]
    },
    {
      "cell_type": "markdown",
      "source": [
        "#Exercício 2"
      ],
      "metadata": {
        "id": "12dF1O3gyL5l"
      }
    },
    {
      "cell_type": "markdown",
      "source": [
        "## 1. Leia a idade do usuário e classifique-o em:\n",
        "- Criança – 0 a 12 anos\n",
        "- Adolescente – 13 a 17 anos\n",
        "- Adulto – acima de 18 anos\n",
        "- Se o usuário digitar um número negativo, mostrar a mensagem que a idade é inválida"
      ],
      "metadata": {
        "id": "LfFWpcMjyONc"
      }
    },
    {
      "cell_type": "code",
      "source": [
        "while True:\n",
        "  idade = int(input(\"Digite a sua idade: \"))\n",
        "  if idade > 0:\n",
        "    break\n",
        "  else:\n",
        "    print(\"A idade não pode ser negativa tente novamente\")\n",
        "\n",
        "if idade <= 12:\n",
        "  print('O usuário é classificado como criança')\n",
        "elif idade <= 17:\n",
        "  print('O usuário é classificado como adolescente')\n",
        "else:\n",
        "  print('O usuário é classificado como adulto')"
      ],
      "metadata": {
        "colab": {
          "base_uri": "https://localhost:8080/"
        },
        "id": "uDTp9Wb3ybXA",
        "outputId": "9ea74fea-ec7f-434b-d38a-a8628c1942fd"
      },
      "execution_count": null,
      "outputs": [
        {
          "output_type": "stream",
          "name": "stdout",
          "text": [
            "Digite a sua idade: -1\n",
            "A idade não pode ser negativa tente novamente\n",
            "Digite a sua idade: 17\n",
            "O usuário é classificado como adolescente\n"
          ]
        }
      ]
    },
    {
      "cell_type": "markdown",
      "source": [
        "##Calcular a média de um aluno que cursou a disciplina de Programação I, a partir da leitura das notas M1, M2 e M3; passando por um cálculo da média aritmética. Após a média calculada, devemos anunciar se o aluno foi aprovado, reprovado ou pegou exame\n",
        "- Se a média estiver entre 0.0 e 4.0, o aluno está reprovado\n",
        "- Se a média estiver entre 4.1 e 6.0, o aluno pegou exame\n",
        "- Se a média for maior do que 6.0, o aluno está aprovado\n",
        "- Se o aluno pegou exame, deve ser lida a nota do exame. Se a nota do exame for maior do que 6.0, está aprovado, senão; está reprovado"
      ],
      "metadata": {
        "id": "gARcUPq0yWBA"
      }
    },
    {
      "cell_type": "code",
      "source": [
        "q = 0\n",
        "while True:\n",
        "  q = q + 1\n",
        "  nota = float(input(f'Digite sua {q}° nota: '))\n",
        "  if q == 1:\n",
        "    nota1 = nota\n",
        "  elif q == 2:\n",
        "    nota2 = nota1 + nota\n",
        "  else:\n",
        "    média = nota2 + nota\n",
        "    média = média / 3\n",
        "    break\n",
        "print(f'A média obtida pelo aluno foi de {média}\\nDessa forma o aluno foi:')\n",
        "if média >= 0.0 and média <= 4.0:\n",
        "  print('O aluno está reporvado')\n",
        "elif média <= 6.0:\n",
        "  print('O aluno pegou exame')\n",
        "  nota_exame = float(input('Digite a sua nota do exame: '))\n",
        "  if nota_exame > 6.0:\n",
        "    print('O aluno está aprovado')\n",
        "  else:\n",
        "    print('O aluno está reprovado')\n",
        "else:\n",
        "  print(\"O aluno está aprovado\")"
      ],
      "metadata": {
        "colab": {
          "base_uri": "https://localhost:8080/"
        },
        "id": "_tJaUcpFzmlD",
        "outputId": "7f7563a9-e488-4dcf-f456-19595c6fda52"
      },
      "execution_count": null,
      "outputs": [
        {
          "output_type": "stream",
          "name": "stdout",
          "text": [
            "Digite sua 1° nota: 5\n",
            "Digite sua 2° nota: 5\n",
            "Digite sua 3° nota: 5\n",
            "A média obtida pelo aluno foi de 5.0\n",
            "Dessa forma o aluno foi:\n",
            "O aluno pegou exame\n",
            "Digite a sua nota do exame: 7\n",
            "O aluno está aprovado\n"
          ]
        }
      ]
    },
    {
      "cell_type": "markdown",
      "source": [
        "#Estruturas de repetição - for"
      ],
      "metadata": {
        "id": "7TnGCpgP9kUF"
      }
    },
    {
      "cell_type": "code",
      "source": [
        "for numero in range(1, 6):\n",
        "  print(numero)"
      ],
      "metadata": {
        "colab": {
          "base_uri": "https://localhost:8080/"
        },
        "id": "83fX5FEZ9o1u",
        "outputId": "d8d95729-b756-4664-c9ec-cb09ee96cd53"
      },
      "execution_count": null,
      "outputs": [
        {
          "output_type": "stream",
          "name": "stdout",
          "text": [
            "1\n",
            "2\n",
            "3\n",
            "4\n",
            "5\n"
          ]
        }
      ]
    },
    {
      "cell_type": "code",
      "source": [
        "for numero in range(5,0,-1):\n",
        "  print(numero)"
      ],
      "metadata": {
        "colab": {
          "base_uri": "https://localhost:8080/"
        },
        "id": "DhJWwbxE-Mw9",
        "outputId": "4416c435-ef19-4e96-8127-9a757a3a3745"
      },
      "execution_count": null,
      "outputs": [
        {
          "output_type": "stream",
          "name": "stdout",
          "text": [
            "5\n",
            "4\n",
            "3\n",
            "2\n",
            "1\n"
          ]
        }
      ]
    },
    {
      "cell_type": "code",
      "source": [
        "soma = 0\n",
        "for numero in range(1,6):\n",
        "  soma = soma + numero\n",
        "  print(soma)"
      ],
      "metadata": {
        "colab": {
          "base_uri": "https://localhost:8080/"
        },
        "id": "hWiIIaKu-XJr",
        "outputId": "fc501808-793e-4443-ba6e-fde993fc0517"
      },
      "execution_count": null,
      "outputs": [
        {
          "output_type": "stream",
          "name": "stdout",
          "text": [
            "1\n",
            "3\n",
            "6\n",
            "10\n",
            "15\n"
          ]
        }
      ]
    },
    {
      "cell_type": "code",
      "source": [
        "palavra = 'sorvete'\n",
        "for l in palavra:\n",
        "  print(l)\n",
        "  if l == 'v':\n",
        "    print('Achou a letra v')"
      ],
      "metadata": {
        "colab": {
          "base_uri": "https://localhost:8080/"
        },
        "id": "IjSwCaTg-6RR",
        "outputId": "d7ea8d5e-5151-4cd3-bf46-6220f1a8f49c"
      },
      "execution_count": null,
      "outputs": [
        {
          "output_type": "stream",
          "name": "stdout",
          "text": [
            "s\n",
            "o\n",
            "r\n",
            "v\n",
            "Achou a letra v\n",
            "e\n",
            "t\n",
            "e\n"
          ]
        }
      ]
    },
    {
      "cell_type": "code",
      "source": [
        "for i in range(0,5):\n",
        "  print(i)\n",
        "  print('---')\n",
        "  for j in range(0,3):\n",
        "    print(j)\n",
        "  print()"
      ],
      "metadata": {
        "colab": {
          "base_uri": "https://localhost:8080/"
        },
        "id": "MQWFF6r3_Smx",
        "outputId": "a637438d-fc6e-49be-cc09-56ce70da605f"
      },
      "execution_count": null,
      "outputs": [
        {
          "output_type": "stream",
          "name": "stdout",
          "text": [
            "0\n",
            "---\n",
            "0\n",
            "1\n",
            "2\n",
            "\n",
            "1\n",
            "---\n",
            "0\n",
            "1\n",
            "2\n",
            "\n",
            "2\n",
            "---\n",
            "0\n",
            "1\n",
            "2\n",
            "\n",
            "3\n",
            "---\n",
            "0\n",
            "1\n",
            "2\n",
            "\n",
            "4\n",
            "---\n",
            "0\n",
            "1\n",
            "2\n",
            "\n"
          ]
        }
      ]
    },
    {
      "cell_type": "markdown",
      "source": [
        "#Estruturas de repetição - while"
      ],
      "metadata": {
        "id": "F2M9iN0m_4oR"
      }
    },
    {
      "cell_type": "code",
      "source": [
        "numero = 1\n",
        "while numero < 6:\n",
        "  print(numero)\n",
        "  numero += 1\n"
      ],
      "metadata": {
        "colab": {
          "base_uri": "https://localhost:8080/"
        },
        "id": "wuC665Ao_8WA",
        "outputId": "dedd60d4-d254-4309-ee74-3cc6d50b7f32"
      },
      "execution_count": null,
      "outputs": [
        {
          "output_type": "stream",
          "name": "stdout",
          "text": [
            "1\n",
            "2\n",
            "3\n",
            "4\n",
            "5\n"
          ]
        }
      ]
    },
    {
      "cell_type": "code",
      "source": [
        "numero = 5\n",
        "while numero > 0:\n",
        "  print(numero)\n",
        "  numero -= 1"
      ],
      "metadata": {
        "colab": {
          "base_uri": "https://localhost:8080/"
        },
        "id": "v3Ikd5mNAnm7",
        "outputId": "50151e45-81e1-4d63-fac0-17acdadaddbe"
      },
      "execution_count": null,
      "outputs": [
        {
          "output_type": "stream",
          "name": "stdout",
          "text": [
            "5\n",
            "4\n",
            "3\n",
            "2\n",
            "1\n"
          ]
        }
      ]
    },
    {
      "cell_type": "code",
      "source": [
        "soma = 0\n",
        "numero = 1\n",
        "while numero < 6:\n",
        "  print(soma)\n",
        "  soma += numero\n",
        "  numero += 1"
      ],
      "metadata": {
        "colab": {
          "base_uri": "https://localhost:8080/"
        },
        "id": "Alxw1WMXAxT9",
        "outputId": "d4ebdfc3-5d5f-444a-abbe-701dcfb925e5"
      },
      "execution_count": null,
      "outputs": [
        {
          "output_type": "stream",
          "name": "stdout",
          "text": [
            "0\n",
            "1\n",
            "3\n",
            "6\n",
            "10\n"
          ]
        }
      ]
    },
    {
      "cell_type": "code",
      "source": [
        "numero = -1\n",
        "while numero < 1 or numero > 10:\n",
        "  numero = int(input('Digite um número de 1 a 10: '))"
      ],
      "metadata": {
        "colab": {
          "base_uri": "https://localhost:8080/"
        },
        "id": "UBSdhQ1rBHWz",
        "outputId": "7db93844-4b44-4d5e-8928-1dd93e5a1c58"
      },
      "execution_count": null,
      "outputs": [
        {
          "name": "stdout",
          "output_type": "stream",
          "text": [
            "Digite um número de 1 a 10: -4\n",
            "Digite um número de 1 a 10: 12\n",
            "Digite um número de 1 a 10: 4\n"
          ]
        }
      ]
    },
    {
      "cell_type": "markdown",
      "source": [
        "#Exercício 3"
      ],
      "metadata": {
        "id": "8mFE9M2gB-GT"
      }
    },
    {
      "cell_type": "markdown",
      "source": [
        "* Para revisar o conteúdo prático visto até agora, você agora pode resolver dois exercícios. Logo em seguida você pode acessar a aula em vídeo com a solução. Implemente cada exercício utilizando tanto o for quanto o while"
      ],
      "metadata": {
        "id": "KZ93s11-CGTb"
      }
    },
    {
      "cell_type": "markdown",
      "source": [
        "##1. Ler 5 notas e informa a média"
      ],
      "metadata": {
        "id": "bN95n4hOCCVU"
      }
    },
    {
      "cell_type": "markdown",
      "source": [
        "* For"
      ],
      "metadata": {
        "id": "jjmitfOjFEQf"
      }
    },
    {
      "cell_type": "code",
      "source": [
        "contador = 1\n",
        "média = []\n",
        "for contador in range(1,6):\n",
        "  nota = float(input(f\"Digite sua {contador}° nota: \"))\n",
        "  média.append(nota)\n",
        "\n",
        "print(f\"A média obtida foi de {sum(média)/5}\")"
      ],
      "metadata": {
        "colab": {
          "base_uri": "https://localhost:8080/"
        },
        "id": "66Cdz1c-B6Mj",
        "outputId": "332e8066-472b-4516-d0cb-690c848f611c"
      },
      "execution_count": null,
      "outputs": [
        {
          "output_type": "stream",
          "name": "stdout",
          "text": [
            "Digite sua 1° nota: 5\n",
            "Digite sua 2° nota: 5\n",
            "Digite sua 3° nota: 5\n",
            "Digite sua 4° nota: 5\n",
            "Digite sua 5° nota: 5\n",
            "A média obtida foi de 5.0\n"
          ]
        }
      ]
    },
    {
      "cell_type": "markdown",
      "source": [
        "* While"
      ],
      "metadata": {
        "id": "rWlHbpDxFFkb"
      }
    },
    {
      "cell_type": "code",
      "source": [
        "contador = 0\n",
        "média = []\n",
        "while True:\n",
        "  contador = contador + 1\n",
        "  nota = float(input(f\"Digite sua {contador}° nota: \"))\n",
        "  média.append(nota)\n",
        "  if contador == 5:\n",
        "    média = sum(média) / 5\n",
        "    break\n",
        "\n",
        "print(f\"A média obtida foi de {média}\")"
      ],
      "metadata": {
        "colab": {
          "base_uri": "https://localhost:8080/"
        },
        "id": "Oi89Ly2dDbDW",
        "outputId": "4c843db9-1e1f-457c-97bb-bd4ed6b0b452"
      },
      "execution_count": null,
      "outputs": [
        {
          "output_type": "stream",
          "name": "stdout",
          "text": [
            "Digite sua 1° nota: 7\n",
            "Digite sua 2° nota: 2\n",
            "Digite sua 3° nota: 10\n",
            "Digite sua 4° nota: 9\n",
            "Digite sua 5° nota: 8\n",
            "A média obtida foi de 7.2\n"
          ]
        }
      ]
    },
    {
      "cell_type": "markdown",
      "source": [
        "##Imprimir a tabuada do número 3 (3 x 1 = 3 ; 3 x 10 = 30)"
      ],
      "metadata": {
        "id": "oqQZegF0CI17"
      }
    },
    {
      "cell_type": "markdown",
      "source": [
        "* For"
      ],
      "metadata": {
        "id": "kq9GZimjFG4L"
      }
    },
    {
      "cell_type": "code",
      "source": [
        "for i in range(1,11):\n",
        "  print('3 x {} = {}'.format(i,3*i))"
      ],
      "metadata": {
        "colab": {
          "base_uri": "https://localhost:8080/"
        },
        "id": "ta8CwDFTEJVF",
        "outputId": "25bac9ff-b7ac-4809-bcdc-017870ffb097"
      },
      "execution_count": null,
      "outputs": [
        {
          "output_type": "stream",
          "name": "stdout",
          "text": [
            "3 x 1 = 3\n",
            "3 x 2 = 6\n",
            "3 x 3 = 9\n",
            "3 x 4 = 12\n",
            "3 x 5 = 15\n",
            "3 x 6 = 18\n",
            "3 x 7 = 21\n",
            "3 x 8 = 24\n",
            "3 x 9 = 27\n",
            "3 x 10 = 30\n"
          ]
        }
      ]
    },
    {
      "cell_type": "markdown",
      "source": [
        "* While"
      ],
      "metadata": {
        "id": "Y4QxxmwjFKJD"
      }
    },
    {
      "cell_type": "code",
      "source": [
        "numero = 1\n",
        "while numero <= 10:\n",
        "  print('3 x {} = {}'.format(numero,3*numero))\n",
        "  numero += 1"
      ],
      "metadata": {
        "colab": {
          "base_uri": "https://localhost:8080/"
        },
        "id": "EA5jLTUvEsTT",
        "outputId": "ef9c6f48-cc9a-4ccf-f61f-bf1451494f0b"
      },
      "execution_count": null,
      "outputs": [
        {
          "output_type": "stream",
          "name": "stdout",
          "text": [
            "3 x 1 = 3\n",
            "3 x 2 = 6\n",
            "3 x 3 = 9\n",
            "3 x 4 = 12\n",
            "3 x 5 = 15\n",
            "3 x 6 = 18\n",
            "3 x 7 = 21\n",
            "3 x 8 = 24\n",
            "3 x 9 = 27\n",
            "3 x 10 = 30\n"
          ]
        }
      ]
    },
    {
      "cell_type": "markdown",
      "source": [
        "#Coleções"
      ],
      "metadata": {
        "id": "BC8jPYPjLTF-"
      }
    },
    {
      "cell_type": "markdown",
      "source": [
        "##Tuplas"
      ],
      "metadata": {
        "id": "9vEgrqQULWrM"
      }
    },
    {
      "cell_type": "code",
      "source": [
        "tupla = ('Homo sapiens', 'Canis familiaris', 'Felis catus')"
      ],
      "metadata": {
        "id": "T2nQgMClLdFr"
      },
      "execution_count": null,
      "outputs": []
    },
    {
      "cell_type": "code",
      "source": [
        "tupla"
      ],
      "metadata": {
        "colab": {
          "base_uri": "https://localhost:8080/"
        },
        "id": "iJv-oqsULpw8",
        "outputId": "ae53b2e8-efc3-4740-fde0-724e8eecd7aa"
      },
      "execution_count": null,
      "outputs": [
        {
          "output_type": "execute_result",
          "data": {
            "text/plain": [
              "('Homo sapiens', 'Canis familiaris', 'Felis catus')"
            ]
          },
          "metadata": {},
          "execution_count": 76
        }
      ]
    },
    {
      "cell_type": "code",
      "source": [
        "tupla[0]"
      ],
      "metadata": {
        "colab": {
          "base_uri": "https://localhost:8080/",
          "height": 35
        },
        "id": "hTJ-7Vf4LrJT",
        "outputId": "cc325b8d-3f22-47cd-85f4-d13c7fcf06c9"
      },
      "execution_count": null,
      "outputs": [
        {
          "output_type": "execute_result",
          "data": {
            "text/plain": [
              "'Homo sapiens'"
            ],
            "application/vnd.google.colaboratory.intrinsic+json": {
              "type": "string"
            }
          },
          "metadata": {},
          "execution_count": 77
        }
      ]
    },
    {
      "cell_type": "code",
      "source": [
        "tupla[2]"
      ],
      "metadata": {
        "colab": {
          "base_uri": "https://localhost:8080/",
          "height": 35
        },
        "id": "dCM-dPZ0LtY7",
        "outputId": "7995e779-7f3e-4b2b-fa33-2c254e232881"
      },
      "execution_count": null,
      "outputs": [
        {
          "output_type": "execute_result",
          "data": {
            "text/plain": [
              "'Felis catus'"
            ],
            "application/vnd.google.colaboratory.intrinsic+json": {
              "type": "string"
            }
          },
          "metadata": {},
          "execution_count": 78
        }
      ]
    },
    {
      "cell_type": "code",
      "source": [
        "tupla.index('Canis familiaris')"
      ],
      "metadata": {
        "colab": {
          "base_uri": "https://localhost:8080/"
        },
        "id": "4EUsM5CyL4hl",
        "outputId": "19756da9-b56e-4094-a11e-dafe523393d3"
      },
      "execution_count": null,
      "outputs": [
        {
          "output_type": "execute_result",
          "data": {
            "text/plain": [
              "1"
            ]
          },
          "metadata": {},
          "execution_count": 79
        }
      ]
    },
    {
      "cell_type": "code",
      "source": [
        "for elemento in tupla:\n",
        "  print(elemento)"
      ],
      "metadata": {
        "colab": {
          "base_uri": "https://localhost:8080/"
        },
        "id": "HtZzUSVaL7em",
        "outputId": "bcfc5dcf-c81e-4c5e-90d6-6e5c0be4f58c"
      },
      "execution_count": null,
      "outputs": [
        {
          "output_type": "stream",
          "name": "stdout",
          "text": [
            "Homo sapiens\n",
            "Canis familiaris\n",
            "Felis catus\n"
          ]
        }
      ]
    },
    {
      "cell_type": "markdown",
      "source": [
        "##Listas"
      ],
      "metadata": {
        "id": "iZ0BF9ZiLXr0"
      }
    },
    {
      "cell_type": "code",
      "source": [
        "l1 = ['Homo sapiens', 'Canis familiaris', 'Felis catus']\n",
        "l2 = ['Xenopus laevis', 'Ailuropoda melanoleuca']"
      ],
      "metadata": {
        "id": "pyaOKmfVMDC_"
      },
      "execution_count": null,
      "outputs": []
    },
    {
      "cell_type": "code",
      "source": [
        "l3 = l1 + l2\n",
        "print(l3)"
      ],
      "metadata": {
        "colab": {
          "base_uri": "https://localhost:8080/"
        },
        "id": "4xEQ485gMQQ8",
        "outputId": "5fd4a86b-34ce-4cf4-b60e-3b8368aa499e"
      },
      "execution_count": null,
      "outputs": [
        {
          "output_type": "stream",
          "name": "stdout",
          "text": [
            "['Homo sapiens', 'Canis familiaris', 'Felis catus', 'Xenopus laevis', 'Ailuropoda melanoleuca']\n"
          ]
        }
      ]
    },
    {
      "cell_type": "code",
      "source": [
        "l2"
      ],
      "metadata": {
        "colab": {
          "base_uri": "https://localhost:8080/"
        },
        "id": "lmg1gFnFMVVU",
        "outputId": "4051bc3e-0a90-498a-d46a-cb813c4b6b8e"
      },
      "execution_count": null,
      "outputs": [
        {
          "output_type": "execute_result",
          "data": {
            "text/plain": [
              "['Xenopus laevis', 'Ailuropoda melanoleuca']"
            ]
          },
          "metadata": {},
          "execution_count": 83
        }
      ]
    },
    {
      "cell_type": "code",
      "source": [
        "l2_2 = l2 * 2\n",
        "print(l2_2)"
      ],
      "metadata": {
        "colab": {
          "base_uri": "https://localhost:8080/"
        },
        "id": "_8OVYCmTMWtr",
        "outputId": "2a313279-7e3e-40a9-8383-f8eb75ed99bf"
      },
      "execution_count": null,
      "outputs": [
        {
          "output_type": "stream",
          "name": "stdout",
          "text": [
            "['Xenopus laevis', 'Ailuropoda melanoleuca', 'Xenopus laevis', 'Ailuropoda melanoleuca']\n"
          ]
        }
      ]
    },
    {
      "cell_type": "code",
      "source": [
        "l1[1]"
      ],
      "metadata": {
        "colab": {
          "base_uri": "https://localhost:8080/",
          "height": 35
        },
        "id": "NFYzOcRyMlAz",
        "outputId": "62d87bcd-888f-477f-ba25-b3f5bfddcc89"
      },
      "execution_count": null,
      "outputs": [
        {
          "output_type": "execute_result",
          "data": {
            "text/plain": [
              "'Canis familiaris'"
            ],
            "application/vnd.google.colaboratory.intrinsic+json": {
              "type": "string"
            }
          },
          "metadata": {},
          "execution_count": 87
        }
      ]
    },
    {
      "cell_type": "code",
      "source": [
        "l1[0:2]"
      ],
      "metadata": {
        "colab": {
          "base_uri": "https://localhost:8080/"
        },
        "id": "0HIpamv-Mq7L",
        "outputId": "73727e25-491d-40d5-f89f-6492531d6dc9"
      },
      "execution_count": null,
      "outputs": [
        {
          "output_type": "execute_result",
          "data": {
            "text/plain": [
              "['Homo sapiens', 'Canis familiaris']"
            ]
          },
          "metadata": {},
          "execution_count": 88
        }
      ]
    },
    {
      "cell_type": "code",
      "source": [
        "l1.append('Gorila gorila')\n",
        "print(l1)"
      ],
      "metadata": {
        "colab": {
          "base_uri": "https://localhost:8080/"
        },
        "id": "yRLi8iPlMzFc",
        "outputId": "7aca8bc7-d8f6-4ebb-c98b-0c09b0a5b9a1"
      },
      "execution_count": null,
      "outputs": [
        {
          "output_type": "stream",
          "name": "stdout",
          "text": [
            "['Homo sapiens', 'Canis familiaris', 'Felis catus', 'Gorila gorila']\n"
          ]
        }
      ]
    },
    {
      "cell_type": "code",
      "source": [
        "l1.remove('Felis catus')\n",
        "print(l1)"
      ],
      "metadata": {
        "colab": {
          "base_uri": "https://localhost:8080/"
        },
        "id": "G1Ec8pBzM3Nz",
        "outputId": "2145112a-d8b8-43d4-8cb2-0d4c50d29826"
      },
      "execution_count": null,
      "outputs": [
        {
          "output_type": "stream",
          "name": "stdout",
          "text": [
            "['Homo sapiens', 'Canis familiaris', 'Gorila gorila']\n"
          ]
        }
      ]
    },
    {
      "cell_type": "code",
      "source": [
        "del(l1)\n",
        "print(l1)"
      ],
      "metadata": {
        "colab": {
          "base_uri": "https://localhost:8080/",
          "height": 193
        },
        "id": "uRxuds4lM8tL",
        "outputId": "aad1b722-0650-47e8-ebef-1cd75e9594d7"
      },
      "execution_count": null,
      "outputs": [
        {
          "output_type": "error",
          "ename": "NameError",
          "evalue": "name 'l1' is not defined",
          "traceback": [
            "\u001b[0;31m---------------------------------------------------------------------------\u001b[0m",
            "\u001b[0;31mNameError\u001b[0m                                 Traceback (most recent call last)",
            "\u001b[0;32m<ipython-input-91-d2a288df4153>\u001b[0m in \u001b[0;36m<cell line: 2>\u001b[0;34m()\u001b[0m\n\u001b[1;32m      1\u001b[0m \u001b[0;32mdel\u001b[0m\u001b[0;34m(\u001b[0m\u001b[0ml1\u001b[0m\u001b[0;34m)\u001b[0m\u001b[0;34m\u001b[0m\u001b[0;34m\u001b[0m\u001b[0m\n\u001b[0;32m----> 2\u001b[0;31m \u001b[0mprint\u001b[0m\u001b[0;34m(\u001b[0m\u001b[0ml1\u001b[0m\u001b[0;34m)\u001b[0m\u001b[0;34m\u001b[0m\u001b[0;34m\u001b[0m\u001b[0m\n\u001b[0m",
            "\u001b[0;31mNameError\u001b[0m: name 'l1' is not defined"
          ]
        }
      ]
    },
    {
      "cell_type": "code",
      "source": [
        "for item in l2_2:\n",
        "  print(item)"
      ],
      "metadata": {
        "colab": {
          "base_uri": "https://localhost:8080/"
        },
        "id": "WFiyllTjNAz7",
        "outputId": "6db8d938-6364-4175-88a8-da9be5576bc3"
      },
      "execution_count": null,
      "outputs": [
        {
          "output_type": "stream",
          "name": "stdout",
          "text": [
            "Xenopus laevis\n",
            "Ailuropoda melanoleuca\n",
            "Xenopus laevis\n",
            "Ailuropoda melanoleuca\n"
          ]
        }
      ]
    },
    {
      "cell_type": "markdown",
      "source": [
        "##Dicionários"
      ],
      "metadata": {
        "id": "9WzevbG1LYac"
      }
    },
    {
      "cell_type": "code",
      "source": [
        "coleta = {'Aedes aegypt':32, 'Aedes albopictus':22, 'Anopheles darlingi':14}"
      ],
      "metadata": {
        "id": "9r7ccSSgNZgz"
      },
      "execution_count": null,
      "outputs": []
    },
    {
      "cell_type": "code",
      "source": [
        "coleta['Aedes aegypt']"
      ],
      "metadata": {
        "colab": {
          "base_uri": "https://localhost:8080/"
        },
        "id": "Tq9PbztHNuHD",
        "outputId": "4d36fa65-2a52-43b0-db03-88e434f293b3"
      },
      "execution_count": null,
      "outputs": [
        {
          "output_type": "execute_result",
          "data": {
            "text/plain": [
              "32"
            ]
          },
          "metadata": {},
          "execution_count": 94
        }
      ]
    },
    {
      "cell_type": "code",
      "source": [
        "coleta['Rhodnius montenegrensis'] = 11"
      ],
      "metadata": {
        "id": "VDLeQjFoN0sj"
      },
      "execution_count": null,
      "outputs": []
    },
    {
      "cell_type": "code",
      "source": [
        "print(coleta)"
      ],
      "metadata": {
        "colab": {
          "base_uri": "https://localhost:8080/"
        },
        "id": "FjXdGUqPN5ZE",
        "outputId": "7c35aaaa-2a24-40eb-f0f7-42ac1b6c1e02"
      },
      "execution_count": null,
      "outputs": [
        {
          "output_type": "stream",
          "name": "stdout",
          "text": [
            "{'Aedes aegypt': 32, 'Aedes albopictus': 22, 'Anopheles darlingi': 14, 'Rhodnius montenegrensis': 11}\n"
          ]
        }
      ]
    },
    {
      "cell_type": "code",
      "source": [
        "del(coleta)['Aedes albopictus']\n",
        "print(coleta)"
      ],
      "metadata": {
        "colab": {
          "base_uri": "https://localhost:8080/"
        },
        "id": "L6AOO4w3N9XW",
        "outputId": "7afd5621-fdd6-467b-9a1e-1c8f0c8c1445"
      },
      "execution_count": null,
      "outputs": [
        {
          "output_type": "stream",
          "name": "stdout",
          "text": [
            "{'Aedes aegypt': 32, 'Anopheles darlingi': 14, 'Rhodnius montenegrensis': 11}\n"
          ]
        }
      ]
    },
    {
      "cell_type": "code",
      "source": [
        "coleta.items()"
      ],
      "metadata": {
        "colab": {
          "base_uri": "https://localhost:8080/"
        },
        "id": "wMJpAKkEOFkl",
        "outputId": "0368eba7-f021-483b-d59c-438230376ae0"
      },
      "execution_count": null,
      "outputs": [
        {
          "output_type": "execute_result",
          "data": {
            "text/plain": [
              "dict_items([('Aedes aegypt', 32), ('Anopheles darlingi', 14), ('Rhodnius montenegrensis', 11)])"
            ]
          },
          "metadata": {},
          "execution_count": 99
        }
      ]
    },
    {
      "cell_type": "code",
      "source": [
        "coleta.keys()"
      ],
      "metadata": {
        "colab": {
          "base_uri": "https://localhost:8080/"
        },
        "id": "ZDKzSIurOMA2",
        "outputId": "17fd7893-8d5f-42fa-84c4-51404c69b107"
      },
      "execution_count": null,
      "outputs": [
        {
          "output_type": "execute_result",
          "data": {
            "text/plain": [
              "dict_keys(['Aedes aegypt', 'Anopheles darlingi', 'Rhodnius montenegrensis'])"
            ]
          },
          "metadata": {},
          "execution_count": 100
        }
      ]
    },
    {
      "cell_type": "code",
      "source": [
        "coleta.values()"
      ],
      "metadata": {
        "colab": {
          "base_uri": "https://localhost:8080/"
        },
        "id": "Znoqr_JGOPcU",
        "outputId": "5291fb65-f7f3-4c71-8306-9bc50b074f42"
      },
      "execution_count": null,
      "outputs": [
        {
          "output_type": "execute_result",
          "data": {
            "text/plain": [
              "dict_values([32, 14, 11])"
            ]
          },
          "metadata": {},
          "execution_count": 101
        }
      ]
    },
    {
      "cell_type": "code",
      "source": [
        "coleta2 = {'Anopheles gambiae': 13, 'Anopheles deaneorum':14}\n",
        "print(coleta2)"
      ],
      "metadata": {
        "colab": {
          "base_uri": "https://localhost:8080/"
        },
        "id": "1vqUyabJOVKU",
        "outputId": "b2c427de-de4e-4048-d75f-bebf6ab4490a"
      },
      "execution_count": null,
      "outputs": [
        {
          "output_type": "stream",
          "name": "stdout",
          "text": [
            "{'Anopheles gambiae': 13, 'Anopheles deaneorum': 14}\n"
          ]
        }
      ]
    },
    {
      "cell_type": "code",
      "source": [
        "coleta.update(coleta2)\n",
        "print(coleta)"
      ],
      "metadata": {
        "colab": {
          "base_uri": "https://localhost:8080/"
        },
        "id": "EbM0mZE6OgKE",
        "outputId": "78d49bd9-2e01-4506-edd1-7c903e6be5d5"
      },
      "execution_count": null,
      "outputs": [
        {
          "output_type": "stream",
          "name": "stdout",
          "text": [
            "{'Aedes aegypt': 32, 'Anopheles darlingi': 14, 'Rhodnius montenegrensis': 11, 'Anopheles gambiae': 13, 'Anopheles deaneorum': 14}\n"
          ]
        }
      ]
    },
    {
      "cell_type": "code",
      "source": [
        "coleta.items()"
      ],
      "metadata": {
        "colab": {
          "base_uri": "https://localhost:8080/"
        },
        "id": "NBLiJmvjOoiV",
        "outputId": "b5c0ba1e-81f4-43f9-bc36-8041bebfcda8"
      },
      "execution_count": null,
      "outputs": [
        {
          "output_type": "execute_result",
          "data": {
            "text/plain": [
              "dict_items([('Aedes aegypt', 32), ('Anopheles darlingi', 14), ('Rhodnius montenegrensis', 11), ('Anopheles gambiae', 13), ('Anopheles deaneorum', 14)])"
            ]
          },
          "metadata": {},
          "execution_count": 104
        }
      ]
    },
    {
      "cell_type": "code",
      "source": [
        "for especie, num_especimes in coleta.items():\n",
        "  print(f'Espécie: {especie}, número de espécimes coletados: {num_especimes}')"
      ],
      "metadata": {
        "colab": {
          "base_uri": "https://localhost:8080/"
        },
        "id": "dLgmKMPKOr-8",
        "outputId": "8326ad08-0013-43ec-977a-d1072113a113"
      },
      "execution_count": null,
      "outputs": [
        {
          "output_type": "stream",
          "name": "stdout",
          "text": [
            "Espécie: Aedes aegypt, número de espécimes coletados: 32\n",
            "Espécie: Anopheles darlingi, número de espécimes coletados: 14\n",
            "Espécie: Rhodnius montenegrensis, número de espécimes coletados: 11\n",
            "Espécie: Anopheles gambiae, número de espécimes coletados: 13\n",
            "Espécie: Anopheles deaneorum, número de espécimes coletados: 14\n"
          ]
        }
      ]
    },
    {
      "cell_type": "markdown",
      "source": [
        "##Conjuntos (set)"
      ],
      "metadata": {
        "id": "MacYC9ifLZlM"
      }
    },
    {
      "cell_type": "code",
      "source": [
        "biomeleculas = (' proteína', 'ácidos nucleicos', 'carboidrato', 'lipídeo',\n",
        "                'ácidos nucleicos', 'carboidrato', 'carboidrato', 'carboidrato')"
      ],
      "metadata": {
        "id": "hYaLS_ViPIeW"
      },
      "execution_count": null,
      "outputs": []
    },
    {
      "cell_type": "code",
      "source": [
        "print(biomeleculas)"
      ],
      "metadata": {
        "colab": {
          "base_uri": "https://localhost:8080/"
        },
        "id": "1Ata3VnyPc2q",
        "outputId": "9c9a22ad-3d90-4481-b1ba-e9d879f1a86b"
      },
      "execution_count": null,
      "outputs": [
        {
          "output_type": "stream",
          "name": "stdout",
          "text": [
            "(' proteína', 'ácidos nucleicos', 'carboidrato', 'lipídeo', 'ácidos nucleicos', 'carboidrato', 'carboidrato', 'carboidrato')\n"
          ]
        }
      ]
    },
    {
      "cell_type": "code",
      "source": [
        "print(set(biomeleculas))"
      ],
      "metadata": {
        "colab": {
          "base_uri": "https://localhost:8080/"
        },
        "id": "1pc0qhQmPgSi",
        "outputId": "019f56ef-b180-4d5f-8495-1f80bc583f74"
      },
      "execution_count": null,
      "outputs": [
        {
          "output_type": "stream",
          "name": "stdout",
          "text": [
            "{'carboidrato', 'lipídeo', 'ácidos nucleicos', ' proteína'}\n"
          ]
        }
      ]
    },
    {
      "cell_type": "code",
      "source": [
        "c1 = {1,2,3,4,5}\n",
        "c2 = {3,4,5,6,7}\n",
        "c3 = c1.intersection(c2)"
      ],
      "metadata": {
        "id": "8r4HLCP1PqUc"
      },
      "execution_count": null,
      "outputs": []
    },
    {
      "cell_type": "code",
      "source": [
        "print(c3)"
      ],
      "metadata": {
        "colab": {
          "base_uri": "https://localhost:8080/"
        },
        "id": "EJzFREiEP2UW",
        "outputId": "5fdd403e-503c-4cb1-b649-81e00bfd7877"
      },
      "execution_count": null,
      "outputs": [
        {
          "output_type": "stream",
          "name": "stdout",
          "text": [
            "{3, 4, 5}\n"
          ]
        }
      ]
    },
    {
      "cell_type": "code",
      "source": [
        "c1.difference(c2)"
      ],
      "metadata": {
        "colab": {
          "base_uri": "https://localhost:8080/"
        },
        "id": "RKvm83adQA2Y",
        "outputId": "100058ca-3582-4bc8-bc0a-554bf5ea0cf6"
      },
      "execution_count": null,
      "outputs": [
        {
          "output_type": "execute_result",
          "data": {
            "text/plain": [
              "{1, 2}"
            ]
          },
          "metadata": {},
          "execution_count": 113
        }
      ]
    },
    {
      "cell_type": "code",
      "source": [
        "c2.difference(c1)"
      ],
      "metadata": {
        "colab": {
          "base_uri": "https://localhost:8080/"
        },
        "id": "GCcEDJ-MQDQG",
        "outputId": "3ab8d430-220d-4936-c352-c42cac30364d"
      },
      "execution_count": null,
      "outputs": [
        {
          "output_type": "execute_result",
          "data": {
            "text/plain": [
              "{6, 7}"
            ]
          },
          "metadata": {},
          "execution_count": 114
        }
      ]
    },
    {
      "cell_type": "markdown",
      "source": [
        "#Matrizes"
      ],
      "metadata": {
        "id": "6OZhzhmtQvax"
      }
    },
    {
      "cell_type": "code",
      "source": [
        "import numpy as np"
      ],
      "metadata": {
        "id": "7axXeEJoQ0e6"
      },
      "execution_count": null,
      "outputs": []
    },
    {
      "cell_type": "code",
      "source": [
        "matriz = np.array([[2,3,1],[4,5,7]])"
      ],
      "metadata": {
        "id": "VBvQrHcAQ9Ta"
      },
      "execution_count": null,
      "outputs": []
    },
    {
      "cell_type": "code",
      "source": [
        "matriz"
      ],
      "metadata": {
        "colab": {
          "base_uri": "https://localhost:8080/"
        },
        "id": "bC5fNjLXRNTa",
        "outputId": "2cae96b8-ccfd-4899-95e8-70bba6b451cf"
      },
      "execution_count": null,
      "outputs": [
        {
          "output_type": "execute_result",
          "data": {
            "text/plain": [
              "array([[2, 3, 1],\n",
              "       [4, 5, 7]])"
            ]
          },
          "metadata": {},
          "execution_count": 118
        }
      ]
    },
    {
      "cell_type": "code",
      "source": [
        "matriz.shape"
      ],
      "metadata": {
        "colab": {
          "base_uri": "https://localhost:8080/"
        },
        "id": "G1NCDjrFRRRc",
        "outputId": "c8572fe7-c5ad-43db-d8f5-d78be97a4dd5"
      },
      "execution_count": null,
      "outputs": [
        {
          "output_type": "execute_result",
          "data": {
            "text/plain": [
              "(2, 3)"
            ]
          },
          "metadata": {},
          "execution_count": 119
        }
      ]
    },
    {
      "cell_type": "code",
      "source": [
        "matriz[0]"
      ],
      "metadata": {
        "colab": {
          "base_uri": "https://localhost:8080/"
        },
        "id": "NBsrzwRrRS87",
        "outputId": "f26dfb0a-199c-4d8b-d679-c3b68ec9edbf"
      },
      "execution_count": null,
      "outputs": [
        {
          "output_type": "execute_result",
          "data": {
            "text/plain": [
              "array([2, 3, 1])"
            ]
          },
          "metadata": {},
          "execution_count": 121
        }
      ]
    },
    {
      "cell_type": "code",
      "source": [
        "matriz[1][1]"
      ],
      "metadata": {
        "colab": {
          "base_uri": "https://localhost:8080/"
        },
        "id": "LMGkf1jbRY6M",
        "outputId": "e679b46b-d5ba-4cd8-9762-e34b21ba9c7f"
      },
      "execution_count": null,
      "outputs": [
        {
          "output_type": "execute_result",
          "data": {
            "text/plain": [
              "5"
            ]
          },
          "metadata": {},
          "execution_count": 124
        }
      ]
    },
    {
      "cell_type": "code",
      "source": [
        "for i in range(matriz.shape[0]):\n",
        "  print(matriz[i])\n",
        "  for j in range(matriz.shape[1]):\n",
        "    print(matriz[i][j])"
      ],
      "metadata": {
        "colab": {
          "base_uri": "https://localhost:8080/"
        },
        "id": "P7-EnMgDRned",
        "outputId": "3e92eb16-d5a4-4bfd-d2ac-f7c3da38f5a4"
      },
      "execution_count": null,
      "outputs": [
        {
          "output_type": "stream",
          "name": "stdout",
          "text": [
            "[2 3 1]\n",
            "2\n",
            "3\n",
            "1\n",
            "[4 5 7]\n",
            "4\n",
            "5\n",
            "7\n"
          ]
        }
      ]
    },
    {
      "cell_type": "markdown",
      "source": [
        "# Exercício 4"
      ],
      "metadata": {
        "id": "lxsEsmxrWrDu"
      }
    },
    {
      "cell_type": "markdown",
      "source": [
        "## 1. Lista: Crie uma estrutura de repetição para fazer a leitura de 5 números inteiros e os armazene dentro de uma lista. Após a leitura, crie outra estrutura de repetição para somar todos os valores digitados"
      ],
      "metadata": {
        "id": "Yws8eVN-WwTv"
      }
    },
    {
      "cell_type": "code",
      "source": [
        "import random\n",
        "import numpy as np"
      ],
      "metadata": {
        "id": "zYGD8dfYbz8J"
      },
      "execution_count": null,
      "outputs": []
    },
    {
      "cell_type": "code",
      "source": [
        "lista = []\n",
        "for i in range(1,6):\n",
        "  x = random.randint(1,100)\n",
        "  lista.append(x)\n",
        "print(lista)\n",
        "soma = 0\n",
        "for j in range(len(lista)):\n",
        "  soma += lista[j]\n",
        "print(soma)"
      ],
      "metadata": {
        "colab": {
          "base_uri": "https://localhost:8080/"
        },
        "id": "j2sFJJyVXQf7",
        "outputId": "153b5e99-d1d8-4d1d-d770-555a47dd979d"
      },
      "execution_count": null,
      "outputs": [
        {
          "output_type": "stream",
          "name": "stdout",
          "text": [
            "[11, 86, 5, 18, 7]\n",
            "127\n"
          ]
        }
      ]
    },
    {
      "cell_type": "code",
      "source": [
        "np.array(lista).sum()"
      ],
      "metadata": {
        "colab": {
          "base_uri": "https://localhost:8080/"
        },
        "id": "Ne9ZZcaRaid6",
        "outputId": "ac55e000-3e08-47de-b7fb-c078c2c178d8"
      },
      "execution_count": null,
      "outputs": [
        {
          "output_type": "execute_result",
          "data": {
            "text/plain": [
              "127"
            ]
          },
          "metadata": {},
          "execution_count": 180
        }
      ]
    },
    {
      "cell_type": "markdown",
      "source": [
        "## 2. Dicionário: Crie um dicionário para armazenar o nome e a nota de 3 alunos, fazendo a leitura dos valores por meio de uma estrutura de repetição. Depois, crie uma nova estrutura de repetição para somar todas as notas e retornar a média\n",
        "\n"
      ],
      "metadata": {
        "id": "cBbkU0emW0Ss"
      }
    },
    {
      "cell_type": "code",
      "source": [
        "dicionário = {}\n",
        "contador = 1\n",
        "for i in range(1,4):\n",
        "  nome_aluno = str(input(f\"Informe o nome do {contador}° aluno: \"))\n",
        "  nota_aluno = float(input(f\"Informe a nota do {contador}° aluno: \"))\n",
        "  print()\n",
        "  dicionário[nome_aluno] = nota_aluno\n",
        "  contador += 1\n",
        "print(dicionário)\n",
        "soma = 0\n",
        "for j in dicionário.values():\n",
        "  soma = j + soma\n",
        "print(f\"O valor da média é: {soma/3}\")"
      ],
      "metadata": {
        "colab": {
          "base_uri": "https://localhost:8080/"
        },
        "id": "uSr0x8DGassZ",
        "outputId": "53817dfa-fc7e-40e6-8b3d-5e648a68ad29"
      },
      "execution_count": null,
      "outputs": [
        {
          "output_type": "stream",
          "name": "stdout",
          "text": [
            "Informe o nome do 1° aluno: Wallace\n",
            "Informe a nota do 1° aluno: 6\n",
            "\n",
            "Informe o nome do 2° aluno: Santana\n",
            "Informe a nota do 2° aluno: 8\n",
            "\n",
            "Informe o nome do 3° aluno: Ramos\n",
            "Informe a nota do 3° aluno: 10\n",
            "\n",
            "{'Wallace': 6.0, 'Santana': 8.0, 'Ramos': 10.0}\n",
            "O valor da média é: 8.0\n"
          ]
        }
      ]
    },
    {
      "cell_type": "markdown",
      "source": [
        "## 3. Matriz: Dada a matriz abaixo, construa uma estrutura de repetição para percorrer e somar todos os elementos da matriz\n",
        "\n",
        "matriz = np.array([[3, 4, 1],\n",
        "                   [3, 1, 5]])"
      ],
      "metadata": {
        "id": "-Mrz0l02W2xN"
      }
    },
    {
      "cell_type": "code",
      "source": [
        "import numpy as np"
      ],
      "metadata": {
        "id": "gjauwcJUgklU"
      },
      "execution_count": null,
      "outputs": []
    },
    {
      "cell_type": "code",
      "source": [
        "matriz = np.array([[3, 4, 1], [3, 1, 5]])\n",
        "soma = 0\n",
        "for i in range(matriz.shape[0]):\n",
        "  for j in range(matriz.shape[1]):\n",
        "    soma += matriz[i][j]\n",
        "print(f\"A soma foi de: {soma}\")"
      ],
      "metadata": {
        "colab": {
          "base_uri": "https://localhost:8080/"
        },
        "id": "Zy-iUJRVgSt8",
        "outputId": "80cc1fd0-5643-4838-cd1b-8b57d99e0ce6"
      },
      "execution_count": null,
      "outputs": [
        {
          "output_type": "stream",
          "name": "stdout",
          "text": [
            "A soma foi de: 17\n"
          ]
        }
      ]
    },
    {
      "cell_type": "markdown",
      "source": [
        "# Funções"
      ],
      "metadata": {
        "id": "dH6LyYPC8EQD"
      }
    },
    {
      "cell_type": "markdown",
      "source": [
        "## Função sem parâmetro e sem retorno"
      ],
      "metadata": {
        "id": "UsrlcE298L2b"
      }
    },
    {
      "cell_type": "code",
      "source": [
        "def mensagem():\n",
        "  print('Texto da função')"
      ],
      "metadata": {
        "id": "YZyCRmTL8VRC"
      },
      "execution_count": 1,
      "outputs": []
    },
    {
      "cell_type": "code",
      "source": [
        "mensagem()\n",
        "mensagem()\n",
        "mensagem()"
      ],
      "metadata": {
        "colab": {
          "base_uri": "https://localhost:8080/"
        },
        "id": "kO5YjrfA8dV6",
        "outputId": "8659e431-b6b7-41e0-f92b-d8ef066eaa13"
      },
      "execution_count": 3,
      "outputs": [
        {
          "output_type": "stream",
          "name": "stdout",
          "text": [
            "Texto da função\n",
            "Texto da função\n",
            "Texto da função\n"
          ]
        }
      ]
    },
    {
      "cell_type": "markdown",
      "source": [
        "## Função com passagem de parâmetro"
      ],
      "metadata": {
        "id": "PlLPp4ob8Oqj"
      }
    },
    {
      "cell_type": "code",
      "source": [
        "def mensagem(texto):\n",
        "  print(texto)"
      ],
      "metadata": {
        "id": "mn8IePhK8pNa"
      },
      "execution_count": 4,
      "outputs": []
    },
    {
      "cell_type": "code",
      "source": [
        "mensagem('texto 1')\n",
        "mensagem('texto 2')\n",
        "mensagem('texto 3')"
      ],
      "metadata": {
        "colab": {
          "base_uri": "https://localhost:8080/"
        },
        "id": "8sMv7lUZ8uZC",
        "outputId": "1af78fc4-b9d5-4a6f-9685-8d0e3cab089c"
      },
      "execution_count": 7,
      "outputs": [
        {
          "output_type": "stream",
          "name": "stdout",
          "text": [
            "texto 1\n",
            "texto 2\n",
            "texto 3\n"
          ]
        }
      ]
    },
    {
      "cell_type": "code",
      "source": [
        "def soma(a,b):\n",
        "  print(a + b)"
      ],
      "metadata": {
        "id": "c3Sc7DF69BuL"
      },
      "execution_count": 8,
      "outputs": []
    },
    {
      "cell_type": "code",
      "source": [
        "soma(2,5)\n",
        "soma(3,3)\n",
        "soma(1,2)"
      ],
      "metadata": {
        "colab": {
          "base_uri": "https://localhost:8080/"
        },
        "id": "EoC9jSGK9GN7",
        "outputId": "94daa583-6df4-45fb-bec2-638245348039"
      },
      "execution_count": 10,
      "outputs": [
        {
          "output_type": "stream",
          "name": "stdout",
          "text": [
            "7\n",
            "6\n",
            "3\n"
          ]
        }
      ]
    },
    {
      "cell_type": "markdown",
      "source": [
        "##Função com passagem de parâmetros e retorno"
      ],
      "metadata": {
        "id": "ScnPUOii8Q4a"
      }
    },
    {
      "cell_type": "code",
      "source": [
        "def soma(a,b):\n",
        "  return a + b"
      ],
      "metadata": {
        "id": "B9LoeLTk9TRy"
      },
      "execution_count": 11,
      "outputs": []
    },
    {
      "cell_type": "code",
      "source": [
        "soma(2,5)"
      ],
      "metadata": {
        "colab": {
          "base_uri": "https://localhost:8080/"
        },
        "id": "aL4tvGxF9YsK",
        "outputId": "d6b2ceef-1ff9-4698-edbb-2bf350d299cb"
      },
      "execution_count": 12,
      "outputs": [
        {
          "output_type": "execute_result",
          "data": {
            "text/plain": [
              "7"
            ]
          },
          "metadata": {},
          "execution_count": 12
        }
      ]
    },
    {
      "cell_type": "code",
      "source": [
        "r = soma(3,2)\n",
        "print(r)"
      ],
      "metadata": {
        "colab": {
          "base_uri": "https://localhost:8080/"
        },
        "id": "hWf70QhX9fdC",
        "outputId": "646c1896-45b1-453f-cc69-a0092771d92d"
      },
      "execution_count": 15,
      "outputs": [
        {
          "output_type": "stream",
          "name": "stdout",
          "text": [
            "5\n"
          ]
        }
      ]
    },
    {
      "cell_type": "code",
      "source": [
        "def calcula_energia_potencial_gravitacional(m,h,g = 10):\n",
        "  '''\n",
        "  Calcula a energia potencial gravitacional\n",
        "  Argumentos:\n",
        "  m: massa, entrada como uma variável float\n",
        "  h: altura, entrada como uma variável float\n",
        "\n",
        "  Argumento opcional:\n",
        "  g: acelaração gravitacional, com valor default de 10\n",
        "  '''\n",
        "  e = g * m * h\n",
        "  return e"
      ],
      "metadata": {
        "id": "hm2WyUhX94hy"
      },
      "execution_count": 19,
      "outputs": []
    },
    {
      "cell_type": "code",
      "source": [
        "calcula_energia_potencial_gravitacional(30,12)"
      ],
      "metadata": {
        "colab": {
          "base_uri": "https://localhost:8080/"
        },
        "id": "OZDN35RT-IMz",
        "outputId": "3abb6d12-bba6-4291-e36c-5badf445fed0"
      },
      "execution_count": 17,
      "outputs": [
        {
          "output_type": "execute_result",
          "data": {
            "text/plain": [
              "3600"
            ]
          },
          "metadata": {},
          "execution_count": 17
        }
      ]
    },
    {
      "cell_type": "code",
      "source": [
        "calcula_energia_potencial_gravitacional(30,12,9.8)"
      ],
      "metadata": {
        "colab": {
          "base_uri": "https://localhost:8080/"
        },
        "id": "WXjhimWL-L9D",
        "outputId": "443c105b-3d9b-439e-ffd4-982d863a6554"
      },
      "execution_count": 18,
      "outputs": [
        {
          "output_type": "execute_result",
          "data": {
            "text/plain": [
              "3528.0"
            ]
          },
          "metadata": {},
          "execution_count": 18
        }
      ]
    },
    {
      "cell_type": "code",
      "source": [
        "help(calcula_energia_potencial_gravitacional)"
      ],
      "metadata": {
        "colab": {
          "base_uri": "https://localhost:8080/"
        },
        "id": "qaHbmaHO-qJF",
        "outputId": "7a51e4f2-da64-456a-d304-4ddfe658454e"
      },
      "execution_count": 20,
      "outputs": [
        {
          "output_type": "stream",
          "name": "stdout",
          "text": [
            "Help on function calcula_energia_potencial_gravitacional in module __main__:\n",
            "\n",
            "calcula_energia_potencial_gravitacional(m, h, g=10)\n",
            "    Calcula a energia potencial gravitacional\n",
            "    Argumentos:\n",
            "    m: massa, entrada como uma variável float\n",
            "    h: altura, entrada como uma variável float\n",
            "    \n",
            "    Argumento opcional:\n",
            "    g: acelaração gravitacional, com valor default de 10\n",
            "\n"
          ]
        }
      ]
    },
    {
      "cell_type": "markdown",
      "source": [
        "# Exercício 5"
      ],
      "metadata": {
        "id": "w32Ttq6G_Bdv"
      }
    },
    {
      "cell_type": "markdown",
      "source": [
        "##1. Ler uma temperatura em graus Celsius e apresentá-la convertida em graus Fahrenheit. A fórmula de conversão é F = (9 * C + 160) / 5, na qual F é a temperatura em Fahrenheit e C é a temperatura em graus Celsius\n",
        "- Função para ler e retorna o valor da temperatura (não recebe parâmetro)\n",
        "- Função para fazer o cálculo (recebe como parâmetro a temperatura em graus Celsius)\n",
        "- Função para mostrar o resultado, recebendo como parâmetro o valor e fazendo a impressão"
      ],
      "metadata": {
        "id": "VaQy9Tq2_DHN"
      }
    },
    {
      "cell_type": "code",
      "source": [
        "def temperatura():\n",
        "  C = int(input('Qual a temperatura em graus celsius? '))\n",
        "  return C"
      ],
      "metadata": {
        "id": "cCXAqvYW_J4-"
      },
      "execution_count": 50,
      "outputs": []
    },
    {
      "cell_type": "code",
      "source": [
        "def conversão_temperatura(C):\n",
        "  F = (9 * C + 160) / 5\n",
        "  return F"
      ],
      "metadata": {
        "id": "dnTJJl4nAjkF"
      },
      "execution_count": 51,
      "outputs": []
    },
    {
      "cell_type": "code",
      "source": [
        "def mostrar_resultado(F):\n",
        "  print(f\"A conversão da temperatura em graus célsios para Fahrenheit deu {F}\")"
      ],
      "metadata": {
        "id": "EssoeKkHBSRE"
      },
      "execution_count": 52,
      "outputs": []
    },
    {
      "cell_type": "code",
      "source": [
        "C = temperatura()\n",
        "F = conversão_temperatura(C)\n",
        "mostrar_resultado(F)"
      ],
      "metadata": {
        "colab": {
          "base_uri": "https://localhost:8080/"
        },
        "id": "pg5XLHuRANZ1",
        "outputId": "99f886c3-5cff-470c-e508-5c7039ccf05a"
      },
      "execution_count": 65,
      "outputs": [
        {
          "output_type": "stream",
          "name": "stdout",
          "text": [
            "Qual a temperatura em graus celsius? 20\n",
            "A conversão da temperatura em graus célsios para Fahrenheit deu 68.0\n"
          ]
        }
      ]
    },
    {
      "cell_type": "markdown",
      "source": [
        "##2. Efetuar o cálculo da quantidade de litros de combustível gasto em uma viagem, utilizando um automóvel que faz 12 Km por litro. Para obter o cálculo, o usuário deve fornecer o tempo gasto na viagem e a velocidade média durante ela. Desta forma, será possível obter a distância percorrida com a fórmula DISTANCIA = TEMPO * VELOCIDADE. Tendo o valor da distância, basta calcular a quantidade de litros de combustível utilizada na viagem, com a fórmula: LITROS_USADOS = DISTANCIA / 12. O programa deve apresentar os valores da velocidade média, tempo gasto na viagem, a distância percorrida e a quantidade de litros utilizada na viagem\n",
        "- Função para ler os valores (não recebe parâmetro e retorna os dois valores)\n",
        "- Função para calcular a distância (recebe como parâmetro o tempo e a velocidade e retorna a distância)\n",
        "- Função para calcular a quantidade de litros (recebe como parâmetro a distância e retorna os litros)\n",
        "- Função para apresentar o resultado (recebe como parâmetro os valores e somente imprime o resultado)"
      ],
      "metadata": {
        "id": "dZVvu5pS_GeF"
      }
    },
    {
      "cell_type": "code",
      "source": [
        "def receber_valores():\n",
        "  tempo_gasto = int(input('Qual foi o tempo gasto na viagem? '))\n",
        "  velocidade_média = int(input('Qual foi a velocidade média durante ela? '))\n",
        "  return tempo_gasto, velocidade_média"
      ],
      "metadata": {
        "id": "MpgIB-z9DCor"
      },
      "execution_count": 58,
      "outputs": []
    },
    {
      "cell_type": "code",
      "source": [
        "def calculo_distancia(tempo_gasto, velocidade_média):\n",
        "  distancia = tempo_gasto * velocidade_média\n",
        "  return distancia"
      ],
      "metadata": {
        "id": "8C0lQosIDeN7"
      },
      "execution_count": 55,
      "outputs": []
    },
    {
      "cell_type": "code",
      "source": [
        "def quantidade_litros(distancia):\n",
        "  litros_usados = distancia / 12\n",
        "  return litros_usados"
      ],
      "metadata": {
        "id": "BbJBTT4gDwC7"
      },
      "execution_count": 56,
      "outputs": []
    },
    {
      "cell_type": "code",
      "source": [
        "def apresentar_resultado(tempo_gasto, velocidade_média, distancia, litros_usados):\n",
        "  print(f\"O tempo gasto na viagem foi: {tempo_gasto}\\nA velocidade média foi: {velocidade_média}\\nA distância percorrida foi: {distancia}\\nA quantidade de litros utilizada foi: {litros_usados}\")"
      ],
      "metadata": {
        "id": "AzHIL9siEBVK"
      },
      "execution_count": 67,
      "outputs": []
    },
    {
      "cell_type": "code",
      "source": [
        "tempo_gasto, velocidade_média = receber_valores()\n",
        "distancia = calculo_distancia(tempo_gasto, velocidade_média)\n",
        "litros_usados = quantidade_litros(distancia)\n",
        "apresentar_resultado(tempo_gasto, velocidade_média, distancia, litros_usados)"
      ],
      "metadata": {
        "colab": {
          "base_uri": "https://localhost:8080/"
        },
        "id": "EN3U-OOkEmfi",
        "outputId": "4fbd43ef-6670-49db-e55c-0140b9414c5c"
      },
      "execution_count": 68,
      "outputs": [
        {
          "output_type": "stream",
          "name": "stdout",
          "text": [
            "Qual foi o tempo gasto na viagem? 2\n",
            "Qual foi a velocidade média durante ela? 80\n",
            "O tempo gasto na viagem foi: 2\n",
            "A velocidade média foi: 80\n",
            "A distância percorrida foi: 160\n",
            "A quantidade de litros utilizada foi: 13.333333333333334\n"
          ]
        }
      ]
    }
  ]
}