{
  "nbformat": 4,
  "nbformat_minor": 0,
  "metadata": {
    "colab": {
      "provenance": [],
      "collapsed_sections": [
        "S3dirrxxlnc9",
        "I2XIftwN2GOi",
        "WwXVmJcp4fvI",
        "l1d9D5Xh4kwH",
        "eNNdXVhU8T-7",
        "yCk1C_LTCme0",
        "URoEUmIcEj2Z",
        "12dF1O3gyL5l",
        "7TnGCpgP9kUF",
        "F2M9iN0m_4oR",
        "8mFE9M2gB-GT",
        "9vEgrqQULWrM",
        "iZ0BF9ZiLXr0",
        "MacYC9ifLZlM",
        "6OZhzhmtQvax",
        "lxsEsmxrWrDu",
        "dH6LyYPC8EQD",
        "UsrlcE298L2b",
        "w32Ttq6G_Bdv",
        "WDN1mgUgKGgH",
        "rTA0YSUbKTVw",
        "wu8CmooMLSWh",
        "SKXenLKOLWgB",
        "j4DQSANhPZmz",
        "8ETzK_I5Zck2",
        "4xNYcu_7p88l",
        "WSSSJYiRrwm3"
      ],
      "authorship_tag": "ABX9TyNttoP8FoM8INrpEfVKXAIx",
      "include_colab_link": true
    },
    "kernelspec": {
      "name": "python3",
      "display_name": "Python 3"
    },
    "language_info": {
      "name": "python"
    }
  },
  "cells": [
    {
      "cell_type": "markdown",
      "metadata": {
        "id": "view-in-github",
        "colab_type": "text"
      },
      "source": [
        "<a href=\"https://colab.research.google.com/github/WallaceSantana79/CursoMachineLearning/blob/main/programa%C3%A7%C3%A3oB%C3%A1sicaPython.ipynb\" target=\"_parent\"><img src=\"https://colab.research.google.com/assets/colab-badge.svg\" alt=\"Open In Colab\"/></a>"
      ]
    },
    {
      "cell_type": "markdown",
      "source": [
        "#Manipulação de variáveis e constantes"
      ],
      "metadata": {
        "id": "S3dirrxxlnc9"
      }
    },
    {
      "cell_type": "markdown",
      "source": [
        "##Variáveis inteiras"
      ],
      "metadata": {
        "id": "YUg79mh-mZ2u"
      }
    },
    {
      "cell_type": "code",
      "execution_count": null,
      "metadata": {
        "id": "KCUScBf0lgRx"
      },
      "outputs": [],
      "source": [
        "número = -3\n",
        "numero_jogos = 14\n",
        "numero_convidados = 15"
      ]
    },
    {
      "cell_type": "code",
      "source": [
        "número, numero_jogos, numero_convidados"
      ],
      "metadata": {
        "colab": {
          "base_uri": "https://localhost:8080/"
        },
        "id": "45jaOWA4mjN3",
        "outputId": "c7cbfdb4-ffde-4def-c345-7e6e6d7160e0"
      },
      "execution_count": null,
      "outputs": [
        {
          "output_type": "execute_result",
          "data": {
            "text/plain": [
              "(-3, 14, 15)"
            ]
          },
          "metadata": {},
          "execution_count": 2
        }
      ]
    },
    {
      "cell_type": "code",
      "source": [
        "print(\"Seu número é:\",número,\"\\nSeu número de jogos é:\", numero_jogos,\"\\nSeu número de convidados é:\", numero_convidados)"
      ],
      "metadata": {
        "colab": {
          "base_uri": "https://localhost:8080/"
        },
        "id": "k4oTV0yimo3X",
        "outputId": "abae56e4-bb41-4ba9-9232-6798d273e774"
      },
      "execution_count": null,
      "outputs": [
        {
          "output_type": "stream",
          "name": "stdout",
          "text": [
            "Seu número é: -3 \n",
            "Seu número de jogos é: 14 \n",
            "Seu número de convidados é: 15\n"
          ]
        }
      ]
    },
    {
      "cell_type": "markdown",
      "source": [
        "##Variáveis float (ponto flutuante)"
      ],
      "metadata": {
        "id": "QLNBDEg-nMNY"
      }
    },
    {
      "cell_type": "code",
      "source": [
        "pi = 3.14\n",
        "numero_euler = 2.71\n",
        "escala_terremoto = -4.55"
      ],
      "metadata": {
        "id": "hx1vAOKKnPjI"
      },
      "execution_count": null,
      "outputs": []
    },
    {
      "cell_type": "code",
      "source": [
        "pi, numero_euler, escala_terremoto"
      ],
      "metadata": {
        "colab": {
          "base_uri": "https://localhost:8080/"
        },
        "id": "aAfX31StnVfA",
        "outputId": "88801237-0b2c-477f-f325-20ecad8063a3"
      },
      "execution_count": null,
      "outputs": [
        {
          "output_type": "execute_result",
          "data": {
            "text/plain": [
              "(3.14, 2.71, -4.55)"
            ]
          },
          "metadata": {},
          "execution_count": 10
        }
      ]
    },
    {
      "cell_type": "code",
      "source": [
        "print(\" ____________________________\")\n",
        "print(\"|  ________________________  |\")\n",
        "print(\"| |                        | |\")\n",
        "print(\"| |                        | |\")\n",
        "print(\"| |                        | |\")\n",
        "print(\"| | Número de pi:\",pi,\"    | |\")\n",
        "print(\"| | Número de euler:\",numero_euler,\" | |\")\n",
        "print(\"| |                        | |\")\n",
        "print(\"| |                        | |\")\n",
        "print(\"| |________________________dc|\")\n",
        "print(\"|____________________________|\")"
      ],
      "metadata": {
        "colab": {
          "base_uri": "https://localhost:8080/"
        },
        "id": "a8ktbfzLnYuo",
        "outputId": "8a4b8465-7cf1-412d-8ce6-0b3b54a57efa"
      },
      "execution_count": null,
      "outputs": [
        {
          "output_type": "stream",
          "name": "stdout",
          "text": [
            " ____________________________\n",
            "|  ________________________  |\n",
            "| |                        | |\n",
            "| |                        | |\n",
            "| |                        | |\n",
            "| | Número de pi: 3.14     | |\n",
            "| | Número de euler: 2.71  | |\n",
            "| |                        | |\n",
            "| |                        | |\n",
            "| |________________________dc|\n",
            "|____________________________|\n"
          ]
        }
      ]
    },
    {
      "cell_type": "code",
      "source": [
        "print(\"  ________________________________\")\n",
        "print(\" /  \\                             \\.\")\n",
        "print(\"|    |                            |.\")\n",
        "print(\"\\_   |                            |.\")\n",
        "print(\"     |                            |.\")\n",
        "print(\"     |                            |.\")\n",
        "print(\"     |                            |.\")\n",
        "print(\"     |                            |.\")\n",
        "print(\"     |                            |.\")\n",
        "print(\"     |                            |.\")\n",
        "print(\"     |                            |.\")\n",
        "print(\"     |                            |.\")\n",
        "print(\"     |                            |.\")\n",
        "print(\"     |                            |.\")\n",
        "print(\"     |   _________________________|___\")\n",
        "print(\"     |  /                            /.\")\n",
        "print(\"     \\_/dc__________________________/.\")\n"
      ],
      "metadata": {
        "colab": {
          "base_uri": "https://localhost:8080/"
        },
        "id": "b4xHv5NHrFHJ",
        "outputId": "d5e16d5c-c74f-4843-d672-f8d705f74bfd"
      },
      "execution_count": null,
      "outputs": [
        {
          "output_type": "stream",
          "name": "stdout",
          "text": [
            "  ________________________________\n",
            " /  \\                             \\.\n",
            "|    |                            |.\n",
            "\\_   |                            |.\n",
            "     |                            |.\n",
            "     |                            |.\n",
            "     |                            |.\n",
            "     |                            |.\n",
            "     |                            |.\n",
            "     |                            |.\n",
            "     |                            |.\n",
            "     |                            |.\n",
            "     |                            |.\n",
            "     |                            |.\n",
            "     |   _________________________|___\n",
            "     |  /                            /.\n",
            "     \\_/dc__________________________/.\n"
          ]
        }
      ]
    },
    {
      "cell_type": "markdown",
      "source": [
        "##Strings e chars"
      ],
      "metadata": {
        "id": "TOovvIXJsuqF"
      }
    },
    {
      "cell_type": "code",
      "source": [
        "letra = 'a'\n",
        "palavra1 = 'linguagem de programação'\n",
        "palavra2 = 'Python'"
      ],
      "metadata": {
        "id": "oEWJe0_dswqt"
      },
      "execution_count": null,
      "outputs": []
    },
    {
      "cell_type": "code",
      "source": [
        "print(letra, palavra1)"
      ],
      "metadata": {
        "colab": {
          "base_uri": "https://localhost:8080/"
        },
        "id": "d1hrlvSAs3dt",
        "outputId": "62455c6b-d25a-499b-9669-0236cb7d324d"
      },
      "execution_count": null,
      "outputs": [
        {
          "output_type": "stream",
          "name": "stdout",
          "text": [
            "a linguagem de programação\n"
          ]
        }
      ]
    },
    {
      "cell_type": "code",
      "source": [
        "print('Estou aprendendo uma', palavra1)"
      ],
      "metadata": {
        "colab": {
          "base_uri": "https://localhost:8080/"
        },
        "id": "szBogTKEs-DV",
        "outputId": "1fd70b74-e51a-4adf-f8b7-d4abe4e2f4b0"
      },
      "execution_count": null,
      "outputs": [
        {
          "output_type": "stream",
          "name": "stdout",
          "text": [
            "Estou aprendendo uma linguagem de programação\n"
          ]
        }
      ]
    },
    {
      "cell_type": "code",
      "source": [
        "print('Esta', palavra1, 'se chama', palavra2)"
      ],
      "metadata": {
        "colab": {
          "base_uri": "https://localhost:8080/"
        },
        "id": "UL2wucLztDI9",
        "outputId": "3c3a04cc-7912-4092-ec1a-32ea525a4705"
      },
      "execution_count": null,
      "outputs": [
        {
          "output_type": "stream",
          "name": "stdout",
          "text": [
            "Esta linguagem de programação se chama Python\n"
          ]
        }
      ]
    },
    {
      "cell_type": "code",
      "source": [
        "idade = int(input('Digite sua idade: '))\n",
        "print('Sua idade é ', idade)"
      ],
      "metadata": {
        "colab": {
          "base_uri": "https://localhost:8080/"
        },
        "id": "jn80r4vFtPYd",
        "outputId": "8fd6aea7-4209-40e7-82a1-96642d3d6dd0"
      },
      "execution_count": null,
      "outputs": [
        {
          "output_type": "stream",
          "name": "stdout",
          "text": [
            "Digite sua idade: 21\n",
            "Sua idade é  21\n"
          ]
        }
      ]
    },
    {
      "cell_type": "code",
      "source": [
        "idade"
      ],
      "metadata": {
        "colab": {
          "base_uri": "https://localhost:8080/",
          "height": 35
        },
        "id": "SnI8zdcRut57",
        "outputId": "a0e12cd9-d7a7-4a57-b10b-0811e20db79d"
      },
      "execution_count": null,
      "outputs": [
        {
          "output_type": "execute_result",
          "data": {
            "text/plain": [
              "'21'"
            ],
            "application/vnd.google.colaboratory.intrinsic+json": {
              "type": "string"
            }
          },
          "metadata": {},
          "execution_count": 85
        }
      ]
    },
    {
      "cell_type": "code",
      "source": [
        "ph = float(input(\"Qual o pH do solo durante a última medição?\"))\n",
        "print('O pH medido foi:', ph)"
      ],
      "metadata": {
        "colab": {
          "base_uri": "https://localhost:8080/"
        },
        "id": "-7Hc6nSVuKBY",
        "outputId": "905621ee-7893-41dd-a660-cb795959786d"
      },
      "execution_count": null,
      "outputs": [
        {
          "output_type": "stream",
          "name": "stdout",
          "text": [
            "Qual o pH do solo durante a última medição?6.5\n",
            "O pH medido foi: 6.5\n"
          ]
        }
      ]
    },
    {
      "cell_type": "code",
      "source": [
        "nome = str(input('Qual o seu nome? '))\n",
        "print(\"Seu nome é\", nome)"
      ],
      "metadata": {
        "colab": {
          "base_uri": "https://localhost:8080/"
        },
        "id": "Uetua_PWuauS",
        "outputId": "6d2a3b66-f886-4a48-ddd1-a2f1532277ec"
      },
      "execution_count": null,
      "outputs": [
        {
          "output_type": "stream",
          "name": "stdout",
          "text": [
            "Qual o seu nome? Ronaldinho\n",
            "Seu nome é Ronaldinho\n"
          ]
        }
      ]
    },
    {
      "cell_type": "markdown",
      "source": [
        "#Manipulação de strings"
      ],
      "metadata": {
        "id": "I2XIftwN2GOi"
      }
    },
    {
      "cell_type": "code",
      "source": [
        "a = 'casaco'\n",
        "print(a)"
      ],
      "metadata": {
        "colab": {
          "base_uri": "https://localhost:8080/"
        },
        "id": "zgntHFNn2MuM",
        "outputId": "697081ed-29c2-4551-bcca-9376c9d84c9b"
      },
      "execution_count": null,
      "outputs": [
        {
          "output_type": "stream",
          "name": "stdout",
          "text": [
            "casaco\n"
          ]
        }
      ]
    },
    {
      "cell_type": "code",
      "source": [
        "maiuscula = a.upper()\n",
        "maiuscula"
      ],
      "metadata": {
        "colab": {
          "base_uri": "https://localhost:8080/",
          "height": 35
        },
        "id": "L75653BE2UtD",
        "outputId": "0ceb33b9-2b8f-4d53-c887-8247d76a4e98"
      },
      "execution_count": null,
      "outputs": [
        {
          "output_type": "execute_result",
          "data": {
            "text/plain": [
              "'CASACO'"
            ],
            "application/vnd.google.colaboratory.intrinsic+json": {
              "type": "string"
            }
          },
          "metadata": {},
          "execution_count": 91
        }
      ]
    },
    {
      "cell_type": "code",
      "source": [
        "minuscula = a.lower()\n",
        "minuscula"
      ],
      "metadata": {
        "colab": {
          "base_uri": "https://localhost:8080/",
          "height": 35
        },
        "id": "xLjo3EOH2b4R",
        "outputId": "dfbc5827-0469-49f2-b09d-06371cf4e6f5"
      },
      "execution_count": null,
      "outputs": [
        {
          "output_type": "execute_result",
          "data": {
            "text/plain": [
              "'casaco'"
            ],
            "application/vnd.google.colaboratory.intrinsic+json": {
              "type": "string"
            }
          },
          "metadata": {},
          "execution_count": 92
        }
      ]
    },
    {
      "cell_type": "code",
      "source": [
        "capital = a.capitalize()\n",
        "print(capital)"
      ],
      "metadata": {
        "colab": {
          "base_uri": "https://localhost:8080/"
        },
        "id": "j1lLaAG02hJp",
        "outputId": "07fc3393-e152-4c7b-da4f-dbc892296148"
      },
      "execution_count": null,
      "outputs": [
        {
          "output_type": "stream",
          "name": "stdout",
          "text": [
            "Casaco\n"
          ]
        }
      ]
    },
    {
      "cell_type": "code",
      "source": [
        "indice_palavra = a[2:4]\n",
        "print(indice_palavra)"
      ],
      "metadata": {
        "colab": {
          "base_uri": "https://localhost:8080/"
        },
        "id": "T3KqkaV7241J",
        "outputId": "bf78cae6-bd6d-4b11-e062-a51eed92277d"
      },
      "execution_count": null,
      "outputs": [
        {
          "output_type": "stream",
          "name": "stdout",
          "text": [
            "sa\n"
          ]
        }
      ]
    },
    {
      "cell_type": "code",
      "source": [
        "indice_palavra = a[3:]\n",
        "print(indice_palavra)"
      ],
      "metadata": {
        "colab": {
          "base_uri": "https://localhost:8080/"
        },
        "id": "QSOD_jKz3Gnq",
        "outputId": "4d392d42-3788-42a0-bc78-bb1c0c5e5c0e"
      },
      "execution_count": null,
      "outputs": [
        {
          "output_type": "stream",
          "name": "stdout",
          "text": [
            "aco\n"
          ]
        }
      ]
    },
    {
      "cell_type": "code",
      "source": [
        "b = a.replace('aco', 'inha')\n",
        "print(a)\n",
        "print(b)"
      ],
      "metadata": {
        "colab": {
          "base_uri": "https://localhost:8080/"
        },
        "id": "rI0YB25E3U9a",
        "outputId": "9903d8a3-ba02-4063-9ca8-56772eaa85f7"
      },
      "execution_count": null,
      "outputs": [
        {
          "output_type": "stream",
          "name": "stdout",
          "text": [
            "casaco\n",
            "casinha\n"
          ]
        }
      ]
    },
    {
      "cell_type": "code",
      "source": [
        "c = a.replace('o', 'a')\n",
        "print(c)"
      ],
      "metadata": {
        "colab": {
          "base_uri": "https://localhost:8080/"
        },
        "id": "hOvs3XuD3eI6",
        "outputId": "ebf837b7-a762-4c66-cb24-e90de56203f1"
      },
      "execution_count": null,
      "outputs": [
        {
          "output_type": "stream",
          "name": "stdout",
          "text": [
            "casaca\n"
          ]
        }
      ]
    },
    {
      "cell_type": "code",
      "source": [
        "c.find('s')"
      ],
      "metadata": {
        "colab": {
          "base_uri": "https://localhost:8080/"
        },
        "id": "0ktwIL1I3jtb",
        "outputId": "bb9e05c5-b51d-4e1b-a190-9e4056f445df"
      },
      "execution_count": null,
      "outputs": [
        {
          "output_type": "execute_result",
          "data": {
            "text/plain": [
              "2"
            ]
          },
          "metadata": {},
          "execution_count": 102
        }
      ]
    },
    {
      "cell_type": "code",
      "source": [
        "c.find('b')"
      ],
      "metadata": {
        "colab": {
          "base_uri": "https://localhost:8080/"
        },
        "id": "deagNiVB3qZr",
        "outputId": "7a8b0edf-9f97-4467-e42e-9679c4ad1e80"
      },
      "execution_count": null,
      "outputs": [
        {
          "output_type": "execute_result",
          "data": {
            "text/plain": [
              "-1"
            ]
          },
          "metadata": {},
          "execution_count": 103
        }
      ]
    },
    {
      "cell_type": "code",
      "source": [
        "e = ' casaco  '\n",
        "print(len(e))"
      ],
      "metadata": {
        "colab": {
          "base_uri": "https://localhost:8080/"
        },
        "id": "OCrjRoYI30Jy",
        "outputId": "6bc42e80-7e3a-4a5c-816d-a9839f4cb609"
      },
      "execution_count": null,
      "outputs": [
        {
          "output_type": "stream",
          "name": "stdout",
          "text": [
            "9\n"
          ]
        }
      ]
    },
    {
      "cell_type": "code",
      "source": [
        "f = e.strip()\n",
        "print(f, len(f))"
      ],
      "metadata": {
        "colab": {
          "base_uri": "https://localhost:8080/"
        },
        "id": "2ebpuk8r37h0",
        "outputId": "c44f9322-22e4-42cb-8f7e-f0201e7e8b71"
      },
      "execution_count": null,
      "outputs": [
        {
          "output_type": "stream",
          "name": "stdout",
          "text": [
            "casaco 6\n"
          ]
        }
      ]
    },
    {
      "cell_type": "code",
      "source": [
        "n1 = 14\n",
        "n2 = 16"
      ],
      "metadata": {
        "id": "6a-v23vc4AIG"
      },
      "execution_count": null,
      "outputs": []
    },
    {
      "cell_type": "code",
      "source": [
        "print(f'Dividindo {n1} por {n2} o resultado é {n1/n2}')"
      ],
      "metadata": {
        "colab": {
          "base_uri": "https://localhost:8080/"
        },
        "id": "QAYLMU6y4IPH",
        "outputId": "7bf7307e-f17b-42e7-be13-1b2cab7e12e7"
      },
      "execution_count": null,
      "outputs": [
        {
          "output_type": "stream",
          "name": "stdout",
          "text": [
            "Dividindo 14 por 16 o resultado é 0.875\n"
          ]
        }
      ]
    },
    {
      "cell_type": "markdown",
      "source": [
        "#Operações matemáticas"
      ],
      "metadata": {
        "id": "WwXVmJcp4fvI"
      }
    },
    {
      "cell_type": "code",
      "source": [
        "a = int(input('Qual o primeiro número? '))\n",
        "b = int(input('Qual o segundo número? '))\n",
        "print(a,b)"
      ],
      "metadata": {
        "colab": {
          "base_uri": "https://localhost:8080/"
        },
        "id": "B-DY1HAf4uUN",
        "outputId": "2fd2c2bf-855a-4242-a284-edf0aee3fc6a"
      },
      "execution_count": null,
      "outputs": [
        {
          "output_type": "stream",
          "name": "stdout",
          "text": [
            "Qual o primeiro número? 3\n",
            "Qual o segundo número? 2\n",
            "3 2\n"
          ]
        }
      ]
    },
    {
      "cell_type": "code",
      "source": [
        "import math"
      ],
      "metadata": {
        "id": "FfEOPpvI6dyy"
      },
      "execution_count": null,
      "outputs": []
    },
    {
      "cell_type": "code",
      "source": [
        "print('A soma é:', a + b)\n",
        "print('A subtração é:', a - b)\n",
        "print('A divisão é:', a / b)\n",
        "print('A multiplicação é:', a * b)\n",
        "print('O resto da divisão é:', a % b)\n",
        "print(f'{a} elevado a {b} é:', a**b)\n",
        "print(f'A raiz quadrada de {a} é:',math.sqrt(a),f'\\nA raiz quadrada de {b} é:',math.sqrt(b),\n",
        "      f'\\nA raiz quadrada da soma de {a} + {b} é:',math.sqrt(a+b))"
      ],
      "metadata": {
        "colab": {
          "base_uri": "https://localhost:8080/"
        },
        "id": "z483WP-3411Y",
        "outputId": "cf3a9bd8-d921-4fa6-f1d3-c155b1a8cf4e"
      },
      "execution_count": null,
      "outputs": [
        {
          "output_type": "stream",
          "name": "stdout",
          "text": [
            "A soma é: 5\n",
            "A subtração é: 1\n",
            "A divisão é: 1.5\n",
            "A multiplicação é: 6\n",
            "O resto da divisão é: 1\n",
            "3 elevado a 2 é: 9\n",
            "A raiz quadrada de 3 é: 1.7320508075688772 \n",
            "A raiz quadrada de 2 é: 1.4142135623730951 \n",
            "A raiz quadrada da soma de 3 + 2 é: 2.23606797749979\n"
          ]
        }
      ]
    },
    {
      "cell_type": "markdown",
      "source": [
        "##Arredondamento"
      ],
      "metadata": {
        "id": "l1d9D5Xh4kwH"
      }
    },
    {
      "cell_type": "code",
      "source": [
        "casos_doenca = 134\n",
        "numero_habitantes = 34432\n",
        "casos_por_habitante = casos_doenca / numero_habitantes\n",
        "print(casos_por_habitante)"
      ],
      "metadata": {
        "colab": {
          "base_uri": "https://localhost:8080/"
        },
        "id": "lkeQRN3U7zFw",
        "outputId": "dea5c3bc-3a40-44be-b6b8-e5dad9732a30"
      },
      "execution_count": null,
      "outputs": [
        {
          "output_type": "stream",
          "name": "stdout",
          "text": [
            "0.003891728624535316\n"
          ]
        }
      ]
    },
    {
      "cell_type": "code",
      "source": [
        "round(casos_por_habitante,6)"
      ],
      "metadata": {
        "colab": {
          "base_uri": "https://localhost:8080/"
        },
        "id": "jY1s4UJb77ao",
        "outputId": "3f2a0e7d-0003-47c1-b345-a44600a27bfd"
      },
      "execution_count": null,
      "outputs": [
        {
          "output_type": "execute_result",
          "data": {
            "text/plain": [
              "0.003892"
            ]
          },
          "metadata": {},
          "execution_count": 134
        }
      ]
    },
    {
      "cell_type": "code",
      "source": [
        "print('O número de casos por habitante é de:',round(casos_por_habitante,4))"
      ],
      "metadata": {
        "colab": {
          "base_uri": "https://localhost:8080/"
        },
        "id": "PSAn5g4f8Ckf",
        "outputId": "862beb56-2f2d-4af6-e58e-491e78f2add3"
      },
      "execution_count": null,
      "outputs": [
        {
          "output_type": "stream",
          "name": "stdout",
          "text": [
            "O número de casos por habitante é de: 0.0039\n"
          ]
        }
      ]
    },
    {
      "cell_type": "markdown",
      "source": [
        "#Exercício"
      ],
      "metadata": {
        "id": "eNNdXVhU8T-7"
      }
    },
    {
      "cell_type": "markdown",
      "source": [
        "#####**Exercício 1: Ler dois números inteiros, executar e mostrar o resultado das seguintes operações: adição, subtração, multiplicação e divisão**"
      ],
      "metadata": {
        "id": "tNQ13n3A-QEa"
      }
    },
    {
      "cell_type": "code",
      "source": [
        "a = int(input('Qual o primeiro número? '))\n",
        "b = int(input('Qual o segundo número? '))\n",
        "print('A soma é:', a + b)\n",
        "print('A subtração é:', a - b)\n",
        "print('A divisão é:', a / b)\n",
        "print('A multiplicação é:', a * b)"
      ],
      "metadata": {
        "colab": {
          "base_uri": "https://localhost:8080/"
        },
        "id": "ndj-742E8VNg",
        "outputId": "2be45a0a-422a-49df-bb62-e8f695361533"
      },
      "execution_count": null,
      "outputs": [
        {
          "output_type": "stream",
          "name": "stdout",
          "text": [
            "Qual o primeiro número? 10\n",
            "Qual o segundo número? 5\n",
            "A soma é: 15\n",
            "A subtração é: 5\n",
            "A divisão é: 2.0\n",
            "A multiplicação é: 50\n"
          ]
        }
      ]
    },
    {
      "cell_type": "markdown",
      "source": [
        "#####**Exercício 2: Efetuar o cálculo da quantidade de litros de combustível gasto em uma viagem, utilizando um automóvel que faz 12 Km por litro. Para obter o cálculo, o usuário deve fornecer o tempo gasto na viagem e a velocidade média durante ela. Desta forma, será possível obter a distância percorrida com a fórmula DISTANCIA = TEMPO * VELOCIDADE. Tendo o valor da distância, basta calcular a quantidade de litros de combustível utilizada na viagem, com a fórmula: LITROS_USADOS = DISTANCIA / 12. O programa deve apresentar os valores da velocidade média, tempo gasto na viagem, a distância percorrida e a quantidade de litros utilizada na viagem**"
      ],
      "metadata": {
        "id": "vgVOr4Nz-TQq"
      }
    },
    {
      "cell_type": "code",
      "source": [
        "combustivel_automovel = 12\n",
        "tempo_gasto = int(input('Qual foi o tempo gasto durante a viagem? '))\n",
        "velocidade_media = int(input('Qual foi a velocidade media durante a viagem? '))\n",
        "distancia_percorrida = tempo_gasto * velocidade_media\n",
        "litros_usados = distancia_percorrida/12\n",
        "print(f'A distância percorrida foi de {distancia_percorrida}',f'\\nA quantidade de litros usados foi de {litros_usados}')"
      ],
      "metadata": {
        "colab": {
          "base_uri": "https://localhost:8080/"
        },
        "id": "qGV9FOto8em5",
        "outputId": "3d69d1d6-0600-4c03-ca6f-ef08401a906b"
      },
      "execution_count": null,
      "outputs": [
        {
          "output_type": "stream",
          "name": "stdout",
          "text": [
            "Qual foi o tempo gasto durante a viagem? 5\n",
            "Qual foi a velocidade media durante a viagem? 60\n",
            "A distância percorrida foi de 300 \n",
            "A quantidade de litros usados foi de 25.0\n"
          ]
        }
      ]
    },
    {
      "cell_type": "markdown",
      "source": [
        "#Operadores lógicos e relacionais"
      ],
      "metadata": {
        "id": "yCk1C_LTCme0"
      }
    },
    {
      "cell_type": "markdown",
      "source": [
        "##Operadores lógicos"
      ],
      "metadata": {
        "id": "HSg-QcuoCp0U"
      }
    },
    {
      "cell_type": "code",
      "source": [
        "a = True\n",
        "b = False"
      ],
      "metadata": {
        "id": "4byWH6jCCv5k"
      },
      "execution_count": null,
      "outputs": []
    },
    {
      "cell_type": "code",
      "source": [
        "print(a,b)"
      ],
      "metadata": {
        "colab": {
          "base_uri": "https://localhost:8080/"
        },
        "id": "L4eH8IMAC0AD",
        "outputId": "81d9e60e-c243-47ba-cd37-9c92aaefd2dd"
      },
      "execution_count": null,
      "outputs": [
        {
          "output_type": "stream",
          "name": "stdout",
          "text": [
            "True False\n"
          ]
        }
      ]
    },
    {
      "cell_type": "code",
      "source": [
        "a and b"
      ],
      "metadata": {
        "colab": {
          "base_uri": "https://localhost:8080/"
        },
        "id": "kJSzg33YC2Jk",
        "outputId": "ad43903f-089a-43f5-942a-b10b1d91b03a"
      },
      "execution_count": null,
      "outputs": [
        {
          "output_type": "execute_result",
          "data": {
            "text/plain": [
              "False"
            ]
          },
          "metadata": {},
          "execution_count": 143
        }
      ]
    },
    {
      "cell_type": "code",
      "source": [
        "a & b"
      ],
      "metadata": {
        "colab": {
          "base_uri": "https://localhost:8080/"
        },
        "id": "hsvK6NRuDD6b",
        "outputId": "636f95d2-eb1c-4559-f7d4-4075e265792a"
      },
      "execution_count": null,
      "outputs": [
        {
          "output_type": "execute_result",
          "data": {
            "text/plain": [
              "False"
            ]
          },
          "metadata": {},
          "execution_count": 145
        }
      ]
    },
    {
      "cell_type": "code",
      "source": [
        "c = a and b\n",
        "print(\"'A' e 'B' são iguais é\",c)"
      ],
      "metadata": {
        "colab": {
          "base_uri": "https://localhost:8080/"
        },
        "id": "nFZvbHOyDJGL",
        "outputId": "cc1f2136-cce6-4daa-ad81-aefd413fccad"
      },
      "execution_count": null,
      "outputs": [
        {
          "output_type": "stream",
          "name": "stdout",
          "text": [
            "'A' e 'B' são iguais é False\n"
          ]
        }
      ]
    },
    {
      "cell_type": "code",
      "source": [
        "a or b"
      ],
      "metadata": {
        "colab": {
          "base_uri": "https://localhost:8080/"
        },
        "id": "gefA5DGoDitE",
        "outputId": "1be4962b-f764-420c-c9ef-c809f5a4a213"
      },
      "execution_count": null,
      "outputs": [
        {
          "output_type": "execute_result",
          "data": {
            "text/plain": [
              "True"
            ]
          },
          "metadata": {},
          "execution_count": 147
        }
      ]
    },
    {
      "cell_type": "code",
      "source": [
        "a | b"
      ],
      "metadata": {
        "colab": {
          "base_uri": "https://localhost:8080/"
        },
        "id": "b1kd7n2rDnZ6",
        "outputId": "bf9d655d-3e9a-41ae-c157-5757a94766a9"
      },
      "execution_count": null,
      "outputs": [
        {
          "output_type": "execute_result",
          "data": {
            "text/plain": [
              "True"
            ]
          },
          "metadata": {},
          "execution_count": 149
        }
      ]
    },
    {
      "cell_type": "code",
      "source": [
        "d = a or b\n",
        "print(\"'A' e 'B' é igual a\",d)"
      ],
      "metadata": {
        "colab": {
          "base_uri": "https://localhost:8080/"
        },
        "id": "AH7hMx2yDs4h",
        "outputId": "1586b80c-97fa-4376-a8aa-d47746545ad9"
      },
      "execution_count": null,
      "outputs": [
        {
          "output_type": "stream",
          "name": "stdout",
          "text": [
            "'A' e 'B' é igual a True\n"
          ]
        }
      ]
    },
    {
      "cell_type": "code",
      "source": [
        "not a"
      ],
      "metadata": {
        "colab": {
          "base_uri": "https://localhost:8080/"
        },
        "id": "Wb3JKOyMD3-R",
        "outputId": "77ff229c-2a63-4e12-e0fc-acb5a6aac452"
      },
      "execution_count": null,
      "outputs": [
        {
          "output_type": "execute_result",
          "data": {
            "text/plain": [
              "False"
            ]
          },
          "metadata": {},
          "execution_count": 153
        }
      ]
    },
    {
      "cell_type": "code",
      "source": [
        "not b"
      ],
      "metadata": {
        "colab": {
          "base_uri": "https://localhost:8080/"
        },
        "id": "zkqPKuQ6D7DZ",
        "outputId": "60f61d8e-913f-479f-9e5a-d83ea0e6bce2"
      },
      "execution_count": null,
      "outputs": [
        {
          "output_type": "execute_result",
          "data": {
            "text/plain": [
              "True"
            ]
          },
          "metadata": {},
          "execution_count": 154
        }
      ]
    },
    {
      "cell_type": "markdown",
      "source": [
        "##Operadores relacionais"
      ],
      "metadata": {
        "id": "gOYWL1vzCtls"
      }
    },
    {
      "cell_type": "code",
      "source": [
        "5 > 3, 5 < 3"
      ],
      "metadata": {
        "colab": {
          "base_uri": "https://localhost:8080/"
        },
        "id": "-r2qT2ipD_qr",
        "outputId": "f1c4ea3e-de36-42ae-ccdc-e00ba09cb9e4"
      },
      "execution_count": null,
      "outputs": [
        {
          "output_type": "execute_result",
          "data": {
            "text/plain": [
              "(True, False)"
            ]
          },
          "metadata": {},
          "execution_count": 155
        }
      ]
    },
    {
      "cell_type": "code",
      "source": [
        "5 == 3, 5 == 5, 5 != 3"
      ],
      "metadata": {
        "colab": {
          "base_uri": "https://localhost:8080/"
        },
        "id": "iEqzos7wEQQi",
        "outputId": "e9f64f02-ac5e-4cc2-c073-4ce7b948b006"
      },
      "execution_count": null,
      "outputs": [
        {
          "output_type": "execute_result",
          "data": {
            "text/plain": [
              "(False, True, True)"
            ]
          },
          "metadata": {},
          "execution_count": 158
        }
      ]
    },
    {
      "cell_type": "markdown",
      "source": [
        "#Operador condicional"
      ],
      "metadata": {
        "id": "URoEUmIcEj2Z"
      }
    },
    {
      "cell_type": "code",
      "source": [
        "a = input('Digite o primeiro número: ')\n",
        "b = input('Digite o segundo número: ')"
      ],
      "metadata": {
        "colab": {
          "base_uri": "https://localhost:8080/"
        },
        "id": "GAY2SQp1E67B",
        "outputId": "22373456-e0e3-4bbf-eb7e-d8a385da0a06"
      },
      "execution_count": null,
      "outputs": [
        {
          "name": "stdout",
          "output_type": "stream",
          "text": [
            "Digite o primeiro número: 2\n",
            "Digite o segundo número: 3\n"
          ]
        }
      ]
    },
    {
      "cell_type": "code",
      "source": [
        "if a > b:\n",
        "  print(f\"{a} é maior que {b}\")\n",
        "elif a == b:\n",
        "  print(f\"Como água e h2o {a} é igual a {b}\")\n",
        "else:\n",
        "  print(f\"{b} é maior que {a}\")"
      ],
      "metadata": {
        "colab": {
          "base_uri": "https://localhost:8080/"
        },
        "id": "_IkIeEttEjDp",
        "outputId": "0e193f13-ced6-4a79-b91f-cf6e8ca132e6"
      },
      "execution_count": null,
      "outputs": [
        {
          "output_type": "stream",
          "name": "stdout",
          "text": [
            "3 é maior que 2\n"
          ]
        }
      ]
    },
    {
      "cell_type": "code",
      "source": [
        "x = 2\n",
        "y = 3\n",
        "if (x>1) and (y%2==0):\n",
        "  print('x é maior que 1 e y é par')\n",
        "else:\n",
        "  print('Uma ou nenhuma das condições foram satisfeitas')"
      ],
      "metadata": {
        "colab": {
          "base_uri": "https://localhost:8080/"
        },
        "id": "MhwmfYqgGPlE",
        "outputId": "7098c1ce-0e6b-4116-aa5a-010a44dbc895"
      },
      "execution_count": null,
      "outputs": [
        {
          "output_type": "stream",
          "name": "stdout",
          "text": [
            "Uma ou nenhuma das condições foram satisfeitas\n"
          ]
        }
      ]
    },
    {
      "cell_type": "markdown",
      "source": [
        "#Exercício 2"
      ],
      "metadata": {
        "id": "12dF1O3gyL5l"
      }
    },
    {
      "cell_type": "markdown",
      "source": [
        "## 1. Leia a idade do usuário e classifique-o em:\n",
        "- Criança – 0 a 12 anos\n",
        "- Adolescente – 13 a 17 anos\n",
        "- Adulto – acima de 18 anos\n",
        "- Se o usuário digitar um número negativo, mostrar a mensagem que a idade é inválida"
      ],
      "metadata": {
        "id": "LfFWpcMjyONc"
      }
    },
    {
      "cell_type": "code",
      "source": [
        "while True:\n",
        "  idade = int(input(\"Digite a sua idade: \"))\n",
        "  if idade > 0:\n",
        "    break\n",
        "  else:\n",
        "    print(\"A idade não pode ser negativa tente novamente\")\n",
        "\n",
        "if idade <= 12:\n",
        "  print('O usuário é classificado como criança')\n",
        "elif idade <= 17:\n",
        "  print('O usuário é classificado como adolescente')\n",
        "else:\n",
        "  print('O usuário é classificado como adulto')"
      ],
      "metadata": {
        "colab": {
          "base_uri": "https://localhost:8080/"
        },
        "id": "uDTp9Wb3ybXA",
        "outputId": "9ea74fea-ec7f-434b-d38a-a8628c1942fd"
      },
      "execution_count": null,
      "outputs": [
        {
          "output_type": "stream",
          "name": "stdout",
          "text": [
            "Digite a sua idade: -1\n",
            "A idade não pode ser negativa tente novamente\n",
            "Digite a sua idade: 17\n",
            "O usuário é classificado como adolescente\n"
          ]
        }
      ]
    },
    {
      "cell_type": "markdown",
      "source": [
        "##Calcular a média de um aluno que cursou a disciplina de Programação I, a partir da leitura das notas M1, M2 e M3; passando por um cálculo da média aritmética. Após a média calculada, devemos anunciar se o aluno foi aprovado, reprovado ou pegou exame\n",
        "- Se a média estiver entre 0.0 e 4.0, o aluno está reprovado\n",
        "- Se a média estiver entre 4.1 e 6.0, o aluno pegou exame\n",
        "- Se a média for maior do que 6.0, o aluno está aprovado\n",
        "- Se o aluno pegou exame, deve ser lida a nota do exame. Se a nota do exame for maior do que 6.0, está aprovado, senão; está reprovado"
      ],
      "metadata": {
        "id": "gARcUPq0yWBA"
      }
    },
    {
      "cell_type": "code",
      "source": [
        "q = 0\n",
        "while True:\n",
        "  q = q + 1\n",
        "  nota = float(input(f'Digite sua {q}° nota: '))\n",
        "  if q == 1:\n",
        "    nota1 = nota\n",
        "  elif q == 2:\n",
        "    nota2 = nota1 + nota\n",
        "  else:\n",
        "    média = nota2 + nota\n",
        "    média = média / 3\n",
        "    break\n",
        "print(f'A média obtida pelo aluno foi de {média}\\nDessa forma o aluno foi:')\n",
        "if média >= 0.0 and média <= 4.0:\n",
        "  print('O aluno está reporvado')\n",
        "elif média <= 6.0:\n",
        "  print('O aluno pegou exame')\n",
        "  nota_exame = float(input('Digite a sua nota do exame: '))\n",
        "  if nota_exame > 6.0:\n",
        "    print('O aluno está aprovado')\n",
        "  else:\n",
        "    print('O aluno está reprovado')\n",
        "else:\n",
        "  print(\"O aluno está aprovado\")"
      ],
      "metadata": {
        "colab": {
          "base_uri": "https://localhost:8080/"
        },
        "id": "_tJaUcpFzmlD",
        "outputId": "7f7563a9-e488-4dcf-f456-19595c6fda52"
      },
      "execution_count": null,
      "outputs": [
        {
          "output_type": "stream",
          "name": "stdout",
          "text": [
            "Digite sua 1° nota: 5\n",
            "Digite sua 2° nota: 5\n",
            "Digite sua 3° nota: 5\n",
            "A média obtida pelo aluno foi de 5.0\n",
            "Dessa forma o aluno foi:\n",
            "O aluno pegou exame\n",
            "Digite a sua nota do exame: 7\n",
            "O aluno está aprovado\n"
          ]
        }
      ]
    },
    {
      "cell_type": "markdown",
      "source": [
        "#Estruturas de repetição - for"
      ],
      "metadata": {
        "id": "7TnGCpgP9kUF"
      }
    },
    {
      "cell_type": "code",
      "source": [
        "for numero in range(1, 6):\n",
        "  print(numero)"
      ],
      "metadata": {
        "colab": {
          "base_uri": "https://localhost:8080/"
        },
        "id": "83fX5FEZ9o1u",
        "outputId": "d8d95729-b756-4664-c9ec-cb09ee96cd53"
      },
      "execution_count": null,
      "outputs": [
        {
          "output_type": "stream",
          "name": "stdout",
          "text": [
            "1\n",
            "2\n",
            "3\n",
            "4\n",
            "5\n"
          ]
        }
      ]
    },
    {
      "cell_type": "code",
      "source": [
        "for numero in range(5,0,-1):\n",
        "  print(numero)"
      ],
      "metadata": {
        "colab": {
          "base_uri": "https://localhost:8080/"
        },
        "id": "DhJWwbxE-Mw9",
        "outputId": "4416c435-ef19-4e96-8127-9a757a3a3745"
      },
      "execution_count": null,
      "outputs": [
        {
          "output_type": "stream",
          "name": "stdout",
          "text": [
            "5\n",
            "4\n",
            "3\n",
            "2\n",
            "1\n"
          ]
        }
      ]
    },
    {
      "cell_type": "code",
      "source": [
        "soma = 0\n",
        "for numero in range(1,6):\n",
        "  soma = soma + numero\n",
        "  print(soma)"
      ],
      "metadata": {
        "colab": {
          "base_uri": "https://localhost:8080/"
        },
        "id": "hWiIIaKu-XJr",
        "outputId": "fc501808-793e-4443-ba6e-fde993fc0517"
      },
      "execution_count": null,
      "outputs": [
        {
          "output_type": "stream",
          "name": "stdout",
          "text": [
            "1\n",
            "3\n",
            "6\n",
            "10\n",
            "15\n"
          ]
        }
      ]
    },
    {
      "cell_type": "code",
      "source": [
        "palavra = 'sorvete'\n",
        "for l in palavra:\n",
        "  print(l)\n",
        "  if l == 'v':\n",
        "    print('Achou a letra v')"
      ],
      "metadata": {
        "colab": {
          "base_uri": "https://localhost:8080/"
        },
        "id": "IjSwCaTg-6RR",
        "outputId": "d7ea8d5e-5151-4cd3-bf46-6220f1a8f49c"
      },
      "execution_count": null,
      "outputs": [
        {
          "output_type": "stream",
          "name": "stdout",
          "text": [
            "s\n",
            "o\n",
            "r\n",
            "v\n",
            "Achou a letra v\n",
            "e\n",
            "t\n",
            "e\n"
          ]
        }
      ]
    },
    {
      "cell_type": "code",
      "source": [
        "for i in range(0,5):\n",
        "  print(i)\n",
        "  print('---')\n",
        "  for j in range(0,3):\n",
        "    print(j)\n",
        "  print()"
      ],
      "metadata": {
        "colab": {
          "base_uri": "https://localhost:8080/"
        },
        "id": "MQWFF6r3_Smx",
        "outputId": "a637438d-fc6e-49be-cc09-56ce70da605f"
      },
      "execution_count": null,
      "outputs": [
        {
          "output_type": "stream",
          "name": "stdout",
          "text": [
            "0\n",
            "---\n",
            "0\n",
            "1\n",
            "2\n",
            "\n",
            "1\n",
            "---\n",
            "0\n",
            "1\n",
            "2\n",
            "\n",
            "2\n",
            "---\n",
            "0\n",
            "1\n",
            "2\n",
            "\n",
            "3\n",
            "---\n",
            "0\n",
            "1\n",
            "2\n",
            "\n",
            "4\n",
            "---\n",
            "0\n",
            "1\n",
            "2\n",
            "\n"
          ]
        }
      ]
    },
    {
      "cell_type": "markdown",
      "source": [
        "#Estruturas de repetição - while"
      ],
      "metadata": {
        "id": "F2M9iN0m_4oR"
      }
    },
    {
      "cell_type": "code",
      "source": [
        "numero = 1\n",
        "while numero < 6:\n",
        "  print(numero)\n",
        "  numero += 1\n"
      ],
      "metadata": {
        "colab": {
          "base_uri": "https://localhost:8080/"
        },
        "id": "wuC665Ao_8WA",
        "outputId": "dedd60d4-d254-4309-ee74-3cc6d50b7f32"
      },
      "execution_count": null,
      "outputs": [
        {
          "output_type": "stream",
          "name": "stdout",
          "text": [
            "1\n",
            "2\n",
            "3\n",
            "4\n",
            "5\n"
          ]
        }
      ]
    },
    {
      "cell_type": "code",
      "source": [
        "numero = 5\n",
        "while numero > 0:\n",
        "  print(numero)\n",
        "  numero -= 1"
      ],
      "metadata": {
        "colab": {
          "base_uri": "https://localhost:8080/"
        },
        "id": "v3Ikd5mNAnm7",
        "outputId": "50151e45-81e1-4d63-fac0-17acdadaddbe"
      },
      "execution_count": null,
      "outputs": [
        {
          "output_type": "stream",
          "name": "stdout",
          "text": [
            "5\n",
            "4\n",
            "3\n",
            "2\n",
            "1\n"
          ]
        }
      ]
    },
    {
      "cell_type": "code",
      "source": [
        "soma = 0\n",
        "numero = 1\n",
        "while numero < 6:\n",
        "  print(soma)\n",
        "  soma += numero\n",
        "  numero += 1"
      ],
      "metadata": {
        "colab": {
          "base_uri": "https://localhost:8080/"
        },
        "id": "Alxw1WMXAxT9",
        "outputId": "d4ebdfc3-5d5f-444a-abbe-701dcfb925e5"
      },
      "execution_count": null,
      "outputs": [
        {
          "output_type": "stream",
          "name": "stdout",
          "text": [
            "0\n",
            "1\n",
            "3\n",
            "6\n",
            "10\n"
          ]
        }
      ]
    },
    {
      "cell_type": "code",
      "source": [
        "numero = -1\n",
        "while numero < 1 or numero > 10:\n",
        "  numero = int(input('Digite um número de 1 a 10: '))"
      ],
      "metadata": {
        "colab": {
          "base_uri": "https://localhost:8080/"
        },
        "id": "UBSdhQ1rBHWz",
        "outputId": "7db93844-4b44-4d5e-8928-1dd93e5a1c58"
      },
      "execution_count": null,
      "outputs": [
        {
          "name": "stdout",
          "output_type": "stream",
          "text": [
            "Digite um número de 1 a 10: -4\n",
            "Digite um número de 1 a 10: 12\n",
            "Digite um número de 1 a 10: 4\n"
          ]
        }
      ]
    },
    {
      "cell_type": "markdown",
      "source": [
        "#Exercício 3"
      ],
      "metadata": {
        "id": "8mFE9M2gB-GT"
      }
    },
    {
      "cell_type": "markdown",
      "source": [
        "* Para revisar o conteúdo prático visto até agora, você agora pode resolver dois exercícios. Logo em seguida você pode acessar a aula em vídeo com a solução. Implemente cada exercício utilizando tanto o for quanto o while"
      ],
      "metadata": {
        "id": "KZ93s11-CGTb"
      }
    },
    {
      "cell_type": "markdown",
      "source": [
        "##1. Ler 5 notas e informa a média"
      ],
      "metadata": {
        "id": "bN95n4hOCCVU"
      }
    },
    {
      "cell_type": "markdown",
      "source": [
        "* For"
      ],
      "metadata": {
        "id": "jjmitfOjFEQf"
      }
    },
    {
      "cell_type": "code",
      "source": [
        "contador = 1\n",
        "média = []\n",
        "for contador in range(1,6):\n",
        "  nota = float(input(f\"Digite sua {contador}° nota: \"))\n",
        "  média.append(nota)\n",
        "\n",
        "print(f\"A média obtida foi de {sum(média)/5}\")"
      ],
      "metadata": {
        "colab": {
          "base_uri": "https://localhost:8080/"
        },
        "id": "66Cdz1c-B6Mj",
        "outputId": "332e8066-472b-4516-d0cb-690c848f611c"
      },
      "execution_count": null,
      "outputs": [
        {
          "output_type": "stream",
          "name": "stdout",
          "text": [
            "Digite sua 1° nota: 5\n",
            "Digite sua 2° nota: 5\n",
            "Digite sua 3° nota: 5\n",
            "Digite sua 4° nota: 5\n",
            "Digite sua 5° nota: 5\n",
            "A média obtida foi de 5.0\n"
          ]
        }
      ]
    },
    {
      "cell_type": "markdown",
      "source": [
        "* While"
      ],
      "metadata": {
        "id": "rWlHbpDxFFkb"
      }
    },
    {
      "cell_type": "code",
      "source": [
        "contador = 0\n",
        "média = []\n",
        "while True:\n",
        "  contador = contador + 1\n",
        "  nota = float(input(f\"Digite sua {contador}° nota: \"))\n",
        "  média.append(nota)\n",
        "  if contador == 5:\n",
        "    média = sum(média) / 5\n",
        "    break\n",
        "\n",
        "print(f\"A média obtida foi de {média}\")"
      ],
      "metadata": {
        "colab": {
          "base_uri": "https://localhost:8080/"
        },
        "id": "Oi89Ly2dDbDW",
        "outputId": "4c843db9-1e1f-457c-97bb-bd4ed6b0b452"
      },
      "execution_count": null,
      "outputs": [
        {
          "output_type": "stream",
          "name": "stdout",
          "text": [
            "Digite sua 1° nota: 7\n",
            "Digite sua 2° nota: 2\n",
            "Digite sua 3° nota: 10\n",
            "Digite sua 4° nota: 9\n",
            "Digite sua 5° nota: 8\n",
            "A média obtida foi de 7.2\n"
          ]
        }
      ]
    },
    {
      "cell_type": "markdown",
      "source": [
        "##Imprimir a tabuada do número 3 (3 x 1 = 3 ; 3 x 10 = 30)"
      ],
      "metadata": {
        "id": "oqQZegF0CI17"
      }
    },
    {
      "cell_type": "markdown",
      "source": [
        "* For"
      ],
      "metadata": {
        "id": "kq9GZimjFG4L"
      }
    },
    {
      "cell_type": "code",
      "source": [
        "for i in range(1,11):\n",
        "  print('3 x {} = {}'.format(i,3*i))"
      ],
      "metadata": {
        "colab": {
          "base_uri": "https://localhost:8080/"
        },
        "id": "ta8CwDFTEJVF",
        "outputId": "25bac9ff-b7ac-4809-bcdc-017870ffb097"
      },
      "execution_count": null,
      "outputs": [
        {
          "output_type": "stream",
          "name": "stdout",
          "text": [
            "3 x 1 = 3\n",
            "3 x 2 = 6\n",
            "3 x 3 = 9\n",
            "3 x 4 = 12\n",
            "3 x 5 = 15\n",
            "3 x 6 = 18\n",
            "3 x 7 = 21\n",
            "3 x 8 = 24\n",
            "3 x 9 = 27\n",
            "3 x 10 = 30\n"
          ]
        }
      ]
    },
    {
      "cell_type": "markdown",
      "source": [
        "* While"
      ],
      "metadata": {
        "id": "Y4QxxmwjFKJD"
      }
    },
    {
      "cell_type": "code",
      "source": [
        "numero = 1\n",
        "while numero <= 10:\n",
        "  print('3 x {} = {}'.format(numero,3*numero))\n",
        "  numero += 1"
      ],
      "metadata": {
        "colab": {
          "base_uri": "https://localhost:8080/"
        },
        "id": "EA5jLTUvEsTT",
        "outputId": "ef9c6f48-cc9a-4ccf-f61f-bf1451494f0b"
      },
      "execution_count": null,
      "outputs": [
        {
          "output_type": "stream",
          "name": "stdout",
          "text": [
            "3 x 1 = 3\n",
            "3 x 2 = 6\n",
            "3 x 3 = 9\n",
            "3 x 4 = 12\n",
            "3 x 5 = 15\n",
            "3 x 6 = 18\n",
            "3 x 7 = 21\n",
            "3 x 8 = 24\n",
            "3 x 9 = 27\n",
            "3 x 10 = 30\n"
          ]
        }
      ]
    },
    {
      "cell_type": "markdown",
      "source": [
        "#Coleções"
      ],
      "metadata": {
        "id": "BC8jPYPjLTF-"
      }
    },
    {
      "cell_type": "markdown",
      "source": [
        "##Tuplas"
      ],
      "metadata": {
        "id": "9vEgrqQULWrM"
      }
    },
    {
      "cell_type": "code",
      "source": [
        "tupla = ('Homo sapiens', 'Canis familiaris', 'Felis catus')"
      ],
      "metadata": {
        "id": "T2nQgMClLdFr"
      },
      "execution_count": null,
      "outputs": []
    },
    {
      "cell_type": "code",
      "source": [
        "tupla"
      ],
      "metadata": {
        "colab": {
          "base_uri": "https://localhost:8080/"
        },
        "id": "iJv-oqsULpw8",
        "outputId": "ae53b2e8-efc3-4740-fde0-724e8eecd7aa"
      },
      "execution_count": null,
      "outputs": [
        {
          "output_type": "execute_result",
          "data": {
            "text/plain": [
              "('Homo sapiens', 'Canis familiaris', 'Felis catus')"
            ]
          },
          "metadata": {},
          "execution_count": 76
        }
      ]
    },
    {
      "cell_type": "code",
      "source": [
        "tupla[0]"
      ],
      "metadata": {
        "colab": {
          "base_uri": "https://localhost:8080/",
          "height": 35
        },
        "id": "hTJ-7Vf4LrJT",
        "outputId": "cc325b8d-3f22-47cd-85f4-d13c7fcf06c9"
      },
      "execution_count": null,
      "outputs": [
        {
          "output_type": "execute_result",
          "data": {
            "text/plain": [
              "'Homo sapiens'"
            ],
            "application/vnd.google.colaboratory.intrinsic+json": {
              "type": "string"
            }
          },
          "metadata": {},
          "execution_count": 77
        }
      ]
    },
    {
      "cell_type": "code",
      "source": [
        "tupla[2]"
      ],
      "metadata": {
        "colab": {
          "base_uri": "https://localhost:8080/",
          "height": 35
        },
        "id": "dCM-dPZ0LtY7",
        "outputId": "7995e779-7f3e-4b2b-fa33-2c254e232881"
      },
      "execution_count": null,
      "outputs": [
        {
          "output_type": "execute_result",
          "data": {
            "text/plain": [
              "'Felis catus'"
            ],
            "application/vnd.google.colaboratory.intrinsic+json": {
              "type": "string"
            }
          },
          "metadata": {},
          "execution_count": 78
        }
      ]
    },
    {
      "cell_type": "code",
      "source": [
        "tupla.index('Canis familiaris')"
      ],
      "metadata": {
        "colab": {
          "base_uri": "https://localhost:8080/"
        },
        "id": "4EUsM5CyL4hl",
        "outputId": "19756da9-b56e-4094-a11e-dafe523393d3"
      },
      "execution_count": null,
      "outputs": [
        {
          "output_type": "execute_result",
          "data": {
            "text/plain": [
              "1"
            ]
          },
          "metadata": {},
          "execution_count": 79
        }
      ]
    },
    {
      "cell_type": "code",
      "source": [
        "for elemento in tupla:\n",
        "  print(elemento)"
      ],
      "metadata": {
        "colab": {
          "base_uri": "https://localhost:8080/"
        },
        "id": "HtZzUSVaL7em",
        "outputId": "bcfc5dcf-c81e-4c5e-90d6-6e5c0be4f58c"
      },
      "execution_count": null,
      "outputs": [
        {
          "output_type": "stream",
          "name": "stdout",
          "text": [
            "Homo sapiens\n",
            "Canis familiaris\n",
            "Felis catus\n"
          ]
        }
      ]
    },
    {
      "cell_type": "markdown",
      "source": [
        "##Listas"
      ],
      "metadata": {
        "id": "iZ0BF9ZiLXr0"
      }
    },
    {
      "cell_type": "code",
      "source": [
        "l1 = ['Homo sapiens', 'Canis familiaris', 'Felis catus']\n",
        "l2 = ['Xenopus laevis', 'Ailuropoda melanoleuca']"
      ],
      "metadata": {
        "id": "pyaOKmfVMDC_"
      },
      "execution_count": null,
      "outputs": []
    },
    {
      "cell_type": "code",
      "source": [
        "l3 = l1 + l2\n",
        "print(l3)"
      ],
      "metadata": {
        "colab": {
          "base_uri": "https://localhost:8080/"
        },
        "id": "4xEQ485gMQQ8",
        "outputId": "5fd4a86b-34ce-4cf4-b60e-3b8368aa499e"
      },
      "execution_count": null,
      "outputs": [
        {
          "output_type": "stream",
          "name": "stdout",
          "text": [
            "['Homo sapiens', 'Canis familiaris', 'Felis catus', 'Xenopus laevis', 'Ailuropoda melanoleuca']\n"
          ]
        }
      ]
    },
    {
      "cell_type": "code",
      "source": [
        "l2"
      ],
      "metadata": {
        "colab": {
          "base_uri": "https://localhost:8080/"
        },
        "id": "lmg1gFnFMVVU",
        "outputId": "4051bc3e-0a90-498a-d46a-cb813c4b6b8e"
      },
      "execution_count": null,
      "outputs": [
        {
          "output_type": "execute_result",
          "data": {
            "text/plain": [
              "['Xenopus laevis', 'Ailuropoda melanoleuca']"
            ]
          },
          "metadata": {},
          "execution_count": 83
        }
      ]
    },
    {
      "cell_type": "code",
      "source": [
        "l2_2 = l2 * 2\n",
        "print(l2_2)"
      ],
      "metadata": {
        "colab": {
          "base_uri": "https://localhost:8080/"
        },
        "id": "_8OVYCmTMWtr",
        "outputId": "2a313279-7e3e-40a9-8383-f8eb75ed99bf"
      },
      "execution_count": null,
      "outputs": [
        {
          "output_type": "stream",
          "name": "stdout",
          "text": [
            "['Xenopus laevis', 'Ailuropoda melanoleuca', 'Xenopus laevis', 'Ailuropoda melanoleuca']\n"
          ]
        }
      ]
    },
    {
      "cell_type": "code",
      "source": [
        "l1[1]"
      ],
      "metadata": {
        "colab": {
          "base_uri": "https://localhost:8080/",
          "height": 35
        },
        "id": "NFYzOcRyMlAz",
        "outputId": "62d87bcd-888f-477f-ba25-b3f5bfddcc89"
      },
      "execution_count": null,
      "outputs": [
        {
          "output_type": "execute_result",
          "data": {
            "text/plain": [
              "'Canis familiaris'"
            ],
            "application/vnd.google.colaboratory.intrinsic+json": {
              "type": "string"
            }
          },
          "metadata": {},
          "execution_count": 87
        }
      ]
    },
    {
      "cell_type": "code",
      "source": [
        "l1[0:2]"
      ],
      "metadata": {
        "colab": {
          "base_uri": "https://localhost:8080/"
        },
        "id": "0HIpamv-Mq7L",
        "outputId": "73727e25-491d-40d5-f89f-6492531d6dc9"
      },
      "execution_count": null,
      "outputs": [
        {
          "output_type": "execute_result",
          "data": {
            "text/plain": [
              "['Homo sapiens', 'Canis familiaris']"
            ]
          },
          "metadata": {},
          "execution_count": 88
        }
      ]
    },
    {
      "cell_type": "code",
      "source": [
        "l1.append('Gorila gorila')\n",
        "print(l1)"
      ],
      "metadata": {
        "colab": {
          "base_uri": "https://localhost:8080/"
        },
        "id": "yRLi8iPlMzFc",
        "outputId": "7aca8bc7-d8f6-4ebb-c98b-0c09b0a5b9a1"
      },
      "execution_count": null,
      "outputs": [
        {
          "output_type": "stream",
          "name": "stdout",
          "text": [
            "['Homo sapiens', 'Canis familiaris', 'Felis catus', 'Gorila gorila']\n"
          ]
        }
      ]
    },
    {
      "cell_type": "code",
      "source": [
        "l1.remove('Felis catus')\n",
        "print(l1)"
      ],
      "metadata": {
        "colab": {
          "base_uri": "https://localhost:8080/"
        },
        "id": "G1Ec8pBzM3Nz",
        "outputId": "2145112a-d8b8-43d4-8cb2-0d4c50d29826"
      },
      "execution_count": null,
      "outputs": [
        {
          "output_type": "stream",
          "name": "stdout",
          "text": [
            "['Homo sapiens', 'Canis familiaris', 'Gorila gorila']\n"
          ]
        }
      ]
    },
    {
      "cell_type": "code",
      "source": [
        "del(l1)\n",
        "print(l1)"
      ],
      "metadata": {
        "colab": {
          "base_uri": "https://localhost:8080/",
          "height": 193
        },
        "id": "uRxuds4lM8tL",
        "outputId": "aad1b722-0650-47e8-ebef-1cd75e9594d7"
      },
      "execution_count": null,
      "outputs": [
        {
          "output_type": "error",
          "ename": "NameError",
          "evalue": "name 'l1' is not defined",
          "traceback": [
            "\u001b[0;31m---------------------------------------------------------------------------\u001b[0m",
            "\u001b[0;31mNameError\u001b[0m                                 Traceback (most recent call last)",
            "\u001b[0;32m<ipython-input-91-d2a288df4153>\u001b[0m in \u001b[0;36m<cell line: 2>\u001b[0;34m()\u001b[0m\n\u001b[1;32m      1\u001b[0m \u001b[0;32mdel\u001b[0m\u001b[0;34m(\u001b[0m\u001b[0ml1\u001b[0m\u001b[0;34m)\u001b[0m\u001b[0;34m\u001b[0m\u001b[0;34m\u001b[0m\u001b[0m\n\u001b[0;32m----> 2\u001b[0;31m \u001b[0mprint\u001b[0m\u001b[0;34m(\u001b[0m\u001b[0ml1\u001b[0m\u001b[0;34m)\u001b[0m\u001b[0;34m\u001b[0m\u001b[0;34m\u001b[0m\u001b[0m\n\u001b[0m",
            "\u001b[0;31mNameError\u001b[0m: name 'l1' is not defined"
          ]
        }
      ]
    },
    {
      "cell_type": "code",
      "source": [
        "for item in l2_2:\n",
        "  print(item)"
      ],
      "metadata": {
        "colab": {
          "base_uri": "https://localhost:8080/"
        },
        "id": "WFiyllTjNAz7",
        "outputId": "6db8d938-6364-4175-88a8-da9be5576bc3"
      },
      "execution_count": null,
      "outputs": [
        {
          "output_type": "stream",
          "name": "stdout",
          "text": [
            "Xenopus laevis\n",
            "Ailuropoda melanoleuca\n",
            "Xenopus laevis\n",
            "Ailuropoda melanoleuca\n"
          ]
        }
      ]
    },
    {
      "cell_type": "markdown",
      "source": [
        "##Dicionários"
      ],
      "metadata": {
        "id": "9WzevbG1LYac"
      }
    },
    {
      "cell_type": "code",
      "source": [
        "coleta = {'Aedes aegypt':32, 'Aedes albopictus':22, 'Anopheles darlingi':14}"
      ],
      "metadata": {
        "id": "9r7ccSSgNZgz"
      },
      "execution_count": null,
      "outputs": []
    },
    {
      "cell_type": "code",
      "source": [
        "coleta['Aedes aegypt']"
      ],
      "metadata": {
        "colab": {
          "base_uri": "https://localhost:8080/"
        },
        "id": "Tq9PbztHNuHD",
        "outputId": "4d36fa65-2a52-43b0-db03-88e434f293b3"
      },
      "execution_count": null,
      "outputs": [
        {
          "output_type": "execute_result",
          "data": {
            "text/plain": [
              "32"
            ]
          },
          "metadata": {},
          "execution_count": 94
        }
      ]
    },
    {
      "cell_type": "code",
      "source": [
        "coleta['Rhodnius montenegrensis'] = 11"
      ],
      "metadata": {
        "id": "VDLeQjFoN0sj"
      },
      "execution_count": null,
      "outputs": []
    },
    {
      "cell_type": "code",
      "source": [
        "print(coleta)"
      ],
      "metadata": {
        "colab": {
          "base_uri": "https://localhost:8080/"
        },
        "id": "FjXdGUqPN5ZE",
        "outputId": "7c35aaaa-2a24-40eb-f0f7-42ac1b6c1e02"
      },
      "execution_count": null,
      "outputs": [
        {
          "output_type": "stream",
          "name": "stdout",
          "text": [
            "{'Aedes aegypt': 32, 'Aedes albopictus': 22, 'Anopheles darlingi': 14, 'Rhodnius montenegrensis': 11}\n"
          ]
        }
      ]
    },
    {
      "cell_type": "code",
      "source": [
        "del(coleta)['Aedes albopictus']\n",
        "print(coleta)"
      ],
      "metadata": {
        "colab": {
          "base_uri": "https://localhost:8080/"
        },
        "id": "L6AOO4w3N9XW",
        "outputId": "7afd5621-fdd6-467b-9a1e-1c8f0c8c1445"
      },
      "execution_count": null,
      "outputs": [
        {
          "output_type": "stream",
          "name": "stdout",
          "text": [
            "{'Aedes aegypt': 32, 'Anopheles darlingi': 14, 'Rhodnius montenegrensis': 11}\n"
          ]
        }
      ]
    },
    {
      "cell_type": "code",
      "source": [
        "coleta.items()"
      ],
      "metadata": {
        "colab": {
          "base_uri": "https://localhost:8080/"
        },
        "id": "wMJpAKkEOFkl",
        "outputId": "0368eba7-f021-483b-d59c-438230376ae0"
      },
      "execution_count": null,
      "outputs": [
        {
          "output_type": "execute_result",
          "data": {
            "text/plain": [
              "dict_items([('Aedes aegypt', 32), ('Anopheles darlingi', 14), ('Rhodnius montenegrensis', 11)])"
            ]
          },
          "metadata": {},
          "execution_count": 99
        }
      ]
    },
    {
      "cell_type": "code",
      "source": [
        "coleta.keys()"
      ],
      "metadata": {
        "colab": {
          "base_uri": "https://localhost:8080/"
        },
        "id": "ZDKzSIurOMA2",
        "outputId": "17fd7893-8d5f-42fa-84c4-51404c69b107"
      },
      "execution_count": null,
      "outputs": [
        {
          "output_type": "execute_result",
          "data": {
            "text/plain": [
              "dict_keys(['Aedes aegypt', 'Anopheles darlingi', 'Rhodnius montenegrensis'])"
            ]
          },
          "metadata": {},
          "execution_count": 100
        }
      ]
    },
    {
      "cell_type": "code",
      "source": [
        "coleta.values()"
      ],
      "metadata": {
        "colab": {
          "base_uri": "https://localhost:8080/"
        },
        "id": "Znoqr_JGOPcU",
        "outputId": "5291fb65-f7f3-4c71-8306-9bc50b074f42"
      },
      "execution_count": null,
      "outputs": [
        {
          "output_type": "execute_result",
          "data": {
            "text/plain": [
              "dict_values([32, 14, 11])"
            ]
          },
          "metadata": {},
          "execution_count": 101
        }
      ]
    },
    {
      "cell_type": "code",
      "source": [
        "coleta2 = {'Anopheles gambiae': 13, 'Anopheles deaneorum':14}\n",
        "print(coleta2)"
      ],
      "metadata": {
        "colab": {
          "base_uri": "https://localhost:8080/"
        },
        "id": "1vqUyabJOVKU",
        "outputId": "b2c427de-de4e-4048-d75f-bebf6ab4490a"
      },
      "execution_count": null,
      "outputs": [
        {
          "output_type": "stream",
          "name": "stdout",
          "text": [
            "{'Anopheles gambiae': 13, 'Anopheles deaneorum': 14}\n"
          ]
        }
      ]
    },
    {
      "cell_type": "code",
      "source": [
        "coleta.update(coleta2)\n",
        "print(coleta)"
      ],
      "metadata": {
        "colab": {
          "base_uri": "https://localhost:8080/"
        },
        "id": "EbM0mZE6OgKE",
        "outputId": "78d49bd9-2e01-4506-edd1-7c903e6be5d5"
      },
      "execution_count": null,
      "outputs": [
        {
          "output_type": "stream",
          "name": "stdout",
          "text": [
            "{'Aedes aegypt': 32, 'Anopheles darlingi': 14, 'Rhodnius montenegrensis': 11, 'Anopheles gambiae': 13, 'Anopheles deaneorum': 14}\n"
          ]
        }
      ]
    },
    {
      "cell_type": "code",
      "source": [
        "coleta.items()"
      ],
      "metadata": {
        "colab": {
          "base_uri": "https://localhost:8080/"
        },
        "id": "NBLiJmvjOoiV",
        "outputId": "b5c0ba1e-81f4-43f9-bc36-8041bebfcda8"
      },
      "execution_count": null,
      "outputs": [
        {
          "output_type": "execute_result",
          "data": {
            "text/plain": [
              "dict_items([('Aedes aegypt', 32), ('Anopheles darlingi', 14), ('Rhodnius montenegrensis', 11), ('Anopheles gambiae', 13), ('Anopheles deaneorum', 14)])"
            ]
          },
          "metadata": {},
          "execution_count": 104
        }
      ]
    },
    {
      "cell_type": "code",
      "source": [
        "for especie, num_especimes in coleta.items():\n",
        "  print(f'Espécie: {especie}, número de espécimes coletados: {num_especimes}')"
      ],
      "metadata": {
        "colab": {
          "base_uri": "https://localhost:8080/"
        },
        "id": "dLgmKMPKOr-8",
        "outputId": "8326ad08-0013-43ec-977a-d1072113a113"
      },
      "execution_count": null,
      "outputs": [
        {
          "output_type": "stream",
          "name": "stdout",
          "text": [
            "Espécie: Aedes aegypt, número de espécimes coletados: 32\n",
            "Espécie: Anopheles darlingi, número de espécimes coletados: 14\n",
            "Espécie: Rhodnius montenegrensis, número de espécimes coletados: 11\n",
            "Espécie: Anopheles gambiae, número de espécimes coletados: 13\n",
            "Espécie: Anopheles deaneorum, número de espécimes coletados: 14\n"
          ]
        }
      ]
    },
    {
      "cell_type": "markdown",
      "source": [
        "##Conjuntos (set)"
      ],
      "metadata": {
        "id": "MacYC9ifLZlM"
      }
    },
    {
      "cell_type": "code",
      "source": [
        "biomeleculas = (' proteína', 'ácidos nucleicos', 'carboidrato', 'lipídeo',\n",
        "                'ácidos nucleicos', 'carboidrato', 'carboidrato', 'carboidrato')"
      ],
      "metadata": {
        "id": "hYaLS_ViPIeW"
      },
      "execution_count": null,
      "outputs": []
    },
    {
      "cell_type": "code",
      "source": [
        "print(biomeleculas)"
      ],
      "metadata": {
        "colab": {
          "base_uri": "https://localhost:8080/"
        },
        "id": "1Ata3VnyPc2q",
        "outputId": "9c9a22ad-3d90-4481-b1ba-e9d879f1a86b"
      },
      "execution_count": null,
      "outputs": [
        {
          "output_type": "stream",
          "name": "stdout",
          "text": [
            "(' proteína', 'ácidos nucleicos', 'carboidrato', 'lipídeo', 'ácidos nucleicos', 'carboidrato', 'carboidrato', 'carboidrato')\n"
          ]
        }
      ]
    },
    {
      "cell_type": "code",
      "source": [
        "print(set(biomeleculas))"
      ],
      "metadata": {
        "colab": {
          "base_uri": "https://localhost:8080/"
        },
        "id": "1pc0qhQmPgSi",
        "outputId": "019f56ef-b180-4d5f-8495-1f80bc583f74"
      },
      "execution_count": null,
      "outputs": [
        {
          "output_type": "stream",
          "name": "stdout",
          "text": [
            "{'carboidrato', 'lipídeo', 'ácidos nucleicos', ' proteína'}\n"
          ]
        }
      ]
    },
    {
      "cell_type": "code",
      "source": [
        "c1 = {1,2,3,4,5}\n",
        "c2 = {3,4,5,6,7}\n",
        "c3 = c1.intersection(c2)"
      ],
      "metadata": {
        "id": "8r4HLCP1PqUc"
      },
      "execution_count": null,
      "outputs": []
    },
    {
      "cell_type": "code",
      "source": [
        "print(c3)"
      ],
      "metadata": {
        "colab": {
          "base_uri": "https://localhost:8080/"
        },
        "id": "EJzFREiEP2UW",
        "outputId": "5fdd403e-503c-4cb1-b649-81e00bfd7877"
      },
      "execution_count": null,
      "outputs": [
        {
          "output_type": "stream",
          "name": "stdout",
          "text": [
            "{3, 4, 5}\n"
          ]
        }
      ]
    },
    {
      "cell_type": "code",
      "source": [
        "c1.difference(c2)"
      ],
      "metadata": {
        "colab": {
          "base_uri": "https://localhost:8080/"
        },
        "id": "RKvm83adQA2Y",
        "outputId": "100058ca-3582-4bc8-bc0a-554bf5ea0cf6"
      },
      "execution_count": null,
      "outputs": [
        {
          "output_type": "execute_result",
          "data": {
            "text/plain": [
              "{1, 2}"
            ]
          },
          "metadata": {},
          "execution_count": 113
        }
      ]
    },
    {
      "cell_type": "code",
      "source": [
        "c2.difference(c1)"
      ],
      "metadata": {
        "colab": {
          "base_uri": "https://localhost:8080/"
        },
        "id": "GCcEDJ-MQDQG",
        "outputId": "3ab8d430-220d-4936-c352-c42cac30364d"
      },
      "execution_count": null,
      "outputs": [
        {
          "output_type": "execute_result",
          "data": {
            "text/plain": [
              "{6, 7}"
            ]
          },
          "metadata": {},
          "execution_count": 114
        }
      ]
    },
    {
      "cell_type": "markdown",
      "source": [
        "#Matrizes"
      ],
      "metadata": {
        "id": "6OZhzhmtQvax"
      }
    },
    {
      "cell_type": "code",
      "source": [
        "import numpy as np"
      ],
      "metadata": {
        "id": "7axXeEJoQ0e6"
      },
      "execution_count": null,
      "outputs": []
    },
    {
      "cell_type": "code",
      "source": [
        "matriz = np.array([[2,3,1],[4,5,7]])"
      ],
      "metadata": {
        "id": "VBvQrHcAQ9Ta"
      },
      "execution_count": null,
      "outputs": []
    },
    {
      "cell_type": "code",
      "source": [
        "matriz"
      ],
      "metadata": {
        "colab": {
          "base_uri": "https://localhost:8080/"
        },
        "id": "bC5fNjLXRNTa",
        "outputId": "2cae96b8-ccfd-4899-95e8-70bba6b451cf"
      },
      "execution_count": null,
      "outputs": [
        {
          "output_type": "execute_result",
          "data": {
            "text/plain": [
              "array([[2, 3, 1],\n",
              "       [4, 5, 7]])"
            ]
          },
          "metadata": {},
          "execution_count": 118
        }
      ]
    },
    {
      "cell_type": "code",
      "source": [
        "matriz.shape"
      ],
      "metadata": {
        "colab": {
          "base_uri": "https://localhost:8080/"
        },
        "id": "G1NCDjrFRRRc",
        "outputId": "c8572fe7-c5ad-43db-d8f5-d78be97a4dd5"
      },
      "execution_count": null,
      "outputs": [
        {
          "output_type": "execute_result",
          "data": {
            "text/plain": [
              "(2, 3)"
            ]
          },
          "metadata": {},
          "execution_count": 119
        }
      ]
    },
    {
      "cell_type": "code",
      "source": [
        "matriz[0]"
      ],
      "metadata": {
        "colab": {
          "base_uri": "https://localhost:8080/"
        },
        "id": "NBsrzwRrRS87",
        "outputId": "f26dfb0a-199c-4d8b-d679-c3b68ec9edbf"
      },
      "execution_count": null,
      "outputs": [
        {
          "output_type": "execute_result",
          "data": {
            "text/plain": [
              "array([2, 3, 1])"
            ]
          },
          "metadata": {},
          "execution_count": 121
        }
      ]
    },
    {
      "cell_type": "code",
      "source": [
        "matriz[1][1]"
      ],
      "metadata": {
        "colab": {
          "base_uri": "https://localhost:8080/"
        },
        "id": "LMGkf1jbRY6M",
        "outputId": "e679b46b-d5ba-4cd8-9762-e34b21ba9c7f"
      },
      "execution_count": null,
      "outputs": [
        {
          "output_type": "execute_result",
          "data": {
            "text/plain": [
              "5"
            ]
          },
          "metadata": {},
          "execution_count": 124
        }
      ]
    },
    {
      "cell_type": "code",
      "source": [
        "for i in range(matriz.shape[0]):\n",
        "  print(matriz[i])\n",
        "  for j in range(matriz.shape[1]):\n",
        "    print(matriz[i][j])"
      ],
      "metadata": {
        "colab": {
          "base_uri": "https://localhost:8080/"
        },
        "id": "P7-EnMgDRned",
        "outputId": "3e92eb16-d5a4-4bfd-d2ac-f7c3da38f5a4"
      },
      "execution_count": null,
      "outputs": [
        {
          "output_type": "stream",
          "name": "stdout",
          "text": [
            "[2 3 1]\n",
            "2\n",
            "3\n",
            "1\n",
            "[4 5 7]\n",
            "4\n",
            "5\n",
            "7\n"
          ]
        }
      ]
    },
    {
      "cell_type": "markdown",
      "source": [
        "# Exercício 4"
      ],
      "metadata": {
        "id": "lxsEsmxrWrDu"
      }
    },
    {
      "cell_type": "markdown",
      "source": [
        "## 1. Lista: Crie uma estrutura de repetição para fazer a leitura de 5 números inteiros e os armazene dentro de uma lista. Após a leitura, crie outra estrutura de repetição para somar todos os valores digitados"
      ],
      "metadata": {
        "id": "Yws8eVN-WwTv"
      }
    },
    {
      "cell_type": "code",
      "source": [
        "import random\n",
        "import numpy as np"
      ],
      "metadata": {
        "id": "zYGD8dfYbz8J"
      },
      "execution_count": null,
      "outputs": []
    },
    {
      "cell_type": "code",
      "source": [
        "lista = []\n",
        "for i in range(1,6):\n",
        "  x = random.randint(1,100)\n",
        "  lista.append(x)\n",
        "print(lista)\n",
        "soma = 0\n",
        "for j in range(len(lista)):\n",
        "  soma += lista[j]\n",
        "print(soma)"
      ],
      "metadata": {
        "colab": {
          "base_uri": "https://localhost:8080/"
        },
        "id": "j2sFJJyVXQf7",
        "outputId": "153b5e99-d1d8-4d1d-d770-555a47dd979d"
      },
      "execution_count": null,
      "outputs": [
        {
          "output_type": "stream",
          "name": "stdout",
          "text": [
            "[11, 86, 5, 18, 7]\n",
            "127\n"
          ]
        }
      ]
    },
    {
      "cell_type": "code",
      "source": [
        "np.array(lista).sum()"
      ],
      "metadata": {
        "colab": {
          "base_uri": "https://localhost:8080/"
        },
        "id": "Ne9ZZcaRaid6",
        "outputId": "ac55e000-3e08-47de-b7fb-c078c2c178d8"
      },
      "execution_count": null,
      "outputs": [
        {
          "output_type": "execute_result",
          "data": {
            "text/plain": [
              "127"
            ]
          },
          "metadata": {},
          "execution_count": 180
        }
      ]
    },
    {
      "cell_type": "markdown",
      "source": [
        "## 2. Dicionário: Crie um dicionário para armazenar o nome e a nota de 3 alunos, fazendo a leitura dos valores por meio de uma estrutura de repetição. Depois, crie uma nova estrutura de repetição para somar todas as notas e retornar a média\n",
        "\n"
      ],
      "metadata": {
        "id": "cBbkU0emW0Ss"
      }
    },
    {
      "cell_type": "code",
      "source": [
        "dicionário = {}\n",
        "contador = 1\n",
        "for i in range(1,4):\n",
        "  nome_aluno = str(input(f\"Informe o nome do {contador}° aluno: \"))\n",
        "  nota_aluno = float(input(f\"Informe a nota do {contador}° aluno: \"))\n",
        "  print()\n",
        "  dicionário[nome_aluno] = nota_aluno\n",
        "  contador += 1\n",
        "print(dicionário)\n",
        "soma = 0\n",
        "for j in dicionário.values():\n",
        "  soma = j + soma\n",
        "print(f\"O valor da média é: {soma/3}\")"
      ],
      "metadata": {
        "colab": {
          "base_uri": "https://localhost:8080/"
        },
        "id": "uSr0x8DGassZ",
        "outputId": "53817dfa-fc7e-40e6-8b3d-5e648a68ad29"
      },
      "execution_count": null,
      "outputs": [
        {
          "output_type": "stream",
          "name": "stdout",
          "text": [
            "Informe o nome do 1° aluno: Wallace\n",
            "Informe a nota do 1° aluno: 6\n",
            "\n",
            "Informe o nome do 2° aluno: Santana\n",
            "Informe a nota do 2° aluno: 8\n",
            "\n",
            "Informe o nome do 3° aluno: Ramos\n",
            "Informe a nota do 3° aluno: 10\n",
            "\n",
            "{'Wallace': 6.0, 'Santana': 8.0, 'Ramos': 10.0}\n",
            "O valor da média é: 8.0\n"
          ]
        }
      ]
    },
    {
      "cell_type": "markdown",
      "source": [
        "## 3. Matriz: Dada a matriz abaixo, construa uma estrutura de repetição para percorrer e somar todos os elementos da matriz\n",
        "\n",
        "matriz = np.array([[3, 4, 1],\n",
        "                   [3, 1, 5]])"
      ],
      "metadata": {
        "id": "-Mrz0l02W2xN"
      }
    },
    {
      "cell_type": "code",
      "source": [
        "import numpy as np"
      ],
      "metadata": {
        "id": "gjauwcJUgklU"
      },
      "execution_count": null,
      "outputs": []
    },
    {
      "cell_type": "code",
      "source": [
        "matriz = np.array([[3, 4, 1], [3, 1, 5]])\n",
        "soma = 0\n",
        "for i in range(matriz.shape[0]):\n",
        "  for j in range(matriz.shape[1]):\n",
        "    soma += matriz[i][j]\n",
        "print(f\"A soma foi de: {soma}\")"
      ],
      "metadata": {
        "colab": {
          "base_uri": "https://localhost:8080/"
        },
        "id": "Zy-iUJRVgSt8",
        "outputId": "80cc1fd0-5643-4838-cd1b-8b57d99e0ce6"
      },
      "execution_count": null,
      "outputs": [
        {
          "output_type": "stream",
          "name": "stdout",
          "text": [
            "A soma foi de: 17\n"
          ]
        }
      ]
    },
    {
      "cell_type": "markdown",
      "source": [
        "# Funções"
      ],
      "metadata": {
        "id": "dH6LyYPC8EQD"
      }
    },
    {
      "cell_type": "markdown",
      "source": [
        "## Função sem parâmetro e sem retorno"
      ],
      "metadata": {
        "id": "UsrlcE298L2b"
      }
    },
    {
      "cell_type": "code",
      "source": [
        "def mensagem():\n",
        "  print('Texto da função')"
      ],
      "metadata": {
        "id": "YZyCRmTL8VRC"
      },
      "execution_count": null,
      "outputs": []
    },
    {
      "cell_type": "code",
      "source": [
        "mensagem()\n",
        "mensagem()\n",
        "mensagem()"
      ],
      "metadata": {
        "colab": {
          "base_uri": "https://localhost:8080/"
        },
        "id": "kO5YjrfA8dV6",
        "outputId": "8659e431-b6b7-41e0-f92b-d8ef066eaa13"
      },
      "execution_count": null,
      "outputs": [
        {
          "output_type": "stream",
          "name": "stdout",
          "text": [
            "Texto da função\n",
            "Texto da função\n",
            "Texto da função\n"
          ]
        }
      ]
    },
    {
      "cell_type": "markdown",
      "source": [
        "## Função com passagem de parâmetro"
      ],
      "metadata": {
        "id": "PlLPp4ob8Oqj"
      }
    },
    {
      "cell_type": "code",
      "source": [
        "def mensagem(texto):\n",
        "  print(texto)"
      ],
      "metadata": {
        "id": "mn8IePhK8pNa"
      },
      "execution_count": null,
      "outputs": []
    },
    {
      "cell_type": "code",
      "source": [
        "mensagem('texto 1')\n",
        "mensagem('texto 2')\n",
        "mensagem('texto 3')"
      ],
      "metadata": {
        "colab": {
          "base_uri": "https://localhost:8080/"
        },
        "id": "8sMv7lUZ8uZC",
        "outputId": "1af78fc4-b9d5-4a6f-9685-8d0e3cab089c"
      },
      "execution_count": null,
      "outputs": [
        {
          "output_type": "stream",
          "name": "stdout",
          "text": [
            "texto 1\n",
            "texto 2\n",
            "texto 3\n"
          ]
        }
      ]
    },
    {
      "cell_type": "code",
      "source": [
        "def soma(a,b):\n",
        "  print(a + b)"
      ],
      "metadata": {
        "id": "c3Sc7DF69BuL"
      },
      "execution_count": null,
      "outputs": []
    },
    {
      "cell_type": "code",
      "source": [
        "soma(2,5)\n",
        "soma(3,3)\n",
        "soma(1,2)"
      ],
      "metadata": {
        "colab": {
          "base_uri": "https://localhost:8080/"
        },
        "id": "EoC9jSGK9GN7",
        "outputId": "94daa583-6df4-45fb-bec2-638245348039"
      },
      "execution_count": null,
      "outputs": [
        {
          "output_type": "stream",
          "name": "stdout",
          "text": [
            "7\n",
            "6\n",
            "3\n"
          ]
        }
      ]
    },
    {
      "cell_type": "markdown",
      "source": [
        "##Função com passagem de parâmetros e retorno"
      ],
      "metadata": {
        "id": "ScnPUOii8Q4a"
      }
    },
    {
      "cell_type": "code",
      "source": [
        "def soma(a,b):\n",
        "  return a + b"
      ],
      "metadata": {
        "id": "B9LoeLTk9TRy"
      },
      "execution_count": null,
      "outputs": []
    },
    {
      "cell_type": "code",
      "source": [
        "soma(2,5)"
      ],
      "metadata": {
        "colab": {
          "base_uri": "https://localhost:8080/"
        },
        "id": "aL4tvGxF9YsK",
        "outputId": "d6b2ceef-1ff9-4698-edbb-2bf350d299cb"
      },
      "execution_count": null,
      "outputs": [
        {
          "output_type": "execute_result",
          "data": {
            "text/plain": [
              "7"
            ]
          },
          "metadata": {},
          "execution_count": 12
        }
      ]
    },
    {
      "cell_type": "code",
      "source": [
        "r = soma(3,2)\n",
        "print(r)"
      ],
      "metadata": {
        "colab": {
          "base_uri": "https://localhost:8080/"
        },
        "id": "hWf70QhX9fdC",
        "outputId": "646c1896-45b1-453f-cc69-a0092771d92d"
      },
      "execution_count": null,
      "outputs": [
        {
          "output_type": "stream",
          "name": "stdout",
          "text": [
            "5\n"
          ]
        }
      ]
    },
    {
      "cell_type": "code",
      "source": [
        "def calcula_energia_potencial_gravitacional(m,h,g = 10):\n",
        "  '''\n",
        "  Calcula a energia potencial gravitacional\n",
        "  Argumentos:\n",
        "  m: massa, entrada como uma variável float\n",
        "  h: altura, entrada como uma variável float\n",
        "\n",
        "  Argumento opcional:\n",
        "  g: acelaração gravitacional, com valor default de 10\n",
        "  '''\n",
        "  e = g * m * h\n",
        "  return e"
      ],
      "metadata": {
        "id": "hm2WyUhX94hy"
      },
      "execution_count": null,
      "outputs": []
    },
    {
      "cell_type": "code",
      "source": [
        "calcula_energia_potencial_gravitacional(30,12)"
      ],
      "metadata": {
        "colab": {
          "base_uri": "https://localhost:8080/"
        },
        "id": "OZDN35RT-IMz",
        "outputId": "3abb6d12-bba6-4291-e36c-5badf445fed0"
      },
      "execution_count": null,
      "outputs": [
        {
          "output_type": "execute_result",
          "data": {
            "text/plain": [
              "3600"
            ]
          },
          "metadata": {},
          "execution_count": 17
        }
      ]
    },
    {
      "cell_type": "code",
      "source": [
        "calcula_energia_potencial_gravitacional(30,12,9.8)"
      ],
      "metadata": {
        "colab": {
          "base_uri": "https://localhost:8080/"
        },
        "id": "WXjhimWL-L9D",
        "outputId": "443c105b-3d9b-439e-ffd4-982d863a6554"
      },
      "execution_count": null,
      "outputs": [
        {
          "output_type": "execute_result",
          "data": {
            "text/plain": [
              "3528.0"
            ]
          },
          "metadata": {},
          "execution_count": 18
        }
      ]
    },
    {
      "cell_type": "code",
      "source": [
        "help(calcula_energia_potencial_gravitacional)"
      ],
      "metadata": {
        "colab": {
          "base_uri": "https://localhost:8080/"
        },
        "id": "qaHbmaHO-qJF",
        "outputId": "7a51e4f2-da64-456a-d304-4ddfe658454e"
      },
      "execution_count": null,
      "outputs": [
        {
          "output_type": "stream",
          "name": "stdout",
          "text": [
            "Help on function calcula_energia_potencial_gravitacional in module __main__:\n",
            "\n",
            "calcula_energia_potencial_gravitacional(m, h, g=10)\n",
            "    Calcula a energia potencial gravitacional\n",
            "    Argumentos:\n",
            "    m: massa, entrada como uma variável float\n",
            "    h: altura, entrada como uma variável float\n",
            "    \n",
            "    Argumento opcional:\n",
            "    g: acelaração gravitacional, com valor default de 10\n",
            "\n"
          ]
        }
      ]
    },
    {
      "cell_type": "markdown",
      "source": [
        "# Exercício 5"
      ],
      "metadata": {
        "id": "w32Ttq6G_Bdv"
      }
    },
    {
      "cell_type": "markdown",
      "source": [
        "##1. Ler uma temperatura em graus Celsius e apresentá-la convertida em graus Fahrenheit. A fórmula de conversão é F = (9 * C + 160) / 5, na qual F é a temperatura em Fahrenheit e C é a temperatura em graus Celsius\n",
        "- Função para ler e retorna o valor da temperatura (não recebe parâmetro)\n",
        "- Função para fazer o cálculo (recebe como parâmetro a temperatura em graus Celsius)\n",
        "- Função para mostrar o resultado, recebendo como parâmetro o valor e fazendo a impressão"
      ],
      "metadata": {
        "id": "VaQy9Tq2_DHN"
      }
    },
    {
      "cell_type": "code",
      "source": [
        "def temperatura():\n",
        "  C = int(input('Qual a temperatura em graus celsius? '))\n",
        "  return C"
      ],
      "metadata": {
        "id": "cCXAqvYW_J4-"
      },
      "execution_count": null,
      "outputs": []
    },
    {
      "cell_type": "code",
      "source": [
        "def conversão_temperatura(C):\n",
        "  F = (9 * C + 160) / 5\n",
        "  return F"
      ],
      "metadata": {
        "id": "dnTJJl4nAjkF"
      },
      "execution_count": null,
      "outputs": []
    },
    {
      "cell_type": "code",
      "source": [
        "def mostrar_resultado(F):\n",
        "  print(f\"A conversão da temperatura em graus célsios para Fahrenheit deu {F}\")"
      ],
      "metadata": {
        "id": "EssoeKkHBSRE"
      },
      "execution_count": null,
      "outputs": []
    },
    {
      "cell_type": "code",
      "source": [
        "C = temperatura()\n",
        "F = conversão_temperatura(C)\n",
        "mostrar_resultado(F)"
      ],
      "metadata": {
        "colab": {
          "base_uri": "https://localhost:8080/"
        },
        "id": "pg5XLHuRANZ1",
        "outputId": "99f886c3-5cff-470c-e508-5c7039ccf05a"
      },
      "execution_count": null,
      "outputs": [
        {
          "output_type": "stream",
          "name": "stdout",
          "text": [
            "Qual a temperatura em graus celsius? 20\n",
            "A conversão da temperatura em graus célsios para Fahrenheit deu 68.0\n"
          ]
        }
      ]
    },
    {
      "cell_type": "markdown",
      "source": [
        "##2. Efetuar o cálculo da quantidade de litros de combustível gasto em uma viagem, utilizando um automóvel que faz 12 Km por litro. Para obter o cálculo, o usuário deve fornecer o tempo gasto na viagem e a velocidade média durante ela. Desta forma, será possível obter a distância percorrida com a fórmula DISTANCIA = TEMPO * VELOCIDADE. Tendo o valor da distância, basta calcular a quantidade de litros de combustível utilizada na viagem, com a fórmula: LITROS_USADOS = DISTANCIA / 12. O programa deve apresentar os valores da velocidade média, tempo gasto na viagem, a distância percorrida e a quantidade de litros utilizada na viagem\n",
        "- Função para ler os valores (não recebe parâmetro e retorna os dois valores)\n",
        "- Função para calcular a distância (recebe como parâmetro o tempo e a velocidade e retorna a distância)\n",
        "- Função para calcular a quantidade de litros (recebe como parâmetro a distância e retorna os litros)\n",
        "- Função para apresentar o resultado (recebe como parâmetro os valores e somente imprime o resultado)"
      ],
      "metadata": {
        "id": "dZVvu5pS_GeF"
      }
    },
    {
      "cell_type": "code",
      "source": [
        "def receber_valores():\n",
        "  tempo_gasto = int(input('Qual foi o tempo gasto na viagem? '))\n",
        "  velocidade_média = int(input('Qual foi a velocidade média durante ela? '))\n",
        "  return tempo_gasto, velocidade_média"
      ],
      "metadata": {
        "id": "MpgIB-z9DCor"
      },
      "execution_count": null,
      "outputs": []
    },
    {
      "cell_type": "code",
      "source": [
        "def calculo_distancia(tempo_gasto, velocidade_média):\n",
        "  distancia = tempo_gasto * velocidade_média\n",
        "  return distancia"
      ],
      "metadata": {
        "id": "8C0lQosIDeN7"
      },
      "execution_count": null,
      "outputs": []
    },
    {
      "cell_type": "code",
      "source": [
        "def quantidade_litros(distancia):\n",
        "  litros_usados = distancia / 12\n",
        "  return litros_usados"
      ],
      "metadata": {
        "id": "BbJBTT4gDwC7"
      },
      "execution_count": null,
      "outputs": []
    },
    {
      "cell_type": "code",
      "source": [
        "def apresentar_resultado(tempo_gasto, velocidade_média, distancia, litros_usados):\n",
        "  print(f\"O tempo gasto na viagem foi: {tempo_gasto}\\nA velocidade média foi: {velocidade_média}\\nA distância percorrida foi: {distancia}\\nA quantidade de litros utilizada foi: {litros_usados}\")"
      ],
      "metadata": {
        "id": "AzHIL9siEBVK"
      },
      "execution_count": null,
      "outputs": []
    },
    {
      "cell_type": "code",
      "source": [
        "tempo_gasto, velocidade_média = receber_valores()\n",
        "distancia = calculo_distancia(tempo_gasto, velocidade_média)\n",
        "litros_usados = quantidade_litros(distancia)\n",
        "apresentar_resultado(tempo_gasto, velocidade_média, distancia, litros_usados)"
      ],
      "metadata": {
        "colab": {
          "base_uri": "https://localhost:8080/"
        },
        "id": "EN3U-OOkEmfi",
        "outputId": "4fbd43ef-6670-49db-e55c-0140b9414c5c"
      },
      "execution_count": null,
      "outputs": [
        {
          "output_type": "stream",
          "name": "stdout",
          "text": [
            "Qual foi o tempo gasto na viagem? 2\n",
            "Qual foi a velocidade média durante ela? 80\n",
            "O tempo gasto na viagem foi: 2\n",
            "A velocidade média foi: 80\n",
            "A distância percorrida foi: 160\n",
            "A quantidade de litros utilizada foi: 13.333333333333334\n"
          ]
        }
      ]
    },
    {
      "cell_type": "markdown",
      "source": [
        "# Módulos úteis"
      ],
      "metadata": {
        "id": "WDN1mgUgKGgH"
      }
    },
    {
      "cell_type": "markdown",
      "source": [
        "## Biblioteca math"
      ],
      "metadata": {
        "id": "rTA0YSUbKTVw"
      }
    },
    {
      "cell_type": "code",
      "source": [
        "import math"
      ],
      "metadata": {
        "id": "hxA-IWy-KMCV"
      },
      "execution_count": null,
      "outputs": []
    },
    {
      "cell_type": "code",
      "source": [
        "math.sqrt(9)"
      ],
      "metadata": {
        "colab": {
          "base_uri": "https://localhost:8080/"
        },
        "id": "V9RTeHVoKbfe",
        "outputId": "4fd7f6e1-a784-4506-f702-be8d85609f84"
      },
      "execution_count": null,
      "outputs": [
        {
          "output_type": "execute_result",
          "data": {
            "text/plain": [
              "3.0"
            ]
          },
          "metadata": {},
          "execution_count": 71
        }
      ]
    },
    {
      "cell_type": "code",
      "source": [
        "math.sin(45)"
      ],
      "metadata": {
        "colab": {
          "base_uri": "https://localhost:8080/"
        },
        "id": "_rL_bxGnKhtB",
        "outputId": "ea2d909c-4424-4202-d911-0040901b5dec"
      },
      "execution_count": null,
      "outputs": [
        {
          "output_type": "execute_result",
          "data": {
            "text/plain": [
              "0.8509035245341184"
            ]
          },
          "metadata": {},
          "execution_count": 72
        }
      ]
    },
    {
      "cell_type": "code",
      "source": [
        "math.cos(45)"
      ],
      "metadata": {
        "colab": {
          "base_uri": "https://localhost:8080/"
        },
        "id": "UnZzUxFZKlDn",
        "outputId": "410ba1a0-d39d-4402-fe95-7c489d60d94f"
      },
      "execution_count": null,
      "outputs": [
        {
          "output_type": "execute_result",
          "data": {
            "text/plain": [
              "0.5253219888177297"
            ]
          },
          "metadata": {},
          "execution_count": 73
        }
      ]
    },
    {
      "cell_type": "code",
      "source": [
        "math.log(1000,10)"
      ],
      "metadata": {
        "colab": {
          "base_uri": "https://localhost:8080/"
        },
        "id": "9o5wLyn6KoqO",
        "outputId": "18149c9d-c367-4d55-d9b4-841d3fe82321"
      },
      "execution_count": null,
      "outputs": [
        {
          "output_type": "execute_result",
          "data": {
            "text/plain": [
              "2.9999999999999996"
            ]
          },
          "metadata": {},
          "execution_count": 74
        }
      ]
    },
    {
      "cell_type": "code",
      "source": [
        "math.log(32,2)"
      ],
      "metadata": {
        "colab": {
          "base_uri": "https://localhost:8080/"
        },
        "id": "3fwIUk04KuoQ",
        "outputId": "a32dd2fc-600b-46c3-d538-63845c4fbc0f"
      },
      "execution_count": null,
      "outputs": [
        {
          "output_type": "execute_result",
          "data": {
            "text/plain": [
              "5.0"
            ]
          },
          "metadata": {},
          "execution_count": 75
        }
      ]
    },
    {
      "cell_type": "code",
      "source": [
        "math.log(1000)"
      ],
      "metadata": {
        "colab": {
          "base_uri": "https://localhost:8080/"
        },
        "id": "Vo3ZjeMrKxfY",
        "outputId": "fb29721d-a14b-4016-9a21-8c1f067d7053"
      },
      "execution_count": null,
      "outputs": [
        {
          "output_type": "execute_result",
          "data": {
            "text/plain": [
              "6.907755278982137"
            ]
          },
          "metadata": {},
          "execution_count": 76
        }
      ]
    },
    {
      "cell_type": "code",
      "source": [
        "math.e"
      ],
      "metadata": {
        "colab": {
          "base_uri": "https://localhost:8080/"
        },
        "id": "PYyKISIqK4v4",
        "outputId": "0213af61-347e-49eb-82b1-0b5c022766c0"
      },
      "execution_count": null,
      "outputs": [
        {
          "output_type": "execute_result",
          "data": {
            "text/plain": [
              "2.718281828459045"
            ]
          },
          "metadata": {},
          "execution_count": 78
        }
      ]
    },
    {
      "cell_type": "code",
      "source": [
        "math.pi"
      ],
      "metadata": {
        "colab": {
          "base_uri": "https://localhost:8080/"
        },
        "id": "LwxnUf1lK-6a",
        "outputId": "2c6abc3b-a7d1-45cc-d4c4-fc50cbc58b32"
      },
      "execution_count": null,
      "outputs": [
        {
          "output_type": "execute_result",
          "data": {
            "text/plain": [
              "3.141592653589793"
            ]
          },
          "metadata": {},
          "execution_count": 79
        }
      ]
    },
    {
      "cell_type": "markdown",
      "source": [
        "## Biblioteca datetime"
      ],
      "metadata": {
        "id": "wu8CmooMLSWh"
      }
    },
    {
      "cell_type": "code",
      "source": [
        "import datetime"
      ],
      "metadata": {
        "id": "-Ru1uq61LaaJ"
      },
      "execution_count": null,
      "outputs": []
    },
    {
      "cell_type": "code",
      "source": [
        "dir(datetime)"
      ],
      "metadata": {
        "colab": {
          "base_uri": "https://localhost:8080/"
        },
        "id": "qzeuAPJ7LcV8",
        "outputId": "678ef41e-ac89-4f0d-e8f5-dc8ba2b6d969"
      },
      "execution_count": null,
      "outputs": [
        {
          "output_type": "execute_result",
          "data": {
            "text/plain": [
              "['MAXYEAR',\n",
              " 'MINYEAR',\n",
              " '__all__',\n",
              " '__builtins__',\n",
              " '__cached__',\n",
              " '__doc__',\n",
              " '__file__',\n",
              " '__loader__',\n",
              " '__name__',\n",
              " '__package__',\n",
              " '__spec__',\n",
              " 'date',\n",
              " 'datetime',\n",
              " 'datetime_CAPI',\n",
              " 'sys',\n",
              " 'time',\n",
              " 'timedelta',\n",
              " 'timezone',\n",
              " 'tzinfo']"
            ]
          },
          "metadata": {},
          "execution_count": 81
        }
      ]
    },
    {
      "cell_type": "code",
      "source": [
        "datetime.date.today()"
      ],
      "metadata": {
        "colab": {
          "base_uri": "https://localhost:8080/"
        },
        "id": "LRZxP9TGMPy8",
        "outputId": "94f838fe-1cc0-47d1-b919-14cb5c947d71"
      },
      "execution_count": null,
      "outputs": [
        {
          "output_type": "execute_result",
          "data": {
            "text/plain": [
              "datetime.date(2024, 1, 16)"
            ]
          },
          "metadata": {},
          "execution_count": 82
        }
      ]
    },
    {
      "cell_type": "code",
      "source": [
        "datetime.datetime.now()"
      ],
      "metadata": {
        "colab": {
          "base_uri": "https://localhost:8080/"
        },
        "id": "8pwDIcmeMUMK",
        "outputId": "98e5385e-177b-4637-c9b2-d1651d40a317"
      },
      "execution_count": null,
      "outputs": [
        {
          "output_type": "execute_result",
          "data": {
            "text/plain": [
              "datetime.datetime(2024, 1, 16, 12, 14, 6, 359824)"
            ]
          },
          "metadata": {},
          "execution_count": 83
        }
      ]
    },
    {
      "cell_type": "code",
      "source": [
        "data = datetime.date(2024, 1 , 16)"
      ],
      "metadata": {
        "id": "uolg3rbqMiI6"
      },
      "execution_count": null,
      "outputs": []
    },
    {
      "cell_type": "code",
      "source": [
        "data"
      ],
      "metadata": {
        "colab": {
          "base_uri": "https://localhost:8080/"
        },
        "id": "daDm3nGZMoUK",
        "outputId": "5dcbe5dc-4ac3-46fd-f731-a5dea1cf7258"
      },
      "execution_count": null,
      "outputs": [
        {
          "output_type": "execute_result",
          "data": {
            "text/plain": [
              "datetime.date(2024, 1, 16)"
            ]
          },
          "metadata": {},
          "execution_count": 85
        }
      ]
    },
    {
      "cell_type": "code",
      "source": [
        "data.day"
      ],
      "metadata": {
        "colab": {
          "base_uri": "https://localhost:8080/"
        },
        "id": "VD1wenYbMpJa",
        "outputId": "39f6d8eb-7912-4a4e-d5fd-928b71152e56"
      },
      "execution_count": null,
      "outputs": [
        {
          "output_type": "execute_result",
          "data": {
            "text/plain": [
              "16"
            ]
          },
          "metadata": {},
          "execution_count": 86
        }
      ]
    },
    {
      "cell_type": "code",
      "source": [
        "data.month"
      ],
      "metadata": {
        "colab": {
          "base_uri": "https://localhost:8080/"
        },
        "id": "gUyzPtFjMqiK",
        "outputId": "3bcd056e-5ebe-4fac-e997-93bde54a371f"
      },
      "execution_count": null,
      "outputs": [
        {
          "output_type": "execute_result",
          "data": {
            "text/plain": [
              "1"
            ]
          },
          "metadata": {},
          "execution_count": 87
        }
      ]
    },
    {
      "cell_type": "code",
      "source": [
        "data.year"
      ],
      "metadata": {
        "colab": {
          "base_uri": "https://localhost:8080/"
        },
        "id": "bvkpZNtSMr5K",
        "outputId": "2141c97a-526f-4bd9-b9af-69a74b1d35f9"
      },
      "execution_count": null,
      "outputs": [
        {
          "output_type": "execute_result",
          "data": {
            "text/plain": [
              "2024"
            ]
          },
          "metadata": {},
          "execution_count": 88
        }
      ]
    },
    {
      "cell_type": "code",
      "source": [
        "horario = datetime.datetime(2024,1,16,7,30,0)"
      ],
      "metadata": {
        "id": "0HN6kiuAMt5q"
      },
      "execution_count": null,
      "outputs": []
    },
    {
      "cell_type": "code",
      "source": [
        "horario"
      ],
      "metadata": {
        "colab": {
          "base_uri": "https://localhost:8080/"
        },
        "id": "wK9ThYT-M1ZS",
        "outputId": "50747f56-2a0b-4aff-a91d-beab7cd7c102"
      },
      "execution_count": null,
      "outputs": [
        {
          "output_type": "execute_result",
          "data": {
            "text/plain": [
              "datetime.datetime(2024, 1, 16, 7, 30)"
            ]
          },
          "metadata": {},
          "execution_count": 90
        }
      ]
    },
    {
      "cell_type": "code",
      "source": [
        "horario.hour"
      ],
      "metadata": {
        "colab": {
          "base_uri": "https://localhost:8080/"
        },
        "id": "t_6FSsLFM3Xi",
        "outputId": "1d270361-133c-485e-bf68-2a958ba526cc"
      },
      "execution_count": null,
      "outputs": [
        {
          "output_type": "execute_result",
          "data": {
            "text/plain": [
              "7"
            ]
          },
          "metadata": {},
          "execution_count": 91
        }
      ]
    },
    {
      "cell_type": "code",
      "source": [
        "horario.minute"
      ],
      "metadata": {
        "colab": {
          "base_uri": "https://localhost:8080/"
        },
        "id": "wR0diCh_M56q",
        "outputId": "0d2ef45c-ada3-4d2a-db6a-c6bc173db8b0"
      },
      "execution_count": null,
      "outputs": [
        {
          "output_type": "execute_result",
          "data": {
            "text/plain": [
              "30"
            ]
          },
          "metadata": {},
          "execution_count": 92
        }
      ]
    },
    {
      "cell_type": "code",
      "source": [
        "horario.second"
      ],
      "metadata": {
        "colab": {
          "base_uri": "https://localhost:8080/"
        },
        "id": "vHIO7O5LM7Tz",
        "outputId": "38ece073-0926-48dd-ab92-6eadd3ee2bfa"
      },
      "execution_count": null,
      "outputs": [
        {
          "output_type": "execute_result",
          "data": {
            "text/plain": [
              "0"
            ]
          },
          "metadata": {},
          "execution_count": 93
        }
      ]
    },
    {
      "cell_type": "code",
      "source": [
        "horario.microsecond"
      ],
      "metadata": {
        "colab": {
          "base_uri": "https://localhost:8080/"
        },
        "id": "SUt4mPyVM9Vy",
        "outputId": "f937351a-955a-47dd-f81c-cf793a115dfb"
      },
      "execution_count": null,
      "outputs": [
        {
          "output_type": "execute_result",
          "data": {
            "text/plain": [
              "0"
            ]
          },
          "metadata": {},
          "execution_count": 94
        }
      ]
    },
    {
      "cell_type": "markdown",
      "source": [
        "## Biblioteca random"
      ],
      "metadata": {
        "id": "SKXenLKOLWgB"
      }
    },
    {
      "cell_type": "code",
      "source": [
        "import random"
      ],
      "metadata": {
        "id": "cbIBlbyRNMb5"
      },
      "execution_count": null,
      "outputs": []
    },
    {
      "cell_type": "code",
      "source": [
        "random.random()"
      ],
      "metadata": {
        "colab": {
          "base_uri": "https://localhost:8080/"
        },
        "id": "yjhhT9KINUI6",
        "outputId": "449df6d7-1453-45ef-9a07-0736fc879e7c"
      },
      "execution_count": null,
      "outputs": [
        {
          "output_type": "execute_result",
          "data": {
            "text/plain": [
              "0.10099385796936966"
            ]
          },
          "metadata": {},
          "execution_count": 101
        }
      ]
    },
    {
      "cell_type": "code",
      "source": [
        "random.randint(1,5)"
      ],
      "metadata": {
        "colab": {
          "base_uri": "https://localhost:8080/"
        },
        "id": "Fr0TOSVBNcHT",
        "outputId": "d0b30363-0bb0-4db5-b69b-5caa01c55d7e"
      },
      "execution_count": null,
      "outputs": [
        {
          "output_type": "execute_result",
          "data": {
            "text/plain": [
              "1"
            ]
          },
          "metadata": {},
          "execution_count": 113
        }
      ]
    },
    {
      "cell_type": "code",
      "source": [
        "random.randrange(0,100,2)"
      ],
      "metadata": {
        "colab": {
          "base_uri": "https://localhost:8080/"
        },
        "id": "ONCXdNreNp_D",
        "outputId": "8caf725a-e3df-4993-b3d7-f6802bb2442e"
      },
      "execution_count": null,
      "outputs": [
        {
          "output_type": "execute_result",
          "data": {
            "text/plain": [
              "30"
            ]
          },
          "metadata": {},
          "execution_count": 121
        }
      ]
    },
    {
      "cell_type": "code",
      "source": [
        "random.randrange(0,10,3)"
      ],
      "metadata": {
        "colab": {
          "base_uri": "https://localhost:8080/"
        },
        "id": "wybJRaxCNzCW",
        "outputId": "928168b1-7082-4dca-8761-c13468a37313"
      },
      "execution_count": null,
      "outputs": [
        {
          "output_type": "execute_result",
          "data": {
            "text/plain": [
              "9"
            ]
          },
          "metadata": {},
          "execution_count": 138
        }
      ]
    },
    {
      "cell_type": "code",
      "source": [
        "x = ['K', 'd', 13, '34-j', 'x']\n",
        "x"
      ],
      "metadata": {
        "colab": {
          "base_uri": "https://localhost:8080/"
        },
        "id": "sM0gLHW5N9YX",
        "outputId": "210c555a-e33e-4d8c-c995-b4ea3c4190a5"
      },
      "execution_count": null,
      "outputs": [
        {
          "output_type": "execute_result",
          "data": {
            "text/plain": [
              "['K', 'd', 13, '34-j', 'x']"
            ]
          },
          "metadata": {},
          "execution_count": 139
        }
      ]
    },
    {
      "cell_type": "code",
      "source": [
        "random.choice(x)"
      ],
      "metadata": {
        "colab": {
          "base_uri": "https://localhost:8080/"
        },
        "id": "t36wBB1wOFdf",
        "outputId": "e91386ef-f7dc-42f0-e2a6-4a8e57f7cb54"
      },
      "execution_count": null,
      "outputs": [
        {
          "output_type": "execute_result",
          "data": {
            "text/plain": [
              "13"
            ]
          },
          "metadata": {},
          "execution_count": 143
        }
      ]
    },
    {
      "cell_type": "markdown",
      "source": [
        "## Biblioteca time"
      ],
      "metadata": {
        "id": "AFvulSK1LYGi"
      }
    },
    {
      "cell_type": "code",
      "source": [
        "import time as tm"
      ],
      "metadata": {
        "id": "mr6jP6luOWah"
      },
      "execution_count": null,
      "outputs": []
    },
    {
      "cell_type": "code",
      "source": [
        "tm.time()"
      ],
      "metadata": {
        "colab": {
          "base_uri": "https://localhost:8080/"
        },
        "id": "dM_yrKUiOX2a",
        "outputId": "5f3f9ee1-07b5-461e-8803-2424ed0831fb"
      },
      "execution_count": null,
      "outputs": [
        {
          "output_type": "execute_result",
          "data": {
            "text/plain": [
              "1705407800.7870257"
            ]
          },
          "metadata": {},
          "execution_count": 152
        }
      ]
    },
    {
      "cell_type": "code",
      "source": [
        "antes = tm.time()\n",
        "lista = []\n",
        "for i in range(0,100000):\n",
        "  lista.append(i)\n",
        "depois= tm.time()"
      ],
      "metadata": {
        "id": "5F9IqiC8OfaS"
      },
      "execution_count": null,
      "outputs": []
    },
    {
      "cell_type": "code",
      "source": [
        "intervalo = depois - antes\n",
        "intervalo"
      ],
      "metadata": {
        "colab": {
          "base_uri": "https://localhost:8080/"
        },
        "id": "tyk-x_qdOuj6",
        "outputId": "9073b2fc-9266-41d3-f328-d0826556f05b"
      },
      "execution_count": null,
      "outputs": [
        {
          "output_type": "execute_result",
          "data": {
            "text/plain": [
              "0.032036542892456055"
            ]
          },
          "metadata": {},
          "execution_count": 159
        }
      ]
    },
    {
      "cell_type": "code",
      "source": [
        "print('...')\n",
        "tm.sleep(2)\n",
        "print('Finalizando...')\n",
        "tm.sleep(2)\n",
        "print('...')\n",
        "tm.sleep(2)\n",
        "print('Até a próxima')"
      ],
      "metadata": {
        "colab": {
          "base_uri": "https://localhost:8080/"
        },
        "id": "vM8RSsjSO337",
        "outputId": "9deab442-224f-452c-cfb0-a5fc40600152"
      },
      "execution_count": null,
      "outputs": [
        {
          "output_type": "stream",
          "name": "stdout",
          "text": [
            "...\n",
            "Finalizando...\n",
            "...\n",
            "Até a próxima\n"
          ]
        }
      ]
    },
    {
      "cell_type": "markdown",
      "source": [
        "# Tratamento de erros e exceções"
      ],
      "metadata": {
        "id": "j4DQSANhPZmz"
      }
    },
    {
      "cell_type": "markdown",
      "source": [
        "## Tipos de erros\n",
        "\n",
        "* NameError: variável não foi definida\n",
        "* TypeError: tipos de dados incompatíveis\n",
        "* RuntimeError: erro de execução\n",
        "* SyntaxError: sintaxe digitada é inválida e não reconhecida pelo interpretador\n",
        "* ZeroDivisionError: divisão por zero\n",
        "* IndexError: índice está fora da coleção"
      ],
      "metadata": {
        "id": "JrDvy274Wpdk"
      }
    },
    {
      "cell_type": "code",
      "source": [
        "3 = 4"
      ],
      "metadata": {
        "colab": {
          "base_uri": "https://localhost:8080/",
          "height": 140
        },
        "id": "XpTaYzfVW2_7",
        "outputId": "69aff945-66db-4082-e8b0-19c18bd2880a"
      },
      "execution_count": null,
      "outputs": [
        {
          "output_type": "error",
          "ename": "SyntaxError",
          "evalue": "cannot assign to literal here. Maybe you meant '==' instead of '='? (<ipython-input-164-effb9ca1a7d0>, line 1)",
          "traceback": [
            "\u001b[0;36m  File \u001b[0;32m\"<ipython-input-164-effb9ca1a7d0>\"\u001b[0;36m, line \u001b[0;32m1\u001b[0m\n\u001b[0;31m    3 = 4\u001b[0m\n\u001b[0m    ^\u001b[0m\n\u001b[0;31mSyntaxError\u001b[0m\u001b[0;31m:\u001b[0m cannot assign to literal here. Maybe you meant '==' instead of '='?\n"
          ]
        }
      ]
    },
    {
      "cell_type": "code",
      "source": [
        "print('Meu nome é', nome)"
      ],
      "metadata": {
        "colab": {
          "base_uri": "https://localhost:8080/",
          "height": 175
        },
        "id": "vPR9tlkLXCUD",
        "outputId": "63c9e10d-3637-4a98-a3c9-9c872f945392"
      },
      "execution_count": null,
      "outputs": [
        {
          "output_type": "error",
          "ename": "NameError",
          "evalue": "name 'nome' is not defined",
          "traceback": [
            "\u001b[0;31m---------------------------------------------------------------------------\u001b[0m",
            "\u001b[0;31mNameError\u001b[0m                                 Traceback (most recent call last)",
            "\u001b[0;32m<ipython-input-165-8814f7563975>\u001b[0m in \u001b[0;36m<cell line: 1>\u001b[0;34m()\u001b[0m\n\u001b[0;32m----> 1\u001b[0;31m \u001b[0mprint\u001b[0m\u001b[0;34m(\u001b[0m\u001b[0;34m'Meu nome é'\u001b[0m\u001b[0;34m,\u001b[0m \u001b[0mnome\u001b[0m\u001b[0;34m)\u001b[0m\u001b[0;34m\u001b[0m\u001b[0;34m\u001b[0m\u001b[0m\n\u001b[0m",
            "\u001b[0;31mNameError\u001b[0m: name 'nome' is not defined"
          ]
        }
      ]
    },
    {
      "cell_type": "code",
      "source": [
        "print(3/0)"
      ],
      "metadata": {
        "colab": {
          "base_uri": "https://localhost:8080/",
          "height": 175
        },
        "id": "c2VjCZcNXGP8",
        "outputId": "065497e9-b54a-4670-fa65-aa495b0c3beb"
      },
      "execution_count": null,
      "outputs": [
        {
          "output_type": "error",
          "ename": "ZeroDivisionError",
          "evalue": "division by zero",
          "traceback": [
            "\u001b[0;31m---------------------------------------------------------------------------\u001b[0m",
            "\u001b[0;31mZeroDivisionError\u001b[0m                         Traceback (most recent call last)",
            "\u001b[0;32m<ipython-input-166-01a2217119a3>\u001b[0m in \u001b[0;36m<cell line: 1>\u001b[0;34m()\u001b[0m\n\u001b[0;32m----> 1\u001b[0;31m \u001b[0mprint\u001b[0m\u001b[0;34m(\u001b[0m\u001b[0;36m3\u001b[0m\u001b[0;34m/\u001b[0m\u001b[0;36m0\u001b[0m\u001b[0;34m)\u001b[0m\u001b[0;34m\u001b[0m\u001b[0;34m\u001b[0m\u001b[0m\n\u001b[0m",
            "\u001b[0;31mZeroDivisionError\u001b[0m: division by zero"
          ]
        }
      ]
    },
    {
      "cell_type": "code",
      "source": [
        "2.3 / ''"
      ],
      "metadata": {
        "colab": {
          "base_uri": "https://localhost:8080/",
          "height": 175
        },
        "id": "lBwfqaqpXI2b",
        "outputId": "3291903b-1324-486e-ea54-68b081686a75"
      },
      "execution_count": null,
      "outputs": [
        {
          "output_type": "error",
          "ename": "TypeError",
          "evalue": "unsupported operand type(s) for /: 'float' and 'str'",
          "traceback": [
            "\u001b[0;31m---------------------------------------------------------------------------\u001b[0m",
            "\u001b[0;31mTypeError\u001b[0m                                 Traceback (most recent call last)",
            "\u001b[0;32m<ipython-input-167-e1be3c48fea8>\u001b[0m in \u001b[0;36m<cell line: 1>\u001b[0;34m()\u001b[0m\n\u001b[0;32m----> 1\u001b[0;31m \u001b[0;36m2.3\u001b[0m \u001b[0;34m/\u001b[0m \u001b[0;34m''\u001b[0m\u001b[0;34m\u001b[0m\u001b[0;34m\u001b[0m\u001b[0m\n\u001b[0m",
            "\u001b[0;31mTypeError\u001b[0m: unsupported operand type(s) for /: 'float' and 'str'"
          ]
        }
      ]
    },
    {
      "cell_type": "code",
      "source": [
        "c = [1,2,3,4,5]\n",
        "c"
      ],
      "metadata": {
        "colab": {
          "base_uri": "https://localhost:8080/"
        },
        "id": "Km5U6-00XNzb",
        "outputId": "428d05d5-389b-42bb-a41b-45df2c3ea5a6"
      },
      "execution_count": null,
      "outputs": [
        {
          "output_type": "execute_result",
          "data": {
            "text/plain": [
              "[1, 2, 3, 4, 5]"
            ]
          },
          "metadata": {},
          "execution_count": 168
        }
      ]
    },
    {
      "cell_type": "code",
      "source": [
        "c[5]"
      ],
      "metadata": {
        "colab": {
          "base_uri": "https://localhost:8080/",
          "height": 175
        },
        "id": "MaANYisxXTbD",
        "outputId": "7a8005b5-dc0c-497e-de8c-de41dcbeb8ef"
      },
      "execution_count": null,
      "outputs": [
        {
          "output_type": "error",
          "ename": "IndexError",
          "evalue": "list index out of range",
          "traceback": [
            "\u001b[0;31m---------------------------------------------------------------------------\u001b[0m",
            "\u001b[0;31mIndexError\u001b[0m                                Traceback (most recent call last)",
            "\u001b[0;32m<ipython-input-169-513c54dffebd>\u001b[0m in \u001b[0;36m<cell line: 1>\u001b[0;34m()\u001b[0m\n\u001b[0;32m----> 1\u001b[0;31m \u001b[0mc\u001b[0m\u001b[0;34m[\u001b[0m\u001b[0;36m5\u001b[0m\u001b[0;34m]\u001b[0m\u001b[0;34m\u001b[0m\u001b[0;34m\u001b[0m\u001b[0m\n\u001b[0m",
            "\u001b[0;31mIndexError\u001b[0m: list index out of range"
          ]
        }
      ]
    },
    {
      "cell_type": "markdown",
      "source": [
        "## Tratamento de erros"
      ],
      "metadata": {
        "id": "g-IIwl2ZWrLL"
      }
    },
    {
      "cell_type": "code",
      "source": [
        "while True:\n",
        "  try:\n",
        "    n = int(input('Digite um número inteiro: '))\n",
        "  except:\n",
        "    print(\"Valor inválido\")\n",
        "  else:\n",
        "    print(f'Valor digitado é: {n}')\n",
        "    break"
      ],
      "metadata": {
        "colab": {
          "base_uri": "https://localhost:8080/"
        },
        "id": "SG_7NywcXyIc",
        "outputId": "59c26e71-7279-48d0-cadd-4a9c5bfd4da6"
      },
      "execution_count": null,
      "outputs": [
        {
          "output_type": "stream",
          "name": "stdout",
          "text": [
            "Digite um número inteiro: 3.2\n",
            "Valor inválido\n",
            "Digite um número inteiro: 3\n",
            "Valor digitado é: 3\n"
          ]
        }
      ]
    },
    {
      "cell_type": "code",
      "source": [
        "while True:\n",
        "  try:\n",
        "    p = int(input('Digite um número inteiro: '))\n",
        "  except ValueError:\n",
        "    print('Valor inválido')\n",
        "  except KeyboardInterrupt:\n",
        "    print('Usuário interrompeu a execução')\n",
        "    break\n",
        "  else:\n",
        "    print(f'Valor digitador é {p}')\n",
        "    break"
      ],
      "metadata": {
        "colab": {
          "base_uri": "https://localhost:8080/"
        },
        "id": "RwqIOOfAYvDL",
        "outputId": "69146070-ab4b-4c7d-df5f-b4bfee0ed3c2"
      },
      "execution_count": null,
      "outputs": [
        {
          "name": "stdout",
          "output_type": "stream",
          "text": [
            "Usuário interrompeu a execução\n",
            "Digite um número inteiro: a\n"
          ]
        }
      ]
    },
    {
      "cell_type": "markdown",
      "source": [
        "# Exercício 6"
      ],
      "metadata": {
        "id": "8ETzK_I5Zck2"
      }
    },
    {
      "cell_type": "markdown",
      "source": [
        "## 1. Crie uma lista vazia e faça a leitura de dois valores do tipo float, colocando cada um dos valores nas primeiras posições da lista (o valor1 ficará na posição 0 da lista e o valor2 ficará na posição 1 da lista). Faça a divisão dos dois valores e trate as seguintes exceções:\n",
        "- ValueError: se o usuário digitar um caracter\n",
        "- ZeroDivisionError: se o usuário digitar zero e ocorrer erro na divisão\n",
        "- IndexError: caso a divisão seja feita levando em consideração posições que não existem na lista\n",
        "- KeyboardInterrupt: caso o usuário interrompa a execução"
      ],
      "metadata": {
        "id": "4Q8w5qUoZjI9"
      }
    },
    {
      "cell_type": "code",
      "source": [
        "lista = []\n",
        "\n",
        "while True:\n",
        "    try:\n",
        "        valor = float(input(f'Digite o {len(lista) + 1}° valor: '))\n",
        "    except ValueError:\n",
        "        print('Não pode digitar um caractere, tente novamente')\n",
        "        continue\n",
        "    except KeyboardInterrupt:\n",
        "        print('Usuário interrompeu a execução')\n",
        "        break\n",
        "\n",
        "    lista.append(valor)\n",
        "\n",
        "    if len(lista) == 2:\n",
        "        try:\n",
        "            resultado = lista[0] / lista[1]\n",
        "            print(f'Resultado da divisão: {resultado}')\n",
        "        except ZeroDivisionError:\n",
        "            print('Erro: Divisão por zero não permitida')\n",
        "        except IndexError:\n",
        "            print('Erro: Índice fora do alcance da lista')\n",
        "        break\n"
      ],
      "metadata": {
        "colab": {
          "base_uri": "https://localhost:8080/"
        },
        "id": "eOfuyiipZpyN",
        "outputId": "d4fecb5e-947c-4d0b-cea8-58e8ab4477db"
      },
      "execution_count": null,
      "outputs": [
        {
          "output_type": "stream",
          "name": "stdout",
          "text": [
            "Digite o 1° valor: a\n",
            "Não pode digitar um caractere, tente novamente\n",
            "Digite o 1° valor: a\n",
            "Não pode digitar um caractere, tente novamente\n",
            "Digite o 1° valor: a\n",
            "Não pode digitar um caractere, tente novamente\n",
            "Digite o 1° valor: a\n",
            "Não pode digitar um caractere, tente novamente\n",
            "Digite o 1° valor: 3.2\n",
            "Digite o 2° valor: a\n",
            "Não pode digitar um caractere, tente novamente\n",
            "Digite o 2° valor: 3.2\n",
            "Resultado da divisão: 1.0\n"
          ]
        }
      ]
    },
    {
      "cell_type": "markdown",
      "source": [
        "#Manipulação de arquivos"
      ],
      "metadata": {
        "id": "4xNYcu_7p88l"
      }
    },
    {
      "cell_type": "code",
      "source": [
        "with open('/content/frase1.txt', 'r') as texto:\n",
        "  for linha in texto:\n",
        "    print(linha)"
      ],
      "metadata": {
        "colab": {
          "base_uri": "https://localhost:8080/"
        },
        "id": "CzhV88z2p6P9",
        "outputId": "6b699be6-0534-4517-c1c7-190dd8a6d063"
      },
      "execution_count": null,
      "outputs": [
        {
          "output_type": "stream",
          "name": "stdout",
          "text": [
            "Olá\n",
            "\n",
            "Estou aprendendo\n",
            "\n",
            "a linguagem Python \n",
            "\n",
            "E estou gostando muito\n"
          ]
        }
      ]
    },
    {
      "cell_type": "code",
      "source": [
        "with open('/content/frase1.txt', 'r') as texto:\n",
        "  r = texto.readlines()\n",
        "r"
      ],
      "metadata": {
        "colab": {
          "base_uri": "https://localhost:8080/"
        },
        "id": "synO1Y6Dq7Pd",
        "outputId": "1d3b3e20-4a58-43dd-ef6c-9fc84ec047ac"
      },
      "execution_count": null,
      "outputs": [
        {
          "output_type": "execute_result",
          "data": {
            "text/plain": [
              "['Olá\\n',\n",
              " 'Estou aprendendo\\n',\n",
              " 'a linguagem Python \\n',\n",
              " 'E estou gostando muito']"
            ]
          },
          "metadata": {},
          "execution_count": 47
        }
      ]
    },
    {
      "cell_type": "code",
      "source": [
        "with open('frase2.txt', 'w') as texto2:\n",
        "  texto2.write('Olá a todos')"
      ],
      "metadata": {
        "id": "4_IYTwVSrJoF"
      },
      "execution_count": null,
      "outputs": []
    },
    {
      "cell_type": "code",
      "source": [
        "with open('/content/frase2.txt', 'r') as texto2:\n",
        "  for linha in texto2:\n",
        "    print(linha)"
      ],
      "metadata": {
        "colab": {
          "base_uri": "https://localhost:8080/"
        },
        "id": "M6dQjXB2rg4F",
        "outputId": "ab305150-1db0-4f7d-8ee3-8344fca7a245"
      },
      "execution_count": null,
      "outputs": [
        {
          "output_type": "stream",
          "name": "stdout",
          "text": [
            "Olá a todos\n"
          ]
        }
      ]
    },
    {
      "cell_type": "markdown",
      "source": [
        "# Exercício 7"
      ],
      "metadata": {
        "id": "WSSSJYiRrwm3"
      }
    },
    {
      "cell_type": "markdown",
      "source": [
        "## 1. Considerando o dicionário com o nome dos alunos e suas respectivas notas abaixo, crie uma estrutura de repetição para percorrer cada elemento do dicionário para gravar cada aluno em um novo arquivo de texto\n",
        "- Cada aluno deve ocupar uma linha do novo arquivo de texto\n",
        "- O formato deve ser: nome,nota (Pedro,8.0)\n",
        "- Após a criação do arquivo de texto, faça a leitura do arquivo e mostre todos os alunos\n",
        "\n",
        "alunos = {'Pedro': 8.0, 'Maria': 10.0, 'Amilton': 7.5}"
      ],
      "metadata": {
        "id": "gpbNVJf9rzr0"
      }
    },
    {
      "cell_type": "code",
      "source": [
        "alunos = {'Pedro': 8.0, 'Maria': 10.0, 'Amilton': 7.5}\n",
        "for nome_aluno, nota_aluno in alunos.items():\n",
        "  with open(f'alunos.txt', 'a') as aluno:\n",
        "      aluno.write(f'Nome do aluno: {nome_aluno}')\n",
        "      aluno.write(str(f', Nota do aluno: {nota_aluno}\\n'))\n",
        "\n",
        "with open('alunos.txt', 'r') as aluno2:\n",
        "  for linha in aluno2:\n",
        "    print(linha.strip())"
      ],
      "metadata": {
        "colab": {
          "base_uri": "https://localhost:8080/"
        },
        "id": "mWOOIigar3e-",
        "outputId": "71bf98f9-1739-4641-9c2f-1b576d927348"
      },
      "execution_count": 1,
      "outputs": [
        {
          "output_type": "stream",
          "name": "stdout",
          "text": [
            "Nome do aluno: Pedro, Nota do aluno: 8.0\n",
            "Nome do aluno: Maria, Nota do aluno: 10.0\n",
            "Nome do aluno: Amilton, Nota do aluno: 7.5\n"
          ]
        }
      ]
    },
    {
      "cell_type": "code",
      "source": [],
      "metadata": {
        "id": "z0xLts_OJNea"
      },
      "execution_count": null,
      "outputs": []
    },
    {
      "cell_type": "markdown",
      "source": [
        "#Expressões regulares"
      ],
      "metadata": {
        "id": "dCwDYi4rGMHC"
      }
    },
    {
      "cell_type": "code",
      "source": [
        "import re"
      ],
      "metadata": {
        "id": "9OMhGz3MJTv7"
      },
      "execution_count": 2,
      "outputs": []
    },
    {
      "cell_type": "markdown",
      "source": [
        "## Função search"
      ],
      "metadata": {
        "id": "Gx0bESV-JOoS"
      }
    },
    {
      "cell_type": "code",
      "source": [
        "frase = 'Olá, meu número de telefone é (42)00010-0000'"
      ],
      "metadata": {
        "id": "O6aDGrzrJNAC"
      },
      "execution_count": 5,
      "outputs": []
    },
    {
      "cell_type": "code",
      "source": [
        "re.search('\\(\\d{2}\\)\\d{4,5}\\-\\d{4}', frase)"
      ],
      "metadata": {
        "colab": {
          "base_uri": "https://localhost:8080/"
        },
        "id": "e8kO1DocJnNP",
        "outputId": "c15c5ddf-3cb1-4368-deb6-fd653a89e40e"
      },
      "execution_count": 6,
      "outputs": [
        {
          "output_type": "execute_result",
          "data": {
            "text/plain": [
              "<re.Match object; span=(30, 44), match='(42)00010-0000'>"
            ]
          },
          "metadata": {},
          "execution_count": 6
        }
      ]
    },
    {
      "cell_type": "code",
      "source": [
        "frase = 'A placa de carro que eu anotei durante o acidente foi FRT-1998'"
      ],
      "metadata": {
        "id": "nwqXrBk1JcUu"
      },
      "execution_count": 7,
      "outputs": []
    },
    {
      "cell_type": "code",
      "source": [
        "re.search('[A-Z]{3}\\-\\d{4}', frase)"
      ],
      "metadata": {
        "colab": {
          "base_uri": "https://localhost:8080/"
        },
        "id": "YmXxdryhKQB0",
        "outputId": "a18aeca3-f4fb-4460-9943-692d4ec34d3a"
      },
      "execution_count": 8,
      "outputs": [
        {
          "output_type": "execute_result",
          "data": {
            "text/plain": [
              "<re.Match object; span=(54, 62), match='FRT-1998'>"
            ]
          },
          "metadata": {},
          "execution_count": 8
        }
      ]
    },
    {
      "cell_type": "code",
      "source": [
        "email = 'Entre em contato, meu email é teste@teste.com'"
      ],
      "metadata": {
        "id": "GF0Td28_JhCe"
      },
      "execution_count": 9,
      "outputs": []
    },
    {
      "cell_type": "code",
      "source": [
        "re.search('\\w+@\\w+\\.com\\.*\\w*',email)"
      ],
      "metadata": {
        "colab": {
          "base_uri": "https://localhost:8080/"
        },
        "id": "4yR5VIv6KmQX",
        "outputId": "0b8a6ff6-4bea-40b1-d017-8d2d8714eb0e"
      },
      "execution_count": 14,
      "outputs": [
        {
          "output_type": "execute_result",
          "data": {
            "text/plain": [
              "<re.Match object; span=(30, 45), match='teste@teste.com'>"
            ]
          },
          "metadata": {},
          "execution_count": 14
        }
      ]
    },
    {
      "cell_type": "markdown",
      "source": [
        "##Função match"
      ],
      "metadata": {
        "id": "0ZPuyPt0Lnzu"
      }
    },
    {
      "cell_type": "code",
      "source": [
        "frase = 'A placa de carro que eu anotei durante a batida foi FRT-1998'"
      ],
      "metadata": {
        "id": "z-6fW30sLp8Z"
      },
      "execution_count": 16,
      "outputs": []
    },
    {
      "cell_type": "code",
      "source": [
        "print(re.match('[A-Z]{3}\\-\\d{4}', frase))"
      ],
      "metadata": {
        "colab": {
          "base_uri": "https://localhost:8080/"
        },
        "id": "SetrqtHlLxoZ",
        "outputId": "629f775a-a948-4521-ee1b-e929c7babe94"
      },
      "execution_count": 17,
      "outputs": [
        {
          "output_type": "stream",
          "name": "stdout",
          "text": [
            "None\n"
          ]
        }
      ]
    },
    {
      "cell_type": "code",
      "source": [
        "frase2 = 'FRT-1998 é a placa do carro'"
      ],
      "metadata": {
        "id": "XUOsTMZALupS"
      },
      "execution_count": 18,
      "outputs": []
    },
    {
      "cell_type": "code",
      "source": [
        "print(re.match('[A-Z]{3}\\-\\d{4}', frase2))"
      ],
      "metadata": {
        "colab": {
          "base_uri": "https://localhost:8080/"
        },
        "id": "e0m9hlfUL451",
        "outputId": "08a7b41b-3c49-4b7d-9173-f0c4a72d3c70"
      },
      "execution_count": 20,
      "outputs": [
        {
          "output_type": "stream",
          "name": "stdout",
          "text": [
            "<re.Match object; span=(0, 8), match='FRT-1998'>\n"
          ]
        }
      ]
    },
    {
      "cell_type": "markdown",
      "source": [
        "##Função findall"
      ],
      "metadata": {
        "id": "O41gO6y5MBmg"
      }
    },
    {
      "cell_type": "code",
      "source": [
        "frase3 = 'Meu número de telefone atual é (42)0000-0000. O número (56)1111-1111 é o antigo'"
      ],
      "metadata": {
        "id": "vx6mWer1MBEd"
      },
      "execution_count": 21,
      "outputs": []
    },
    {
      "cell_type": "code",
      "source": [
        "re.findall('\\(\\d{2}\\)\\d{4,5}\\-\\d{4}', frase3)"
      ],
      "metadata": {
        "colab": {
          "base_uri": "https://localhost:8080/"
        },
        "id": "fUHwsqiJMfrV",
        "outputId": "b13a4c53-6c5b-48e4-91f0-b083ab929a8e"
      },
      "execution_count": 23,
      "outputs": [
        {
          "output_type": "execute_result",
          "data": {
            "text/plain": [
              "['(42)0000-0000', '(56)1111-1111']"
            ]
          },
          "metadata": {},
          "execution_count": 23
        }
      ]
    },
    {
      "cell_type": "code",
      "source": [
        "emails = '''Nome: Teste 1\n",
        "email: teste1@teste.com\n",
        "Nome: Teste 2\n",
        "email: teste2@teste.com\n",
        "Nome: Teste 3\n",
        "email: teste3@teste.com.br\n",
        "'''"
      ],
      "metadata": {
        "id": "GFMmITkdMOXI"
      },
      "execution_count": 22,
      "outputs": []
    },
    {
      "cell_type": "code",
      "source": [
        "re.findall('\\w+@\\w+\\.com\\.*\\w*',emails)"
      ],
      "metadata": {
        "colab": {
          "base_uri": "https://localhost:8080/"
        },
        "id": "voacOHo2MqZg",
        "outputId": "3011f115-a724-492c-ab5f-ccb982edc66a"
      },
      "execution_count": 24,
      "outputs": [
        {
          "output_type": "execute_result",
          "data": {
            "text/plain": [
              "['teste1@teste.com', 'teste2@teste.com', 'teste3@teste.com.br']"
            ]
          },
          "metadata": {},
          "execution_count": 24
        }
      ]
    }
  ]
}