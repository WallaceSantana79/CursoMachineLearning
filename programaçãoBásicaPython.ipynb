{
  "nbformat": 4,
  "nbformat_minor": 0,
  "metadata": {
    "colab": {
      "provenance": [],
      "collapsed_sections": [
        "S3dirrxxlnc9",
        "I2XIftwN2GOi",
        "WwXVmJcp4fvI",
        "l1d9D5Xh4kwH",
        "eNNdXVhU8T-7",
        "yCk1C_LTCme0",
        "URoEUmIcEj2Z",
        "12dF1O3gyL5l",
        "7TnGCpgP9kUF",
        "F2M9iN0m_4oR"
      ],
      "authorship_tag": "ABX9TyMUQokBTHz2CAAm5bOgmJVU",
      "include_colab_link": true
    },
    "kernelspec": {
      "name": "python3",
      "display_name": "Python 3"
    },
    "language_info": {
      "name": "python"
    }
  },
  "cells": [
    {
      "cell_type": "markdown",
      "metadata": {
        "id": "view-in-github",
        "colab_type": "text"
      },
      "source": [
        "<a href=\"https://colab.research.google.com/github/WallaceSantana79/CursoMachineLearning/blob/main/programa%C3%A7%C3%A3oB%C3%A1sicaPython.ipynb\" target=\"_parent\"><img src=\"https://colab.research.google.com/assets/colab-badge.svg\" alt=\"Open In Colab\"/></a>"
      ]
    },
    {
      "cell_type": "markdown",
      "source": [
        "#Manipulação de variáveis e constantes"
      ],
      "metadata": {
        "id": "S3dirrxxlnc9"
      }
    },
    {
      "cell_type": "markdown",
      "source": [
        "##Variáveis inteiras"
      ],
      "metadata": {
        "id": "YUg79mh-mZ2u"
      }
    },
    {
      "cell_type": "code",
      "execution_count": null,
      "metadata": {
        "id": "KCUScBf0lgRx"
      },
      "outputs": [],
      "source": [
        "número = -3\n",
        "numero_jogos = 14\n",
        "numero_convidados = 15"
      ]
    },
    {
      "cell_type": "code",
      "source": [
        "número, numero_jogos, numero_convidados"
      ],
      "metadata": {
        "colab": {
          "base_uri": "https://localhost:8080/"
        },
        "id": "45jaOWA4mjN3",
        "outputId": "c7cbfdb4-ffde-4def-c345-7e6e6d7160e0"
      },
      "execution_count": null,
      "outputs": [
        {
          "output_type": "execute_result",
          "data": {
            "text/plain": [
              "(-3, 14, 15)"
            ]
          },
          "metadata": {},
          "execution_count": 2
        }
      ]
    },
    {
      "cell_type": "code",
      "source": [
        "print(\"Seu número é:\",número,\"\\nSeu número de jogos é:\", numero_jogos,\"\\nSeu número de convidados é:\", numero_convidados)"
      ],
      "metadata": {
        "colab": {
          "base_uri": "https://localhost:8080/"
        },
        "id": "k4oTV0yimo3X",
        "outputId": "abae56e4-bb41-4ba9-9232-6798d273e774"
      },
      "execution_count": null,
      "outputs": [
        {
          "output_type": "stream",
          "name": "stdout",
          "text": [
            "Seu número é: -3 \n",
            "Seu número de jogos é: 14 \n",
            "Seu número de convidados é: 15\n"
          ]
        }
      ]
    },
    {
      "cell_type": "markdown",
      "source": [
        "##Variáveis float (ponto flutuante)"
      ],
      "metadata": {
        "id": "QLNBDEg-nMNY"
      }
    },
    {
      "cell_type": "code",
      "source": [
        "pi = 3.14\n",
        "numero_euler = 2.71\n",
        "escala_terremoto = -4.55"
      ],
      "metadata": {
        "id": "hx1vAOKKnPjI"
      },
      "execution_count": null,
      "outputs": []
    },
    {
      "cell_type": "code",
      "source": [
        "pi, numero_euler, escala_terremoto"
      ],
      "metadata": {
        "colab": {
          "base_uri": "https://localhost:8080/"
        },
        "id": "aAfX31StnVfA",
        "outputId": "88801237-0b2c-477f-f325-20ecad8063a3"
      },
      "execution_count": null,
      "outputs": [
        {
          "output_type": "execute_result",
          "data": {
            "text/plain": [
              "(3.14, 2.71, -4.55)"
            ]
          },
          "metadata": {},
          "execution_count": 10
        }
      ]
    },
    {
      "cell_type": "code",
      "source": [
        "print(\" ____________________________\")\n",
        "print(\"|  ________________________  |\")\n",
        "print(\"| |                        | |\")\n",
        "print(\"| |                        | |\")\n",
        "print(\"| |                        | |\")\n",
        "print(\"| | Número de pi:\",pi,\"    | |\")\n",
        "print(\"| | Número de euler:\",numero_euler,\" | |\")\n",
        "print(\"| |                        | |\")\n",
        "print(\"| |                        | |\")\n",
        "print(\"| |________________________dc|\")\n",
        "print(\"|____________________________|\")"
      ],
      "metadata": {
        "colab": {
          "base_uri": "https://localhost:8080/"
        },
        "id": "a8ktbfzLnYuo",
        "outputId": "8a4b8465-7cf1-412d-8ce6-0b3b54a57efa"
      },
      "execution_count": null,
      "outputs": [
        {
          "output_type": "stream",
          "name": "stdout",
          "text": [
            " ____________________________\n",
            "|  ________________________  |\n",
            "| |                        | |\n",
            "| |                        | |\n",
            "| |                        | |\n",
            "| | Número de pi: 3.14     | |\n",
            "| | Número de euler: 2.71  | |\n",
            "| |                        | |\n",
            "| |                        | |\n",
            "| |________________________dc|\n",
            "|____________________________|\n"
          ]
        }
      ]
    },
    {
      "cell_type": "code",
      "source": [
        "print(\"  ________________________________\")\n",
        "print(\" /  \\                             \\.\")\n",
        "print(\"|    |                            |.\")\n",
        "print(\"\\_   |                            |.\")\n",
        "print(\"     |                            |.\")\n",
        "print(\"     |                            |.\")\n",
        "print(\"     |                            |.\")\n",
        "print(\"     |                            |.\")\n",
        "print(\"     |                            |.\")\n",
        "print(\"     |                            |.\")\n",
        "print(\"     |                            |.\")\n",
        "print(\"     |                            |.\")\n",
        "print(\"     |                            |.\")\n",
        "print(\"     |                            |.\")\n",
        "print(\"     |   _________________________|___\")\n",
        "print(\"     |  /                            /.\")\n",
        "print(\"     \\_/dc__________________________/.\")\n"
      ],
      "metadata": {
        "colab": {
          "base_uri": "https://localhost:8080/"
        },
        "id": "b4xHv5NHrFHJ",
        "outputId": "d5e16d5c-c74f-4843-d672-f8d705f74bfd"
      },
      "execution_count": null,
      "outputs": [
        {
          "output_type": "stream",
          "name": "stdout",
          "text": [
            "  ________________________________\n",
            " /  \\                             \\.\n",
            "|    |                            |.\n",
            "\\_   |                            |.\n",
            "     |                            |.\n",
            "     |                            |.\n",
            "     |                            |.\n",
            "     |                            |.\n",
            "     |                            |.\n",
            "     |                            |.\n",
            "     |                            |.\n",
            "     |                            |.\n",
            "     |                            |.\n",
            "     |                            |.\n",
            "     |   _________________________|___\n",
            "     |  /                            /.\n",
            "     \\_/dc__________________________/.\n"
          ]
        }
      ]
    },
    {
      "cell_type": "markdown",
      "source": [
        "##Strings e chars"
      ],
      "metadata": {
        "id": "TOovvIXJsuqF"
      }
    },
    {
      "cell_type": "code",
      "source": [
        "letra = 'a'\n",
        "palavra1 = 'linguagem de programação'\n",
        "palavra2 = 'Python'"
      ],
      "metadata": {
        "id": "oEWJe0_dswqt"
      },
      "execution_count": null,
      "outputs": []
    },
    {
      "cell_type": "code",
      "source": [
        "print(letra, palavra1)"
      ],
      "metadata": {
        "colab": {
          "base_uri": "https://localhost:8080/"
        },
        "id": "d1hrlvSAs3dt",
        "outputId": "62455c6b-d25a-499b-9669-0236cb7d324d"
      },
      "execution_count": null,
      "outputs": [
        {
          "output_type": "stream",
          "name": "stdout",
          "text": [
            "a linguagem de programação\n"
          ]
        }
      ]
    },
    {
      "cell_type": "code",
      "source": [
        "print('Estou aprendendo uma', palavra1)"
      ],
      "metadata": {
        "colab": {
          "base_uri": "https://localhost:8080/"
        },
        "id": "szBogTKEs-DV",
        "outputId": "1fd70b74-e51a-4adf-f8b7-d4abe4e2f4b0"
      },
      "execution_count": null,
      "outputs": [
        {
          "output_type": "stream",
          "name": "stdout",
          "text": [
            "Estou aprendendo uma linguagem de programação\n"
          ]
        }
      ]
    },
    {
      "cell_type": "code",
      "source": [
        "print('Esta', palavra1, 'se chama', palavra2)"
      ],
      "metadata": {
        "colab": {
          "base_uri": "https://localhost:8080/"
        },
        "id": "UL2wucLztDI9",
        "outputId": "3c3a04cc-7912-4092-ec1a-32ea525a4705"
      },
      "execution_count": null,
      "outputs": [
        {
          "output_type": "stream",
          "name": "stdout",
          "text": [
            "Esta linguagem de programação se chama Python\n"
          ]
        }
      ]
    },
    {
      "cell_type": "code",
      "source": [
        "idade = int(input('Digite sua idade: '))\n",
        "print('Sua idade é ', idade)"
      ],
      "metadata": {
        "colab": {
          "base_uri": "https://localhost:8080/"
        },
        "id": "jn80r4vFtPYd",
        "outputId": "8fd6aea7-4209-40e7-82a1-96642d3d6dd0"
      },
      "execution_count": null,
      "outputs": [
        {
          "output_type": "stream",
          "name": "stdout",
          "text": [
            "Digite sua idade: 21\n",
            "Sua idade é  21\n"
          ]
        }
      ]
    },
    {
      "cell_type": "code",
      "source": [
        "idade"
      ],
      "metadata": {
        "colab": {
          "base_uri": "https://localhost:8080/",
          "height": 35
        },
        "id": "SnI8zdcRut57",
        "outputId": "a0e12cd9-d7a7-4a57-b10b-0811e20db79d"
      },
      "execution_count": null,
      "outputs": [
        {
          "output_type": "execute_result",
          "data": {
            "text/plain": [
              "'21'"
            ],
            "application/vnd.google.colaboratory.intrinsic+json": {
              "type": "string"
            }
          },
          "metadata": {},
          "execution_count": 85
        }
      ]
    },
    {
      "cell_type": "code",
      "source": [
        "ph = float(input(\"Qual o pH do solo durante a última medição?\"))\n",
        "print('O pH medido foi:', ph)"
      ],
      "metadata": {
        "colab": {
          "base_uri": "https://localhost:8080/"
        },
        "id": "-7Hc6nSVuKBY",
        "outputId": "905621ee-7893-41dd-a660-cb795959786d"
      },
      "execution_count": null,
      "outputs": [
        {
          "output_type": "stream",
          "name": "stdout",
          "text": [
            "Qual o pH do solo durante a última medição?6.5\n",
            "O pH medido foi: 6.5\n"
          ]
        }
      ]
    },
    {
      "cell_type": "code",
      "source": [
        "nome = str(input('Qual o seu nome? '))\n",
        "print(\"Seu nome é\", nome)"
      ],
      "metadata": {
        "colab": {
          "base_uri": "https://localhost:8080/"
        },
        "id": "Uetua_PWuauS",
        "outputId": "6d2a3b66-f886-4a48-ddd1-a2f1532277ec"
      },
      "execution_count": null,
      "outputs": [
        {
          "output_type": "stream",
          "name": "stdout",
          "text": [
            "Qual o seu nome? Ronaldinho\n",
            "Seu nome é Ronaldinho\n"
          ]
        }
      ]
    },
    {
      "cell_type": "markdown",
      "source": [
        "#Manipulação de strings"
      ],
      "metadata": {
        "id": "I2XIftwN2GOi"
      }
    },
    {
      "cell_type": "code",
      "source": [
        "a = 'casaco'\n",
        "print(a)"
      ],
      "metadata": {
        "colab": {
          "base_uri": "https://localhost:8080/"
        },
        "id": "zgntHFNn2MuM",
        "outputId": "697081ed-29c2-4551-bcca-9376c9d84c9b"
      },
      "execution_count": null,
      "outputs": [
        {
          "output_type": "stream",
          "name": "stdout",
          "text": [
            "casaco\n"
          ]
        }
      ]
    },
    {
      "cell_type": "code",
      "source": [
        "maiuscula = a.upper()\n",
        "maiuscula"
      ],
      "metadata": {
        "colab": {
          "base_uri": "https://localhost:8080/",
          "height": 35
        },
        "id": "L75653BE2UtD",
        "outputId": "0ceb33b9-2b8f-4d53-c887-8247d76a4e98"
      },
      "execution_count": null,
      "outputs": [
        {
          "output_type": "execute_result",
          "data": {
            "text/plain": [
              "'CASACO'"
            ],
            "application/vnd.google.colaboratory.intrinsic+json": {
              "type": "string"
            }
          },
          "metadata": {},
          "execution_count": 91
        }
      ]
    },
    {
      "cell_type": "code",
      "source": [
        "minuscula = a.lower()\n",
        "minuscula"
      ],
      "metadata": {
        "colab": {
          "base_uri": "https://localhost:8080/",
          "height": 35
        },
        "id": "xLjo3EOH2b4R",
        "outputId": "dfbc5827-0469-49f2-b09d-06371cf4e6f5"
      },
      "execution_count": null,
      "outputs": [
        {
          "output_type": "execute_result",
          "data": {
            "text/plain": [
              "'casaco'"
            ],
            "application/vnd.google.colaboratory.intrinsic+json": {
              "type": "string"
            }
          },
          "metadata": {},
          "execution_count": 92
        }
      ]
    },
    {
      "cell_type": "code",
      "source": [
        "capital = a.capitalize()\n",
        "print(capital)"
      ],
      "metadata": {
        "colab": {
          "base_uri": "https://localhost:8080/"
        },
        "id": "j1lLaAG02hJp",
        "outputId": "07fc3393-e152-4c7b-da4f-dbc892296148"
      },
      "execution_count": null,
      "outputs": [
        {
          "output_type": "stream",
          "name": "stdout",
          "text": [
            "Casaco\n"
          ]
        }
      ]
    },
    {
      "cell_type": "code",
      "source": [
        "indice_palavra = a[2:4]\n",
        "print(indice_palavra)"
      ],
      "metadata": {
        "colab": {
          "base_uri": "https://localhost:8080/"
        },
        "id": "T3KqkaV7241J",
        "outputId": "bf78cae6-bd6d-4b11-e062-a51eed92277d"
      },
      "execution_count": null,
      "outputs": [
        {
          "output_type": "stream",
          "name": "stdout",
          "text": [
            "sa\n"
          ]
        }
      ]
    },
    {
      "cell_type": "code",
      "source": [
        "indice_palavra = a[3:]\n",
        "print(indice_palavra)"
      ],
      "metadata": {
        "colab": {
          "base_uri": "https://localhost:8080/"
        },
        "id": "QSOD_jKz3Gnq",
        "outputId": "4d392d42-3788-42a0-bc78-bb1c0c5e5c0e"
      },
      "execution_count": null,
      "outputs": [
        {
          "output_type": "stream",
          "name": "stdout",
          "text": [
            "aco\n"
          ]
        }
      ]
    },
    {
      "cell_type": "code",
      "source": [
        "b = a.replace('aco', 'inha')\n",
        "print(a)\n",
        "print(b)"
      ],
      "metadata": {
        "colab": {
          "base_uri": "https://localhost:8080/"
        },
        "id": "rI0YB25E3U9a",
        "outputId": "9903d8a3-ba02-4063-9ca8-56772eaa85f7"
      },
      "execution_count": null,
      "outputs": [
        {
          "output_type": "stream",
          "name": "stdout",
          "text": [
            "casaco\n",
            "casinha\n"
          ]
        }
      ]
    },
    {
      "cell_type": "code",
      "source": [
        "c = a.replace('o', 'a')\n",
        "print(c)"
      ],
      "metadata": {
        "colab": {
          "base_uri": "https://localhost:8080/"
        },
        "id": "hOvs3XuD3eI6",
        "outputId": "ebf837b7-a762-4c66-cb24-e90de56203f1"
      },
      "execution_count": null,
      "outputs": [
        {
          "output_type": "stream",
          "name": "stdout",
          "text": [
            "casaca\n"
          ]
        }
      ]
    },
    {
      "cell_type": "code",
      "source": [
        "c.find('s')"
      ],
      "metadata": {
        "colab": {
          "base_uri": "https://localhost:8080/"
        },
        "id": "0ktwIL1I3jtb",
        "outputId": "bb9e05c5-b51d-4e1b-a190-9e4056f445df"
      },
      "execution_count": null,
      "outputs": [
        {
          "output_type": "execute_result",
          "data": {
            "text/plain": [
              "2"
            ]
          },
          "metadata": {},
          "execution_count": 102
        }
      ]
    },
    {
      "cell_type": "code",
      "source": [
        "c.find('b')"
      ],
      "metadata": {
        "colab": {
          "base_uri": "https://localhost:8080/"
        },
        "id": "deagNiVB3qZr",
        "outputId": "7a8b0edf-9f97-4467-e42e-9679c4ad1e80"
      },
      "execution_count": null,
      "outputs": [
        {
          "output_type": "execute_result",
          "data": {
            "text/plain": [
              "-1"
            ]
          },
          "metadata": {},
          "execution_count": 103
        }
      ]
    },
    {
      "cell_type": "code",
      "source": [
        "e = ' casaco  '\n",
        "print(len(e))"
      ],
      "metadata": {
        "colab": {
          "base_uri": "https://localhost:8080/"
        },
        "id": "OCrjRoYI30Jy",
        "outputId": "6bc42e80-7e3a-4a5c-816d-a9839f4cb609"
      },
      "execution_count": null,
      "outputs": [
        {
          "output_type": "stream",
          "name": "stdout",
          "text": [
            "9\n"
          ]
        }
      ]
    },
    {
      "cell_type": "code",
      "source": [
        "f = e.strip()\n",
        "print(f, len(f))"
      ],
      "metadata": {
        "colab": {
          "base_uri": "https://localhost:8080/"
        },
        "id": "2ebpuk8r37h0",
        "outputId": "c44f9322-22e4-42cb-8f7e-f0201e7e8b71"
      },
      "execution_count": null,
      "outputs": [
        {
          "output_type": "stream",
          "name": "stdout",
          "text": [
            "casaco 6\n"
          ]
        }
      ]
    },
    {
      "cell_type": "code",
      "source": [
        "n1 = 14\n",
        "n2 = 16"
      ],
      "metadata": {
        "id": "6a-v23vc4AIG"
      },
      "execution_count": null,
      "outputs": []
    },
    {
      "cell_type": "code",
      "source": [
        "print(f'Dividindo {n1} por {n2} o resultado é {n1/n2}')"
      ],
      "metadata": {
        "colab": {
          "base_uri": "https://localhost:8080/"
        },
        "id": "QAYLMU6y4IPH",
        "outputId": "7bf7307e-f17b-42e7-be13-1b2cab7e12e7"
      },
      "execution_count": null,
      "outputs": [
        {
          "output_type": "stream",
          "name": "stdout",
          "text": [
            "Dividindo 14 por 16 o resultado é 0.875\n"
          ]
        }
      ]
    },
    {
      "cell_type": "markdown",
      "source": [
        "#Operações matemáticas"
      ],
      "metadata": {
        "id": "WwXVmJcp4fvI"
      }
    },
    {
      "cell_type": "code",
      "source": [
        "a = int(input('Qual o primeiro número? '))\n",
        "b = int(input('Qual o segundo número? '))\n",
        "print(a,b)"
      ],
      "metadata": {
        "colab": {
          "base_uri": "https://localhost:8080/"
        },
        "id": "B-DY1HAf4uUN",
        "outputId": "2fd2c2bf-855a-4242-a284-edf0aee3fc6a"
      },
      "execution_count": null,
      "outputs": [
        {
          "output_type": "stream",
          "name": "stdout",
          "text": [
            "Qual o primeiro número? 3\n",
            "Qual o segundo número? 2\n",
            "3 2\n"
          ]
        }
      ]
    },
    {
      "cell_type": "code",
      "source": [
        "import math"
      ],
      "metadata": {
        "id": "FfEOPpvI6dyy"
      },
      "execution_count": null,
      "outputs": []
    },
    {
      "cell_type": "code",
      "source": [
        "print('A soma é:', a + b)\n",
        "print('A subtração é:', a - b)\n",
        "print('A divisão é:', a / b)\n",
        "print('A multiplicação é:', a * b)\n",
        "print('O resto da divisão é:', a % b)\n",
        "print(f'{a} elevado a {b} é:', a**b)\n",
        "print(f'A raiz quadrada de {a} é:',math.sqrt(a),f'\\nA raiz quadrada de {b} é:',math.sqrt(b),\n",
        "      f'\\nA raiz quadrada da soma de {a} + {b} é:',math.sqrt(a+b))"
      ],
      "metadata": {
        "colab": {
          "base_uri": "https://localhost:8080/"
        },
        "id": "z483WP-3411Y",
        "outputId": "cf3a9bd8-d921-4fa6-f1d3-c155b1a8cf4e"
      },
      "execution_count": null,
      "outputs": [
        {
          "output_type": "stream",
          "name": "stdout",
          "text": [
            "A soma é: 5\n",
            "A subtração é: 1\n",
            "A divisão é: 1.5\n",
            "A multiplicação é: 6\n",
            "O resto da divisão é: 1\n",
            "3 elevado a 2 é: 9\n",
            "A raiz quadrada de 3 é: 1.7320508075688772 \n",
            "A raiz quadrada de 2 é: 1.4142135623730951 \n",
            "A raiz quadrada da soma de 3 + 2 é: 2.23606797749979\n"
          ]
        }
      ]
    },
    {
      "cell_type": "markdown",
      "source": [
        "##Arredondamento"
      ],
      "metadata": {
        "id": "l1d9D5Xh4kwH"
      }
    },
    {
      "cell_type": "code",
      "source": [
        "casos_doenca = 134\n",
        "numero_habitantes = 34432\n",
        "casos_por_habitante = casos_doenca / numero_habitantes\n",
        "print(casos_por_habitante)"
      ],
      "metadata": {
        "colab": {
          "base_uri": "https://localhost:8080/"
        },
        "id": "lkeQRN3U7zFw",
        "outputId": "dea5c3bc-3a40-44be-b6b8-e5dad9732a30"
      },
      "execution_count": null,
      "outputs": [
        {
          "output_type": "stream",
          "name": "stdout",
          "text": [
            "0.003891728624535316\n"
          ]
        }
      ]
    },
    {
      "cell_type": "code",
      "source": [
        "round(casos_por_habitante,6)"
      ],
      "metadata": {
        "colab": {
          "base_uri": "https://localhost:8080/"
        },
        "id": "jY1s4UJb77ao",
        "outputId": "3f2a0e7d-0003-47c1-b345-a44600a27bfd"
      },
      "execution_count": null,
      "outputs": [
        {
          "output_type": "execute_result",
          "data": {
            "text/plain": [
              "0.003892"
            ]
          },
          "metadata": {},
          "execution_count": 134
        }
      ]
    },
    {
      "cell_type": "code",
      "source": [
        "print('O número de casos por habitante é de:',round(casos_por_habitante,4))"
      ],
      "metadata": {
        "colab": {
          "base_uri": "https://localhost:8080/"
        },
        "id": "PSAn5g4f8Ckf",
        "outputId": "862beb56-2f2d-4af6-e58e-491e78f2add3"
      },
      "execution_count": null,
      "outputs": [
        {
          "output_type": "stream",
          "name": "stdout",
          "text": [
            "O número de casos por habitante é de: 0.0039\n"
          ]
        }
      ]
    },
    {
      "cell_type": "markdown",
      "source": [
        "#Exercício"
      ],
      "metadata": {
        "id": "eNNdXVhU8T-7"
      }
    },
    {
      "cell_type": "markdown",
      "source": [
        "#####**Exercício 1: Ler dois números inteiros, executar e mostrar o resultado das seguintes operações: adição, subtração, multiplicação e divisão**"
      ],
      "metadata": {
        "id": "tNQ13n3A-QEa"
      }
    },
    {
      "cell_type": "code",
      "source": [
        "a = int(input('Qual o primeiro número? '))\n",
        "b = int(input('Qual o segundo número? '))\n",
        "print('A soma é:', a + b)\n",
        "print('A subtração é:', a - b)\n",
        "print('A divisão é:', a / b)\n",
        "print('A multiplicação é:', a * b)"
      ],
      "metadata": {
        "colab": {
          "base_uri": "https://localhost:8080/"
        },
        "id": "ndj-742E8VNg",
        "outputId": "2be45a0a-422a-49df-bb62-e8f695361533"
      },
      "execution_count": null,
      "outputs": [
        {
          "output_type": "stream",
          "name": "stdout",
          "text": [
            "Qual o primeiro número? 10\n",
            "Qual o segundo número? 5\n",
            "A soma é: 15\n",
            "A subtração é: 5\n",
            "A divisão é: 2.0\n",
            "A multiplicação é: 50\n"
          ]
        }
      ]
    },
    {
      "cell_type": "markdown",
      "source": [
        "#####**Exercício 2: Efetuar o cálculo da quantidade de litros de combustível gasto em uma viagem, utilizando um automóvel que faz 12 Km por litro. Para obter o cálculo, o usuário deve fornecer o tempo gasto na viagem e a velocidade média durante ela. Desta forma, será possível obter a distância percorrida com a fórmula DISTANCIA = TEMPO * VELOCIDADE. Tendo o valor da distância, basta calcular a quantidade de litros de combustível utilizada na viagem, com a fórmula: LITROS_USADOS = DISTANCIA / 12. O programa deve apresentar os valores da velocidade média, tempo gasto na viagem, a distância percorrida e a quantidade de litros utilizada na viagem**"
      ],
      "metadata": {
        "id": "vgVOr4Nz-TQq"
      }
    },
    {
      "cell_type": "code",
      "source": [
        "combustivel_automovel = 12\n",
        "tempo_gasto = int(input('Qual foi o tempo gasto durante a viagem? '))\n",
        "velocidade_media = int(input('Qual foi a velocidade media durante a viagem? '))\n",
        "distancia_percorrida = tempo_gasto * velocidade_media\n",
        "litros_usados = distancia_percorrida/12\n",
        "print(f'A distância percorrida foi de {distancia_percorrida}',f'\\nA quantidade de litros usados foi de {litros_usados}')"
      ],
      "metadata": {
        "colab": {
          "base_uri": "https://localhost:8080/"
        },
        "id": "qGV9FOto8em5",
        "outputId": "3d69d1d6-0600-4c03-ca6f-ef08401a906b"
      },
      "execution_count": null,
      "outputs": [
        {
          "output_type": "stream",
          "name": "stdout",
          "text": [
            "Qual foi o tempo gasto durante a viagem? 5\n",
            "Qual foi a velocidade media durante a viagem? 60\n",
            "A distância percorrida foi de 300 \n",
            "A quantidade de litros usados foi de 25.0\n"
          ]
        }
      ]
    },
    {
      "cell_type": "markdown",
      "source": [
        "#Operadores lógicos e relacionais"
      ],
      "metadata": {
        "id": "yCk1C_LTCme0"
      }
    },
    {
      "cell_type": "markdown",
      "source": [
        "##Operadores lógicos"
      ],
      "metadata": {
        "id": "HSg-QcuoCp0U"
      }
    },
    {
      "cell_type": "code",
      "source": [
        "a = True\n",
        "b = False"
      ],
      "metadata": {
        "id": "4byWH6jCCv5k"
      },
      "execution_count": null,
      "outputs": []
    },
    {
      "cell_type": "code",
      "source": [
        "print(a,b)"
      ],
      "metadata": {
        "colab": {
          "base_uri": "https://localhost:8080/"
        },
        "id": "L4eH8IMAC0AD",
        "outputId": "81d9e60e-c243-47ba-cd37-9c92aaefd2dd"
      },
      "execution_count": null,
      "outputs": [
        {
          "output_type": "stream",
          "name": "stdout",
          "text": [
            "True False\n"
          ]
        }
      ]
    },
    {
      "cell_type": "code",
      "source": [
        "a and b"
      ],
      "metadata": {
        "colab": {
          "base_uri": "https://localhost:8080/"
        },
        "id": "kJSzg33YC2Jk",
        "outputId": "ad43903f-089a-43f5-942a-b10b1d91b03a"
      },
      "execution_count": null,
      "outputs": [
        {
          "output_type": "execute_result",
          "data": {
            "text/plain": [
              "False"
            ]
          },
          "metadata": {},
          "execution_count": 143
        }
      ]
    },
    {
      "cell_type": "code",
      "source": [
        "a & b"
      ],
      "metadata": {
        "colab": {
          "base_uri": "https://localhost:8080/"
        },
        "id": "hsvK6NRuDD6b",
        "outputId": "636f95d2-eb1c-4559-f7d4-4075e265792a"
      },
      "execution_count": null,
      "outputs": [
        {
          "output_type": "execute_result",
          "data": {
            "text/plain": [
              "False"
            ]
          },
          "metadata": {},
          "execution_count": 145
        }
      ]
    },
    {
      "cell_type": "code",
      "source": [
        "c = a and b\n",
        "print(\"'A' e 'B' são iguais é\",c)"
      ],
      "metadata": {
        "colab": {
          "base_uri": "https://localhost:8080/"
        },
        "id": "nFZvbHOyDJGL",
        "outputId": "cc1f2136-cce6-4daa-ad81-aefd413fccad"
      },
      "execution_count": null,
      "outputs": [
        {
          "output_type": "stream",
          "name": "stdout",
          "text": [
            "'A' e 'B' são iguais é False\n"
          ]
        }
      ]
    },
    {
      "cell_type": "code",
      "source": [
        "a or b"
      ],
      "metadata": {
        "colab": {
          "base_uri": "https://localhost:8080/"
        },
        "id": "gefA5DGoDitE",
        "outputId": "1be4962b-f764-420c-c9ef-c809f5a4a213"
      },
      "execution_count": null,
      "outputs": [
        {
          "output_type": "execute_result",
          "data": {
            "text/plain": [
              "True"
            ]
          },
          "metadata": {},
          "execution_count": 147
        }
      ]
    },
    {
      "cell_type": "code",
      "source": [
        "a | b"
      ],
      "metadata": {
        "colab": {
          "base_uri": "https://localhost:8080/"
        },
        "id": "b1kd7n2rDnZ6",
        "outputId": "bf9d655d-3e9a-41ae-c157-5757a94766a9"
      },
      "execution_count": null,
      "outputs": [
        {
          "output_type": "execute_result",
          "data": {
            "text/plain": [
              "True"
            ]
          },
          "metadata": {},
          "execution_count": 149
        }
      ]
    },
    {
      "cell_type": "code",
      "source": [
        "d = a or b\n",
        "print(\"'A' e 'B' é igual a\",d)"
      ],
      "metadata": {
        "colab": {
          "base_uri": "https://localhost:8080/"
        },
        "id": "AH7hMx2yDs4h",
        "outputId": "1586b80c-97fa-4376-a8aa-d47746545ad9"
      },
      "execution_count": null,
      "outputs": [
        {
          "output_type": "stream",
          "name": "stdout",
          "text": [
            "'A' e 'B' é igual a True\n"
          ]
        }
      ]
    },
    {
      "cell_type": "code",
      "source": [
        "not a"
      ],
      "metadata": {
        "colab": {
          "base_uri": "https://localhost:8080/"
        },
        "id": "Wb3JKOyMD3-R",
        "outputId": "77ff229c-2a63-4e12-e0fc-acb5a6aac452"
      },
      "execution_count": null,
      "outputs": [
        {
          "output_type": "execute_result",
          "data": {
            "text/plain": [
              "False"
            ]
          },
          "metadata": {},
          "execution_count": 153
        }
      ]
    },
    {
      "cell_type": "code",
      "source": [
        "not b"
      ],
      "metadata": {
        "colab": {
          "base_uri": "https://localhost:8080/"
        },
        "id": "zkqPKuQ6D7DZ",
        "outputId": "60f61d8e-913f-479f-9e5a-d83ea0e6bce2"
      },
      "execution_count": null,
      "outputs": [
        {
          "output_type": "execute_result",
          "data": {
            "text/plain": [
              "True"
            ]
          },
          "metadata": {},
          "execution_count": 154
        }
      ]
    },
    {
      "cell_type": "markdown",
      "source": [
        "##Operadores relacionais"
      ],
      "metadata": {
        "id": "gOYWL1vzCtls"
      }
    },
    {
      "cell_type": "code",
      "source": [
        "5 > 3, 5 < 3"
      ],
      "metadata": {
        "colab": {
          "base_uri": "https://localhost:8080/"
        },
        "id": "-r2qT2ipD_qr",
        "outputId": "f1c4ea3e-de36-42ae-ccdc-e00ba09cb9e4"
      },
      "execution_count": null,
      "outputs": [
        {
          "output_type": "execute_result",
          "data": {
            "text/plain": [
              "(True, False)"
            ]
          },
          "metadata": {},
          "execution_count": 155
        }
      ]
    },
    {
      "cell_type": "code",
      "source": [
        "5 == 3, 5 == 5, 5 != 3"
      ],
      "metadata": {
        "colab": {
          "base_uri": "https://localhost:8080/"
        },
        "id": "iEqzos7wEQQi",
        "outputId": "e9f64f02-ac5e-4cc2-c073-4ce7b948b006"
      },
      "execution_count": null,
      "outputs": [
        {
          "output_type": "execute_result",
          "data": {
            "text/plain": [
              "(False, True, True)"
            ]
          },
          "metadata": {},
          "execution_count": 158
        }
      ]
    },
    {
      "cell_type": "markdown",
      "source": [
        "#Operador condicional"
      ],
      "metadata": {
        "id": "URoEUmIcEj2Z"
      }
    },
    {
      "cell_type": "code",
      "source": [
        "a = input('Digite o primeiro número: ')\n",
        "b = input('Digite o segundo número: ')"
      ],
      "metadata": {
        "colab": {
          "base_uri": "https://localhost:8080/"
        },
        "id": "GAY2SQp1E67B",
        "outputId": "22373456-e0e3-4bbf-eb7e-d8a385da0a06"
      },
      "execution_count": null,
      "outputs": [
        {
          "name": "stdout",
          "output_type": "stream",
          "text": [
            "Digite o primeiro número: 2\n",
            "Digite o segundo número: 3\n"
          ]
        }
      ]
    },
    {
      "cell_type": "code",
      "source": [
        "if a > b:\n",
        "  print(f\"{a} é maior que {b}\")\n",
        "elif a == b:\n",
        "  print(f\"Como água e h2o {a} é igual a {b}\")\n",
        "else:\n",
        "  print(f\"{b} é maior que {a}\")"
      ],
      "metadata": {
        "colab": {
          "base_uri": "https://localhost:8080/"
        },
        "id": "_IkIeEttEjDp",
        "outputId": "0e193f13-ced6-4a79-b91f-cf6e8ca132e6"
      },
      "execution_count": null,
      "outputs": [
        {
          "output_type": "stream",
          "name": "stdout",
          "text": [
            "3 é maior que 2\n"
          ]
        }
      ]
    },
    {
      "cell_type": "code",
      "source": [
        "x = 2\n",
        "y = 3\n",
        "if (x>1) and (y%2==0):\n",
        "  print('x é maior que 1 e y é par')\n",
        "else:\n",
        "  print('Uma ou nenhuma das condições foram satisfeitas')"
      ],
      "metadata": {
        "colab": {
          "base_uri": "https://localhost:8080/"
        },
        "id": "MhwmfYqgGPlE",
        "outputId": "7098c1ce-0e6b-4116-aa5a-010a44dbc895"
      },
      "execution_count": null,
      "outputs": [
        {
          "output_type": "stream",
          "name": "stdout",
          "text": [
            "Uma ou nenhuma das condições foram satisfeitas\n"
          ]
        }
      ]
    },
    {
      "cell_type": "markdown",
      "source": [
        "#Exercício 2"
      ],
      "metadata": {
        "id": "12dF1O3gyL5l"
      }
    },
    {
      "cell_type": "markdown",
      "source": [
        "## 1. Leia a idade do usuário e classifique-o em:\n",
        "- Criança – 0 a 12 anos\n",
        "- Adolescente – 13 a 17 anos\n",
        "- Adulto – acima de 18 anos\n",
        "- Se o usuário digitar um número negativo, mostrar a mensagem que a idade é inválida"
      ],
      "metadata": {
        "id": "LfFWpcMjyONc"
      }
    },
    {
      "cell_type": "code",
      "source": [
        "while True:\n",
        "  idade = int(input(\"Digite a sua idade: \"))\n",
        "  if idade > 0:\n",
        "    break\n",
        "  else:\n",
        "    print(\"A idade não pode ser negativa tente novamente\")\n",
        "\n",
        "if idade <= 12:\n",
        "  print('O usuário é classificado como criança')\n",
        "elif idade <= 17:\n",
        "  print('O usuário é classificado como adolescente')\n",
        "else:\n",
        "  print('O usuário é classificado como adulto')"
      ],
      "metadata": {
        "colab": {
          "base_uri": "https://localhost:8080/"
        },
        "id": "uDTp9Wb3ybXA",
        "outputId": "9ea74fea-ec7f-434b-d38a-a8628c1942fd"
      },
      "execution_count": 28,
      "outputs": [
        {
          "output_type": "stream",
          "name": "stdout",
          "text": [
            "Digite a sua idade: -1\n",
            "A idade não pode ser negativa tente novamente\n",
            "Digite a sua idade: 17\n",
            "O usuário é classificado como adolescente\n"
          ]
        }
      ]
    },
    {
      "cell_type": "markdown",
      "source": [
        "##Calcular a média de um aluno que cursou a disciplina de Programação I, a partir da leitura das notas M1, M2 e M3; passando por um cálculo da média aritmética. Após a média calculada, devemos anunciar se o aluno foi aprovado, reprovado ou pegou exame\n",
        "- Se a média estiver entre 0.0 e 4.0, o aluno está reprovado\n",
        "- Se a média estiver entre 4.1 e 6.0, o aluno pegou exame\n",
        "- Se a média for maior do que 6.0, o aluno está aprovado\n",
        "- Se o aluno pegou exame, deve ser lida a nota do exame. Se a nota do exame for maior do que 6.0, está aprovado, senão; está reprovado"
      ],
      "metadata": {
        "id": "gARcUPq0yWBA"
      }
    },
    {
      "cell_type": "code",
      "source": [
        "q = 0\n",
        "while True:\n",
        "  q = q + 1\n",
        "  nota = float(input(f'Digite sua {q}° nota: '))\n",
        "  if q == 1:\n",
        "    nota1 = nota\n",
        "  elif q == 2:\n",
        "    nota2 = nota1 + nota\n",
        "  else:\n",
        "    média = nota2 + nota\n",
        "    média = média / 3\n",
        "    break\n",
        "print(f'A média obtida pelo aluno foi de {média}\\nDessa forma o aluno foi:')\n",
        "if média >= 0.0 and média <= 4.0:\n",
        "  print('O aluno está reporvado')\n",
        "elif média <= 6.0:\n",
        "  print('O aluno pegou exame')\n",
        "  nota_exame = float(input('Digite a sua nota do exame: '))\n",
        "  if nota_exame > 6.0:\n",
        "    print('O aluno está aprovado')\n",
        "  else:\n",
        "    print('O aluno está reprovado')\n",
        "else:\n",
        "  print(\"O aluno está aprovado\")"
      ],
      "metadata": {
        "colab": {
          "base_uri": "https://localhost:8080/"
        },
        "id": "_tJaUcpFzmlD",
        "outputId": "7f7563a9-e488-4dcf-f456-19595c6fda52"
      },
      "execution_count": 30,
      "outputs": [
        {
          "output_type": "stream",
          "name": "stdout",
          "text": [
            "Digite sua 1° nota: 5\n",
            "Digite sua 2° nota: 5\n",
            "Digite sua 3° nota: 5\n",
            "A média obtida pelo aluno foi de 5.0\n",
            "Dessa forma o aluno foi:\n",
            "O aluno pegou exame\n",
            "Digite a sua nota do exame: 7\n",
            "O aluno está aprovado\n"
          ]
        }
      ]
    },
    {
      "cell_type": "markdown",
      "source": [
        "#Estruturas de repetição - for"
      ],
      "metadata": {
        "id": "7TnGCpgP9kUF"
      }
    },
    {
      "cell_type": "code",
      "source": [
        "for numero in range(1, 6):\n",
        "  print(numero)"
      ],
      "metadata": {
        "colab": {
          "base_uri": "https://localhost:8080/"
        },
        "id": "83fX5FEZ9o1u",
        "outputId": "d8d95729-b756-4664-c9ec-cb09ee96cd53"
      },
      "execution_count": 32,
      "outputs": [
        {
          "output_type": "stream",
          "name": "stdout",
          "text": [
            "1\n",
            "2\n",
            "3\n",
            "4\n",
            "5\n"
          ]
        }
      ]
    },
    {
      "cell_type": "code",
      "source": [
        "for numero in range(5,0,-1):\n",
        "  print(numero)"
      ],
      "metadata": {
        "colab": {
          "base_uri": "https://localhost:8080/"
        },
        "id": "DhJWwbxE-Mw9",
        "outputId": "4416c435-ef19-4e96-8127-9a757a3a3745"
      },
      "execution_count": 34,
      "outputs": [
        {
          "output_type": "stream",
          "name": "stdout",
          "text": [
            "5\n",
            "4\n",
            "3\n",
            "2\n",
            "1\n"
          ]
        }
      ]
    },
    {
      "cell_type": "code",
      "source": [
        "soma = 0\n",
        "for numero in range(1,6):\n",
        "  soma = soma + numero\n",
        "  print(soma)"
      ],
      "metadata": {
        "colab": {
          "base_uri": "https://localhost:8080/"
        },
        "id": "hWiIIaKu-XJr",
        "outputId": "fc501808-793e-4443-ba6e-fde993fc0517"
      },
      "execution_count": 36,
      "outputs": [
        {
          "output_type": "stream",
          "name": "stdout",
          "text": [
            "1\n",
            "3\n",
            "6\n",
            "10\n",
            "15\n"
          ]
        }
      ]
    },
    {
      "cell_type": "code",
      "source": [
        "palavra = 'sorvete'\n",
        "for l in palavra:\n",
        "  print(l)\n",
        "  if l == 'v':\n",
        "    print('Achou a letra v')"
      ],
      "metadata": {
        "colab": {
          "base_uri": "https://localhost:8080/"
        },
        "id": "IjSwCaTg-6RR",
        "outputId": "d7ea8d5e-5151-4cd3-bf46-6220f1a8f49c"
      },
      "execution_count": 40,
      "outputs": [
        {
          "output_type": "stream",
          "name": "stdout",
          "text": [
            "s\n",
            "o\n",
            "r\n",
            "v\n",
            "Achou a letra v\n",
            "e\n",
            "t\n",
            "e\n"
          ]
        }
      ]
    },
    {
      "cell_type": "code",
      "source": [
        "for i in range(0,5):\n",
        "  print(i)\n",
        "  print('---')\n",
        "  for j in range(0,3):\n",
        "    print(j)\n",
        "  print()"
      ],
      "metadata": {
        "colab": {
          "base_uri": "https://localhost:8080/"
        },
        "id": "MQWFF6r3_Smx",
        "outputId": "a637438d-fc6e-49be-cc09-56ce70da605f"
      },
      "execution_count": 42,
      "outputs": [
        {
          "output_type": "stream",
          "name": "stdout",
          "text": [
            "0\n",
            "---\n",
            "0\n",
            "1\n",
            "2\n",
            "\n",
            "1\n",
            "---\n",
            "0\n",
            "1\n",
            "2\n",
            "\n",
            "2\n",
            "---\n",
            "0\n",
            "1\n",
            "2\n",
            "\n",
            "3\n",
            "---\n",
            "0\n",
            "1\n",
            "2\n",
            "\n",
            "4\n",
            "---\n",
            "0\n",
            "1\n",
            "2\n",
            "\n"
          ]
        }
      ]
    },
    {
      "cell_type": "markdown",
      "source": [
        "#Estruturas de repetição - while"
      ],
      "metadata": {
        "id": "F2M9iN0m_4oR"
      }
    },
    {
      "cell_type": "code",
      "source": [
        "numero = 1\n",
        "while numero < 6:\n",
        "  print(numero)\n",
        "  numero += 1\n",
        ""
      ],
      "metadata": {
        "colab": {
          "base_uri": "https://localhost:8080/"
        },
        "id": "wuC665Ao_8WA",
        "outputId": "dedd60d4-d254-4309-ee74-3cc6d50b7f32"
      },
      "execution_count": 45,
      "outputs": [
        {
          "output_type": "stream",
          "name": "stdout",
          "text": [
            "1\n",
            "2\n",
            "3\n",
            "4\n",
            "5\n"
          ]
        }
      ]
    },
    {
      "cell_type": "code",
      "source": [
        "numero = 5\n",
        "while numero > 0:\n",
        "  print(numero)\n",
        "  numero -= 1"
      ],
      "metadata": {
        "colab": {
          "base_uri": "https://localhost:8080/"
        },
        "id": "v3Ikd5mNAnm7",
        "outputId": "50151e45-81e1-4d63-fac0-17acdadaddbe"
      },
      "execution_count": 46,
      "outputs": [
        {
          "output_type": "stream",
          "name": "stdout",
          "text": [
            "5\n",
            "4\n",
            "3\n",
            "2\n",
            "1\n"
          ]
        }
      ]
    },
    {
      "cell_type": "code",
      "source": [
        "soma = 0\n",
        "numero = 1\n",
        "while numero < 6:\n",
        "  print(soma)\n",
        "  soma += numero\n",
        "  numero += 1"
      ],
      "metadata": {
        "colab": {
          "base_uri": "https://localhost:8080/"
        },
        "id": "Alxw1WMXAxT9",
        "outputId": "d4ebdfc3-5d5f-444a-abbe-701dcfb925e5"
      },
      "execution_count": 48,
      "outputs": [
        {
          "output_type": "stream",
          "name": "stdout",
          "text": [
            "0\n",
            "1\n",
            "3\n",
            "6\n",
            "10\n"
          ]
        }
      ]
    },
    {
      "cell_type": "code",
      "source": [
        "numero = -1\n",
        "while numero < 1 or numero > 10:\n",
        "  numero = int(input('Digite um número de 1 a 10: '))"
      ],
      "metadata": {
        "colab": {
          "base_uri": "https://localhost:8080/"
        },
        "id": "UBSdhQ1rBHWz",
        "outputId": "7db93844-4b44-4d5e-8928-1dd93e5a1c58"
      },
      "execution_count": 51,
      "outputs": [
        {
          "name": "stdout",
          "output_type": "stream",
          "text": [
            "Digite um número de 1 a 10: -4\n",
            "Digite um número de 1 a 10: 12\n",
            "Digite um número de 1 a 10: 4\n"
          ]
        }
      ]
    },
    {
      "cell_type": "markdown",
      "source": [
        "#Exercício 3"
      ],
      "metadata": {
        "id": "8mFE9M2gB-GT"
      }
    },
    {
      "cell_type": "markdown",
      "source": [
        "* Para revisar o conteúdo prático visto até agora, você agora pode resolver dois exercícios. Logo em seguida você pode acessar a aula em vídeo com a solução. Implemente cada exercício utilizando tanto o for quanto o while"
      ],
      "metadata": {
        "id": "KZ93s11-CGTb"
      }
    },
    {
      "cell_type": "markdown",
      "source": [
        "##1. Ler 5 notas e informa a média"
      ],
      "metadata": {
        "id": "bN95n4hOCCVU"
      }
    },
    {
      "cell_type": "markdown",
      "source": [
        "* For"
      ],
      "metadata": {
        "id": "jjmitfOjFEQf"
      }
    },
    {
      "cell_type": "code",
      "source": [
        "contador = 1\n",
        "média = []\n",
        "for contador in range(1,6):\n",
        "  nota = float(input(f\"Digite sua {contador}° nota: \"))\n",
        "  média.append(nota)\n",
        "\n",
        "print(f\"A média obtida foi de {sum(média)/5}\")"
      ],
      "metadata": {
        "colab": {
          "base_uri": "https://localhost:8080/"
        },
        "id": "66Cdz1c-B6Mj",
        "outputId": "332e8066-472b-4516-d0cb-690c848f611c"
      },
      "execution_count": 56,
      "outputs": [
        {
          "output_type": "stream",
          "name": "stdout",
          "text": [
            "Digite sua 1° nota: 5\n",
            "Digite sua 2° nota: 5\n",
            "Digite sua 3° nota: 5\n",
            "Digite sua 4° nota: 5\n",
            "Digite sua 5° nota: 5\n",
            "A média obtida foi de 5.0\n"
          ]
        }
      ]
    },
    {
      "cell_type": "markdown",
      "source": [
        "* While"
      ],
      "metadata": {
        "id": "rWlHbpDxFFkb"
      }
    },
    {
      "cell_type": "code",
      "source": [
        "contador = 0\n",
        "média = []\n",
        "while True:\n",
        "  contador = contador + 1\n",
        "  nota = float(input(f\"Digite sua {contador}° nota: \"))\n",
        "  média.append(nota)\n",
        "  if contador == 5:\n",
        "    média = sum(média) / 5\n",
        "    break\n",
        "\n",
        "print(f\"A média obtida foi de {média}\")"
      ],
      "metadata": {
        "colab": {
          "base_uri": "https://localhost:8080/"
        },
        "id": "Oi89Ly2dDbDW",
        "outputId": "4c843db9-1e1f-457c-97bb-bd4ed6b0b452"
      },
      "execution_count": 68,
      "outputs": [
        {
          "output_type": "stream",
          "name": "stdout",
          "text": [
            "Digite sua 1° nota: 7\n",
            "Digite sua 2° nota: 2\n",
            "Digite sua 3° nota: 10\n",
            "Digite sua 4° nota: 9\n",
            "Digite sua 5° nota: 8\n",
            "A média obtida foi de 7.2\n"
          ]
        }
      ]
    },
    {
      "cell_type": "markdown",
      "source": [
        "##Imprimir a tabuada do número 3 (3 x 1 = 3 ; 3 x 10 = 30)"
      ],
      "metadata": {
        "id": "oqQZegF0CI17"
      }
    },
    {
      "cell_type": "markdown",
      "source": [
        "* For"
      ],
      "metadata": {
        "id": "kq9GZimjFG4L"
      }
    },
    {
      "cell_type": "code",
      "source": [
        "for i in range(1,11):\n",
        "  print('3 x {} = {}'.format(i,3*i))"
      ],
      "metadata": {
        "colab": {
          "base_uri": "https://localhost:8080/"
        },
        "id": "ta8CwDFTEJVF",
        "outputId": "25bac9ff-b7ac-4809-bcdc-017870ffb097"
      },
      "execution_count": 69,
      "outputs": [
        {
          "output_type": "stream",
          "name": "stdout",
          "text": [
            "3 x 1 = 3\n",
            "3 x 2 = 6\n",
            "3 x 3 = 9\n",
            "3 x 4 = 12\n",
            "3 x 5 = 15\n",
            "3 x 6 = 18\n",
            "3 x 7 = 21\n",
            "3 x 8 = 24\n",
            "3 x 9 = 27\n",
            "3 x 10 = 30\n"
          ]
        }
      ]
    },
    {
      "cell_type": "markdown",
      "source": [
        "* While"
      ],
      "metadata": {
        "id": "Y4QxxmwjFKJD"
      }
    },
    {
      "cell_type": "code",
      "source": [
        "numero = 1\n",
        "while numero <= 10:\n",
        "  print('3 x {} = {}'.format(numero,3*numero))\n",
        "  numero += 1"
      ],
      "metadata": {
        "colab": {
          "base_uri": "https://localhost:8080/"
        },
        "id": "EA5jLTUvEsTT",
        "outputId": "ef9c6f48-cc9a-4ccf-f61f-bf1451494f0b"
      },
      "execution_count": 74,
      "outputs": [
        {
          "output_type": "stream",
          "name": "stdout",
          "text": [
            "3 x 1 = 3\n",
            "3 x 2 = 6\n",
            "3 x 3 = 9\n",
            "3 x 4 = 12\n",
            "3 x 5 = 15\n",
            "3 x 6 = 18\n",
            "3 x 7 = 21\n",
            "3 x 8 = 24\n",
            "3 x 9 = 27\n",
            "3 x 10 = 30\n"
          ]
        }
      ]
    }
  ]
}